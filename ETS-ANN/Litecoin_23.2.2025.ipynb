{
 "cells": [
  {
   "cell_type": "markdown",
   "metadata": {},
   "source": [
    "ETS-ANN hybrid model for Litecoin"
   ]
  },
  {
   "cell_type": "code",
   "execution_count": 74,
   "metadata": {},
   "outputs": [],
   "source": [
    "# Import libraries\n",
    "import pandas as pd\n",
    "import numpy as np\n",
    "import matplotlib.pyplot as plt\n",
    "import warnings\n",
    "warnings.filterwarnings('ignore')\n",
    "from sklearn.preprocessing import MinMaxScaler\n",
    "from pycaret.utils import version\n",
    "version()\n",
    "from pycaret.time_series import TSForecastingExperiment\n",
    "import matplotlib.pyplot as plt\n",
    "from statsmodels.tsa.seasonal import seasonal_decompose\n",
    "from statsmodels.tsa.holtwinters import ExponentialSmoothing\n",
    "from pmdarima.arima.utils import nsdiffs, ndiffs\n",
    "from keras.models import Sequential\n",
    "from keras.layers import Dense\n",
    "from sklearn.metrics import mean_absolute_percentage_error, mean_absolute_error, mean_squared_error, r2_score\n",
    "from statsmodels.tsa.seasonal import STL\n",
    "from tensorflow.keras.optimizers import Adam\n",
    "from sklearn.metrics import mean_absolute_percentage_error, mean_absolute_error, mean_squared_error, r2_score\n",
    "import yfinance as yf\n",
    "from statsmodels.tsa.stattools import adfuller\n",
    "from statsmodels.tsa.seasonal import seasonal_decompose\n",
    "from statsmodels.tsa.holtwinters import ExponentialSmoothing\n",
    "from pycaret.time_series import *\n",
    "\n"
   ]
  },
  {
   "cell_type": "markdown",
   "metadata": {},
   "source": [
    "Data pre-processing"
   ]
  },
  {
   "cell_type": "code",
   "execution_count": 75,
   "metadata": {},
   "outputs": [
    {
     "name": "stderr",
     "output_type": "stream",
     "text": [
      "[*********************100%***********************]  1 of 1 completed"
     ]
    },
    {
     "name": "stdout",
     "output_type": "stream",
     "text": [
      "<class 'pandas.core.frame.DataFrame'>\n",
      "DatetimeIndex: 1828 entries, 2020-01-01 to 2025-01-01\n",
      "Data columns (total 5 columns):\n",
      " #   Column  Non-Null Count  Dtype  \n",
      "---  ------  --------------  -----  \n",
      " 0   Close   1828 non-null   float64\n",
      " 1   High    1828 non-null   float64\n",
      " 2   Low     1828 non-null   float64\n",
      " 3   Open    1828 non-null   float64\n",
      " 4   Volume  1828 non-null   int64  \n",
      "dtypes: float64(4), int64(1)\n",
      "memory usage: 85.7 KB\n",
      "Null Values: 0\n",
      "Index(['Close', 'High', 'Low', 'Open', 'Volume'], dtype='object')\n",
      "DatetimeIndex(['2020-01-01', '2020-01-02', '2020-01-03', '2020-01-04',\n",
      "               '2020-01-05', '2020-01-06', '2020-01-07', '2020-01-08',\n",
      "               '2020-01-09', '2020-01-10',\n",
      "               ...\n",
      "               '2024-12-23', '2024-12-24', '2024-12-25', '2024-12-26',\n",
      "               '2024-12-27', '2024-12-28', '2024-12-29', '2024-12-30',\n",
      "               '2024-12-31', '2025-01-01'],\n",
      "              dtype='datetime64[ns]', name='Date', length=1828, freq=None)\n",
      "Frequency of the index: <Day>\n"
     ]
    },
    {
     "name": "stderr",
     "output_type": "stream",
     "text": [
      "\n"
     ]
    }
   ],
   "source": [
    "df_LTC = yf.download(\n",
    "tickers = [\"LTC-USD\"],\n",
    "start = \"2020-01-01\",\n",
    "end = \"2025-01-02\"\n",
    ")\n",
    "df_LTC.columns = ['Close', 'High', 'Low', 'Open', 'Volume']\n",
    "df_LTC.shape\n",
    "df_LTC.info()\n",
    "print('Null Values:',df_LTC.isnull().values.sum())\n",
    "print(df_LTC.columns)\n",
    "df_LTC.reset_index(inplace=True)\n",
    "df_LTC['Date'] = pd.to_datetime(df_LTC['Date'], format='%Y-%m-%d')\n",
    "df_LTC = df_LTC[['Date', 'Close']]\n",
    "df_LTC.head()\n",
    "df_LTC.set_index('Date', inplace=True)\n",
    "print(df_LTC.index)\n",
    "df_LTC = df_LTC.asfreq('D')  \n",
    "print(f\"Frequency of the index: {df_LTC.index.freq}\")\n"
   ]
  },
  {
   "cell_type": "code",
   "execution_count": 76,
   "metadata": {},
   "outputs": [
    {
     "data": {
      "text/html": [
       "<style type=\"text/css\">\n",
       "#T_38e1b_row23_col1 {\n",
       "  background-color: lightgreen;\n",
       "}\n",
       "</style>\n",
       "<table id=\"T_38e1b\">\n",
       "  <thead>\n",
       "    <tr>\n",
       "      <th class=\"blank level0\" >&nbsp;</th>\n",
       "      <th id=\"T_38e1b_level0_col0\" class=\"col_heading level0 col0\" >Description</th>\n",
       "      <th id=\"T_38e1b_level0_col1\" class=\"col_heading level0 col1\" >Value</th>\n",
       "    </tr>\n",
       "  </thead>\n",
       "  <tbody>\n",
       "    <tr>\n",
       "      <th id=\"T_38e1b_level0_row0\" class=\"row_heading level0 row0\" >0</th>\n",
       "      <td id=\"T_38e1b_row0_col0\" class=\"data row0 col0\" >session_id</td>\n",
       "      <td id=\"T_38e1b_row0_col1\" class=\"data row0 col1\" >123</td>\n",
       "    </tr>\n",
       "    <tr>\n",
       "      <th id=\"T_38e1b_level0_row1\" class=\"row_heading level0 row1\" >1</th>\n",
       "      <td id=\"T_38e1b_row1_col0\" class=\"data row1 col0\" >Target</td>\n",
       "      <td id=\"T_38e1b_row1_col1\" class=\"data row1 col1\" >Close</td>\n",
       "    </tr>\n",
       "    <tr>\n",
       "      <th id=\"T_38e1b_level0_row2\" class=\"row_heading level0 row2\" >2</th>\n",
       "      <td id=\"T_38e1b_row2_col0\" class=\"data row2 col0\" >Approach</td>\n",
       "      <td id=\"T_38e1b_row2_col1\" class=\"data row2 col1\" >Univariate</td>\n",
       "    </tr>\n",
       "    <tr>\n",
       "      <th id=\"T_38e1b_level0_row3\" class=\"row_heading level0 row3\" >3</th>\n",
       "      <td id=\"T_38e1b_row3_col0\" class=\"data row3 col0\" >Exogenous Variables</td>\n",
       "      <td id=\"T_38e1b_row3_col1\" class=\"data row3 col1\" >Not Present</td>\n",
       "    </tr>\n",
       "    <tr>\n",
       "      <th id=\"T_38e1b_level0_row4\" class=\"row_heading level0 row4\" >4</th>\n",
       "      <td id=\"T_38e1b_row4_col0\" class=\"data row4 col0\" >Original data shape</td>\n",
       "      <td id=\"T_38e1b_row4_col1\" class=\"data row4 col1\" >(1828, 1)</td>\n",
       "    </tr>\n",
       "    <tr>\n",
       "      <th id=\"T_38e1b_level0_row5\" class=\"row_heading level0 row5\" >5</th>\n",
       "      <td id=\"T_38e1b_row5_col0\" class=\"data row5 col0\" >Transformed data shape</td>\n",
       "      <td id=\"T_38e1b_row5_col1\" class=\"data row5 col1\" >(1828, 1)</td>\n",
       "    </tr>\n",
       "    <tr>\n",
       "      <th id=\"T_38e1b_level0_row6\" class=\"row_heading level0 row6\" >6</th>\n",
       "      <td id=\"T_38e1b_row6_col0\" class=\"data row6 col0\" >Transformed train set shape</td>\n",
       "      <td id=\"T_38e1b_row6_col1\" class=\"data row6 col1\" >(1463, 1)</td>\n",
       "    </tr>\n",
       "    <tr>\n",
       "      <th id=\"T_38e1b_level0_row7\" class=\"row_heading level0 row7\" >7</th>\n",
       "      <td id=\"T_38e1b_row7_col0\" class=\"data row7 col0\" >Transformed test set shape</td>\n",
       "      <td id=\"T_38e1b_row7_col1\" class=\"data row7 col1\" >(365, 1)</td>\n",
       "    </tr>\n",
       "    <tr>\n",
       "      <th id=\"T_38e1b_level0_row8\" class=\"row_heading level0 row8\" >8</th>\n",
       "      <td id=\"T_38e1b_row8_col0\" class=\"data row8 col0\" >Rows with missing values</td>\n",
       "      <td id=\"T_38e1b_row8_col1\" class=\"data row8 col1\" >0.0%</td>\n",
       "    </tr>\n",
       "    <tr>\n",
       "      <th id=\"T_38e1b_level0_row9\" class=\"row_heading level0 row9\" >9</th>\n",
       "      <td id=\"T_38e1b_row9_col0\" class=\"data row9 col0\" >Fold Generator</td>\n",
       "      <td id=\"T_38e1b_row9_col1\" class=\"data row9 col1\" >ExpandingWindowSplitter</td>\n",
       "    </tr>\n",
       "    <tr>\n",
       "      <th id=\"T_38e1b_level0_row10\" class=\"row_heading level0 row10\" >10</th>\n",
       "      <td id=\"T_38e1b_row10_col0\" class=\"data row10 col0\" >Fold Number</td>\n",
       "      <td id=\"T_38e1b_row10_col1\" class=\"data row10 col1\" >3</td>\n",
       "    </tr>\n",
       "    <tr>\n",
       "      <th id=\"T_38e1b_level0_row11\" class=\"row_heading level0 row11\" >11</th>\n",
       "      <td id=\"T_38e1b_row11_col0\" class=\"data row11 col0\" >Enforce Prediction Interval</td>\n",
       "      <td id=\"T_38e1b_row11_col1\" class=\"data row11 col1\" >False</td>\n",
       "    </tr>\n",
       "    <tr>\n",
       "      <th id=\"T_38e1b_level0_row12\" class=\"row_heading level0 row12\" >12</th>\n",
       "      <td id=\"T_38e1b_row12_col0\" class=\"data row12 col0\" >Splits used for hyperparameters</td>\n",
       "      <td id=\"T_38e1b_row12_col1\" class=\"data row12 col1\" >all</td>\n",
       "    </tr>\n",
       "    <tr>\n",
       "      <th id=\"T_38e1b_level0_row13\" class=\"row_heading level0 row13\" >13</th>\n",
       "      <td id=\"T_38e1b_row13_col0\" class=\"data row13 col0\" >Seasonality Detection Algo</td>\n",
       "      <td id=\"T_38e1b_row13_col1\" class=\"data row13 col1\" >auto</td>\n",
       "    </tr>\n",
       "    <tr>\n",
       "      <th id=\"T_38e1b_level0_row14\" class=\"row_heading level0 row14\" >14</th>\n",
       "      <td id=\"T_38e1b_row14_col0\" class=\"data row14 col0\" >Max Period to Consider</td>\n",
       "      <td id=\"T_38e1b_row14_col1\" class=\"data row14 col1\" >60</td>\n",
       "    </tr>\n",
       "    <tr>\n",
       "      <th id=\"T_38e1b_level0_row15\" class=\"row_heading level0 row15\" >15</th>\n",
       "      <td id=\"T_38e1b_row15_col0\" class=\"data row15 col0\" >Seasonal Period(s) Tested</td>\n",
       "      <td id=\"T_38e1b_row15_col1\" class=\"data row15 col1\" >[4, 31, 9, 28, 2, 40, 59, 58, 20]</td>\n",
       "    </tr>\n",
       "    <tr>\n",
       "      <th id=\"T_38e1b_level0_row16\" class=\"row_heading level0 row16\" >16</th>\n",
       "      <td id=\"T_38e1b_row16_col0\" class=\"data row16 col0\" >Significant Seasonal Period(s)</td>\n",
       "      <td id=\"T_38e1b_row16_col1\" class=\"data row16 col1\" >[4, 31, 9, 28, 2, 40, 59, 58, 20]</td>\n",
       "    </tr>\n",
       "    <tr>\n",
       "      <th id=\"T_38e1b_level0_row17\" class=\"row_heading level0 row17\" >17</th>\n",
       "      <td id=\"T_38e1b_row17_col0\" class=\"data row17 col0\" >Significant Seasonal Period(s) without Harmonics</td>\n",
       "      <td id=\"T_38e1b_row17_col1\" class=\"data row17 col1\" >[40, 31, 9, 28, 58, 59]</td>\n",
       "    </tr>\n",
       "    <tr>\n",
       "      <th id=\"T_38e1b_level0_row18\" class=\"row_heading level0 row18\" >18</th>\n",
       "      <td id=\"T_38e1b_row18_col0\" class=\"data row18 col0\" >Remove Harmonics</td>\n",
       "      <td id=\"T_38e1b_row18_col1\" class=\"data row18 col1\" >False</td>\n",
       "    </tr>\n",
       "    <tr>\n",
       "      <th id=\"T_38e1b_level0_row19\" class=\"row_heading level0 row19\" >19</th>\n",
       "      <td id=\"T_38e1b_row19_col0\" class=\"data row19 col0\" >Harmonics Order Method</td>\n",
       "      <td id=\"T_38e1b_row19_col1\" class=\"data row19 col1\" >harmonic_max</td>\n",
       "    </tr>\n",
       "    <tr>\n",
       "      <th id=\"T_38e1b_level0_row20\" class=\"row_heading level0 row20\" >20</th>\n",
       "      <td id=\"T_38e1b_row20_col0\" class=\"data row20 col0\" >Num Seasonalities to Use</td>\n",
       "      <td id=\"T_38e1b_row20_col1\" class=\"data row20 col1\" >1</td>\n",
       "    </tr>\n",
       "    <tr>\n",
       "      <th id=\"T_38e1b_level0_row21\" class=\"row_heading level0 row21\" >21</th>\n",
       "      <td id=\"T_38e1b_row21_col0\" class=\"data row21 col0\" >All Seasonalities to Use</td>\n",
       "      <td id=\"T_38e1b_row21_col1\" class=\"data row21 col1\" >[4]</td>\n",
       "    </tr>\n",
       "    <tr>\n",
       "      <th id=\"T_38e1b_level0_row22\" class=\"row_heading level0 row22\" >22</th>\n",
       "      <td id=\"T_38e1b_row22_col0\" class=\"data row22 col0\" >Primary Seasonality</td>\n",
       "      <td id=\"T_38e1b_row22_col1\" class=\"data row22 col1\" >4</td>\n",
       "    </tr>\n",
       "    <tr>\n",
       "      <th id=\"T_38e1b_level0_row23\" class=\"row_heading level0 row23\" >23</th>\n",
       "      <td id=\"T_38e1b_row23_col0\" class=\"data row23 col0\" >Seasonality Present</td>\n",
       "      <td id=\"T_38e1b_row23_col1\" class=\"data row23 col1\" >True</td>\n",
       "    </tr>\n",
       "    <tr>\n",
       "      <th id=\"T_38e1b_level0_row24\" class=\"row_heading level0 row24\" >24</th>\n",
       "      <td id=\"T_38e1b_row24_col0\" class=\"data row24 col0\" >Target Strictly Positive</td>\n",
       "      <td id=\"T_38e1b_row24_col1\" class=\"data row24 col1\" >True</td>\n",
       "    </tr>\n",
       "    <tr>\n",
       "      <th id=\"T_38e1b_level0_row25\" class=\"row_heading level0 row25\" >25</th>\n",
       "      <td id=\"T_38e1b_row25_col0\" class=\"data row25 col0\" >Target White Noise</td>\n",
       "      <td id=\"T_38e1b_row25_col1\" class=\"data row25 col1\" >No</td>\n",
       "    </tr>\n",
       "    <tr>\n",
       "      <th id=\"T_38e1b_level0_row26\" class=\"row_heading level0 row26\" >26</th>\n",
       "      <td id=\"T_38e1b_row26_col0\" class=\"data row26 col0\" >Recommended d</td>\n",
       "      <td id=\"T_38e1b_row26_col1\" class=\"data row26 col1\" >1</td>\n",
       "    </tr>\n",
       "    <tr>\n",
       "      <th id=\"T_38e1b_level0_row27\" class=\"row_heading level0 row27\" >27</th>\n",
       "      <td id=\"T_38e1b_row27_col0\" class=\"data row27 col0\" >Recommended Seasonal D</td>\n",
       "      <td id=\"T_38e1b_row27_col1\" class=\"data row27 col1\" >0</td>\n",
       "    </tr>\n",
       "    <tr>\n",
       "      <th id=\"T_38e1b_level0_row28\" class=\"row_heading level0 row28\" >28</th>\n",
       "      <td id=\"T_38e1b_row28_col0\" class=\"data row28 col0\" >Preprocess</td>\n",
       "      <td id=\"T_38e1b_row28_col1\" class=\"data row28 col1\" >False</td>\n",
       "    </tr>\n",
       "    <tr>\n",
       "      <th id=\"T_38e1b_level0_row29\" class=\"row_heading level0 row29\" >29</th>\n",
       "      <td id=\"T_38e1b_row29_col0\" class=\"data row29 col0\" >CPU Jobs</td>\n",
       "      <td id=\"T_38e1b_row29_col1\" class=\"data row29 col1\" >-1</td>\n",
       "    </tr>\n",
       "    <tr>\n",
       "      <th id=\"T_38e1b_level0_row30\" class=\"row_heading level0 row30\" >30</th>\n",
       "      <td id=\"T_38e1b_row30_col0\" class=\"data row30 col0\" >Use GPU</td>\n",
       "      <td id=\"T_38e1b_row30_col1\" class=\"data row30 col1\" >False</td>\n",
       "    </tr>\n",
       "    <tr>\n",
       "      <th id=\"T_38e1b_level0_row31\" class=\"row_heading level0 row31\" >31</th>\n",
       "      <td id=\"T_38e1b_row31_col0\" class=\"data row31 col0\" >Log Experiment</td>\n",
       "      <td id=\"T_38e1b_row31_col1\" class=\"data row31 col1\" >False</td>\n",
       "    </tr>\n",
       "    <tr>\n",
       "      <th id=\"T_38e1b_level0_row32\" class=\"row_heading level0 row32\" >32</th>\n",
       "      <td id=\"T_38e1b_row32_col0\" class=\"data row32 col0\" >Experiment Name</td>\n",
       "      <td id=\"T_38e1b_row32_col1\" class=\"data row32 col1\" >ts-default-name</td>\n",
       "    </tr>\n",
       "    <tr>\n",
       "      <th id=\"T_38e1b_level0_row33\" class=\"row_heading level0 row33\" >33</th>\n",
       "      <td id=\"T_38e1b_row33_col0\" class=\"data row33 col0\" >USI</td>\n",
       "      <td id=\"T_38e1b_row33_col1\" class=\"data row33 col1\" >eb4a</td>\n",
       "    </tr>\n",
       "  </tbody>\n",
       "</table>\n"
      ],
      "text/plain": [
       "<pandas.io.formats.style.Styler at 0x31d969fd0>"
      ]
     },
     "metadata": {},
     "output_type": "display_data"
    },
    {
     "data": {
      "text/html": [
       "<div>\n",
       "<style scoped>\n",
       "    .dataframe tbody tr th:only-of-type {\n",
       "        vertical-align: middle;\n",
       "    }\n",
       "\n",
       "    .dataframe tbody tr th {\n",
       "        vertical-align: top;\n",
       "    }\n",
       "\n",
       "    .dataframe thead th {\n",
       "        text-align: right;\n",
       "    }\n",
       "</style>\n",
       "<table border=\"1\" class=\"dataframe\">\n",
       "  <thead>\n",
       "    <tr style=\"text-align: right;\">\n",
       "      <th></th>\n",
       "      <th>Test</th>\n",
       "      <th>Test Name</th>\n",
       "      <th>Data</th>\n",
       "      <th>Property</th>\n",
       "      <th>Setting</th>\n",
       "      <th>Value</th>\n",
       "    </tr>\n",
       "  </thead>\n",
       "  <tbody>\n",
       "    <tr>\n",
       "      <th>0</th>\n",
       "      <td>Summary</td>\n",
       "      <td>Statistics</td>\n",
       "      <td>Transformed</td>\n",
       "      <td>Length</td>\n",
       "      <td></td>\n",
       "      <td>1828.0</td>\n",
       "    </tr>\n",
       "    <tr>\n",
       "      <th>1</th>\n",
       "      <td>Summary</td>\n",
       "      <td>Statistics</td>\n",
       "      <td>Transformed</td>\n",
       "      <td># Missing Values</td>\n",
       "      <td></td>\n",
       "      <td>0.0</td>\n",
       "    </tr>\n",
       "    <tr>\n",
       "      <th>2</th>\n",
       "      <td>Summary</td>\n",
       "      <td>Statistics</td>\n",
       "      <td>Transformed</td>\n",
       "      <td>Mean</td>\n",
       "      <td></td>\n",
       "      <td>96.40221</td>\n",
       "    </tr>\n",
       "    <tr>\n",
       "      <th>3</th>\n",
       "      <td>Summary</td>\n",
       "      <td>Statistics</td>\n",
       "      <td>Transformed</td>\n",
       "      <td>Median</td>\n",
       "      <td></td>\n",
       "      <td>77.248119</td>\n",
       "    </tr>\n",
       "    <tr>\n",
       "      <th>4</th>\n",
       "      <td>Summary</td>\n",
       "      <td>Statistics</td>\n",
       "      <td>Transformed</td>\n",
       "      <td>Standard Deviation</td>\n",
       "      <td></td>\n",
       "      <td>53.47525</td>\n",
       "    </tr>\n",
       "    <tr>\n",
       "      <th>5</th>\n",
       "      <td>Summary</td>\n",
       "      <td>Statistics</td>\n",
       "      <td>Transformed</td>\n",
       "      <td>Variance</td>\n",
       "      <td></td>\n",
       "      <td>2859.602362</td>\n",
       "    </tr>\n",
       "    <tr>\n",
       "      <th>6</th>\n",
       "      <td>Summary</td>\n",
       "      <td>Statistics</td>\n",
       "      <td>Transformed</td>\n",
       "      <td>Kurtosis</td>\n",
       "      <td></td>\n",
       "      <td>3.586442</td>\n",
       "    </tr>\n",
       "    <tr>\n",
       "      <th>7</th>\n",
       "      <td>Summary</td>\n",
       "      <td>Statistics</td>\n",
       "      <td>Transformed</td>\n",
       "      <td>Skewness</td>\n",
       "      <td></td>\n",
       "      <td>1.769907</td>\n",
       "    </tr>\n",
       "    <tr>\n",
       "      <th>8</th>\n",
       "      <td>Summary</td>\n",
       "      <td>Statistics</td>\n",
       "      <td>Transformed</td>\n",
       "      <td># Distinct Values</td>\n",
       "      <td></td>\n",
       "      <td>1828.0</td>\n",
       "    </tr>\n",
       "    <tr>\n",
       "      <th>9</th>\n",
       "      <td>White Noise</td>\n",
       "      <td>Ljung-Box</td>\n",
       "      <td>Transformed</td>\n",
       "      <td>Test Statictic</td>\n",
       "      <td>{'alpha': 0.05, 'K': 24}</td>\n",
       "      <td>36972.930407</td>\n",
       "    </tr>\n",
       "    <tr>\n",
       "      <th>10</th>\n",
       "      <td>White Noise</td>\n",
       "      <td>Ljung-Box</td>\n",
       "      <td>Transformed</td>\n",
       "      <td>Test Statictic</td>\n",
       "      <td>{'alpha': 0.05, 'K': 48}</td>\n",
       "      <td>64808.996743</td>\n",
       "    </tr>\n",
       "    <tr>\n",
       "      <th>11</th>\n",
       "      <td>White Noise</td>\n",
       "      <td>Ljung-Box</td>\n",
       "      <td>Transformed</td>\n",
       "      <td>p-value</td>\n",
       "      <td>{'alpha': 0.05, 'K': 24}</td>\n",
       "      <td>0.0</td>\n",
       "    </tr>\n",
       "    <tr>\n",
       "      <th>12</th>\n",
       "      <td>White Noise</td>\n",
       "      <td>Ljung-Box</td>\n",
       "      <td>Transformed</td>\n",
       "      <td>p-value</td>\n",
       "      <td>{'alpha': 0.05, 'K': 48}</td>\n",
       "      <td>0.0</td>\n",
       "    </tr>\n",
       "    <tr>\n",
       "      <th>13</th>\n",
       "      <td>White Noise</td>\n",
       "      <td>Ljung-Box</td>\n",
       "      <td>Transformed</td>\n",
       "      <td>White Noise</td>\n",
       "      <td>{'alpha': 0.05, 'K': 24}</td>\n",
       "      <td>False</td>\n",
       "    </tr>\n",
       "    <tr>\n",
       "      <th>14</th>\n",
       "      <td>White Noise</td>\n",
       "      <td>Ljung-Box</td>\n",
       "      <td>Transformed</td>\n",
       "      <td>White Noise</td>\n",
       "      <td>{'alpha': 0.05, 'K': 48}</td>\n",
       "      <td>False</td>\n",
       "    </tr>\n",
       "    <tr>\n",
       "      <th>15</th>\n",
       "      <td>Stationarity</td>\n",
       "      <td>ADF</td>\n",
       "      <td>Transformed</td>\n",
       "      <td>Stationarity</td>\n",
       "      <td>{'alpha': 0.05}</td>\n",
       "      <td>False</td>\n",
       "    </tr>\n",
       "    <tr>\n",
       "      <th>16</th>\n",
       "      <td>Stationarity</td>\n",
       "      <td>ADF</td>\n",
       "      <td>Transformed</td>\n",
       "      <td>p-value</td>\n",
       "      <td>{'alpha': 0.05}</td>\n",
       "      <td>0.222783</td>\n",
       "    </tr>\n",
       "    <tr>\n",
       "      <th>17</th>\n",
       "      <td>Stationarity</td>\n",
       "      <td>ADF</td>\n",
       "      <td>Transformed</td>\n",
       "      <td>Test Statistic</td>\n",
       "      <td>{'alpha': 0.05}</td>\n",
       "      <td>-2.155519</td>\n",
       "    </tr>\n",
       "    <tr>\n",
       "      <th>18</th>\n",
       "      <td>Stationarity</td>\n",
       "      <td>ADF</td>\n",
       "      <td>Transformed</td>\n",
       "      <td>Critical Value 1%</td>\n",
       "      <td>{'alpha': 0.05}</td>\n",
       "      <td>-3.433964</td>\n",
       "    </tr>\n",
       "    <tr>\n",
       "      <th>19</th>\n",
       "      <td>Stationarity</td>\n",
       "      <td>ADF</td>\n",
       "      <td>Transformed</td>\n",
       "      <td>Critical Value 5%</td>\n",
       "      <td>{'alpha': 0.05}</td>\n",
       "      <td>-2.863136</td>\n",
       "    </tr>\n",
       "    <tr>\n",
       "      <th>20</th>\n",
       "      <td>Stationarity</td>\n",
       "      <td>ADF</td>\n",
       "      <td>Transformed</td>\n",
       "      <td>Critical Value 10%</td>\n",
       "      <td>{'alpha': 0.05}</td>\n",
       "      <td>-2.56762</td>\n",
       "    </tr>\n",
       "    <tr>\n",
       "      <th>21</th>\n",
       "      <td>Stationarity</td>\n",
       "      <td>KPSS</td>\n",
       "      <td>Transformed</td>\n",
       "      <td>Trend Stationarity</td>\n",
       "      <td>{'alpha': 0.05}</td>\n",
       "      <td>False</td>\n",
       "    </tr>\n",
       "    <tr>\n",
       "      <th>22</th>\n",
       "      <td>Stationarity</td>\n",
       "      <td>KPSS</td>\n",
       "      <td>Transformed</td>\n",
       "      <td>p-value</td>\n",
       "      <td>{'alpha': 0.05}</td>\n",
       "      <td>0.01</td>\n",
       "    </tr>\n",
       "    <tr>\n",
       "      <th>23</th>\n",
       "      <td>Stationarity</td>\n",
       "      <td>KPSS</td>\n",
       "      <td>Transformed</td>\n",
       "      <td>Test Statistic</td>\n",
       "      <td>{'alpha': 0.05}</td>\n",
       "      <td>0.576093</td>\n",
       "    </tr>\n",
       "    <tr>\n",
       "      <th>24</th>\n",
       "      <td>Stationarity</td>\n",
       "      <td>KPSS</td>\n",
       "      <td>Transformed</td>\n",
       "      <td>Critical Value 10%</td>\n",
       "      <td>{'alpha': 0.05}</td>\n",
       "      <td>0.119</td>\n",
       "    </tr>\n",
       "    <tr>\n",
       "      <th>25</th>\n",
       "      <td>Stationarity</td>\n",
       "      <td>KPSS</td>\n",
       "      <td>Transformed</td>\n",
       "      <td>Critical Value 5%</td>\n",
       "      <td>{'alpha': 0.05}</td>\n",
       "      <td>0.146</td>\n",
       "    </tr>\n",
       "    <tr>\n",
       "      <th>26</th>\n",
       "      <td>Stationarity</td>\n",
       "      <td>KPSS</td>\n",
       "      <td>Transformed</td>\n",
       "      <td>Critical Value 2.5%</td>\n",
       "      <td>{'alpha': 0.05}</td>\n",
       "      <td>0.176</td>\n",
       "    </tr>\n",
       "    <tr>\n",
       "      <th>27</th>\n",
       "      <td>Stationarity</td>\n",
       "      <td>KPSS</td>\n",
       "      <td>Transformed</td>\n",
       "      <td>Critical Value 1%</td>\n",
       "      <td>{'alpha': 0.05}</td>\n",
       "      <td>0.216</td>\n",
       "    </tr>\n",
       "    <tr>\n",
       "      <th>28</th>\n",
       "      <td>Normality</td>\n",
       "      <td>Shapiro</td>\n",
       "      <td>Transformed</td>\n",
       "      <td>Normality</td>\n",
       "      <td>{'alpha': 0.05}</td>\n",
       "      <td>False</td>\n",
       "    </tr>\n",
       "    <tr>\n",
       "      <th>29</th>\n",
       "      <td>Normality</td>\n",
       "      <td>Shapiro</td>\n",
       "      <td>Transformed</td>\n",
       "      <td>p-value</td>\n",
       "      <td>{'alpha': 0.05}</td>\n",
       "      <td>0.0</td>\n",
       "    </tr>\n",
       "  </tbody>\n",
       "</table>\n",
       "</div>"
      ],
      "text/plain": [
       "            Test   Test Name         Data             Property  \\\n",
       "0        Summary  Statistics  Transformed               Length   \n",
       "1        Summary  Statistics  Transformed     # Missing Values   \n",
       "2        Summary  Statistics  Transformed                 Mean   \n",
       "3        Summary  Statistics  Transformed               Median   \n",
       "4        Summary  Statistics  Transformed   Standard Deviation   \n",
       "5        Summary  Statistics  Transformed             Variance   \n",
       "6        Summary  Statistics  Transformed             Kurtosis   \n",
       "7        Summary  Statistics  Transformed             Skewness   \n",
       "8        Summary  Statistics  Transformed    # Distinct Values   \n",
       "9    White Noise   Ljung-Box  Transformed       Test Statictic   \n",
       "10   White Noise   Ljung-Box  Transformed       Test Statictic   \n",
       "11   White Noise   Ljung-Box  Transformed              p-value   \n",
       "12   White Noise   Ljung-Box  Transformed              p-value   \n",
       "13   White Noise   Ljung-Box  Transformed          White Noise   \n",
       "14   White Noise   Ljung-Box  Transformed          White Noise   \n",
       "15  Stationarity         ADF  Transformed         Stationarity   \n",
       "16  Stationarity         ADF  Transformed              p-value   \n",
       "17  Stationarity         ADF  Transformed       Test Statistic   \n",
       "18  Stationarity         ADF  Transformed    Critical Value 1%   \n",
       "19  Stationarity         ADF  Transformed    Critical Value 5%   \n",
       "20  Stationarity         ADF  Transformed   Critical Value 10%   \n",
       "21  Stationarity        KPSS  Transformed   Trend Stationarity   \n",
       "22  Stationarity        KPSS  Transformed              p-value   \n",
       "23  Stationarity        KPSS  Transformed       Test Statistic   \n",
       "24  Stationarity        KPSS  Transformed   Critical Value 10%   \n",
       "25  Stationarity        KPSS  Transformed    Critical Value 5%   \n",
       "26  Stationarity        KPSS  Transformed  Critical Value 2.5%   \n",
       "27  Stationarity        KPSS  Transformed    Critical Value 1%   \n",
       "28     Normality     Shapiro  Transformed            Normality   \n",
       "29     Normality     Shapiro  Transformed              p-value   \n",
       "\n",
       "                     Setting         Value  \n",
       "0                                   1828.0  \n",
       "1                                      0.0  \n",
       "2                                 96.40221  \n",
       "3                                77.248119  \n",
       "4                                 53.47525  \n",
       "5                              2859.602362  \n",
       "6                                 3.586442  \n",
       "7                                 1.769907  \n",
       "8                                   1828.0  \n",
       "9   {'alpha': 0.05, 'K': 24}  36972.930407  \n",
       "10  {'alpha': 0.05, 'K': 48}  64808.996743  \n",
       "11  {'alpha': 0.05, 'K': 24}           0.0  \n",
       "12  {'alpha': 0.05, 'K': 48}           0.0  \n",
       "13  {'alpha': 0.05, 'K': 24}         False  \n",
       "14  {'alpha': 0.05, 'K': 48}         False  \n",
       "15           {'alpha': 0.05}         False  \n",
       "16           {'alpha': 0.05}      0.222783  \n",
       "17           {'alpha': 0.05}     -2.155519  \n",
       "18           {'alpha': 0.05}     -3.433964  \n",
       "19           {'alpha': 0.05}     -2.863136  \n",
       "20           {'alpha': 0.05}      -2.56762  \n",
       "21           {'alpha': 0.05}         False  \n",
       "22           {'alpha': 0.05}          0.01  \n",
       "23           {'alpha': 0.05}      0.576093  \n",
       "24           {'alpha': 0.05}         0.119  \n",
       "25           {'alpha': 0.05}         0.146  \n",
       "26           {'alpha': 0.05}         0.176  \n",
       "27           {'alpha': 0.05}         0.216  \n",
       "28           {'alpha': 0.05}         False  \n",
       "29           {'alpha': 0.05}           0.0  "
      ]
     },
     "execution_count": 76,
     "metadata": {},
     "output_type": "execute_result"
    }
   ],
   "source": [
    "\n",
    "exp_LTC = TSForecastingExperiment()\n",
    "exp_LTC.setup(data=df_LTC, target='Close', fh=365, session_id=123,coverage=0.90)\n",
    "exp_LTC.check_stats()\n"
   ]
  },
  {
   "cell_type": "code",
   "execution_count": 77,
   "metadata": {},
   "outputs": [
    {
     "name": "stdout",
     "output_type": "stream",
     "text": [
      "Training Data:\n",
      "Date\n",
      "2020-01-01    42.017719\n",
      "2020-01-02    39.823013\n",
      "2020-01-03    42.415573\n",
      "2020-01-04    43.326607\n",
      "2020-01-05    43.553207\n",
      "                ...    \n",
      "2023-12-29    73.404144\n",
      "2023-12-30    73.312737\n",
      "2023-12-31    72.798439\n",
      "2024-01-01    74.731926\n",
      "2024-01-02    72.984077\n",
      "Freq: D, Name: Close, Length: 1463, dtype: float64\n",
      "\n",
      "Testing Data:\n",
      "Date\n",
      "2024-01-03     65.301643\n",
      "2024-01-04     66.491394\n",
      "2024-01-05     66.021149\n",
      "2024-01-06     65.676079\n",
      "2024-01-07     64.257469\n",
      "                 ...    \n",
      "2024-12-28    100.584679\n",
      "2024-12-29     98.275055\n",
      "2024-12-30     99.309219\n",
      "2024-12-31    103.068512\n",
      "2025-01-01    104.812088\n",
      "Freq: D, Name: Close, Length: 365, dtype: float64\n"
     ]
    }
   ],
   "source": [
    "# Get the complete data used in the experiment\n",
    "complete_data = exp_LTC.get_config('y')  \n",
    "fh = exp_LTC.get_config('fh')  \n",
    "train_data_LTC = complete_data[:-fh[0]] \n",
    "test_data_LTC = complete_data[-fh[0]:] \n",
    "y_train_LTC = exp_LTC.get_config('y_train')\n",
    "y_test_LTC = exp_LTC.get_config('y_test')\n",
    "print(\"Training Data:\")\n",
    "print(y_train_LTC)\n",
    "print(\"\\nTesting Data:\")\n",
    "print(y_test_LTC)"
   ]
  },
  {
   "cell_type": "code",
   "execution_count": 78,
   "metadata": {},
   "outputs": [
    {
     "data": {
      "text/html": [
       "<div>\n",
       "<style scoped>\n",
       "    .dataframe tbody tr th:only-of-type {\n",
       "        vertical-align: middle;\n",
       "    }\n",
       "\n",
       "    .dataframe tbody tr th {\n",
       "        vertical-align: top;\n",
       "    }\n",
       "\n",
       "    .dataframe thead th {\n",
       "        text-align: right;\n",
       "    }\n",
       "</style>\n",
       "<table border=\"1\" class=\"dataframe\">\n",
       "  <thead>\n",
       "    <tr style=\"text-align: right;\">\n",
       "      <th></th>\n",
       "      <th>Name</th>\n",
       "      <th>Reference</th>\n",
       "      <th>Turbo</th>\n",
       "    </tr>\n",
       "    <tr>\n",
       "      <th>ID</th>\n",
       "      <th></th>\n",
       "      <th></th>\n",
       "      <th></th>\n",
       "    </tr>\n",
       "  </thead>\n",
       "  <tbody>\n",
       "    <tr>\n",
       "      <th>naive</th>\n",
       "      <td>Naive Forecaster</td>\n",
       "      <td>sktime.forecasting.naive.NaiveForecaster</td>\n",
       "      <td>True</td>\n",
       "    </tr>\n",
       "    <tr>\n",
       "      <th>grand_means</th>\n",
       "      <td>Grand Means Forecaster</td>\n",
       "      <td>sktime.forecasting.naive.NaiveForecaster</td>\n",
       "      <td>True</td>\n",
       "    </tr>\n",
       "    <tr>\n",
       "      <th>snaive</th>\n",
       "      <td>Seasonal Naive Forecaster</td>\n",
       "      <td>sktime.forecasting.naive.NaiveForecaster</td>\n",
       "      <td>True</td>\n",
       "    </tr>\n",
       "    <tr>\n",
       "      <th>polytrend</th>\n",
       "      <td>Polynomial Trend Forecaster</td>\n",
       "      <td>sktime.forecasting.trend._polynomial_trend_for...</td>\n",
       "      <td>True</td>\n",
       "    </tr>\n",
       "    <tr>\n",
       "      <th>arima</th>\n",
       "      <td>ARIMA</td>\n",
       "      <td>sktime.forecasting.arima.ARIMA</td>\n",
       "      <td>True</td>\n",
       "    </tr>\n",
       "    <tr>\n",
       "      <th>auto_arima</th>\n",
       "      <td>Auto ARIMA</td>\n",
       "      <td>sktime.forecasting.arima.AutoARIMA</td>\n",
       "      <td>True</td>\n",
       "    </tr>\n",
       "    <tr>\n",
       "      <th>exp_smooth</th>\n",
       "      <td>Exponential Smoothing</td>\n",
       "      <td>sktime.forecasting.exp_smoothing.ExponentialSm...</td>\n",
       "      <td>True</td>\n",
       "    </tr>\n",
       "    <tr>\n",
       "      <th>croston</th>\n",
       "      <td>Croston</td>\n",
       "      <td>sktime.forecasting.croston.Croston</td>\n",
       "      <td>True</td>\n",
       "    </tr>\n",
       "    <tr>\n",
       "      <th>ets</th>\n",
       "      <td>ETS</td>\n",
       "      <td>sktime.forecasting.ets.AutoETS</td>\n",
       "      <td>True</td>\n",
       "    </tr>\n",
       "    <tr>\n",
       "      <th>theta</th>\n",
       "      <td>Theta Forecaster</td>\n",
       "      <td>sktime.forecasting.theta.ThetaForecaster</td>\n",
       "      <td>True</td>\n",
       "    </tr>\n",
       "    <tr>\n",
       "      <th>tbats</th>\n",
       "      <td>TBATS</td>\n",
       "      <td>sktime.forecasting.tbats.TBATS</td>\n",
       "      <td>False</td>\n",
       "    </tr>\n",
       "    <tr>\n",
       "      <th>bats</th>\n",
       "      <td>BATS</td>\n",
       "      <td>sktime.forecasting.bats.BATS</td>\n",
       "      <td>False</td>\n",
       "    </tr>\n",
       "    <tr>\n",
       "      <th>lr_cds_dt</th>\n",
       "      <td>Linear w/ Cond. Deseasonalize &amp; Detrending</td>\n",
       "      <td>pycaret.containers.models.time_series.BaseCdsD...</td>\n",
       "      <td>True</td>\n",
       "    </tr>\n",
       "    <tr>\n",
       "      <th>en_cds_dt</th>\n",
       "      <td>Elastic Net w/ Cond. Deseasonalize &amp; Detrending</td>\n",
       "      <td>pycaret.containers.models.time_series.BaseCdsD...</td>\n",
       "      <td>True</td>\n",
       "    </tr>\n",
       "    <tr>\n",
       "      <th>ridge_cds_dt</th>\n",
       "      <td>Ridge w/ Cond. Deseasonalize &amp; Detrending</td>\n",
       "      <td>pycaret.containers.models.time_series.BaseCdsD...</td>\n",
       "      <td>True</td>\n",
       "    </tr>\n",
       "    <tr>\n",
       "      <th>lasso_cds_dt</th>\n",
       "      <td>Lasso w/ Cond. Deseasonalize &amp; Detrending</td>\n",
       "      <td>pycaret.containers.models.time_series.BaseCdsD...</td>\n",
       "      <td>True</td>\n",
       "    </tr>\n",
       "    <tr>\n",
       "      <th>lar_cds_dt</th>\n",
       "      <td>Least Angular Regressor w/ Cond. Deseasonalize...</td>\n",
       "      <td>pycaret.containers.models.time_series.BaseCdsD...</td>\n",
       "      <td>True</td>\n",
       "    </tr>\n",
       "    <tr>\n",
       "      <th>llar_cds_dt</th>\n",
       "      <td>Lasso Least Angular Regressor w/ Cond. Deseaso...</td>\n",
       "      <td>pycaret.containers.models.time_series.BaseCdsD...</td>\n",
       "      <td>True</td>\n",
       "    </tr>\n",
       "    <tr>\n",
       "      <th>br_cds_dt</th>\n",
       "      <td>Bayesian Ridge w/ Cond. Deseasonalize &amp; Detren...</td>\n",
       "      <td>pycaret.containers.models.time_series.BaseCdsD...</td>\n",
       "      <td>True</td>\n",
       "    </tr>\n",
       "    <tr>\n",
       "      <th>huber_cds_dt</th>\n",
       "      <td>Huber w/ Cond. Deseasonalize &amp; Detrending</td>\n",
       "      <td>pycaret.containers.models.time_series.BaseCdsD...</td>\n",
       "      <td>True</td>\n",
       "    </tr>\n",
       "    <tr>\n",
       "      <th>par_cds_dt</th>\n",
       "      <td>Passive Aggressive w/ Cond. Deseasonalize &amp; De...</td>\n",
       "      <td>pycaret.containers.models.time_series.BaseCdsD...</td>\n",
       "      <td>True</td>\n",
       "    </tr>\n",
       "    <tr>\n",
       "      <th>omp_cds_dt</th>\n",
       "      <td>Orthogonal Matching Pursuit w/ Cond. Deseasona...</td>\n",
       "      <td>pycaret.containers.models.time_series.BaseCdsD...</td>\n",
       "      <td>True</td>\n",
       "    </tr>\n",
       "    <tr>\n",
       "      <th>knn_cds_dt</th>\n",
       "      <td>K Neighbors w/ Cond. Deseasonalize &amp; Detrending</td>\n",
       "      <td>pycaret.containers.models.time_series.BaseCdsD...</td>\n",
       "      <td>True</td>\n",
       "    </tr>\n",
       "    <tr>\n",
       "      <th>dt_cds_dt</th>\n",
       "      <td>Decision Tree w/ Cond. Deseasonalize &amp; Detrending</td>\n",
       "      <td>pycaret.containers.models.time_series.BaseCdsD...</td>\n",
       "      <td>True</td>\n",
       "    </tr>\n",
       "    <tr>\n",
       "      <th>rf_cds_dt</th>\n",
       "      <td>Random Forest w/ Cond. Deseasonalize &amp; Detrending</td>\n",
       "      <td>pycaret.containers.models.time_series.BaseCdsD...</td>\n",
       "      <td>True</td>\n",
       "    </tr>\n",
       "    <tr>\n",
       "      <th>et_cds_dt</th>\n",
       "      <td>Extra Trees w/ Cond. Deseasonalize &amp; Detrending</td>\n",
       "      <td>pycaret.containers.models.time_series.BaseCdsD...</td>\n",
       "      <td>True</td>\n",
       "    </tr>\n",
       "    <tr>\n",
       "      <th>gbr_cds_dt</th>\n",
       "      <td>Gradient Boosting w/ Cond. Deseasonalize &amp; Det...</td>\n",
       "      <td>pycaret.containers.models.time_series.BaseCdsD...</td>\n",
       "      <td>True</td>\n",
       "    </tr>\n",
       "    <tr>\n",
       "      <th>ada_cds_dt</th>\n",
       "      <td>AdaBoost w/ Cond. Deseasonalize &amp; Detrending</td>\n",
       "      <td>pycaret.containers.models.time_series.BaseCdsD...</td>\n",
       "      <td>True</td>\n",
       "    </tr>\n",
       "    <tr>\n",
       "      <th>lightgbm_cds_dt</th>\n",
       "      <td>Light Gradient Boosting w/ Cond. Deseasonalize...</td>\n",
       "      <td>pycaret.containers.models.time_series.BaseCdsD...</td>\n",
       "      <td>True</td>\n",
       "    </tr>\n",
       "  </tbody>\n",
       "</table>\n",
       "</div>"
      ],
      "text/plain": [
       "                                                              Name  \\\n",
       "ID                                                                   \n",
       "naive                                             Naive Forecaster   \n",
       "grand_means                                 Grand Means Forecaster   \n",
       "snaive                                   Seasonal Naive Forecaster   \n",
       "polytrend                              Polynomial Trend Forecaster   \n",
       "arima                                                        ARIMA   \n",
       "auto_arima                                              Auto ARIMA   \n",
       "exp_smooth                                   Exponential Smoothing   \n",
       "croston                                                    Croston   \n",
       "ets                                                            ETS   \n",
       "theta                                             Theta Forecaster   \n",
       "tbats                                                        TBATS   \n",
       "bats                                                          BATS   \n",
       "lr_cds_dt               Linear w/ Cond. Deseasonalize & Detrending   \n",
       "en_cds_dt          Elastic Net w/ Cond. Deseasonalize & Detrending   \n",
       "ridge_cds_dt             Ridge w/ Cond. Deseasonalize & Detrending   \n",
       "lasso_cds_dt             Lasso w/ Cond. Deseasonalize & Detrending   \n",
       "lar_cds_dt       Least Angular Regressor w/ Cond. Deseasonalize...   \n",
       "llar_cds_dt      Lasso Least Angular Regressor w/ Cond. Deseaso...   \n",
       "br_cds_dt        Bayesian Ridge w/ Cond. Deseasonalize & Detren...   \n",
       "huber_cds_dt             Huber w/ Cond. Deseasonalize & Detrending   \n",
       "par_cds_dt       Passive Aggressive w/ Cond. Deseasonalize & De...   \n",
       "omp_cds_dt       Orthogonal Matching Pursuit w/ Cond. Deseasona...   \n",
       "knn_cds_dt         K Neighbors w/ Cond. Deseasonalize & Detrending   \n",
       "dt_cds_dt        Decision Tree w/ Cond. Deseasonalize & Detrending   \n",
       "rf_cds_dt        Random Forest w/ Cond. Deseasonalize & Detrending   \n",
       "et_cds_dt          Extra Trees w/ Cond. Deseasonalize & Detrending   \n",
       "gbr_cds_dt       Gradient Boosting w/ Cond. Deseasonalize & Det...   \n",
       "ada_cds_dt            AdaBoost w/ Cond. Deseasonalize & Detrending   \n",
       "lightgbm_cds_dt  Light Gradient Boosting w/ Cond. Deseasonalize...   \n",
       "\n",
       "                                                         Reference  Turbo  \n",
       "ID                                                                         \n",
       "naive                     sktime.forecasting.naive.NaiveForecaster   True  \n",
       "grand_means               sktime.forecasting.naive.NaiveForecaster   True  \n",
       "snaive                    sktime.forecasting.naive.NaiveForecaster   True  \n",
       "polytrend        sktime.forecasting.trend._polynomial_trend_for...   True  \n",
       "arima                               sktime.forecasting.arima.ARIMA   True  \n",
       "auto_arima                      sktime.forecasting.arima.AutoARIMA   True  \n",
       "exp_smooth       sktime.forecasting.exp_smoothing.ExponentialSm...   True  \n",
       "croston                         sktime.forecasting.croston.Croston   True  \n",
       "ets                                 sktime.forecasting.ets.AutoETS   True  \n",
       "theta                     sktime.forecasting.theta.ThetaForecaster   True  \n",
       "tbats                               sktime.forecasting.tbats.TBATS  False  \n",
       "bats                                  sktime.forecasting.bats.BATS  False  \n",
       "lr_cds_dt        pycaret.containers.models.time_series.BaseCdsD...   True  \n",
       "en_cds_dt        pycaret.containers.models.time_series.BaseCdsD...   True  \n",
       "ridge_cds_dt     pycaret.containers.models.time_series.BaseCdsD...   True  \n",
       "lasso_cds_dt     pycaret.containers.models.time_series.BaseCdsD...   True  \n",
       "lar_cds_dt       pycaret.containers.models.time_series.BaseCdsD...   True  \n",
       "llar_cds_dt      pycaret.containers.models.time_series.BaseCdsD...   True  \n",
       "br_cds_dt        pycaret.containers.models.time_series.BaseCdsD...   True  \n",
       "huber_cds_dt     pycaret.containers.models.time_series.BaseCdsD...   True  \n",
       "par_cds_dt       pycaret.containers.models.time_series.BaseCdsD...   True  \n",
       "omp_cds_dt       pycaret.containers.models.time_series.BaseCdsD...   True  \n",
       "knn_cds_dt       pycaret.containers.models.time_series.BaseCdsD...   True  \n",
       "dt_cds_dt        pycaret.containers.models.time_series.BaseCdsD...   True  \n",
       "rf_cds_dt        pycaret.containers.models.time_series.BaseCdsD...   True  \n",
       "et_cds_dt        pycaret.containers.models.time_series.BaseCdsD...   True  \n",
       "gbr_cds_dt       pycaret.containers.models.time_series.BaseCdsD...   True  \n",
       "ada_cds_dt       pycaret.containers.models.time_series.BaseCdsD...   True  \n",
       "lightgbm_cds_dt  pycaret.containers.models.time_series.BaseCdsD...   True  "
      ]
     },
     "execution_count": 78,
     "metadata": {},
     "output_type": "execute_result"
    }
   ],
   "source": [
    "exp_LTC.models()"
   ]
  },
  {
   "cell_type": "markdown",
   "metadata": {},
   "source": [
    "ETS model selection for LTC daily close price data"
   ]
  },
  {
   "cell_type": "code",
   "execution_count": 79,
   "metadata": {},
   "outputs": [
    {
     "data": {
      "text/html": [],
      "text/plain": [
       "<IPython.core.display.HTML object>"
      ]
     },
     "metadata": {},
     "output_type": "display_data"
    },
    {
     "data": {
      "text/html": [
       "<style type=\"text/css\">\n",
       "</style>\n",
       "<table id=\"T_a45cd\">\n",
       "  <thead>\n",
       "    <tr>\n",
       "      <th class=\"blank level0\" >&nbsp;</th>\n",
       "      <th id=\"T_a45cd_level0_col0\" class=\"col_heading level0 col0\" >MASE</th>\n",
       "      <th id=\"T_a45cd_level0_col1\" class=\"col_heading level0 col1\" >RMSSE</th>\n",
       "      <th id=\"T_a45cd_level0_col2\" class=\"col_heading level0 col2\" >MAE</th>\n",
       "      <th id=\"T_a45cd_level0_col3\" class=\"col_heading level0 col3\" >RMSE</th>\n",
       "      <th id=\"T_a45cd_level0_col4\" class=\"col_heading level0 col4\" >MAPE</th>\n",
       "      <th id=\"T_a45cd_level0_col5\" class=\"col_heading level0 col5\" >SMAPE</th>\n",
       "      <th id=\"T_a45cd_level0_col6\" class=\"col_heading level0 col6\" >R2</th>\n",
       "    </tr>\n",
       "  </thead>\n",
       "  <tbody>\n",
       "    <tr>\n",
       "      <th id=\"T_a45cd_level0_row0\" class=\"row_heading level0 row0\" >Test</th>\n",
       "      <td id=\"T_a45cd_row0_col0\" class=\"data row0 col0\" >1.4970</td>\n",
       "      <td id=\"T_a45cd_row0_col1\" class=\"data row0 col1\" >1.2155</td>\n",
       "      <td id=\"T_a45cd_row0_col2\" class=\"data row0 col2\" >11.5556</td>\n",
       "      <td id=\"T_a45cd_row0_col3\" class=\"data row0 col3\" >16.6881</td>\n",
       "      <td id=\"T_a45cd_row0_col4\" class=\"data row0 col4\" >0.1313</td>\n",
       "      <td id=\"T_a45cd_row0_col5\" class=\"data row0 col5\" >0.1414</td>\n",
       "      <td id=\"T_a45cd_row0_col6\" class=\"data row0 col6\" >-0.1367</td>\n",
       "    </tr>\n",
       "  </tbody>\n",
       "</table>\n"
      ],
      "text/plain": [
       "<pandas.io.formats.style.Styler at 0x35215a0d0>"
      ]
     },
     "metadata": {},
     "output_type": "display_data"
    },
    {
     "data": {
      "text/html": [],
      "text/plain": [
       "<IPython.core.display.HTML object>"
      ]
     },
     "metadata": {},
     "output_type": "display_data"
    },
    {
     "data": {
      "text/html": [],
      "text/plain": [
       "<IPython.core.display.HTML object>"
      ]
     },
     "metadata": {},
     "output_type": "display_data"
    },
    {
     "data": {
      "text/html": [
       "<style type=\"text/css\">\n",
       "</style>\n",
       "<table id=\"T_0ff1c\">\n",
       "  <thead>\n",
       "    <tr>\n",
       "      <th class=\"blank level0\" >&nbsp;</th>\n",
       "      <th id=\"T_0ff1c_level0_col0\" class=\"col_heading level0 col0\" >MASE</th>\n",
       "      <th id=\"T_0ff1c_level0_col1\" class=\"col_heading level0 col1\" >RMSSE</th>\n",
       "      <th id=\"T_0ff1c_level0_col2\" class=\"col_heading level0 col2\" >MAE</th>\n",
       "      <th id=\"T_0ff1c_level0_col3\" class=\"col_heading level0 col3\" >RMSE</th>\n",
       "      <th id=\"T_0ff1c_level0_col4\" class=\"col_heading level0 col4\" >MAPE</th>\n",
       "      <th id=\"T_0ff1c_level0_col5\" class=\"col_heading level0 col5\" >SMAPE</th>\n",
       "      <th id=\"T_0ff1c_level0_col6\" class=\"col_heading level0 col6\" >R2</th>\n",
       "    </tr>\n",
       "  </thead>\n",
       "  <tbody>\n",
       "    <tr>\n",
       "      <th id=\"T_0ff1c_level0_row0\" class=\"row_heading level0 row0\" >Test</th>\n",
       "      <td id=\"T_0ff1c_row0_col0\" class=\"data row0 col0\" >1.5361</td>\n",
       "      <td id=\"T_0ff1c_row0_col1\" class=\"data row0 col1\" >1.1222</td>\n",
       "      <td id=\"T_0ff1c_row0_col2\" class=\"data row0 col2\" >11.8568</td>\n",
       "      <td id=\"T_0ff1c_row0_col3\" class=\"data row0 col3\" >15.4066</td>\n",
       "      <td id=\"T_0ff1c_row0_col4\" class=\"data row0 col4\" >0.1435</td>\n",
       "      <td id=\"T_0ff1c_row0_col5\" class=\"data row0 col5\" >0.1457</td>\n",
       "      <td id=\"T_0ff1c_row0_col6\" class=\"data row0 col6\" >0.0312</td>\n",
       "    </tr>\n",
       "  </tbody>\n",
       "</table>\n"
      ],
      "text/plain": [
       "<pandas.io.formats.style.Styler at 0x35632ff10>"
      ]
     },
     "metadata": {},
     "output_type": "display_data"
    },
    {
     "data": {
      "text/html": [],
      "text/plain": [
       "<IPython.core.display.HTML object>"
      ]
     },
     "metadata": {},
     "output_type": "display_data"
    },
    {
     "data": {
      "text/html": [],
      "text/plain": [
       "<IPython.core.display.HTML object>"
      ]
     },
     "metadata": {},
     "output_type": "display_data"
    },
    {
     "data": {
      "text/html": [
       "<style type=\"text/css\">\n",
       "</style>\n",
       "<table id=\"T_94e81\">\n",
       "  <thead>\n",
       "    <tr>\n",
       "      <th class=\"blank level0\" >&nbsp;</th>\n",
       "      <th id=\"T_94e81_level0_col0\" class=\"col_heading level0 col0\" >MASE</th>\n",
       "      <th id=\"T_94e81_level0_col1\" class=\"col_heading level0 col1\" >RMSSE</th>\n",
       "      <th id=\"T_94e81_level0_col2\" class=\"col_heading level0 col2\" >MAE</th>\n",
       "      <th id=\"T_94e81_level0_col3\" class=\"col_heading level0 col3\" >RMSE</th>\n",
       "      <th id=\"T_94e81_level0_col4\" class=\"col_heading level0 col4\" >MAPE</th>\n",
       "      <th id=\"T_94e81_level0_col5\" class=\"col_heading level0 col5\" >SMAPE</th>\n",
       "      <th id=\"T_94e81_level0_col6\" class=\"col_heading level0 col6\" >R2</th>\n",
       "    </tr>\n",
       "  </thead>\n",
       "  <tbody>\n",
       "    <tr>\n",
       "      <th id=\"T_94e81_level0_row0\" class=\"row_heading level0 row0\" >Test</th>\n",
       "      <td id=\"T_94e81_row0_col0\" class=\"data row0 col0\" >2.0459</td>\n",
       "      <td id=\"T_94e81_row0_col1\" class=\"data row0 col1\" >1.4644</td>\n",
       "      <td id=\"T_94e81_row0_col2\" class=\"data row0 col2\" >15.7922</td>\n",
       "      <td id=\"T_94e81_row0_col3\" class=\"data row0 col3\" >20.1054</td>\n",
       "      <td id=\"T_94e81_row0_col4\" class=\"data row0 col4\" >0.1918</td>\n",
       "      <td id=\"T_94e81_row0_col5\" class=\"data row0 col5\" >0.2036</td>\n",
       "      <td id=\"T_94e81_row0_col6\" class=\"data row0 col6\" >-0.6499</td>\n",
       "    </tr>\n",
       "  </tbody>\n",
       "</table>\n"
      ],
      "text/plain": [
       "<pandas.io.formats.style.Styler at 0x35215af10>"
      ]
     },
     "metadata": {},
     "output_type": "display_data"
    },
    {
     "data": {
      "text/html": [],
      "text/plain": [
       "<IPython.core.display.HTML object>"
      ]
     },
     "metadata": {},
     "output_type": "display_data"
    },
    {
     "data": {
      "text/html": [],
      "text/plain": [
       "<IPython.core.display.HTML object>"
      ]
     },
     "metadata": {},
     "output_type": "display_data"
    },
    {
     "data": {
      "text/html": [
       "<style type=\"text/css\">\n",
       "</style>\n",
       "<table id=\"T_72909\">\n",
       "  <thead>\n",
       "    <tr>\n",
       "      <th class=\"blank level0\" >&nbsp;</th>\n",
       "      <th id=\"T_72909_level0_col0\" class=\"col_heading level0 col0\" >MASE</th>\n",
       "      <th id=\"T_72909_level0_col1\" class=\"col_heading level0 col1\" >RMSSE</th>\n",
       "      <th id=\"T_72909_level0_col2\" class=\"col_heading level0 col2\" >MAE</th>\n",
       "      <th id=\"T_72909_level0_col3\" class=\"col_heading level0 col3\" >RMSE</th>\n",
       "      <th id=\"T_72909_level0_col4\" class=\"col_heading level0 col4\" >MAPE</th>\n",
       "      <th id=\"T_72909_level0_col5\" class=\"col_heading level0 col5\" >SMAPE</th>\n",
       "      <th id=\"T_72909_level0_col6\" class=\"col_heading level0 col6\" >R2</th>\n",
       "    </tr>\n",
       "  </thead>\n",
       "  <tbody>\n",
       "    <tr>\n",
       "      <th id=\"T_72909_level0_row0\" class=\"row_heading level0 row0\" >Test</th>\n",
       "      <td id=\"T_72909_row0_col0\" class=\"data row0 col0\" >2.0394</td>\n",
       "      <td id=\"T_72909_row0_col1\" class=\"data row0 col1\" >1.6275</td>\n",
       "      <td id=\"T_72909_row0_col2\" class=\"data row0 col2\" >15.7421</td>\n",
       "      <td id=\"T_72909_row0_col3\" class=\"data row0 col3\" >22.3440</td>\n",
       "      <td id=\"T_72909_row0_col4\" class=\"data row0 col4\" >0.1832</td>\n",
       "      <td id=\"T_72909_row0_col5\" class=\"data row0 col5\" >0.1980</td>\n",
       "      <td id=\"T_72909_row0_col6\" class=\"data row0 col6\" >-1.0378</td>\n",
       "    </tr>\n",
       "  </tbody>\n",
       "</table>\n"
      ],
      "text/plain": [
       "<pandas.io.formats.style.Styler at 0x35c925520>"
      ]
     },
     "metadata": {},
     "output_type": "display_data"
    },
    {
     "data": {
      "text/html": [],
      "text/plain": [
       "<IPython.core.display.HTML object>"
      ]
     },
     "metadata": {},
     "output_type": "display_data"
    },
    {
     "data": {
      "text/html": [],
      "text/plain": [
       "<IPython.core.display.HTML object>"
      ]
     },
     "metadata": {},
     "output_type": "display_data"
    },
    {
     "data": {
      "text/html": [
       "<style type=\"text/css\">\n",
       "</style>\n",
       "<table id=\"T_ea950\">\n",
       "  <thead>\n",
       "    <tr>\n",
       "      <th class=\"blank level0\" >&nbsp;</th>\n",
       "      <th id=\"T_ea950_level0_col0\" class=\"col_heading level0 col0\" >MASE</th>\n",
       "      <th id=\"T_ea950_level0_col1\" class=\"col_heading level0 col1\" >RMSSE</th>\n",
       "      <th id=\"T_ea950_level0_col2\" class=\"col_heading level0 col2\" >MAE</th>\n",
       "      <th id=\"T_ea950_level0_col3\" class=\"col_heading level0 col3\" >RMSE</th>\n",
       "      <th id=\"T_ea950_level0_col4\" class=\"col_heading level0 col4\" >MAPE</th>\n",
       "      <th id=\"T_ea950_level0_col5\" class=\"col_heading level0 col5\" >SMAPE</th>\n",
       "      <th id=\"T_ea950_level0_col6\" class=\"col_heading level0 col6\" >R2</th>\n",
       "    </tr>\n",
       "  </thead>\n",
       "  <tbody>\n",
       "    <tr>\n",
       "      <th id=\"T_ea950_level0_row0\" class=\"row_heading level0 row0\" >Test</th>\n",
       "      <td id=\"T_ea950_row0_col0\" class=\"data row0 col0\" >1.8068</td>\n",
       "      <td id=\"T_ea950_row0_col1\" class=\"data row0 col1\" >1.4563</td>\n",
       "      <td id=\"T_ea950_row0_col2\" class=\"data row0 col2\" >13.9468</td>\n",
       "      <td id=\"T_ea950_row0_col3\" class=\"data row0 col3\" >19.9936</td>\n",
       "      <td id=\"T_ea950_row0_col4\" class=\"data row0 col4\" >0.1653</td>\n",
       "      <td id=\"T_ea950_row0_col5\" class=\"data row0 col5\" >0.1656</td>\n",
       "      <td id=\"T_ea950_row0_col6\" class=\"data row0 col6\" >-0.6316</td>\n",
       "    </tr>\n",
       "  </tbody>\n",
       "</table>\n"
      ],
      "text/plain": [
       "<pandas.io.formats.style.Styler at 0x352d0d6d0>"
      ]
     },
     "metadata": {},
     "output_type": "display_data"
    },
    {
     "data": {
      "text/html": [],
      "text/plain": [
       "<IPython.core.display.HTML object>"
      ]
     },
     "metadata": {},
     "output_type": "display_data"
    },
    {
     "data": {
      "text/html": [],
      "text/plain": [
       "<IPython.core.display.HTML object>"
      ]
     },
     "metadata": {},
     "output_type": "display_data"
    },
    {
     "data": {
      "text/html": [
       "<style type=\"text/css\">\n",
       "</style>\n",
       "<table id=\"T_c4e90\">\n",
       "  <thead>\n",
       "    <tr>\n",
       "      <th class=\"blank level0\" >&nbsp;</th>\n",
       "      <th id=\"T_c4e90_level0_col0\" class=\"col_heading level0 col0\" >MASE</th>\n",
       "      <th id=\"T_c4e90_level0_col1\" class=\"col_heading level0 col1\" >RMSSE</th>\n",
       "      <th id=\"T_c4e90_level0_col2\" class=\"col_heading level0 col2\" >MAE</th>\n",
       "      <th id=\"T_c4e90_level0_col3\" class=\"col_heading level0 col3\" >RMSE</th>\n",
       "      <th id=\"T_c4e90_level0_col4\" class=\"col_heading level0 col4\" >MAPE</th>\n",
       "      <th id=\"T_c4e90_level0_col5\" class=\"col_heading level0 col5\" >SMAPE</th>\n",
       "      <th id=\"T_c4e90_level0_col6\" class=\"col_heading level0 col6\" >R2</th>\n",
       "    </tr>\n",
       "  </thead>\n",
       "  <tbody>\n",
       "    <tr>\n",
       "      <th id=\"T_c4e90_level0_row0\" class=\"row_heading level0 row0\" >Test</th>\n",
       "      <td id=\"T_c4e90_row0_col0\" class=\"data row0 col0\" >1.4970</td>\n",
       "      <td id=\"T_c4e90_row0_col1\" class=\"data row0 col1\" >1.2155</td>\n",
       "      <td id=\"T_c4e90_row0_col2\" class=\"data row0 col2\" >11.5556</td>\n",
       "      <td id=\"T_c4e90_row0_col3\" class=\"data row0 col3\" >16.6881</td>\n",
       "      <td id=\"T_c4e90_row0_col4\" class=\"data row0 col4\" >0.1313</td>\n",
       "      <td id=\"T_c4e90_row0_col5\" class=\"data row0 col5\" >0.1414</td>\n",
       "      <td id=\"T_c4e90_row0_col6\" class=\"data row0 col6\" >-0.1367</td>\n",
       "    </tr>\n",
       "  </tbody>\n",
       "</table>\n"
      ],
      "text/plain": [
       "<pandas.io.formats.style.Styler at 0x352d0d0d0>"
      ]
     },
     "metadata": {},
     "output_type": "display_data"
    },
    {
     "data": {
      "text/html": [],
      "text/plain": [
       "<IPython.core.display.HTML object>"
      ]
     },
     "metadata": {},
     "output_type": "display_data"
    },
    {
     "data": {
      "text/html": [],
      "text/plain": [
       "<IPython.core.display.HTML object>"
      ]
     },
     "metadata": {},
     "output_type": "display_data"
    },
    {
     "data": {
      "text/html": [
       "<style type=\"text/css\">\n",
       "</style>\n",
       "<table id=\"T_8b097\">\n",
       "  <thead>\n",
       "    <tr>\n",
       "      <th class=\"blank level0\" >&nbsp;</th>\n",
       "      <th id=\"T_8b097_level0_col0\" class=\"col_heading level0 col0\" >MASE</th>\n",
       "      <th id=\"T_8b097_level0_col1\" class=\"col_heading level0 col1\" >RMSSE</th>\n",
       "      <th id=\"T_8b097_level0_col2\" class=\"col_heading level0 col2\" >MAE</th>\n",
       "      <th id=\"T_8b097_level0_col3\" class=\"col_heading level0 col3\" >RMSE</th>\n",
       "      <th id=\"T_8b097_level0_col4\" class=\"col_heading level0 col4\" >MAPE</th>\n",
       "      <th id=\"T_8b097_level0_col5\" class=\"col_heading level0 col5\" >SMAPE</th>\n",
       "      <th id=\"T_8b097_level0_col6\" class=\"col_heading level0 col6\" >R2</th>\n",
       "    </tr>\n",
       "  </thead>\n",
       "  <tbody>\n",
       "    <tr>\n",
       "      <th id=\"T_8b097_level0_row0\" class=\"row_heading level0 row0\" >Test</th>\n",
       "      <td id=\"T_8b097_row0_col0\" class=\"data row0 col0\" >1.5374</td>\n",
       "      <td id=\"T_8b097_row0_col1\" class=\"data row0 col1\" >1.1212</td>\n",
       "      <td id=\"T_8b097_row0_col2\" class=\"data row0 col2\" >11.8672</td>\n",
       "      <td id=\"T_8b097_row0_col3\" class=\"data row0 col3\" >15.3929</td>\n",
       "      <td id=\"T_8b097_row0_col4\" class=\"data row0 col4\" >0.1438</td>\n",
       "      <td id=\"T_8b097_row0_col5\" class=\"data row0 col5\" >0.1458</td>\n",
       "      <td id=\"T_8b097_row0_col6\" class=\"data row0 col6\" >0.0329</td>\n",
       "    </tr>\n",
       "  </tbody>\n",
       "</table>\n"
      ],
      "text/plain": [
       "<pandas.io.formats.style.Styler at 0x35c942fa0>"
      ]
     },
     "metadata": {},
     "output_type": "display_data"
    },
    {
     "data": {
      "text/html": [],
      "text/plain": [
       "<IPython.core.display.HTML object>"
      ]
     },
     "metadata": {},
     "output_type": "display_data"
    },
    {
     "data": {
      "text/html": [],
      "text/plain": [
       "<IPython.core.display.HTML object>"
      ]
     },
     "metadata": {},
     "output_type": "display_data"
    },
    {
     "data": {
      "text/html": [
       "<style type=\"text/css\">\n",
       "</style>\n",
       "<table id=\"T_62bf6\">\n",
       "  <thead>\n",
       "    <tr>\n",
       "      <th class=\"blank level0\" >&nbsp;</th>\n",
       "      <th id=\"T_62bf6_level0_col0\" class=\"col_heading level0 col0\" >MASE</th>\n",
       "      <th id=\"T_62bf6_level0_col1\" class=\"col_heading level0 col1\" >RMSSE</th>\n",
       "      <th id=\"T_62bf6_level0_col2\" class=\"col_heading level0 col2\" >MAE</th>\n",
       "      <th id=\"T_62bf6_level0_col3\" class=\"col_heading level0 col3\" >RMSE</th>\n",
       "      <th id=\"T_62bf6_level0_col4\" class=\"col_heading level0 col4\" >MAPE</th>\n",
       "      <th id=\"T_62bf6_level0_col5\" class=\"col_heading level0 col5\" >SMAPE</th>\n",
       "      <th id=\"T_62bf6_level0_col6\" class=\"col_heading level0 col6\" >R2</th>\n",
       "    </tr>\n",
       "  </thead>\n",
       "  <tbody>\n",
       "    <tr>\n",
       "      <th id=\"T_62bf6_level0_row0\" class=\"row_heading level0 row0\" >Test</th>\n",
       "      <td id=\"T_62bf6_row0_col0\" class=\"data row0 col0\" >1.5294</td>\n",
       "      <td id=\"T_62bf6_row0_col1\" class=\"data row0 col1\" >1.1275</td>\n",
       "      <td id=\"T_62bf6_row0_col2\" class=\"data row0 col2\" >11.8055</td>\n",
       "      <td id=\"T_62bf6_row0_col3\" class=\"data row0 col3\" >15.4798</td>\n",
       "      <td id=\"T_62bf6_row0_col4\" class=\"data row0 col4\" >0.1419</td>\n",
       "      <td id=\"T_62bf6_row0_col5\" class=\"data row0 col5\" >0.1450</td>\n",
       "      <td id=\"T_62bf6_row0_col6\" class=\"data row0 col6\" >0.0219</td>\n",
       "    </tr>\n",
       "  </tbody>\n",
       "</table>\n"
      ],
      "text/plain": [
       "<pandas.io.formats.style.Styler at 0x358fd4130>"
      ]
     },
     "metadata": {},
     "output_type": "display_data"
    },
    {
     "data": {
      "text/html": [],
      "text/plain": [
       "<IPython.core.display.HTML object>"
      ]
     },
     "metadata": {},
     "output_type": "display_data"
    }
   ],
   "source": [
    "ses_LTC = exp_LTC.create_model('exp_smooth', trend=None, seasonal=None, sp= None, cross_validation=False )\n",
    "ht_LTC = exp_LTC.create_model('exp_smooth', trend='add', seasonal=None, cross_validation=False)\n",
    "hw_add_LTC = exp_LTC.create_model('exp_smooth', trend='add', seasonal='add', sp= 365, cross_validation=False)\n",
    "hw_mult_LTC = exp_LTC.create_model('exp_smooth', trend='add', seasonal='mul', sp=365, cross_validation=False)\n",
    "hw_damped_LTC = exp_LTC.create_model('exp_smooth', damped_trend='True' , trend='add', seasonal='mul', sp=365, cross_validation=False)\n",
    "ets_ANN_LTC = exp_LTC.create_model('ets', error=\"add\", trend=None, seasonal=None ,cross_validation=False )\n",
    "ets_AAN_LTC = exp_LTC.create_model('ets', error=\"add\", trend=\"add\", seasonal=None ,cross_validation=False ) \n",
    "ets_AAM_LTC = exp_LTC.create_model('ets', error=\"add\", trend=\"add\", seasonal=\"mul\" ,cross_validation=False )"
   ]
  },
  {
   "cell_type": "code",
   "execution_count": 80,
   "metadata": {},
   "outputs": [
    {
     "data": {
      "text/html": [],
      "text/plain": [
       "<IPython.core.display.HTML object>"
      ]
     },
     "metadata": {},
     "output_type": "display_data"
    },
    {
     "data": {
      "text/html": [
       "<style type=\"text/css\">\n",
       "#T_f78e3 th {\n",
       "  text-align: left;\n",
       "}\n",
       "#T_f78e3_row0_col0, #T_f78e3_row0_col2, #T_f78e3_row0_col4, #T_f78e3_row0_col7, #T_f78e3_row1_col0, #T_f78e3_row1_col2, #T_f78e3_row1_col4, #T_f78e3_row1_col7, #T_f78e3_row2_col0, #T_f78e3_row2_col1, #T_f78e3_row2_col2, #T_f78e3_row2_col3, #T_f78e3_row2_col4, #T_f78e3_row2_col5, #T_f78e3_row2_col6, #T_f78e3_row2_col7, #T_f78e3_row3_col0, #T_f78e3_row3_col1, #T_f78e3_row3_col2, #T_f78e3_row3_col3, #T_f78e3_row3_col4, #T_f78e3_row3_col5, #T_f78e3_row3_col6, #T_f78e3_row3_col7, #T_f78e3_row4_col0, #T_f78e3_row4_col1, #T_f78e3_row4_col2, #T_f78e3_row4_col3, #T_f78e3_row4_col4, #T_f78e3_row4_col5, #T_f78e3_row4_col6, #T_f78e3_row4_col7, #T_f78e3_row5_col0, #T_f78e3_row5_col1, #T_f78e3_row5_col3, #T_f78e3_row5_col5, #T_f78e3_row5_col6, #T_f78e3_row6_col0, #T_f78e3_row6_col1, #T_f78e3_row6_col2, #T_f78e3_row6_col3, #T_f78e3_row6_col4, #T_f78e3_row6_col5, #T_f78e3_row6_col6, #T_f78e3_row6_col7, #T_f78e3_row7_col0, #T_f78e3_row7_col1, #T_f78e3_row7_col2, #T_f78e3_row7_col3, #T_f78e3_row7_col4, #T_f78e3_row7_col5, #T_f78e3_row7_col6, #T_f78e3_row7_col7, #T_f78e3_row8_col0, #T_f78e3_row8_col1, #T_f78e3_row8_col2, #T_f78e3_row8_col3, #T_f78e3_row8_col4, #T_f78e3_row8_col5, #T_f78e3_row8_col6, #T_f78e3_row8_col7 {\n",
       "  text-align: left;\n",
       "}\n",
       "#T_f78e3_row0_col1, #T_f78e3_row0_col3, #T_f78e3_row0_col5, #T_f78e3_row0_col6, #T_f78e3_row1_col1, #T_f78e3_row1_col3, #T_f78e3_row1_col5, #T_f78e3_row1_col6, #T_f78e3_row5_col2, #T_f78e3_row5_col4, #T_f78e3_row5_col7 {\n",
       "  text-align: left;\n",
       "  background-color: yellow;\n",
       "}\n",
       "#T_f78e3_row0_col8, #T_f78e3_row1_col8 {\n",
       "  text-align: left;\n",
       "  background-color: yellow;\n",
       "  background-color: lightgrey;\n",
       "}\n",
       "#T_f78e3_row2_col8, #T_f78e3_row3_col8, #T_f78e3_row4_col8, #T_f78e3_row5_col8, #T_f78e3_row6_col8, #T_f78e3_row7_col8, #T_f78e3_row8_col8 {\n",
       "  text-align: left;\n",
       "  background-color: lightgrey;\n",
       "}\n",
       "</style>\n",
       "<table id=\"T_f78e3\">\n",
       "  <thead>\n",
       "    <tr>\n",
       "      <th class=\"blank level0\" >&nbsp;</th>\n",
       "      <th id=\"T_f78e3_level0_col0\" class=\"col_heading level0 col0\" >Model</th>\n",
       "      <th id=\"T_f78e3_level0_col1\" class=\"col_heading level0 col1\" >MASE</th>\n",
       "      <th id=\"T_f78e3_level0_col2\" class=\"col_heading level0 col2\" >RMSSE</th>\n",
       "      <th id=\"T_f78e3_level0_col3\" class=\"col_heading level0 col3\" >MAE</th>\n",
       "      <th id=\"T_f78e3_level0_col4\" class=\"col_heading level0 col4\" >RMSE</th>\n",
       "      <th id=\"T_f78e3_level0_col5\" class=\"col_heading level0 col5\" >MAPE</th>\n",
       "      <th id=\"T_f78e3_level0_col6\" class=\"col_heading level0 col6\" >SMAPE</th>\n",
       "      <th id=\"T_f78e3_level0_col7\" class=\"col_heading level0 col7\" >R2</th>\n",
       "      <th id=\"T_f78e3_level0_col8\" class=\"col_heading level0 col8\" >TT (Sec)</th>\n",
       "    </tr>\n",
       "  </thead>\n",
       "  <tbody>\n",
       "    <tr>\n",
       "      <th id=\"T_f78e3_level0_row0\" class=\"row_heading level0 row0\" >0</th>\n",
       "      <td id=\"T_f78e3_row0_col0\" class=\"data row0 col0\" >Exponential Smoothing</td>\n",
       "      <td id=\"T_f78e3_row0_col1\" class=\"data row0 col1\" >1.4970</td>\n",
       "      <td id=\"T_f78e3_row0_col2\" class=\"data row0 col2\" >1.2155</td>\n",
       "      <td id=\"T_f78e3_row0_col3\" class=\"data row0 col3\" >11.5556</td>\n",
       "      <td id=\"T_f78e3_row0_col4\" class=\"data row0 col4\" >16.6881</td>\n",
       "      <td id=\"T_f78e3_row0_col5\" class=\"data row0 col5\" >0.1313</td>\n",
       "      <td id=\"T_f78e3_row0_col6\" class=\"data row0 col6\" >0.1414</td>\n",
       "      <td id=\"T_f78e3_row0_col7\" class=\"data row0 col7\" >-0.1367</td>\n",
       "      <td id=\"T_f78e3_row0_col8\" class=\"data row0 col8\" >0.0100</td>\n",
       "    </tr>\n",
       "    <tr>\n",
       "      <th id=\"T_f78e3_level0_row1\" class=\"row_heading level0 row1\" >5</th>\n",
       "      <td id=\"T_f78e3_row1_col0\" class=\"data row1 col0\" >ETS</td>\n",
       "      <td id=\"T_f78e3_row1_col1\" class=\"data row1 col1\" >1.4970</td>\n",
       "      <td id=\"T_f78e3_row1_col2\" class=\"data row1 col2\" >1.2155</td>\n",
       "      <td id=\"T_f78e3_row1_col3\" class=\"data row1 col3\" >11.5556</td>\n",
       "      <td id=\"T_f78e3_row1_col4\" class=\"data row1 col4\" >16.6881</td>\n",
       "      <td id=\"T_f78e3_row1_col5\" class=\"data row1 col5\" >0.1313</td>\n",
       "      <td id=\"T_f78e3_row1_col6\" class=\"data row1 col6\" >0.1414</td>\n",
       "      <td id=\"T_f78e3_row1_col7\" class=\"data row1 col7\" >-0.1367</td>\n",
       "      <td id=\"T_f78e3_row1_col8\" class=\"data row1 col8\" >0.0100</td>\n",
       "    </tr>\n",
       "    <tr>\n",
       "      <th id=\"T_f78e3_level0_row2\" class=\"row_heading level0 row2\" >7</th>\n",
       "      <td id=\"T_f78e3_row2_col0\" class=\"data row2 col0\" >ETS</td>\n",
       "      <td id=\"T_f78e3_row2_col1\" class=\"data row2 col1\" >1.5294</td>\n",
       "      <td id=\"T_f78e3_row2_col2\" class=\"data row2 col2\" >1.1275</td>\n",
       "      <td id=\"T_f78e3_row2_col3\" class=\"data row2 col3\" >11.8055</td>\n",
       "      <td id=\"T_f78e3_row2_col4\" class=\"data row2 col4\" >15.4798</td>\n",
       "      <td id=\"T_f78e3_row2_col5\" class=\"data row2 col5\" >0.1419</td>\n",
       "      <td id=\"T_f78e3_row2_col6\" class=\"data row2 col6\" >0.1450</td>\n",
       "      <td id=\"T_f78e3_row2_col7\" class=\"data row2 col7\" >0.0219</td>\n",
       "      <td id=\"T_f78e3_row2_col8\" class=\"data row2 col8\" >0.0700</td>\n",
       "    </tr>\n",
       "    <tr>\n",
       "      <th id=\"T_f78e3_level0_row3\" class=\"row_heading level0 row3\" >8</th>\n",
       "      <td id=\"T_f78e3_row3_col0\" class=\"data row3 col0\" >ETS</td>\n",
       "      <td id=\"T_f78e3_row3_col1\" class=\"data row3 col1\" >1.5294</td>\n",
       "      <td id=\"T_f78e3_row3_col2\" class=\"data row3 col2\" >1.1275</td>\n",
       "      <td id=\"T_f78e3_row3_col3\" class=\"data row3 col3\" >11.8055</td>\n",
       "      <td id=\"T_f78e3_row3_col4\" class=\"data row3 col4\" >15.4798</td>\n",
       "      <td id=\"T_f78e3_row3_col5\" class=\"data row3 col5\" >0.1419</td>\n",
       "      <td id=\"T_f78e3_row3_col6\" class=\"data row3 col6\" >0.1450</td>\n",
       "      <td id=\"T_f78e3_row3_col7\" class=\"data row3 col7\" >0.0219</td>\n",
       "      <td id=\"T_f78e3_row3_col8\" class=\"data row3 col8\" >0.0800</td>\n",
       "    </tr>\n",
       "    <tr>\n",
       "      <th id=\"T_f78e3_level0_row4\" class=\"row_heading level0 row4\" >1</th>\n",
       "      <td id=\"T_f78e3_row4_col0\" class=\"data row4 col0\" >Exponential Smoothing</td>\n",
       "      <td id=\"T_f78e3_row4_col1\" class=\"data row4 col1\" >1.5361</td>\n",
       "      <td id=\"T_f78e3_row4_col2\" class=\"data row4 col2\" >1.1222</td>\n",
       "      <td id=\"T_f78e3_row4_col3\" class=\"data row4 col3\" >11.8568</td>\n",
       "      <td id=\"T_f78e3_row4_col4\" class=\"data row4 col4\" >15.4066</td>\n",
       "      <td id=\"T_f78e3_row4_col5\" class=\"data row4 col5\" >0.1435</td>\n",
       "      <td id=\"T_f78e3_row4_col6\" class=\"data row4 col6\" >0.1457</td>\n",
       "      <td id=\"T_f78e3_row4_col7\" class=\"data row4 col7\" >0.0312</td>\n",
       "      <td id=\"T_f78e3_row4_col8\" class=\"data row4 col8\" >0.0300</td>\n",
       "    </tr>\n",
       "    <tr>\n",
       "      <th id=\"T_f78e3_level0_row5\" class=\"row_heading level0 row5\" >6</th>\n",
       "      <td id=\"T_f78e3_row5_col0\" class=\"data row5 col0\" >ETS</td>\n",
       "      <td id=\"T_f78e3_row5_col1\" class=\"data row5 col1\" >1.5374</td>\n",
       "      <td id=\"T_f78e3_row5_col2\" class=\"data row5 col2\" >1.1212</td>\n",
       "      <td id=\"T_f78e3_row5_col3\" class=\"data row5 col3\" >11.8672</td>\n",
       "      <td id=\"T_f78e3_row5_col4\" class=\"data row5 col4\" >15.3929</td>\n",
       "      <td id=\"T_f78e3_row5_col5\" class=\"data row5 col5\" >0.1438</td>\n",
       "      <td id=\"T_f78e3_row5_col6\" class=\"data row5 col6\" >0.1458</td>\n",
       "      <td id=\"T_f78e3_row5_col7\" class=\"data row5 col7\" >0.0329</td>\n",
       "      <td id=\"T_f78e3_row5_col8\" class=\"data row5 col8\" >0.0200</td>\n",
       "    </tr>\n",
       "    <tr>\n",
       "      <th id=\"T_f78e3_level0_row6\" class=\"row_heading level0 row6\" >4</th>\n",
       "      <td id=\"T_f78e3_row6_col0\" class=\"data row6 col0\" >Exponential Smoothing</td>\n",
       "      <td id=\"T_f78e3_row6_col1\" class=\"data row6 col1\" >1.8068</td>\n",
       "      <td id=\"T_f78e3_row6_col2\" class=\"data row6 col2\" >1.4563</td>\n",
       "      <td id=\"T_f78e3_row6_col3\" class=\"data row6 col3\" >13.9468</td>\n",
       "      <td id=\"T_f78e3_row6_col4\" class=\"data row6 col4\" >19.9936</td>\n",
       "      <td id=\"T_f78e3_row6_col5\" class=\"data row6 col5\" >0.1653</td>\n",
       "      <td id=\"T_f78e3_row6_col6\" class=\"data row6 col6\" >0.1656</td>\n",
       "      <td id=\"T_f78e3_row6_col7\" class=\"data row6 col7\" >-0.6316</td>\n",
       "      <td id=\"T_f78e3_row6_col8\" class=\"data row6 col8\" >10.0000</td>\n",
       "    </tr>\n",
       "    <tr>\n",
       "      <th id=\"T_f78e3_level0_row7\" class=\"row_heading level0 row7\" >3</th>\n",
       "      <td id=\"T_f78e3_row7_col0\" class=\"data row7 col0\" >Exponential Smoothing</td>\n",
       "      <td id=\"T_f78e3_row7_col1\" class=\"data row7 col1\" >2.0394</td>\n",
       "      <td id=\"T_f78e3_row7_col2\" class=\"data row7 col2\" >1.6275</td>\n",
       "      <td id=\"T_f78e3_row7_col3\" class=\"data row7 col3\" >15.7421</td>\n",
       "      <td id=\"T_f78e3_row7_col4\" class=\"data row7 col4\" >22.3440</td>\n",
       "      <td id=\"T_f78e3_row7_col5\" class=\"data row7 col5\" >0.1832</td>\n",
       "      <td id=\"T_f78e3_row7_col6\" class=\"data row7 col6\" >0.1980</td>\n",
       "      <td id=\"T_f78e3_row7_col7\" class=\"data row7 col7\" >-1.0378</td>\n",
       "      <td id=\"T_f78e3_row7_col8\" class=\"data row7 col8\" >9.8900</td>\n",
       "    </tr>\n",
       "    <tr>\n",
       "      <th id=\"T_f78e3_level0_row8\" class=\"row_heading level0 row8\" >2</th>\n",
       "      <td id=\"T_f78e3_row8_col0\" class=\"data row8 col0\" >Exponential Smoothing</td>\n",
       "      <td id=\"T_f78e3_row8_col1\" class=\"data row8 col1\" >2.0459</td>\n",
       "      <td id=\"T_f78e3_row8_col2\" class=\"data row8 col2\" >1.4644</td>\n",
       "      <td id=\"T_f78e3_row8_col3\" class=\"data row8 col3\" >15.7922</td>\n",
       "      <td id=\"T_f78e3_row8_col4\" class=\"data row8 col4\" >20.1054</td>\n",
       "      <td id=\"T_f78e3_row8_col5\" class=\"data row8 col5\" >0.1918</td>\n",
       "      <td id=\"T_f78e3_row8_col6\" class=\"data row8 col6\" >0.2036</td>\n",
       "      <td id=\"T_f78e3_row8_col7\" class=\"data row8 col7\" >-0.6499</td>\n",
       "      <td id=\"T_f78e3_row8_col8\" class=\"data row8 col8\" >4.2100</td>\n",
       "    </tr>\n",
       "  </tbody>\n",
       "</table>\n"
      ],
      "text/plain": [
       "<pandas.io.formats.style.Styler at 0x352dd5a60>"
      ]
     },
     "metadata": {},
     "output_type": "display_data"
    },
    {
     "data": {
      "text/html": [],
      "text/plain": [
       "<IPython.core.display.HTML object>"
      ]
     },
     "metadata": {},
     "output_type": "display_data"
    },
    {
     "data": {
      "text/html": [
       "<style>#sk-75e8a1cd-469a-4294-9d62-f2074185b082 {color: black;background-color: white;}#sk-75e8a1cd-469a-4294-9d62-f2074185b082 pre{padding: 0;}#sk-75e8a1cd-469a-4294-9d62-f2074185b082 div.sk-toggleable {background-color: white;}#sk-75e8a1cd-469a-4294-9d62-f2074185b082 label.sk-toggleable__label {cursor: pointer;display: block;width: 100%;margin-bottom: 0;padding: 0.3em;box-sizing: border-box;text-align: center;}#sk-75e8a1cd-469a-4294-9d62-f2074185b082 label.sk-toggleable__label-arrow:before {content: \"▸\";float: left;margin-right: 0.25em;color: #696969;}#sk-75e8a1cd-469a-4294-9d62-f2074185b082 label.sk-toggleable__label-arrow:hover:before {color: black;}#sk-75e8a1cd-469a-4294-9d62-f2074185b082 div.sk-estimator:hover label.sk-toggleable__label-arrow:before {color: black;}#sk-75e8a1cd-469a-4294-9d62-f2074185b082 div.sk-toggleable__content {max-height: 0;max-width: 0;overflow: hidden;text-align: left;background-color: #f0f8ff;}#sk-75e8a1cd-469a-4294-9d62-f2074185b082 div.sk-toggleable__content pre {margin: 0.2em;color: black;border-radius: 0.25em;background-color: #f0f8ff;}#sk-75e8a1cd-469a-4294-9d62-f2074185b082 input.sk-toggleable__control:checked~div.sk-toggleable__content {max-height: 200px;max-width: 100%;overflow: auto;}#sk-75e8a1cd-469a-4294-9d62-f2074185b082 input.sk-toggleable__control:checked~label.sk-toggleable__label-arrow:before {content: \"▾\";}#sk-75e8a1cd-469a-4294-9d62-f2074185b082 div.sk-estimator input.sk-toggleable__control:checked~label.sk-toggleable__label {background-color: #d4ebff;}#sk-75e8a1cd-469a-4294-9d62-f2074185b082 div.sk-label input.sk-toggleable__control:checked~label.sk-toggleable__label {background-color: #d4ebff;}#sk-75e8a1cd-469a-4294-9d62-f2074185b082 input.sk-hidden--visually {border: 0;clip: rect(1px 1px 1px 1px);clip: rect(1px, 1px, 1px, 1px);height: 1px;margin: -1px;overflow: hidden;padding: 0;position: absolute;width: 1px;}#sk-75e8a1cd-469a-4294-9d62-f2074185b082 div.sk-estimator {font-family: monospace;background-color: #f0f8ff;border: 1px dotted black;border-radius: 0.25em;box-sizing: border-box;margin-bottom: 0.5em;}#sk-75e8a1cd-469a-4294-9d62-f2074185b082 div.sk-estimator:hover {background-color: #d4ebff;}#sk-75e8a1cd-469a-4294-9d62-f2074185b082 div.sk-parallel-item::after {content: \"\";width: 100%;border-bottom: 1px solid gray;flex-grow: 1;}#sk-75e8a1cd-469a-4294-9d62-f2074185b082 div.sk-label:hover label.sk-toggleable__label {background-color: #d4ebff;}#sk-75e8a1cd-469a-4294-9d62-f2074185b082 div.sk-serial::before {content: \"\";position: absolute;border-left: 1px solid gray;box-sizing: border-box;top: 2em;bottom: 0;left: 50%;}#sk-75e8a1cd-469a-4294-9d62-f2074185b082 div.sk-serial {display: flex;flex-direction: column;align-items: center;background-color: white;padding-right: 0.2em;padding-left: 0.2em;}#sk-75e8a1cd-469a-4294-9d62-f2074185b082 div.sk-item {z-index: 1;}#sk-75e8a1cd-469a-4294-9d62-f2074185b082 div.sk-parallel {display: flex;align-items: stretch;justify-content: center;background-color: white;}#sk-75e8a1cd-469a-4294-9d62-f2074185b082 div.sk-parallel::before {content: \"\";position: absolute;border-left: 1px solid gray;box-sizing: border-box;top: 2em;bottom: 0;left: 50%;}#sk-75e8a1cd-469a-4294-9d62-f2074185b082 div.sk-parallel-item {display: flex;flex-direction: column;position: relative;background-color: white;}#sk-75e8a1cd-469a-4294-9d62-f2074185b082 div.sk-parallel-item:first-child::after {align-self: flex-end;width: 50%;}#sk-75e8a1cd-469a-4294-9d62-f2074185b082 div.sk-parallel-item:last-child::after {align-self: flex-start;width: 50%;}#sk-75e8a1cd-469a-4294-9d62-f2074185b082 div.sk-parallel-item:only-child::after {width: 0;}#sk-75e8a1cd-469a-4294-9d62-f2074185b082 div.sk-dashed-wrapped {border: 1px dashed gray;margin: 0 0.4em 0.5em 0.4em;box-sizing: border-box;padding-bottom: 0.4em;background-color: white;position: relative;}#sk-75e8a1cd-469a-4294-9d62-f2074185b082 div.sk-label label {font-family: monospace;font-weight: bold;background-color: white;display: inline-block;line-height: 1.2em;}#sk-75e8a1cd-469a-4294-9d62-f2074185b082 div.sk-label-container {position: relative;z-index: 2;text-align: center;}#sk-75e8a1cd-469a-4294-9d62-f2074185b082 div.sk-container {/* jupyter's `normalize.less` sets `[hidden] { display: none; }` but bootstrap.min.css set `[hidden] { display: none !important; }` so we also need the `!important` here to be able to override the default hidden behavior on the sphinx rendered scikit-learn.org. See: https://github.com/scikit-learn/scikit-learn/issues/21755 */display: inline-block !important;position: relative;}#sk-75e8a1cd-469a-4294-9d62-f2074185b082 div.sk-text-repr-fallback {display: none;}</style><div id='sk-75e8a1cd-469a-4294-9d62-f2074185b082' class=\"sk-top-container\"><div class=\"sk-text-repr-fallback\"><pre>ExponentialSmoothing()</pre><b>Please rerun this cell to show the HTML repr or trust the notebook.</b></div><div class=\"sk-container\" hidden><div class='sk-item'><div class=\"sk-estimator sk-toggleable\"><input class=\"sk-toggleable__control sk-hidden--visually\" id=UUID('c5f9727e-437f-4769-8854-d7166fb04f02') type=\"checkbox\" checked><label for=UUID('c5f9727e-437f-4769-8854-d7166fb04f02') class='sk-toggleable__label sk-toggleable__label-arrow'>ExponentialSmoothing</label><div class=\"sk-toggleable__content\"><pre>ExponentialSmoothing()</pre></div></div></div></div></div>"
      ],
      "text/plain": [
       "ExponentialSmoothing()"
      ]
     },
     "execution_count": 80,
     "metadata": {},
     "output_type": "execute_result"
    }
   ],
   "source": [
    "exp_LTC.compare_models(include=[ ses_LTC, ht_LTC, hw_add_LTC, hw_mult_LTC, hw_damped_LTC, ets_ANN_LTC, ets_AAN_LTC, ets_AAM_LTC,  'ets'], cross_validation=False)"
   ]
  },
  {
   "cell_type": "code",
   "execution_count": 81,
   "metadata": {},
   "outputs": [
    {
     "data": {
      "text/html": [],
      "text/plain": [
       "<IPython.core.display.HTML object>"
      ]
     },
     "metadata": {},
     "output_type": "display_data"
    },
    {
     "data": {
      "text/html": [
       "<style type=\"text/css\">\n",
       "</style>\n",
       "<table id=\"T_cf553\">\n",
       "  <thead>\n",
       "    <tr>\n",
       "      <th class=\"blank level0\" >&nbsp;</th>\n",
       "      <th id=\"T_cf553_level0_col0\" class=\"col_heading level0 col0\" >MASE</th>\n",
       "      <th id=\"T_cf553_level0_col1\" class=\"col_heading level0 col1\" >RMSSE</th>\n",
       "      <th id=\"T_cf553_level0_col2\" class=\"col_heading level0 col2\" >MAE</th>\n",
       "      <th id=\"T_cf553_level0_col3\" class=\"col_heading level0 col3\" >RMSE</th>\n",
       "      <th id=\"T_cf553_level0_col4\" class=\"col_heading level0 col4\" >MAPE</th>\n",
       "      <th id=\"T_cf553_level0_col5\" class=\"col_heading level0 col5\" >SMAPE</th>\n",
       "      <th id=\"T_cf553_level0_col6\" class=\"col_heading level0 col6\" >R2</th>\n",
       "    </tr>\n",
       "  </thead>\n",
       "  <tbody>\n",
       "    <tr>\n",
       "      <th id=\"T_cf553_level0_row0\" class=\"row_heading level0 row0\" >Test</th>\n",
       "      <td id=\"T_cf553_row0_col0\" class=\"data row0 col0\" >1.5294</td>\n",
       "      <td id=\"T_cf553_row0_col1\" class=\"data row0 col1\" >1.1275</td>\n",
       "      <td id=\"T_cf553_row0_col2\" class=\"data row0 col2\" >11.8055</td>\n",
       "      <td id=\"T_cf553_row0_col3\" class=\"data row0 col3\" >15.4798</td>\n",
       "      <td id=\"T_cf553_row0_col4\" class=\"data row0 col4\" >0.1419</td>\n",
       "      <td id=\"T_cf553_row0_col5\" class=\"data row0 col5\" >0.1450</td>\n",
       "      <td id=\"T_cf553_row0_col6\" class=\"data row0 col6\" >0.0219</td>\n",
       "    </tr>\n",
       "  </tbody>\n",
       "</table>\n"
      ],
      "text/plain": [
       "<pandas.io.formats.style.Styler at 0x3520f2ac0>"
      ]
     },
     "metadata": {},
     "output_type": "display_data"
    },
    {
     "data": {
      "text/html": [],
      "text/plain": [
       "<IPython.core.display.HTML object>"
      ]
     },
     "metadata": {},
     "output_type": "display_data"
    },
    {
     "data": {
      "text/html": [],
      "text/plain": [
       "<IPython.core.display.HTML object>"
      ]
     },
     "metadata": {},
     "output_type": "display_data"
    },
    {
     "data": {
      "text/html": [
       "<style type=\"text/css\">\n",
       "#T_efdeb_row3_col0, #T_efdeb_row3_col1, #T_efdeb_row3_col2, #T_efdeb_row3_col3, #T_efdeb_row3_col4, #T_efdeb_row3_col5, #T_efdeb_row3_col6, #T_efdeb_row3_col7 {\n",
       "  background: yellow;\n",
       "}\n",
       "</style>\n",
       "<table id=\"T_efdeb\">\n",
       "  <thead>\n",
       "    <tr>\n",
       "      <th class=\"blank level0\" >&nbsp;</th>\n",
       "      <th id=\"T_efdeb_level0_col0\" class=\"col_heading level0 col0\" >cutoff</th>\n",
       "      <th id=\"T_efdeb_level0_col1\" class=\"col_heading level0 col1\" >MASE</th>\n",
       "      <th id=\"T_efdeb_level0_col2\" class=\"col_heading level0 col2\" >RMSSE</th>\n",
       "      <th id=\"T_efdeb_level0_col3\" class=\"col_heading level0 col3\" >MAE</th>\n",
       "      <th id=\"T_efdeb_level0_col4\" class=\"col_heading level0 col4\" >RMSE</th>\n",
       "      <th id=\"T_efdeb_level0_col5\" class=\"col_heading level0 col5\" >MAPE</th>\n",
       "      <th id=\"T_efdeb_level0_col6\" class=\"col_heading level0 col6\" >SMAPE</th>\n",
       "      <th id=\"T_efdeb_level0_col7\" class=\"col_heading level0 col7\" >R2</th>\n",
       "    </tr>\n",
       "  </thead>\n",
       "  <tbody>\n",
       "    <tr>\n",
       "      <th id=\"T_efdeb_level0_row0\" class=\"row_heading level0 row0\" >0</th>\n",
       "      <td id=\"T_efdeb_row0_col0\" class=\"data row0 col0\" >PeriodIndex(['2021-01-02'], dtype='period[D]', name='Date')</td>\n",
       "      <td id=\"T_efdeb_row0_col1\" class=\"data row0 col1\" >11.7075</td>\n",
       "      <td id=\"T_efdeb_row0_col2\" class=\"data row0 col2\" >10.2435</td>\n",
       "      <td id=\"T_efdeb_row0_col3\" class=\"data row0 col3\" >50.5974</td>\n",
       "      <td id=\"T_efdeb_row0_col4\" class=\"data row0 col4\" >68.4076</td>\n",
       "      <td id=\"T_efdeb_row0_col5\" class=\"data row0 col5\" >0.2353</td>\n",
       "      <td id=\"T_efdeb_row0_col6\" class=\"data row0 col6\" >0.2831</td>\n",
       "      <td id=\"T_efdeb_row0_col7\" class=\"data row0 col7\" >-1.0277</td>\n",
       "    </tr>\n",
       "    <tr>\n",
       "      <th id=\"T_efdeb_level0_row1\" class=\"row_heading level0 row1\" >1</th>\n",
       "      <td id=\"T_efdeb_row1_col0\" class=\"data row1 col0\" >PeriodIndex(['2022-01-02'], dtype='period[D]', name='Date')</td>\n",
       "      <td id=\"T_efdeb_row1_col1\" class=\"data row1 col1\" >6.6964</td>\n",
       "      <td id=\"T_efdeb_row1_col2\" class=\"data row1 col2\" >4.2665</td>\n",
       "      <td id=\"T_efdeb_row1_col3\" class=\"data row1 col3\" >72.3603</td>\n",
       "      <td id=\"T_efdeb_row1_col4\" class=\"data row1 col4\" >77.7929</td>\n",
       "      <td id=\"T_efdeb_row1_col5\" class=\"data row1 col5\" >1.1362</td>\n",
       "      <td id=\"T_efdeb_row1_col6\" class=\"data row1 col6\" >0.6619</td>\n",
       "      <td id=\"T_efdeb_row1_col7\" class=\"data row1 col7\" >-6.4212</td>\n",
       "    </tr>\n",
       "    <tr>\n",
       "      <th id=\"T_efdeb_level0_row2\" class=\"row_heading level0 row2\" >2</th>\n",
       "      <td id=\"T_efdeb_row2_col0\" class=\"data row2 col0\" >PeriodIndex(['2023-01-02'], dtype='period[D]', name='Date')</td>\n",
       "      <td id=\"T_efdeb_row2_col1\" class=\"data row2 col1\" >1.2892</td>\n",
       "      <td id=\"T_efdeb_row2_col2\" class=\"data row2 col2\" >0.8745</td>\n",
       "      <td id=\"T_efdeb_row2_col3\" class=\"data row2 col3\" >11.5749</td>\n",
       "      <td id=\"T_efdeb_row2_col4\" class=\"data row2 col4\" >13.5717</td>\n",
       "      <td id=\"T_efdeb_row2_col5\" class=\"data row2 col5\" >0.1373</td>\n",
       "      <td id=\"T_efdeb_row2_col6\" class=\"data row2 col6\" >0.1444</td>\n",
       "      <td id=\"T_efdeb_row2_col7\" class=\"data row2 col7\" >-0.2677</td>\n",
       "    </tr>\n",
       "    <tr>\n",
       "      <th id=\"T_efdeb_level0_row3\" class=\"row_heading level0 row3\" >Mean</th>\n",
       "      <td id=\"T_efdeb_row3_col0\" class=\"data row3 col0\" >nan</td>\n",
       "      <td id=\"T_efdeb_row3_col1\" class=\"data row3 col1\" >6.5643</td>\n",
       "      <td id=\"T_efdeb_row3_col2\" class=\"data row3 col2\" >5.1282</td>\n",
       "      <td id=\"T_efdeb_row3_col3\" class=\"data row3 col3\" >44.8442</td>\n",
       "      <td id=\"T_efdeb_row3_col4\" class=\"data row3 col4\" >53.2574</td>\n",
       "      <td id=\"T_efdeb_row3_col5\" class=\"data row3 col5\" >0.5030</td>\n",
       "      <td id=\"T_efdeb_row3_col6\" class=\"data row3 col6\" >0.3632</td>\n",
       "      <td id=\"T_efdeb_row3_col7\" class=\"data row3 col7\" >-2.5722</td>\n",
       "    </tr>\n",
       "    <tr>\n",
       "      <th id=\"T_efdeb_level0_row4\" class=\"row_heading level0 row4\" >SD</th>\n",
       "      <td id=\"T_efdeb_row4_col0\" class=\"data row4 col0\" >nan</td>\n",
       "      <td id=\"T_efdeb_row4_col1\" class=\"data row4 col1\" >4.2543</td>\n",
       "      <td id=\"T_efdeb_row4_col2\" class=\"data row4 col2\" >3.8731</td>\n",
       "      <td id=\"T_efdeb_row4_col3\" class=\"data row4 col3\" >25.1468</td>\n",
       "      <td id=\"T_efdeb_row4_col4\" class=\"data row4 col4\" >28.3224</td>\n",
       "      <td id=\"T_efdeb_row4_col5\" class=\"data row4 col5\" >0.4496</td>\n",
       "      <td id=\"T_efdeb_row4_col6\" class=\"data row4 col6\" >0.2187</td>\n",
       "      <td id=\"T_efdeb_row4_col7\" class=\"data row4 col7\" >2.7393</td>\n",
       "    </tr>\n",
       "  </tbody>\n",
       "</table>\n"
      ],
      "text/plain": [
       "<pandas.io.formats.style.Styler at 0x31d9f0fd0>"
      ]
     },
     "metadata": {},
     "output_type": "display_data"
    },
    {
     "data": {
      "text/html": [],
      "text/plain": [
       "<IPython.core.display.HTML object>"
      ]
     },
     "metadata": {},
     "output_type": "display_data"
    },
    {
     "name": "stdout",
     "output_type": "stream",
     "text": [
      "Fitting 3 folds for each of 10 candidates, totalling 30 fits\n"
     ]
    },
    {
     "name": "stderr",
     "output_type": "stream",
     "text": [
      "[Parallel(n_jobs=-1)]: Using backend LokyBackend with 8 concurrent workers.\n",
      "[Parallel(n_jobs=-1)]: Done  30 out of  30 | elapsed:    7.5s finished\n"
     ]
    }
   ],
   "source": [
    "ets_auto_LTC = exp_LTC.create_model('ets', cross_validation=False)  # Auto ETS selection\n",
    "tuned_ets_auto_LTC = exp_LTC.tune_model(ets_auto_LTC)"
   ]
  },
  {
   "cell_type": "code",
   "execution_count": 82,
   "metadata": {},
   "outputs": [
    {
     "data": {
      "text/html": [],
      "text/plain": [
       "<IPython.core.display.HTML object>"
      ]
     },
     "metadata": {},
     "output_type": "display_data"
    },
    {
     "data": {
      "text/html": [
       "<style type=\"text/css\">\n",
       "#T_e750a th {\n",
       "  text-align: left;\n",
       "}\n",
       "#T_e750a_row0_col0, #T_e750a_row0_col5, #T_e750a_row1_col0, #T_e750a_row1_col1, #T_e750a_row1_col2, #T_e750a_row1_col3, #T_e750a_row1_col4, #T_e750a_row1_col7 {\n",
       "  text-align: left;\n",
       "}\n",
       "#T_e750a_row0_col1, #T_e750a_row0_col2, #T_e750a_row0_col3, #T_e750a_row0_col4, #T_e750a_row0_col6, #T_e750a_row0_col7, #T_e750a_row1_col5, #T_e750a_row1_col6 {\n",
       "  text-align: left;\n",
       "  background-color: yellow;\n",
       "}\n",
       "#T_e750a_row0_col8 {\n",
       "  text-align: left;\n",
       "  background-color: yellow;\n",
       "  background-color: lightgrey;\n",
       "}\n",
       "#T_e750a_row1_col8 {\n",
       "  text-align: left;\n",
       "  background-color: lightgrey;\n",
       "}\n",
       "</style>\n",
       "<table id=\"T_e750a\">\n",
       "  <thead>\n",
       "    <tr>\n",
       "      <th class=\"blank level0\" >&nbsp;</th>\n",
       "      <th id=\"T_e750a_level0_col0\" class=\"col_heading level0 col0\" >Model</th>\n",
       "      <th id=\"T_e750a_level0_col1\" class=\"col_heading level0 col1\" >MASE</th>\n",
       "      <th id=\"T_e750a_level0_col2\" class=\"col_heading level0 col2\" >RMSSE</th>\n",
       "      <th id=\"T_e750a_level0_col3\" class=\"col_heading level0 col3\" >MAE</th>\n",
       "      <th id=\"T_e750a_level0_col4\" class=\"col_heading level0 col4\" >RMSE</th>\n",
       "      <th id=\"T_e750a_level0_col5\" class=\"col_heading level0 col5\" >MAPE</th>\n",
       "      <th id=\"T_e750a_level0_col6\" class=\"col_heading level0 col6\" >SMAPE</th>\n",
       "      <th id=\"T_e750a_level0_col7\" class=\"col_heading level0 col7\" >R2</th>\n",
       "      <th id=\"T_e750a_level0_col8\" class=\"col_heading level0 col8\" >TT (Sec)</th>\n",
       "    </tr>\n",
       "  </thead>\n",
       "  <tbody>\n",
       "    <tr>\n",
       "      <th id=\"T_e750a_level0_row0\" class=\"row_heading level0 row0\" >0</th>\n",
       "      <td id=\"T_e750a_row0_col0\" class=\"data row0 col0\" >Exponential Smoothing</td>\n",
       "      <td id=\"T_e750a_row0_col1\" class=\"data row0 col1\" >1.4970</td>\n",
       "      <td id=\"T_e750a_row0_col2\" class=\"data row0 col2\" >1.2155</td>\n",
       "      <td id=\"T_e750a_row0_col3\" class=\"data row0 col3\" >11.5556</td>\n",
       "      <td id=\"T_e750a_row0_col4\" class=\"data row0 col4\" >16.6881</td>\n",
       "      <td id=\"T_e750a_row0_col5\" class=\"data row0 col5\" >0.1313</td>\n",
       "      <td id=\"T_e750a_row0_col6\" class=\"data row0 col6\" >0.1414</td>\n",
       "      <td id=\"T_e750a_row0_col7\" class=\"data row0 col7\" >-0.1367</td>\n",
       "      <td id=\"T_e750a_row0_col8\" class=\"data row0 col8\" >0.0100</td>\n",
       "    </tr>\n",
       "    <tr>\n",
       "      <th id=\"T_e750a_level0_row1\" class=\"row_heading level0 row1\" >1</th>\n",
       "      <td id=\"T_e750a_row1_col0\" class=\"data row1 col0\" >ETS</td>\n",
       "      <td id=\"T_e750a_row1_col1\" class=\"data row1 col1\" >1.4977</td>\n",
       "      <td id=\"T_e750a_row1_col2\" class=\"data row1 col2\" >1.2242</td>\n",
       "      <td id=\"T_e750a_row1_col3\" class=\"data row1 col3\" >11.5605</td>\n",
       "      <td id=\"T_e750a_row1_col4\" class=\"data row1 col4\" >16.8071</td>\n",
       "      <td id=\"T_e750a_row1_col5\" class=\"data row1 col5\" >0.1307</td>\n",
       "      <td id=\"T_e750a_row1_col6\" class=\"data row1 col6\" >0.1414</td>\n",
       "      <td id=\"T_e750a_row1_col7\" class=\"data row1 col7\" >-0.1530</td>\n",
       "      <td id=\"T_e750a_row1_col8\" class=\"data row1 col8\" >0.0400</td>\n",
       "    </tr>\n",
       "  </tbody>\n",
       "</table>\n"
      ],
      "text/plain": [
       "<pandas.io.formats.style.Styler at 0x3584cb7f0>"
      ]
     },
     "metadata": {},
     "output_type": "display_data"
    },
    {
     "data": {
      "text/html": [],
      "text/plain": [
       "<IPython.core.display.HTML object>"
      ]
     },
     "metadata": {},
     "output_type": "display_data"
    },
    {
     "data": {
      "text/html": [
       "<style>#sk-7728975d-4249-454a-ad29-623f19417427 {color: black;background-color: white;}#sk-7728975d-4249-454a-ad29-623f19417427 pre{padding: 0;}#sk-7728975d-4249-454a-ad29-623f19417427 div.sk-toggleable {background-color: white;}#sk-7728975d-4249-454a-ad29-623f19417427 label.sk-toggleable__label {cursor: pointer;display: block;width: 100%;margin-bottom: 0;padding: 0.3em;box-sizing: border-box;text-align: center;}#sk-7728975d-4249-454a-ad29-623f19417427 label.sk-toggleable__label-arrow:before {content: \"▸\";float: left;margin-right: 0.25em;color: #696969;}#sk-7728975d-4249-454a-ad29-623f19417427 label.sk-toggleable__label-arrow:hover:before {color: black;}#sk-7728975d-4249-454a-ad29-623f19417427 div.sk-estimator:hover label.sk-toggleable__label-arrow:before {color: black;}#sk-7728975d-4249-454a-ad29-623f19417427 div.sk-toggleable__content {max-height: 0;max-width: 0;overflow: hidden;text-align: left;background-color: #f0f8ff;}#sk-7728975d-4249-454a-ad29-623f19417427 div.sk-toggleable__content pre {margin: 0.2em;color: black;border-radius: 0.25em;background-color: #f0f8ff;}#sk-7728975d-4249-454a-ad29-623f19417427 input.sk-toggleable__control:checked~div.sk-toggleable__content {max-height: 200px;max-width: 100%;overflow: auto;}#sk-7728975d-4249-454a-ad29-623f19417427 input.sk-toggleable__control:checked~label.sk-toggleable__label-arrow:before {content: \"▾\";}#sk-7728975d-4249-454a-ad29-623f19417427 div.sk-estimator input.sk-toggleable__control:checked~label.sk-toggleable__label {background-color: #d4ebff;}#sk-7728975d-4249-454a-ad29-623f19417427 div.sk-label input.sk-toggleable__control:checked~label.sk-toggleable__label {background-color: #d4ebff;}#sk-7728975d-4249-454a-ad29-623f19417427 input.sk-hidden--visually {border: 0;clip: rect(1px 1px 1px 1px);clip: rect(1px, 1px, 1px, 1px);height: 1px;margin: -1px;overflow: hidden;padding: 0;position: absolute;width: 1px;}#sk-7728975d-4249-454a-ad29-623f19417427 div.sk-estimator {font-family: monospace;background-color: #f0f8ff;border: 1px dotted black;border-radius: 0.25em;box-sizing: border-box;margin-bottom: 0.5em;}#sk-7728975d-4249-454a-ad29-623f19417427 div.sk-estimator:hover {background-color: #d4ebff;}#sk-7728975d-4249-454a-ad29-623f19417427 div.sk-parallel-item::after {content: \"\";width: 100%;border-bottom: 1px solid gray;flex-grow: 1;}#sk-7728975d-4249-454a-ad29-623f19417427 div.sk-label:hover label.sk-toggleable__label {background-color: #d4ebff;}#sk-7728975d-4249-454a-ad29-623f19417427 div.sk-serial::before {content: \"\";position: absolute;border-left: 1px solid gray;box-sizing: border-box;top: 2em;bottom: 0;left: 50%;}#sk-7728975d-4249-454a-ad29-623f19417427 div.sk-serial {display: flex;flex-direction: column;align-items: center;background-color: white;padding-right: 0.2em;padding-left: 0.2em;}#sk-7728975d-4249-454a-ad29-623f19417427 div.sk-item {z-index: 1;}#sk-7728975d-4249-454a-ad29-623f19417427 div.sk-parallel {display: flex;align-items: stretch;justify-content: center;background-color: white;}#sk-7728975d-4249-454a-ad29-623f19417427 div.sk-parallel::before {content: \"\";position: absolute;border-left: 1px solid gray;box-sizing: border-box;top: 2em;bottom: 0;left: 50%;}#sk-7728975d-4249-454a-ad29-623f19417427 div.sk-parallel-item {display: flex;flex-direction: column;position: relative;background-color: white;}#sk-7728975d-4249-454a-ad29-623f19417427 div.sk-parallel-item:first-child::after {align-self: flex-end;width: 50%;}#sk-7728975d-4249-454a-ad29-623f19417427 div.sk-parallel-item:last-child::after {align-self: flex-start;width: 50%;}#sk-7728975d-4249-454a-ad29-623f19417427 div.sk-parallel-item:only-child::after {width: 0;}#sk-7728975d-4249-454a-ad29-623f19417427 div.sk-dashed-wrapped {border: 1px dashed gray;margin: 0 0.4em 0.5em 0.4em;box-sizing: border-box;padding-bottom: 0.4em;background-color: white;position: relative;}#sk-7728975d-4249-454a-ad29-623f19417427 div.sk-label label {font-family: monospace;font-weight: bold;background-color: white;display: inline-block;line-height: 1.2em;}#sk-7728975d-4249-454a-ad29-623f19417427 div.sk-label-container {position: relative;z-index: 2;text-align: center;}#sk-7728975d-4249-454a-ad29-623f19417427 div.sk-container {/* jupyter's `normalize.less` sets `[hidden] { display: none; }` but bootstrap.min.css set `[hidden] { display: none !important; }` so we also need the `!important` here to be able to override the default hidden behavior on the sphinx rendered scikit-learn.org. See: https://github.com/scikit-learn/scikit-learn/issues/21755 */display: inline-block !important;position: relative;}#sk-7728975d-4249-454a-ad29-623f19417427 div.sk-text-repr-fallback {display: none;}</style><div id='sk-7728975d-4249-454a-ad29-623f19417427' class=\"sk-top-container\"><div class=\"sk-text-repr-fallback\"><pre>ExponentialSmoothing()</pre><b>Please rerun this cell to show the HTML repr or trust the notebook.</b></div><div class=\"sk-container\" hidden><div class='sk-item'><div class=\"sk-estimator sk-toggleable\"><input class=\"sk-toggleable__control sk-hidden--visually\" id=UUID('c3a79547-5103-40c8-bc76-15ba090088a0') type=\"checkbox\" checked><label for=UUID('c3a79547-5103-40c8-bc76-15ba090088a0') class='sk-toggleable__label sk-toggleable__label-arrow'>ExponentialSmoothing</label><div class=\"sk-toggleable__content\"><pre>ExponentialSmoothing()</pre></div></div></div></div></div>"
      ],
      "text/plain": [
       "ExponentialSmoothing()"
      ]
     },
     "execution_count": 82,
     "metadata": {},
     "output_type": "execute_result"
    }
   ],
   "source": [
    "exp_LTC.compare_models(include=[ses_LTC, tuned_ets_auto_LTC], cross_validation=False) # Compare tuned Auto-ETS "
   ]
  },
  {
   "cell_type": "markdown",
   "metadata": {},
   "source": [
    "ses_LTC"
   ]
  },
  {
   "cell_type": "code",
   "execution_count": 83,
   "metadata": {},
   "outputs": [
    {
     "name": "stdout",
     "output_type": "stream",
     "text": [
      "Type of ses_LTC: <class 'sktime.forecasting.exp_smoothing.ExponentialSmoothing'>\n",
      "Attributes and methods of ses_LTC: ['_X', '__class__', '__delattr__', '__dict__', '__dir__', '__doc__', '__eq__', '__format__', '__ge__', '__getattribute__', '__getitem__', '__gt__', '__hash__', '__init__', '__init_subclass__', '__le__', '__lt__', '__module__', '__mul__', '__ne__', '__new__', '__or__', '__reduce__', '__reduce_ex__', '__repr__', '__rmul__', '__rpow__', '__setattr__', '__sizeof__', '__slotnames__', '__str__', '__subclasshook__', '__weakref__', '_alias_params', '_check_X', '_check_X_y', '_check_fh', '_clone_flags', '_components', '_config', '_config_doc', '_config_dynamic', '_converter_store_y', '_cutoff', '_extract_conf_int', '_fh', '_fit', '_fit_forecaster', '_fitted_forecaster', '_fitted_param_names', '_forecaster', '_get_class_flag', '_get_class_flags', '_get_columns', '_get_fitted_param_names', '_get_fitted_params', '_get_fitted_params_default', '_get_flag', '_get_flags', '_get_init_signature', '_get_set_config_doc', '_get_varnames', '_has_implementation_of', '_init_dynamic_doc', '_init_flags', '_is_fitted', '_is_vectorized', '_predict', '_predict_interval', '_predict_moving_cutoff', '_predict_proba', '_predict_quantiles', '_predict_var', '_repr_html_', '_repr_html_inner', '_repr_mimebundle_', '_safe_init_test_params', '_set_cutoff', '_set_cutoff_from_y', '_set_flags', '_tags', '_tags_dynamic', '_update', '_update_X', '_update_predict_single', '_update_y_X', '_vectorize', '_y', '_y_metadata', '_y_mtype_last_seen', 'check_is_fitted', 'clone', 'clone_tags', 'create_test_instance', 'create_test_instances_and_names', 'cutoff', 'damped_trend', 'damping_trend', 'fh', 'fit', 'fit_predict', 'get_class_tag', 'get_class_tags', 'get_config', 'get_fitted_params', 'get_param_defaults', 'get_param_names', 'get_params', 'get_tag', 'get_tags', 'get_test_params', 'initial_level', 'initial_seasonal', 'initial_trend', 'initialization_method', 'is_composite', 'is_fitted', 'load_from_path', 'load_from_serial', 'method', 'minimize_kwargs', 'optimized', 'predict', 'predict_interval', 'predict_proba', 'predict_quantiles', 'predict_residuals', 'predict_var', 'random_state', 'remove_bias', 'reset', 'save', 'score', 'seasonal', 'set_config', 'set_params', 'set_random_state', 'set_tags', 'smoothing_level', 'smoothing_seasonal', 'smoothing_trend', 'sp', 'start_params', 'trend', 'update', 'update_predict', 'update_predict_single', 'use_boxcox', 'use_brute']\n"
     ]
    }
   ],
   "source": [
    "# Debugging: Check the type and attributes of ses_LTC\n",
    "print(f\"Type of ses_LTC: {type(ses_LTC)}\")\n",
    "print(f\"Attributes and methods of ses_LTC: {dir(ses_LTC)}\")"
   ]
  },
  {
   "cell_type": "code",
   "execution_count": 84,
   "metadata": {},
   "outputs": [
    {
     "name": "stdout",
     "output_type": "stream",
     "text": [
      "\n",
      "In-sample predictions from ses_LTC (ses_LTC):\n",
      "Date\n",
      "2020-01-01    41.877699\n",
      "2020-01-02    42.007950\n",
      "2020-01-03    39.975451\n",
      "2020-01-04    42.245332\n",
      "2020-01-05    43.251169\n",
      "                ...    \n",
      "2023-12-29    76.648027\n",
      "2023-12-30    73.630462\n",
      "2023-12-31    73.334903\n",
      "2024-01-01    72.835867\n",
      "2024-01-02    74.599642\n",
      "Freq: D, Length: 1463, dtype: float64\n"
     ]
    }
   ],
   "source": [
    "# Get in-sample predictions (TRYING _fitted_forecaster.fittedvalues for sktime)\n",
    "in_sample_predictions_ses_LTC = ses_LTC._fitted_forecaster.fittedvalues\n",
    "\n",
    "# Ensure the index of in-sample predictions matches the training data index\n",
    "in_sample_predictions_ses_LTC.index = exp_LTC.get_config('y_train').index\n",
    "\n",
    "# Print in-sample predictions\n",
    "print(\"\\nIn-sample predictions from ses_LTC (ses_LTC):\")\n",
    "print(in_sample_predictions_ses_LTC)"
   ]
  },
  {
   "cell_type": "code",
   "execution_count": 85,
   "metadata": {},
   "outputs": [
    {
     "name": "stdout",
     "output_type": "stream",
     "text": [
      "\n",
      "In-sample predictions from (ses_LTC):\n",
      "Date\n",
      "2020-01-01    41.877699\n",
      "2020-01-02    42.007950\n",
      "2020-01-03    39.975451\n",
      "2020-01-04    42.245332\n",
      "2020-01-05    43.251169\n",
      "                ...    \n",
      "2023-12-29    76.648027\n",
      "2023-12-30    73.630462\n",
      "2023-12-31    73.334903\n",
      "2024-01-01    72.835867\n",
      "2024-01-02    74.599642\n",
      "Freq: D, Length: 1463, dtype: float64\n",
      "\n",
      "Indices are ALIGNED!\n"
     ]
    }
   ],
   "source": [
    "# Ensure the index of in-sample predictions matches the training data index\n",
    "in_sample_predictions_ses_LTC.index = exp_LTC.get_config('y_train').index\n",
    "\n",
    "print(\"\\nIn-sample predictions from (ses_LTC):\")\n",
    "print(in_sample_predictions_ses_LTC)\n",
    "if exp_LTC.get_config('y_train').index.equals(in_sample_predictions_ses_LTC.index):\n",
    "    print(\"\\nIndices are ALIGNED!\")\n",
    "else:\n",
    "    print(\"\\nIndices are NOT aligned (Warning!)\")"
   ]
  },
  {
   "cell_type": "code",
   "execution_count": null,
   "metadata": {},
   "outputs": [
    {
     "data": {
      "image/png": "[encoded data removed]",
      "text/plain": [
       "<Figure size 1200x600 with 1 Axes>"
      ]
     },
     "metadata": {},
     "output_type": "display_data"
    }
   ],
   "source": [
    "# Plotting in-sample predictions vs actual training data\n",
    "plt.figure(figsize=(12, 6))\n",
    "actual_train_index_dt = exp_LTC.get_config('y_train').index.to_timestamp()\n",
    "prediction_index_dt = in_sample_predictions_ses_LTC.index.to_timestamp()\n",
    "plt.plot(actual_train_index_dt, exp_LTC.get_config('y_train'), label='Actual Training Data')\n",
    "plt.plot(prediction_index_dt, in_sample_predictions_ses_LTC, label='In-Sample Predictions (ses_LTC)', linestyle='--')\n",
    "plt.title('In-Sample Predictions vs Actual Training Data (ses_LTC)')\n",
    "plt.legend()\n",
    "plt.show()"
   ]
  },
  {
   "cell_type": "code",
   "execution_count": 87,
   "metadata": {},
   "outputs": [
    {
     "name": "stdout",
     "output_type": "stream",
     "text": [
      "\n",
      "First 10 residuals:\n",
      "Date\n",
      "2020-01-01    0.140020\n",
      "2020-01-02   -2.184937\n",
      "2020-01-03    2.440122\n",
      "2020-01-04    1.081275\n",
      "2020-01-05    0.302039\n",
      "2020-01-06    2.284218\n",
      "2020-01-07    0.767595\n",
      "2020-01-08   -0.717263\n",
      "2020-01-09   -0.487877\n",
      "2020-01-10    3.477360\n",
      "Freq: D, dtype: float64\n"
     ]
    }
   ],
   "source": [
    "# Calculate residuals: actual - predictions\n",
    "residuals = train_data_LTC - in_sample_predictions_ses_LTC\n",
    "\n",
    "# Print the first few residuals\n",
    "print(\"\\nFirst 10 residuals:\")\n",
    "print(residuals.head(10))\n"
   ]
  },
  {
   "cell_type": "code",
   "execution_count": 88,
   "metadata": {},
   "outputs": [
    {
     "data": {
      "image/png": "[encoded data removed]",
      "text/plain": [
       "<Figure size 800x550 with 1 Axes>"
      ]
     },
     "metadata": {},
     "output_type": "display_data"
    }
   ],
   "source": [
    "# Convert PeriodIndex to DatetimeIndex for plotting - RESIDUALS INDEX\n",
    "residuals_index_dt = residuals.index.to_timestamp()\n",
    "\n",
    "plt.plot(residuals_index_dt, residuals, label='Residual Series')\n",
    "plt.title('Residual Series from ses_LTC Model')\n",
    "plt.xlabel('Date')\n",
    "plt.ylabel('Residual Value')\n",
    "plt.legend()\n",
    "plt.show()"
   ]
  },
  {
   "cell_type": "code",
   "execution_count": 89,
   "metadata": {},
   "outputs": [
    {
     "data": {
      "application/vnd.plotly.v1+json": {
       "config": {
        "plotlyServerURL": "https://plot.ly"
       },
       "data": [
        {
         "line": {
          "color": "#3f3f3f"
         },
         "marker": {
          "size": 10
         },
         "mode": "lines",
         "name": "ACF",
         "showlegend": false,
         "type": "scattergl",
         "x": [
          0,
          0
         ],
         "xaxis": "x",
         "y": [
          0,
          1
         ],
         "yaxis": "y"
        },
        {
         "line": {
          "color": "#3f3f3f"
         },
         "marker": {
          "size": 10
         },
         "mode": "lines",
         "name": "ACF",
         "showlegend": false,
         "type": "scattergl",
         "x": [
          1,
          1
         ],
         "xaxis": "x",
         "y": [
          0,
          0.9921104671456239
         ],
         "yaxis": "y"
        },
        {
         "line": {
          "color": "#3f3f3f"
         },
         "marker": {
          "size": 10
         },
         "mode": "lines",
         "name": "ACF",
         "showlegend": false,
         "type": "scattergl",
         "x": [
          2,
          2
         ],
         "xaxis": "x",
         "y": [
          0,
          0.9853724035493815
         ],
         "yaxis": "y"
        },
        {
         "line": {
          "color": "#3f3f3f"
         },
         "marker": {
          "size": 10
         },
         "mode": "lines",
         "name": "ACF",
         "showlegend": false,
         "type": "scattergl",
         "x": [
          3,
          3
         ],
         "xaxis": "x",
         "y": [
          0,
          0.9776930482719371
         ],
         "yaxis": "y"
        },
        {
         "line": {
          "color": "#3f3f3f"
         },
         "marker": {
          "size": 10
         },
         "mode": "lines",
         "name": "ACF",
         "showlegend": false,
         "type": "scattergl",
         "x": [
          4,
          4
         ],
         "xaxis": "x",
         "y": [
          0,
          0.9708299362423044
         ],
         "yaxis": "y"
        },
        {
         "line": {
          "color": "#3f3f3f"
         },
         "marker": {
          "size": 10
         },
         "mode": "lines",
         "name": "ACF",
         "showlegend": false,
         "type": "scattergl",
         "x": [
          5,
          5
         ],
         "xaxis": "x",
         "y": [
          0,
          0.9621935840098652
         ],
         "yaxis": "y"
        },
        {
         "line": {
          "color": "#3f3f3f"
         },
         "marker": {
          "size": 10
         },
         "mode": "lines",
         "name": "ACF",
         "showlegend": false,
         "type": "scattergl",
         "x": [
          6,
          6
         ],
         "xaxis": "x",
         "y": [
          0,
          0.9542511455575935
         ],
         "yaxis": "y"
        },
        {
         "line": {
          "color": "#3f3f3f"
         },
         "marker": {
          "size": 10
         },
         "mode": "lines",
         "name": "ACF",
         "showlegend": false,
         "type": "scattergl",
         "x": [
          7,
          7
         ],
         "xaxis": "x",
         "y": [
          0,
          0.9456666523371646
         ],
         "yaxis": "y"
        },
        {
         "line": {
          "color": "#3f3f3f"
         },
         "marker": {
          "size": 10
         },
         "mode": "lines",
         "name": "ACF",
         "showlegend": false,
         "type": "scattergl",
         "x": [
          8,
          8
         ],
         "xaxis": "x",
         "y": [
          0,
          0.9373655347454214
         ],
         "yaxis": "y"
        },
        {
         "line": {
          "color": "#3f3f3f"
         },
         "marker": {
          "size": 10
         },
         "mode": "lines",
         "name": "ACF",
         "showlegend": false,
         "type": "scattergl",
         "x": [
          9,
          9
         ],
         "xaxis": "x",
         "y": [
          0,
          0.9303008182265619
         ],
         "yaxis": "y"
        },
        {
         "line": {
          "color": "#3f3f3f"
         },
         "marker": {
          "size": 10
         },
         "mode": "lines",
         "name": "ACF",
         "showlegend": false,
         "type": "scattergl",
         "x": [
          10,
          10
         ],
         "xaxis": "x",
         "y": [
          0,
          0.9222547916798375
         ],
         "yaxis": "y"
        },
        {
         "line": {
          "color": "#3f3f3f"
         },
         "marker": {
          "size": 10
         },
         "mode": "lines",
         "name": "ACF",
         "showlegend": false,
         "type": "scattergl",
         "x": [
          11,
          11
         ],
         "xaxis": "x",
         "y": [
          0,
          0.9149217622644713
         ],
         "yaxis": "y"
        },
        {
         "line": {
          "color": "#3f3f3f"
         },
         "marker": {
          "size": 10
         },
         "mode": "lines",
         "name": "ACF",
         "showlegend": false,
         "type": "scattergl",
         "x": [
          12,
          12
         ],
         "xaxis": "x",
         "y": [
          0,
          0.9069453348799422
         ],
         "yaxis": "y"
        },
        {
         "line": {
          "color": "#3f3f3f"
         },
         "marker": {
          "size": 10
         },
         "mode": "lines",
         "name": "ACF",
         "showlegend": false,
         "type": "scattergl",
         "x": [
          13,
          13
         ],
         "xaxis": "x",
         "y": [
          0,
          0.9006890504056244
         ],
         "yaxis": "y"
        },
        {
         "line": {
          "color": "#3f3f3f"
         },
         "marker": {
          "size": 10
         },
         "mode": "lines",
         "name": "ACF",
         "showlegend": false,
         "type": "scattergl",
         "x": [
          14,
          14
         ],
         "xaxis": "x",
         "y": [
          0,
          0.894396709883752
         ],
         "yaxis": "y"
        },
        {
         "line": {
          "color": "#3f3f3f"
         },
         "marker": {
          "size": 10
         },
         "mode": "lines",
         "name": "ACF",
         "showlegend": false,
         "type": "scattergl",
         "x": [
          15,
          15
         ],
         "xaxis": "x",
         "y": [
          0,
          0.889780965510747
         ],
         "yaxis": "y"
        },
        {
         "line": {
          "color": "#3f3f3f"
         },
         "marker": {
          "size": 10
         },
         "mode": "lines",
         "name": "ACF",
         "showlegend": false,
         "type": "scattergl",
         "x": [
          16,
          16
         ],
         "xaxis": "x",
         "y": [
          0,
          0.8853601193922997
         ],
         "yaxis": "y"
        },
        {
         "line": {
          "color": "#3f3f3f"
         },
         "marker": {
          "size": 10
         },
         "mode": "lines",
         "name": "ACF",
         "showlegend": false,
         "type": "scattergl",
         "x": [
          17,
          17
         ],
         "xaxis": "x",
         "y": [
          0,
          0.8815870502175923
         ],
         "yaxis": "y"
        },
        {
         "line": {
          "color": "#3f3f3f"
         },
         "marker": {
          "size": 10
         },
         "mode": "lines",
         "name": "ACF",
         "showlegend": false,
         "type": "scattergl",
         "x": [
          18,
          18
         ],
         "xaxis": "x",
         "y": [
          0,
          0.877831231666178
         ],
         "yaxis": "y"
        },
        {
         "line": {
          "color": "#3f3f3f"
         },
         "marker": {
          "size": 10
         },
         "mode": "lines",
         "name": "ACF",
         "showlegend": false,
         "type": "scattergl",
         "x": [
          19,
          19
         ],
         "xaxis": "x",
         "y": [
          0,
          0.8750034117747832
         ],
         "yaxis": "y"
        },
        {
         "line": {
          "color": "#3f3f3f"
         },
         "marker": {
          "size": 10
         },
         "mode": "lines",
         "name": "ACF",
         "showlegend": false,
         "type": "scattergl",
         "x": [
          20,
          20
         ],
         "xaxis": "x",
         "y": [
          0,
          0.8720377956068656
         ],
         "yaxis": "y"
        },
        {
         "line": {
          "color": "#3f3f3f"
         },
         "marker": {
          "size": 10
         },
         "mode": "lines",
         "name": "ACF",
         "showlegend": false,
         "type": "scattergl",
         "x": [
          21,
          21
         ],
         "xaxis": "x",
         "y": [
          0,
          0.8682356775732073
         ],
         "yaxis": "y"
        },
        {
         "line": {
          "color": "#3f3f3f"
         },
         "marker": {
          "size": 10
         },
         "mode": "lines",
         "name": "ACF",
         "showlegend": false,
         "type": "scattergl",
         "x": [
          22,
          22
         ],
         "xaxis": "x",
         "y": [
          0,
          0.8641417520576286
         ],
         "yaxis": "y"
        },
        {
         "line": {
          "color": "#3f3f3f"
         },
         "marker": {
          "size": 10
         },
         "mode": "lines",
         "name": "ACF",
         "showlegend": false,
         "type": "scattergl",
         "x": [
          23,
          23
         ],
         "xaxis": "x",
         "y": [
          0,
          0.859856055822221
         ],
         "yaxis": "y"
        },
        {
         "line": {
          "color": "#3f3f3f"
         },
         "marker": {
          "size": 10
         },
         "mode": "lines",
         "name": "ACF",
         "showlegend": false,
         "type": "scattergl",
         "x": [
          24,
          24
         ],
         "xaxis": "x",
         "y": [
          0,
          0.8562487248426183
         ],
         "yaxis": "y"
        },
        {
         "line": {
          "color": "#3f3f3f"
         },
         "marker": {
          "size": 10
         },
         "mode": "lines",
         "name": "ACF",
         "showlegend": false,
         "type": "scattergl",
         "x": [
          25,
          25
         ],
         "xaxis": "x",
         "y": [
          0,
          0.8519707722868479
         ],
         "yaxis": "y"
        },
        {
         "line": {
          "color": "#3f3f3f"
         },
         "marker": {
          "size": 10
         },
         "mode": "lines",
         "name": "ACF",
         "showlegend": false,
         "type": "scattergl",
         "x": [
          26,
          26
         ],
         "xaxis": "x",
         "y": [
          0,
          0.8473663192751769
         ],
         "yaxis": "y"
        },
        {
         "line": {
          "color": "#3f3f3f"
         },
         "marker": {
          "size": 10
         },
         "mode": "lines",
         "name": "ACF",
         "showlegend": false,
         "type": "scattergl",
         "x": [
          27,
          27
         ],
         "xaxis": "x",
         "y": [
          0,
          0.8430672799664266
         ],
         "yaxis": "y"
        },
        {
         "line": {
          "color": "#3f3f3f"
         },
         "marker": {
          "size": 10
         },
         "mode": "lines",
         "name": "ACF",
         "showlegend": false,
         "type": "scattergl",
         "x": [
          28,
          28
         ],
         "xaxis": "x",
         "y": [
          0,
          0.8383265092367814
         ],
         "yaxis": "y"
        },
        {
         "line": {
          "color": "#3f3f3f"
         },
         "marker": {
          "size": 10
         },
         "mode": "lines",
         "name": "ACF",
         "showlegend": false,
         "type": "scattergl",
         "x": [
          29,
          29
         ],
         "xaxis": "x",
         "y": [
          0,
          0.832553175562023
         ],
         "yaxis": "y"
        },
        {
         "line": {
          "color": "#3f3f3f"
         },
         "marker": {
          "size": 10
         },
         "mode": "lines",
         "name": "ACF",
         "showlegend": false,
         "type": "scattergl",
         "x": [
          30,
          30
         ],
         "xaxis": "x",
         "y": [
          0,
          0.8270087089331272
         ],
         "yaxis": "y"
        },
        {
         "line": {
          "color": "#3f3f3f"
         },
         "marker": {
          "size": 10
         },
         "mode": "lines",
         "name": "ACF",
         "showlegend": false,
         "type": "scattergl",
         "x": [
          31,
          31
         ],
         "xaxis": "x",
         "y": [
          0,
          0.8208543875309439
         ],
         "yaxis": "y"
        },
        {
         "line": {
          "color": "#3f3f3f"
         },
         "marker": {
          "size": 10
         },
         "mode": "lines",
         "name": "ACF",
         "showlegend": false,
         "type": "scattergl",
         "x": [
          32,
          32
         ],
         "xaxis": "x",
         "y": [
          0,
          0.8134588207526654
         ],
         "yaxis": "y"
        },
        {
         "line": {
          "color": "#3f3f3f"
         },
         "marker": {
          "size": 10
         },
         "mode": "lines",
         "name": "ACF",
         "showlegend": false,
         "type": "scattergl",
         "x": [
          33,
          33
         ],
         "xaxis": "x",
         "y": [
          0,
          0.807465448678791
         ],
         "yaxis": "y"
        },
        {
         "line": {
          "color": "#3f3f3f"
         },
         "marker": {
          "size": 10
         },
         "mode": "lines",
         "name": "ACF",
         "showlegend": false,
         "type": "scattergl",
         "x": [
          34,
          34
         ],
         "xaxis": "x",
         "y": [
          0,
          0.8011839814555098
         ],
         "yaxis": "y"
        },
        {
         "line": {
          "color": "#3f3f3f"
         },
         "marker": {
          "size": 10
         },
         "mode": "lines",
         "name": "ACF",
         "showlegend": false,
         "type": "scattergl",
         "x": [
          35,
          35
         ],
         "xaxis": "x",
         "y": [
          0,
          0.7944147733880403
         ],
         "yaxis": "y"
        },
        {
         "line": {
          "color": "#3f3f3f"
         },
         "marker": {
          "size": 10
         },
         "mode": "lines",
         "name": "ACF",
         "showlegend": false,
         "type": "scattergl",
         "x": [
          36,
          36
         ],
         "xaxis": "x",
         "y": [
          0,
          0.7871218304021811
         ],
         "yaxis": "y"
        },
        {
         "line": {
          "color": "#3f3f3f"
         },
         "marker": {
          "size": 10
         },
         "mode": "lines",
         "name": "ACF",
         "showlegend": false,
         "type": "scattergl",
         "x": [
          37,
          37
         ],
         "xaxis": "x",
         "y": [
          0,
          0.7812338591695401
         ],
         "yaxis": "y"
        },
        {
         "line": {
          "color": "#3f3f3f"
         },
         "marker": {
          "size": 10
         },
         "mode": "lines",
         "name": "ACF",
         "showlegend": false,
         "type": "scattergl",
         "x": [
          38,
          38
         ],
         "xaxis": "x",
         "y": [
          0,
          0.7753522808223671
         ],
         "yaxis": "y"
        },
        {
         "line": {
          "color": "#3f3f3f"
         },
         "marker": {
          "size": 10
         },
         "mode": "lines",
         "name": "ACF",
         "showlegend": false,
         "type": "scattergl",
         "x": [
          39,
          39
         ],
         "xaxis": "x",
         "y": [
          0,
          0.7697987259423008
         ],
         "yaxis": "y"
        },
        {
         "line": {
          "color": "#3f3f3f"
         },
         "marker": {
          "size": 10
         },
         "mode": "lines",
         "name": "ACF",
         "showlegend": false,
         "type": "scattergl",
         "x": [
          40,
          40
         ],
         "xaxis": "x",
         "y": [
          0,
          0.7646961476371579
         ],
         "yaxis": "y"
        },
        {
         "line": {
          "color": "#3f3f3f"
         },
         "marker": {
          "size": 10
         },
         "mode": "lines",
         "name": "ACF",
         "showlegend": false,
         "type": "scattergl",
         "x": [
          41,
          41
         ],
         "xaxis": "x",
         "y": [
          0,
          0.7585688375980875
         ],
         "yaxis": "y"
        },
        {
         "line": {
          "color": "#3f3f3f"
         },
         "marker": {
          "size": 10
         },
         "mode": "lines",
         "name": "ACF",
         "showlegend": false,
         "type": "scattergl",
         "x": [
          42,
          42
         ],
         "xaxis": "x",
         "y": [
          0,
          0.7530958162756832
         ],
         "yaxis": "y"
        },
        {
         "line": {
          "color": "#3f3f3f"
         },
         "marker": {
          "size": 10
         },
         "mode": "lines",
         "name": "ACF",
         "showlegend": false,
         "type": "scattergl",
         "x": [
          43,
          43
         ],
         "xaxis": "x",
         "y": [
          0,
          0.7479440934016296
         ],
         "yaxis": "y"
        },
        {
         "line": {
          "color": "#3f3f3f"
         },
         "marker": {
          "size": 10
         },
         "mode": "lines",
         "name": "ACF",
         "showlegend": false,
         "type": "scattergl",
         "x": [
          44,
          44
         ],
         "xaxis": "x",
         "y": [
          0,
          0.7437923695725028
         ],
         "yaxis": "y"
        },
        {
         "line": {
          "color": "#3f3f3f"
         },
         "marker": {
          "size": 10
         },
         "mode": "lines",
         "name": "ACF",
         "showlegend": false,
         "type": "scattergl",
         "x": [
          45,
          45
         ],
         "xaxis": "x",
         "y": [
          0,
          0.739598973694519
         ],
         "yaxis": "y"
        },
        {
         "line": {
          "color": "#3f3f3f"
         },
         "marker": {
          "size": 10
         },
         "mode": "lines",
         "name": "ACF",
         "showlegend": false,
         "type": "scattergl",
         "x": [
          46,
          46
         ],
         "xaxis": "x",
         "y": [
          0,
          0.7355840595649838
         ],
         "yaxis": "y"
        },
        {
         "line": {
          "color": "#3f3f3f"
         },
         "marker": {
          "size": 10
         },
         "mode": "lines",
         "name": "ACF",
         "showlegend": false,
         "type": "scattergl",
         "x": [
          47,
          47
         ],
         "xaxis": "x",
         "y": [
          0,
          0.7316713606958131
         ],
         "yaxis": "y"
        },
        {
         "line": {
          "color": "#3f3f3f"
         },
         "marker": {
          "size": 10
         },
         "mode": "lines",
         "name": "ACF",
         "showlegend": false,
         "type": "scattergl",
         "x": [
          48,
          48
         ],
         "xaxis": "x",
         "y": [
          0,
          0.7284845264893249
         ],
         "yaxis": "y"
        },
        {
         "line": {
          "color": "#3f3f3f"
         },
         "marker": {
          "size": 10
         },
         "mode": "lines",
         "name": "ACF",
         "showlegend": false,
         "type": "scattergl",
         "x": [
          49,
          49
         ],
         "xaxis": "x",
         "y": [
          0,
          0.7250843463894284
         ],
         "yaxis": "y"
        },
        {
         "line": {
          "color": "#3f3f3f"
         },
         "marker": {
          "size": 10
         },
         "mode": "lines",
         "name": "ACF",
         "showlegend": false,
         "type": "scattergl",
         "x": [
          50,
          50
         ],
         "xaxis": "x",
         "y": [
          0,
          0.7221872354056076
         ],
         "yaxis": "y"
        },
        {
         "marker": {
          "color": "#1f77b4",
          "size": 10
         },
         "mode": "markers",
         "name": "ACF",
         "showlegend": false,
         "type": "scattergl",
         "x": [
          0,
          1,
          2,
          3,
          4,
          5,
          6,
          7,
          8,
          9,
          10,
          11,
          12,
          13,
          14,
          15,
          16,
          17,
          18,
          19,
          20,
          21,
          22,
          23,
          24,
          25,
          26,
          27,
          28,
          29,
          30,
          31,
          32,
          33,
          34,
          35,
          36,
          37,
          38,
          39,
          40,
          41,
          42,
          43,
          44,
          45,
          46,
          47,
          48,
          49,
          50
         ],
         "xaxis": "x",
         "y": [
          1,
          0.9921104671456239,
          0.9853724035493815,
          0.9776930482719371,
          0.9708299362423044,
          0.9621935840098652,
          0.9542511455575935,
          0.9456666523371646,
          0.9373655347454214,
          0.9303008182265619,
          0.9222547916798375,
          0.9149217622644713,
          0.9069453348799422,
          0.9006890504056244,
          0.894396709883752,
          0.889780965510747,
          0.8853601193922997,
          0.8815870502175923,
          0.877831231666178,
          0.8750034117747832,
          0.8720377956068656,
          0.8682356775732073,
          0.8641417520576286,
          0.859856055822221,
          0.8562487248426183,
          0.8519707722868479,
          0.8473663192751769,
          0.8430672799664266,
          0.8383265092367814,
          0.832553175562023,
          0.8270087089331272,
          0.8208543875309439,
          0.8134588207526654,
          0.807465448678791,
          0.8011839814555098,
          0.7944147733880403,
          0.7871218304021811,
          0.7812338591695401,
          0.7753522808223671,
          0.7697987259423008,
          0.7646961476371579,
          0.7585688375980875,
          0.7530958162756832,
          0.7479440934016296,
          0.7437923695725028,
          0.739598973694519,
          0.7355840595649838,
          0.7316713606958131,
          0.7284845264893249,
          0.7250843463894284,
          0.7221872354056076
         ],
         "yaxis": "y"
        },
        {
         "line": {
          "color": "rgba(255,255,255,0)"
         },
         "marker": {
          "size": 10
         },
         "mode": "lines",
         "name": "UC",
         "showlegend": false,
         "type": "scatter",
         "x": [
          0,
          1,
          2,
          3,
          4,
          5,
          6,
          7,
          8,
          9,
          10,
          11,
          12,
          13,
          14,
          15,
          16,
          17,
          18,
          19,
          20,
          21,
          22,
          23,
          24,
          25,
          26,
          27,
          28,
          29,
          30,
          31,
          32,
          33,
          34,
          35,
          36,
          37,
          38,
          39,
          40,
          41,
          42,
          43,
          44,
          45,
          46,
          47,
          48,
          49,
          50
         ],
         "xaxis": "x",
         "y": [
          0,
          0.045841624066970454,
          0.07898295463601601,
          0.10158325888606423,
          0.11973575352384336,
          0.13526986968170207,
          0.14895992786507928,
          0.16129540932963282,
          0.1725537866716932,
          0.18294182875058806,
          0.19262699887515378,
          0.20169273991710568,
          0.21023353702949,
          0.21830080671993612,
          0.2259752493624887,
          0.23329575940148295,
          0.24032144543226108,
          0.24708075614761282,
          0.2536047771044587,
          0.2599117019771843,
          0.26603001732383336,
          0.2719707188521844,
          0.277734341079671,
          0.2833281640504979,
          0.288759899484772,
          0.29404709181531175,
          0.29918955753397813,
          0.3041910661632289,
          0.3090622503303172,
          0.31380446556212505,
          0.3184124166540666,
          0.3228947490536379,
          0.32725058768399884,
          0.3314725872952481,
          0.33558065302864903,
          0.33957650713970355,
          0.3434598060145443,
          0.34722988912968134,
          0.350904177775348,
          0.3544861205364561,
          0.35798185962926543,
          0.3613982646888829,
          0.36472890164447624,
          0.36798215369245046,
          0.3711631155267483,
          0.37428227507571976,
          0.377341013634803,
          0.38034243386371125,
          0.3832888790758937,
          0.38618752615657026,
          0.3890378817727065
         ],
         "yaxis": "y"
        },
        {
         "fill": "tonexty",
         "fillcolor": "rgba(32, 146, 230,0.3)",
         "line": {
          "color": "rgba(255,255,255,0)"
         },
         "marker": {
          "size": 10
         },
         "mode": "lines",
         "name": "LC",
         "showlegend": false,
         "type": "scatter",
         "x": [
          0,
          1,
          2,
          3,
          4,
          5,
          6,
          7,
          8,
          9,
          10,
          11,
          12,
          13,
          14,
          15,
          16,
          17,
          18,
          19,
          20,
          21,
          22,
          23,
          24,
          25,
          26,
          27,
          28,
          29,
          30,
          31,
          32,
          33,
          34,
          35,
          36,
          37,
          38,
          39,
          40,
          41,
          42,
          43,
          44,
          45,
          46,
          47,
          48,
          49,
          50
         ],
         "xaxis": "x",
         "y": [
          0,
          -0.045841624066970454,
          -0.0789829546360159,
          -0.10158325888606412,
          -0.11973575352384336,
          -0.13526986968170218,
          -0.14895992786507928,
          -0.1612954093296327,
          -0.1725537866716932,
          -0.18294182875058795,
          -0.19262699887515367,
          -0.20169273991710568,
          -0.21023353702949,
          -0.21830080671993612,
          -0.2259752493624887,
          -0.23329575940148295,
          -0.24032144543226108,
          -0.24708075614761282,
          -0.2536047771044587,
          -0.2599117019771843,
          -0.26603001732383336,
          -0.2719707188521844,
          -0.2777343410796711,
          -0.2833281640504979,
          -0.288759899484772,
          -0.29404709181531175,
          -0.29918955753397813,
          -0.304191066163229,
          -0.3090622503303172,
          -0.31380446556212493,
          -0.3184124166540666,
          -0.32289474905363796,
          -0.32725058768399895,
          -0.33147258729524803,
          -0.335580653028649,
          -0.33957650713970355,
          -0.3434598060145444,
          -0.34722988912968134,
          -0.35090417777534805,
          -0.3544861205364562,
          -0.3579818596292655,
          -0.3613982646888828,
          -0.36472890164447636,
          -0.3679821536924505,
          -0.3711631155267484,
          -0.3742822750757198,
          -0.377341013634803,
          -0.3803424338637112,
          -0.3832888790758938,
          -0.3861875261565702,
          -0.38903788177270643
         ],
         "yaxis": "y"
        }
       ],
       "layout": {
        "annotations": [
         {
          "font": {
           "size": 16
          },
          "showarrow": false,
          "text": "Close (transformed)",
          "x": 0.5,
          "xanchor": "center",
          "xref": "paper",
          "y": 1,
          "yanchor": "bottom",
          "yref": "paper"
         }
        ],
        "showlegend": false,
        "template": {
         "data": {
          "bar": [
           {
            "error_x": {
             "color": "rgb(51,51,51)"
            },
            "error_y": {
             "color": "rgb(51,51,51)"
            },
            "marker": {
             "line": {
              "color": "rgb(237,237,237)",
              "width": 0.5
             },
             "pattern": {
              "fillmode": "overlay",
              "size": 10,
              "solidity": 0.2
             }
            },
            "type": "bar"
           }
          ],
          "barpolar": [
           {
            "marker": {
             "line": {
              "color": "rgb(237,237,237)",
              "width": 0.5
             },
             "pattern": {
              "fillmode": "overlay",
              "size": 10,
              "solidity": 0.2
             }
            },
            "type": "barpolar"
           }
          ],
          "carpet": [
           {
            "aaxis": {
             "endlinecolor": "rgb(51,51,51)",
             "gridcolor": "white",
             "linecolor": "white",
             "minorgridcolor": "white",
             "startlinecolor": "rgb(51,51,51)"
            },
            "baxis": {
             "endlinecolor": "rgb(51,51,51)",
             "gridcolor": "white",
             "linecolor": "white",
             "minorgridcolor": "white",
             "startlinecolor": "rgb(51,51,51)"
            },
            "type": "carpet"
           }
          ],
          "choropleth": [
           {
            "colorbar": {
             "outlinewidth": 0,
             "tickcolor": "rgb(237,237,237)",
             "ticklen": 6,
             "ticks": "inside"
            },
            "type": "choropleth"
           }
          ],
          "contour": [
           {
            "colorbar": {
             "outlinewidth": 0,
             "tickcolor": "rgb(237,237,237)",
             "ticklen": 6,
             "ticks": "inside"
            },
            "colorscale": [
             [
              0,
              "rgb(20,44,66)"
             ],
             [
              1,
              "rgb(90,179,244)"
             ]
            ],
            "type": "contour"
           }
          ],
          "contourcarpet": [
           {
            "colorbar": {
             "outlinewidth": 0,
             "tickcolor": "rgb(237,237,237)",
             "ticklen": 6,
             "ticks": "inside"
            },
            "type": "contourcarpet"
           }
          ],
          "heatmap": [
           {
            "colorbar": {
             "outlinewidth": 0,
             "tickcolor": "rgb(237,237,237)",
             "ticklen": 6,
             "ticks": "inside"
            },
            "colorscale": [
             [
              0,
              "rgb(20,44,66)"
             ],
             [
              1,
              "rgb(90,179,244)"
             ]
            ],
            "type": "heatmap"
           }
          ],
          "heatmapgl": [
           {
            "colorbar": {
             "outlinewidth": 0,
             "tickcolor": "rgb(237,237,237)",
             "ticklen": 6,
             "ticks": "inside"
            },
            "colorscale": [
             [
              0,
              "rgb(20,44,66)"
             ],
             [
              1,
              "rgb(90,179,244)"
             ]
            ],
            "type": "heatmapgl"
           }
          ],
          "histogram": [
           {
            "marker": {
             "pattern": {
              "fillmode": "overlay",
              "size": 10,
              "solidity": 0.2
             }
            },
            "type": "histogram"
           }
          ],
          "histogram2d": [
           {
            "colorbar": {
             "outlinewidth": 0,
             "tickcolor": "rgb(237,237,237)",
             "ticklen": 6,
             "ticks": "inside"
            },
            "colorscale": [
             [
              0,
              "rgb(20,44,66)"
             ],
             [
              1,
              "rgb(90,179,244)"
             ]
            ],
            "type": "histogram2d"
           }
          ],
          "histogram2dcontour": [
           {
            "colorbar": {
             "outlinewidth": 0,
             "tickcolor": "rgb(237,237,237)",
             "ticklen": 6,
             "ticks": "inside"
            },
            "colorscale": [
             [
              0,
              "rgb(20,44,66)"
             ],
             [
              1,
              "rgb(90,179,244)"
             ]
            ],
            "type": "histogram2dcontour"
           }
          ],
          "mesh3d": [
           {
            "colorbar": {
             "outlinewidth": 0,
             "tickcolor": "rgb(237,237,237)",
             "ticklen": 6,
             "ticks": "inside"
            },
            "type": "mesh3d"
           }
          ],
          "parcoords": [
           {
            "line": {
             "colorbar": {
              "outlinewidth": 0,
              "tickcolor": "rgb(237,237,237)",
              "ticklen": 6,
              "ticks": "inside"
             }
            },
            "type": "parcoords"
           }
          ],
          "pie": [
           {
            "automargin": true,
            "type": "pie"
           }
          ],
          "scatter": [
           {
            "fillpattern": {
             "fillmode": "overlay",
             "size": 10,
             "solidity": 0.2
            },
            "type": "scatter"
           }
          ],
          "scatter3d": [
           {
            "line": {
             "colorbar": {
              "outlinewidth": 0,
              "tickcolor": "rgb(237,237,237)",
              "ticklen": 6,
              "ticks": "inside"
             }
            },
            "marker": {
             "colorbar": {
              "outlinewidth": 0,
              "tickcolor": "rgb(237,237,237)",
              "ticklen": 6,
              "ticks": "inside"
             }
            },
            "type": "scatter3d"
           }
          ],
          "scattercarpet": [
           {
            "marker": {
             "colorbar": {
              "outlinewidth": 0,
              "tickcolor": "rgb(237,237,237)",
              "ticklen": 6,
              "ticks": "inside"
             }
            },
            "type": "scattercarpet"
           }
          ],
          "scattergeo": [
           {
            "marker": {
             "colorbar": {
              "outlinewidth": 0,
              "tickcolor": "rgb(237,237,237)",
              "ticklen": 6,
              "ticks": "inside"
             }
            },
            "type": "scattergeo"
           }
          ],
          "scattergl": [
           {
            "marker": {
             "colorbar": {
              "outlinewidth": 0,
              "tickcolor": "rgb(237,237,237)",
              "ticklen": 6,
              "ticks": "inside"
             }
            },
            "type": "scattergl"
           }
          ],
          "scattermapbox": [
           {
            "marker": {
             "colorbar": {
              "outlinewidth": 0,
              "tickcolor": "rgb(237,237,237)",
              "ticklen": 6,
              "ticks": "inside"
             }
            },
            "type": "scattermapbox"
           }
          ],
          "scatterpolar": [
           {
            "marker": {
             "colorbar": {
              "outlinewidth": 0,
              "tickcolor": "rgb(237,237,237)",
              "ticklen": 6,
              "ticks": "inside"
             }
            },
            "type": "scatterpolar"
           }
          ],
          "scatterpolargl": [
           {
            "marker": {
             "colorbar": {
              "outlinewidth": 0,
              "tickcolor": "rgb(237,237,237)",
              "ticklen": 6,
              "ticks": "inside"
             }
            },
            "type": "scatterpolargl"
           }
          ],
          "scatterternary": [
           {
            "marker": {
             "colorbar": {
              "outlinewidth": 0,
              "tickcolor": "rgb(237,237,237)",
              "ticklen": 6,
              "ticks": "inside"
             }
            },
            "type": "scatterternary"
           }
          ],
          "surface": [
           {
            "colorbar": {
             "outlinewidth": 0,
             "tickcolor": "rgb(237,237,237)",
             "ticklen": 6,
             "ticks": "inside"
            },
            "colorscale": [
             [
              0,
              "rgb(20,44,66)"
             ],
             [
              1,
              "rgb(90,179,244)"
             ]
            ],
            "type": "surface"
           }
          ],
          "table": [
           {
            "cells": {
             "fill": {
              "color": "rgb(237,237,237)"
             },
             "line": {
              "color": "white"
             }
            },
            "header": {
             "fill": {
              "color": "rgb(217,217,217)"
             },
             "line": {
              "color": "white"
             }
            },
            "type": "table"
           }
          ]
         },
         "layout": {
          "annotationdefaults": {
           "arrowhead": 0,
           "arrowwidth": 1
          },
          "autotypenumbers": "strict",
          "coloraxis": {
           "colorbar": {
            "outlinewidth": 0,
            "tickcolor": "rgb(237,237,237)",
            "ticklen": 6,
            "ticks": "inside"
           }
          },
          "colorscale": {
           "sequential": [
            [
             0,
             "rgb(20,44,66)"
            ],
            [
             1,
             "rgb(90,179,244)"
            ]
           ],
           "sequentialminus": [
            [
             0,
             "rgb(20,44,66)"
            ],
            [
             1,
             "rgb(90,179,244)"
            ]
           ]
          },
          "colorway": [
           "#F8766D",
           "#A3A500",
           "#00BF7D",
           "#00B0F6",
           "#E76BF3"
          ],
          "font": {
           "color": "rgb(51,51,51)"
          },
          "geo": {
           "bgcolor": "white",
           "lakecolor": "white",
           "landcolor": "rgb(237,237,237)",
           "showlakes": true,
           "showland": true,
           "subunitcolor": "white"
          },
          "hoverlabel": {
           "align": "left"
          },
          "hovermode": "closest",
          "paper_bgcolor": "white",
          "plot_bgcolor": "rgb(237,237,237)",
          "polar": {
           "angularaxis": {
            "gridcolor": "white",
            "linecolor": "white",
            "showgrid": true,
            "tickcolor": "rgb(51,51,51)",
            "ticks": "outside"
           },
           "bgcolor": "rgb(237,237,237)",
           "radialaxis": {
            "gridcolor": "white",
            "linecolor": "white",
            "showgrid": true,
            "tickcolor": "rgb(51,51,51)",
            "ticks": "outside"
           }
          },
          "scene": {
           "xaxis": {
            "backgroundcolor": "rgb(237,237,237)",
            "gridcolor": "white",
            "gridwidth": 2,
            "linecolor": "white",
            "showbackground": true,
            "showgrid": true,
            "tickcolor": "rgb(51,51,51)",
            "ticks": "outside",
            "zerolinecolor": "white"
           },
           "yaxis": {
            "backgroundcolor": "rgb(237,237,237)",
            "gridcolor": "white",
            "gridwidth": 2,
            "linecolor": "white",
            "showbackground": true,
            "showgrid": true,
            "tickcolor": "rgb(51,51,51)",
            "ticks": "outside",
            "zerolinecolor": "white"
           },
           "zaxis": {
            "backgroundcolor": "rgb(237,237,237)",
            "gridcolor": "white",
            "gridwidth": 2,
            "linecolor": "white",
            "showbackground": true,
            "showgrid": true,
            "tickcolor": "rgb(51,51,51)",
            "ticks": "outside",
            "zerolinecolor": "white"
           }
          },
          "shapedefaults": {
           "fillcolor": "black",
           "line": {
            "width": 0
           },
           "opacity": 0.3
          },
          "ternary": {
           "aaxis": {
            "gridcolor": "white",
            "linecolor": "white",
            "showgrid": true,
            "tickcolor": "rgb(51,51,51)",
            "ticks": "outside"
           },
           "baxis": {
            "gridcolor": "white",
            "linecolor": "white",
            "showgrid": true,
            "tickcolor": "rgb(51,51,51)",
            "ticks": "outside"
           },
           "bgcolor": "rgb(237,237,237)",
           "caxis": {
            "gridcolor": "white",
            "linecolor": "white",
            "showgrid": true,
            "tickcolor": "rgb(51,51,51)",
            "ticks": "outside"
           }
          },
          "xaxis": {
           "automargin": true,
           "gridcolor": "white",
           "linecolor": "white",
           "showgrid": true,
           "tickcolor": "rgb(51,51,51)",
           "ticks": "outside",
           "title": {
            "standoff": 15
           },
           "zerolinecolor": "white"
          },
          "yaxis": {
           "automargin": true,
           "gridcolor": "white",
           "linecolor": "white",
           "showgrid": true,
           "tickcolor": "rgb(51,51,51)",
           "ticks": "outside",
           "title": {
            "standoff": 15
           },
           "zerolinecolor": "white"
          }
         }
        },
        "title": {
         "text": "Autocorrelation (ACF) | Close"
        },
        "xaxis": {
         "anchor": "y",
         "domain": [
          0,
          1
         ],
         "range": [
          -1,
          52
         ],
         "title": {
          "text": "Lags"
         }
        },
        "yaxis": {
         "anchor": "x",
         "domain": [
          0,
          1
         ],
         "range": [
          -1.1,
          1.1
         ],
         "title": {
          "text": "ACF"
         },
         "zerolinecolor": "#000000"
        }
       }
      }
     },
     "metadata": {},
     "output_type": "display_data"
    }
   ],
   "source": [
    "# Step 8: Perform Lag Selection using ACF on Residual Series\n",
    "exp_LTC.plot_model(plot='acf',  data_kwargs={'nlags': 50}) # Analyze ACF plot to choose lags\n"
   ]
  },
  {
   "cell_type": "code",
   "execution_count": 90,
   "metadata": {},
   "outputs": [
    {
     "name": "stdout",
     "output_type": "stream",
     "text": [
      "\n",
      "First 10 Normalized Residuals:\n",
      "Date\n",
      "2020-01-01    0.347261\n",
      "2020-01-02    0.317263\n",
      "2020-01-03    0.376939\n",
      "2020-01-04    0.359406\n",
      "2020-01-05    0.349352\n",
      "2020-01-06    0.374927\n",
      "2020-01-07    0.355359\n",
      "2020-01-08    0.336200\n",
      "2020-01-09    0.339160\n",
      "2020-01-10    0.390322\n",
      "Freq: D, dtype: float64\n"
     ]
    }
   ],
   "source": [
    "# Step 9: Normalize Residual Series (Min-Max Normalization)\n",
    "scaler_residuals = MinMaxScaler(feature_range=(-1, 1))\n",
    "normalized_residuals = scaler_residuals.fit_transform(residuals.values.reshape(-1, 1))\n",
    "normalized_residuals = pd.Series(normalized_residuals.flatten(), index=residuals.index)\n",
    "print(\"\\nFirst 10 Normalized Residuals:\")\n",
    "print(normalized_residuals.head(10))"
   ]
  },
  {
   "cell_type": "code",
   "execution_count": 91,
   "metadata": {},
   "outputs": [
    {
     "data": {
      "image/png": "[encoded data removed]",
      "text/plain": [
       "<Figure size 800x550 with 1 Axes>"
      ]
     },
     "metadata": {},
     "output_type": "display_data"
    }
   ],
   "source": [
    "# --- Convert PeriodIndex to DatetimeIndex for plotting - NORMALIZED RESIDUALS INDEX ---\n",
    "normalized_residuals_index_dt = normalized_residuals.index.to_timestamp()\n",
    "\n",
    "plt.plot(normalized_residuals_index_dt, normalized_residuals, label='Normalized Residual Series')\n",
    "plt.title('Normalized Residual Series (Min-Max Scaled)')\n",
    "plt.xlabel('Date')\n",
    "plt.ylabel('Normalized Residual Value')\n",
    "plt.legend()\n",
    "plt.show()\n"
   ]
  },
  {
   "cell_type": "code",
   "execution_count": 92,
   "metadata": {},
   "outputs": [],
   "source": [
    "# --- Fill any remaining NaNs with 0 (Brute-Force NaN Handling - Before Lagging) ---\n",
    "normalized_residuals.fillna(0, inplace=True) # FILL NANS WITH 0 HERE - NEW\n"
   ]
  },
  {
   "cell_type": "code",
   "execution_count": null,
   "metadata": {},
   "outputs": [],
   "source": [
    "# Step 10a: Prepare Data for ANN - Create Lagged Features and Target\n",
    "\n",
    "def create_lagged_features(series, lags):\n",
    " \n",
    "    lagged_features = {}\n",
    "    for lag in lags:\n",
    "        lagged_features[f'lag_{lag}'] = series.shift(lag)\n",
    "    lagged_df = pd.DataFrame(lagged_features)\n",
    "    return lagged_df\n",
    "\n",
    "lags_to_use = [1, 7, 30]  \n",
    "\n",
    "lagged_residual_features = create_lagged_features(normalized_residuals, lags_to_use)\n",
    "lagged_residual_features.dropna(inplace=True) \n",
    "\n",
    "residual_target = normalized_residuals.reindex(lagged_residual_features.index)\n",
    "\n",
    "X_train_ann = lagged_residual_features\n",
    "y_train_ann = residual_target\n",
    "\n",
    "X_train_ann_np = X_train_ann.values\n",
    "y_train_ann_np = y_train_ann.values"
   ]
  },
  {
   "cell_type": "code",
   "execution_count": null,
   "metadata": {},
   "outputs": [],
   "source": [
    "# --- Data Splitting for Validation ---\n",
    "from sklearn.model_selection import train_test_split\n",
    "X_train_ann_train, X_val_ann, y_train_ann_train, y_val_ann = train_test_split(\n",
    "    X_train_ann, y_train_ann, test_size=0.2, shuffle=False\n",
    ")\n",
    "\n",
    "X_val_ann_np = X_val_ann.values \n",
    "y_val_ann_np = y_val_ann.values \n",
    "X_train_ann_train_np = X_train_ann_train.values \n",
    "y_train_ann_train_np = y_train_ann_train.values \n",
    "\n",
    "# Ensuring Data Types are float32 \n",
    "X_train_ann_train_np = X_train_ann_train_np.astype(np.float32) \n",
    "X_val_ann_np = X_val_ann_np.astype(np.float32)\n",
    "y_train_ann_train_np = y_train_ann_train_np.astype(np.float32) \n",
    "y_val_ann_np = y_val_ann_np.astype(np.float32) "
   ]
  },
  {
   "cell_type": "code",
   "execution_count": null,
   "metadata": {},
   "outputs": [
    {
     "name": "stderr",
     "output_type": "stream",
     "text": [
      "WARNING:absl:At this time, the v2.11+ optimizer `tf.keras.optimizers.Adam` runs slowly on M1/M2 Macs, please use the legacy Keras optimizer instead, located at `tf.keras.optimizers.legacy.Adam`.\n",
      "WARNING:absl:There is a known slowdown when using v2.11+ Keras optimizers on M1/M2 Macs. Falling back to the legacy Keras optimizer, i.e., `tf.keras.optimizers.legacy.Adam`.\n"
     ]
    },
    {
     "name": "stdout",
     "output_type": "stream",
     "text": [
      "Trying: Neurons=25, Epochs=30, Batch Size=16\n",
      "NaNs in X_val_ann_np BEFORE prediction: False\n",
      "12/12 [==============================] - 0s 377us/step\n"
     ]
    },
    {
     "name": "stderr",
     "output_type": "stream",
     "text": [
      "WARNING:absl:At this time, the v2.11+ optimizer `tf.keras.optimizers.Adam` runs slowly on M1/M2 Macs, please use the legacy Keras optimizer instead, located at `tf.keras.optimizers.legacy.Adam`.\n",
      "WARNING:absl:There is a known slowdown when using v2.11+ Keras optimizers on M1/M2 Macs. Falling back to the legacy Keras optimizer, i.e., `tf.keras.optimizers.legacy.Adam`.\n"
     ]
    },
    {
     "name": "stdout",
     "output_type": "stream",
     "text": [
      "  Validation RMSE: 0.2655\n",
      "Trying: Neurons=25, Epochs=30, Batch Size=32\n",
      "NaNs in X_val_ann_np BEFORE prediction: False\n",
      "12/12 [==============================] - 0s 436us/step\n"
     ]
    },
    {
     "name": "stderr",
     "output_type": "stream",
     "text": [
      "WARNING:absl:At this time, the v2.11+ optimizer `tf.keras.optimizers.Adam` runs slowly on M1/M2 Macs, please use the legacy Keras optimizer instead, located at `tf.keras.optimizers.legacy.Adam`.\n",
      "WARNING:absl:There is a known slowdown when using v2.11+ Keras optimizers on M1/M2 Macs. Falling back to the legacy Keras optimizer, i.e., `tf.keras.optimizers.legacy.Adam`.\n"
     ]
    },
    {
     "name": "stdout",
     "output_type": "stream",
     "text": [
      "  Validation RMSE: 0.2708\n",
      "Trying: Neurons=25, Epochs=30, Batch Size=64\n",
      "NaNs in X_val_ann_np BEFORE prediction: False\n",
      "12/12 [==============================] - 0s 526us/step\n"
     ]
    },
    {
     "name": "stderr",
     "output_type": "stream",
     "text": [
      "WARNING:absl:At this time, the v2.11+ optimizer `tf.keras.optimizers.Adam` runs slowly on M1/M2 Macs, please use the legacy Keras optimizer instead, located at `tf.keras.optimizers.legacy.Adam`.\n",
      "WARNING:absl:There is a known slowdown when using v2.11+ Keras optimizers on M1/M2 Macs. Falling back to the legacy Keras optimizer, i.e., `tf.keras.optimizers.legacy.Adam`.\n"
     ]
    },
    {
     "name": "stdout",
     "output_type": "stream",
     "text": [
      "  Validation RMSE: 0.2987\n",
      "Trying: Neurons=25, Epochs=50, Batch Size=16\n",
      "NaNs in X_val_ann_np BEFORE prediction: False\n",
      "12/12 [==============================] - 0s 439us/step\n"
     ]
    },
    {
     "name": "stderr",
     "output_type": "stream",
     "text": [
      "WARNING:absl:At this time, the v2.11+ optimizer `tf.keras.optimizers.Adam` runs slowly on M1/M2 Macs, please use the legacy Keras optimizer instead, located at `tf.keras.optimizers.legacy.Adam`.\n",
      "WARNING:absl:There is a known slowdown when using v2.11+ Keras optimizers on M1/M2 Macs. Falling back to the legacy Keras optimizer, i.e., `tf.keras.optimizers.legacy.Adam`.\n"
     ]
    },
    {
     "name": "stdout",
     "output_type": "stream",
     "text": [
      "  Validation RMSE: 0.3566\n",
      "Trying: Neurons=25, Epochs=50, Batch Size=32\n",
      "NaNs in X_val_ann_np BEFORE prediction: False\n",
      "12/12 [==============================] - 0s 440us/step\n"
     ]
    },
    {
     "name": "stderr",
     "output_type": "stream",
     "text": [
      "WARNING:absl:At this time, the v2.11+ optimizer `tf.keras.optimizers.Adam` runs slowly on M1/M2 Macs, please use the legacy Keras optimizer instead, located at `tf.keras.optimizers.legacy.Adam`.\n",
      "WARNING:absl:There is a known slowdown when using v2.11+ Keras optimizers on M1/M2 Macs. Falling back to the legacy Keras optimizer, i.e., `tf.keras.optimizers.legacy.Adam`.\n"
     ]
    },
    {
     "name": "stdout",
     "output_type": "stream",
     "text": [
      "  Validation RMSE: 0.2572\n",
      "Trying: Neurons=25, Epochs=50, Batch Size=64\n",
      "NaNs in X_val_ann_np BEFORE prediction: False\n",
      "12/12 [==============================] - 0s 421us/step\n"
     ]
    },
    {
     "name": "stderr",
     "output_type": "stream",
     "text": [
      "WARNING:absl:At this time, the v2.11+ optimizer `tf.keras.optimizers.Adam` runs slowly on M1/M2 Macs, please use the legacy Keras optimizer instead, located at `tf.keras.optimizers.legacy.Adam`.\n",
      "WARNING:absl:There is a known slowdown when using v2.11+ Keras optimizers on M1/M2 Macs. Falling back to the legacy Keras optimizer, i.e., `tf.keras.optimizers.legacy.Adam`.\n"
     ]
    },
    {
     "name": "stdout",
     "output_type": "stream",
     "text": [
      "  Validation RMSE: 0.3693\n",
      "Trying: Neurons=25, Epochs=70, Batch Size=16\n",
      "NaNs in X_val_ann_np BEFORE prediction: False\n",
      "12/12 [==============================] - 0s 1ms/step\n"
     ]
    },
    {
     "name": "stderr",
     "output_type": "stream",
     "text": [
      "WARNING:absl:At this time, the v2.11+ optimizer `tf.keras.optimizers.Adam` runs slowly on M1/M2 Macs, please use the legacy Keras optimizer instead, located at `tf.keras.optimizers.legacy.Adam`.\n",
      "WARNING:absl:There is a known slowdown when using v2.11+ Keras optimizers on M1/M2 Macs. Falling back to the legacy Keras optimizer, i.e., `tf.keras.optimizers.legacy.Adam`.\n"
     ]
    },
    {
     "name": "stdout",
     "output_type": "stream",
     "text": [
      "  Validation RMSE: 0.5564\n",
      "Trying: Neurons=25, Epochs=70, Batch Size=32\n",
      "NaNs in X_val_ann_np BEFORE prediction: False\n",
      "12/12 [==============================] - 0s 909us/step\n"
     ]
    },
    {
     "name": "stderr",
     "output_type": "stream",
     "text": [
      "WARNING:absl:At this time, the v2.11+ optimizer `tf.keras.optimizers.Adam` runs slowly on M1/M2 Macs, please use the legacy Keras optimizer instead, located at `tf.keras.optimizers.legacy.Adam`.\n",
      "WARNING:absl:There is a known slowdown when using v2.11+ Keras optimizers on M1/M2 Macs. Falling back to the legacy Keras optimizer, i.e., `tf.keras.optimizers.legacy.Adam`.\n"
     ]
    },
    {
     "name": "stdout",
     "output_type": "stream",
     "text": [
      "  Validation RMSE: 0.4161\n",
      "Trying: Neurons=25, Epochs=70, Batch Size=64\n",
      "NaNs in X_val_ann_np BEFORE prediction: False\n",
      "12/12 [==============================] - 0s 537us/step\n"
     ]
    },
    {
     "name": "stderr",
     "output_type": "stream",
     "text": [
      "WARNING:absl:At this time, the v2.11+ optimizer `tf.keras.optimizers.Adam` runs slowly on M1/M2 Macs, please use the legacy Keras optimizer instead, located at `tf.keras.optimizers.legacy.Adam`.\n",
      "WARNING:absl:There is a known slowdown when using v2.11+ Keras optimizers on M1/M2 Macs. Falling back to the legacy Keras optimizer, i.e., `tf.keras.optimizers.legacy.Adam`.\n"
     ]
    },
    {
     "name": "stdout",
     "output_type": "stream",
     "text": [
      "  Validation RMSE: 0.4268\n",
      "Trying: Neurons=50, Epochs=30, Batch Size=16\n",
      "NaNs in X_val_ann_np BEFORE prediction: False\n",
      "12/12 [==============================] - 0s 543us/step\n"
     ]
    },
    {
     "name": "stderr",
     "output_type": "stream",
     "text": [
      "WARNING:absl:At this time, the v2.11+ optimizer `tf.keras.optimizers.Adam` runs slowly on M1/M2 Macs, please use the legacy Keras optimizer instead, located at `tf.keras.optimizers.legacy.Adam`.\n",
      "WARNING:absl:There is a known slowdown when using v2.11+ Keras optimizers on M1/M2 Macs. Falling back to the legacy Keras optimizer, i.e., `tf.keras.optimizers.legacy.Adam`.\n"
     ]
    },
    {
     "name": "stdout",
     "output_type": "stream",
     "text": [
      "  Validation RMSE: 0.3669\n",
      "Trying: Neurons=50, Epochs=30, Batch Size=32\n",
      "NaNs in X_val_ann_np BEFORE prediction: False\n",
      "12/12 [==============================] - 0s 396us/step\n"
     ]
    },
    {
     "name": "stderr",
     "output_type": "stream",
     "text": [
      "WARNING:absl:At this time, the v2.11+ optimizer `tf.keras.optimizers.Adam` runs slowly on M1/M2 Macs, please use the legacy Keras optimizer instead, located at `tf.keras.optimizers.legacy.Adam`.\n",
      "WARNING:absl:There is a known slowdown when using v2.11+ Keras optimizers on M1/M2 Macs. Falling back to the legacy Keras optimizer, i.e., `tf.keras.optimizers.legacy.Adam`.\n"
     ]
    },
    {
     "name": "stdout",
     "output_type": "stream",
     "text": [
      "  Validation RMSE: 0.3109\n",
      "Trying: Neurons=50, Epochs=30, Batch Size=64\n",
      "NaNs in X_val_ann_np BEFORE prediction: False\n",
      "12/12 [==============================] - 0s 508us/step\n"
     ]
    },
    {
     "name": "stderr",
     "output_type": "stream",
     "text": [
      "WARNING:absl:At this time, the v2.11+ optimizer `tf.keras.optimizers.Adam` runs slowly on M1/M2 Macs, please use the legacy Keras optimizer instead, located at `tf.keras.optimizers.legacy.Adam`.\n",
      "WARNING:absl:There is a known slowdown when using v2.11+ Keras optimizers on M1/M2 Macs. Falling back to the legacy Keras optimizer, i.e., `tf.keras.optimizers.legacy.Adam`.\n"
     ]
    },
    {
     "name": "stdout",
     "output_type": "stream",
     "text": [
      "  Validation RMSE: 0.3455\n",
      "Trying: Neurons=50, Epochs=50, Batch Size=16\n",
      "NaNs in X_val_ann_np BEFORE prediction: False\n",
      "12/12 [==============================] - 0s 405us/step\n"
     ]
    },
    {
     "name": "stderr",
     "output_type": "stream",
     "text": [
      "WARNING:absl:At this time, the v2.11+ optimizer `tf.keras.optimizers.Adam` runs slowly on M1/M2 Macs, please use the legacy Keras optimizer instead, located at `tf.keras.optimizers.legacy.Adam`.\n",
      "WARNING:absl:There is a known slowdown when using v2.11+ Keras optimizers on M1/M2 Macs. Falling back to the legacy Keras optimizer, i.e., `tf.keras.optimizers.legacy.Adam`.\n"
     ]
    },
    {
     "name": "stdout",
     "output_type": "stream",
     "text": [
      "  Validation RMSE: 0.2848\n",
      "Trying: Neurons=50, Epochs=50, Batch Size=32\n",
      "NaNs in X_val_ann_np BEFORE prediction: False\n",
      "12/12 [==============================] - 0s 905us/step\n"
     ]
    },
    {
     "name": "stderr",
     "output_type": "stream",
     "text": [
      "WARNING:absl:At this time, the v2.11+ optimizer `tf.keras.optimizers.Adam` runs slowly on M1/M2 Macs, please use the legacy Keras optimizer instead, located at `tf.keras.optimizers.legacy.Adam`.\n",
      "WARNING:absl:There is a known slowdown when using v2.11+ Keras optimizers on M1/M2 Macs. Falling back to the legacy Keras optimizer, i.e., `tf.keras.optimizers.legacy.Adam`.\n"
     ]
    },
    {
     "name": "stdout",
     "output_type": "stream",
     "text": [
      "  Validation RMSE: 0.2783\n",
      "Trying: Neurons=50, Epochs=50, Batch Size=64\n",
      "NaNs in X_val_ann_np BEFORE prediction: False\n",
      "12/12 [==============================] - 0s 389us/step\n"
     ]
    },
    {
     "name": "stderr",
     "output_type": "stream",
     "text": [
      "WARNING:absl:At this time, the v2.11+ optimizer `tf.keras.optimizers.Adam` runs slowly on M1/M2 Macs, please use the legacy Keras optimizer instead, located at `tf.keras.optimizers.legacy.Adam`.\n",
      "WARNING:absl:There is a known slowdown when using v2.11+ Keras optimizers on M1/M2 Macs. Falling back to the legacy Keras optimizer, i.e., `tf.keras.optimizers.legacy.Adam`.\n"
     ]
    },
    {
     "name": "stdout",
     "output_type": "stream",
     "text": [
      "  Validation RMSE: 0.3571\n",
      "Trying: Neurons=50, Epochs=70, Batch Size=16\n",
      "NaNs in X_val_ann_np BEFORE prediction: False\n",
      "12/12 [==============================] - 0s 546us/step\n"
     ]
    },
    {
     "name": "stderr",
     "output_type": "stream",
     "text": [
      "WARNING:absl:At this time, the v2.11+ optimizer `tf.keras.optimizers.Adam` runs slowly on M1/M2 Macs, please use the legacy Keras optimizer instead, located at `tf.keras.optimizers.legacy.Adam`.\n",
      "WARNING:absl:There is a known slowdown when using v2.11+ Keras optimizers on M1/M2 Macs. Falling back to the legacy Keras optimizer, i.e., `tf.keras.optimizers.legacy.Adam`.\n"
     ]
    },
    {
     "name": "stdout",
     "output_type": "stream",
     "text": [
      "  Validation RMSE: 0.3884\n",
      "Trying: Neurons=50, Epochs=70, Batch Size=32\n",
      "NaNs in X_val_ann_np BEFORE prediction: False\n",
      "12/12 [==============================] - 0s 426us/step\n"
     ]
    },
    {
     "name": "stderr",
     "output_type": "stream",
     "text": [
      "WARNING:absl:At this time, the v2.11+ optimizer `tf.keras.optimizers.Adam` runs slowly on M1/M2 Macs, please use the legacy Keras optimizer instead, located at `tf.keras.optimizers.legacy.Adam`.\n",
      "WARNING:absl:There is a known slowdown when using v2.11+ Keras optimizers on M1/M2 Macs. Falling back to the legacy Keras optimizer, i.e., `tf.keras.optimizers.legacy.Adam`.\n"
     ]
    },
    {
     "name": "stdout",
     "output_type": "stream",
     "text": [
      "  Validation RMSE: 0.3636\n",
      "Trying: Neurons=50, Epochs=70, Batch Size=64\n",
      "NaNs in X_val_ann_np BEFORE prediction: False\n",
      "12/12 [==============================] - 0s 451us/step\n"
     ]
    },
    {
     "name": "stderr",
     "output_type": "stream",
     "text": [
      "WARNING:absl:At this time, the v2.11+ optimizer `tf.keras.optimizers.Adam` runs slowly on M1/M2 Macs, please use the legacy Keras optimizer instead, located at `tf.keras.optimizers.legacy.Adam`.\n",
      "WARNING:absl:There is a known slowdown when using v2.11+ Keras optimizers on M1/M2 Macs. Falling back to the legacy Keras optimizer, i.e., `tf.keras.optimizers.legacy.Adam`.\n"
     ]
    },
    {
     "name": "stdout",
     "output_type": "stream",
     "text": [
      "  Validation RMSE: 0.3325\n",
      "Trying: Neurons=100, Epochs=30, Batch Size=16\n",
      "NaNs in X_val_ann_np BEFORE prediction: False\n",
      "12/12 [==============================] - 0s 410us/step\n"
     ]
    },
    {
     "name": "stderr",
     "output_type": "stream",
     "text": [
      "WARNING:absl:At this time, the v2.11+ optimizer `tf.keras.optimizers.Adam` runs slowly on M1/M2 Macs, please use the legacy Keras optimizer instead, located at `tf.keras.optimizers.legacy.Adam`.\n",
      "WARNING:absl:There is a known slowdown when using v2.11+ Keras optimizers on M1/M2 Macs. Falling back to the legacy Keras optimizer, i.e., `tf.keras.optimizers.legacy.Adam`.\n"
     ]
    },
    {
     "name": "stdout",
     "output_type": "stream",
     "text": [
      "  Validation RMSE: 0.4381\n",
      "Trying: Neurons=100, Epochs=30, Batch Size=32\n",
      "NaNs in X_val_ann_np BEFORE prediction: False\n",
      "12/12 [==============================] - 0s 725us/step\n"
     ]
    },
    {
     "name": "stderr",
     "output_type": "stream",
     "text": [
      "WARNING:absl:At this time, the v2.11+ optimizer `tf.keras.optimizers.Adam` runs slowly on M1/M2 Macs, please use the legacy Keras optimizer instead, located at `tf.keras.optimizers.legacy.Adam`.\n",
      "WARNING:absl:There is a known slowdown when using v2.11+ Keras optimizers on M1/M2 Macs. Falling back to the legacy Keras optimizer, i.e., `tf.keras.optimizers.legacy.Adam`.\n"
     ]
    },
    {
     "name": "stdout",
     "output_type": "stream",
     "text": [
      "  Validation RMSE: 0.4100\n",
      "Trying: Neurons=100, Epochs=30, Batch Size=64\n",
      "NaNs in X_val_ann_np BEFORE prediction: False\n",
      "12/12 [==============================] - 0s 405us/step\n"
     ]
    },
    {
     "name": "stderr",
     "output_type": "stream",
     "text": [
      "WARNING:absl:At this time, the v2.11+ optimizer `tf.keras.optimizers.Adam` runs slowly on M1/M2 Macs, please use the legacy Keras optimizer instead, located at `tf.keras.optimizers.legacy.Adam`.\n",
      "WARNING:absl:There is a known slowdown when using v2.11+ Keras optimizers on M1/M2 Macs. Falling back to the legacy Keras optimizer, i.e., `tf.keras.optimizers.legacy.Adam`.\n"
     ]
    },
    {
     "name": "stdout",
     "output_type": "stream",
     "text": [
      "  Validation RMSE: 0.3480\n",
      "Trying: Neurons=100, Epochs=50, Batch Size=16\n",
      "NaNs in X_val_ann_np BEFORE prediction: False\n",
      "12/12 [==============================] - 0s 418us/step\n"
     ]
    },
    {
     "name": "stderr",
     "output_type": "stream",
     "text": [
      "WARNING:absl:At this time, the v2.11+ optimizer `tf.keras.optimizers.Adam` runs slowly on M1/M2 Macs, please use the legacy Keras optimizer instead, located at `tf.keras.optimizers.legacy.Adam`.\n",
      "WARNING:absl:There is a known slowdown when using v2.11+ Keras optimizers on M1/M2 Macs. Falling back to the legacy Keras optimizer, i.e., `tf.keras.optimizers.legacy.Adam`.\n"
     ]
    },
    {
     "name": "stdout",
     "output_type": "stream",
     "text": [
      "  Validation RMSE: 0.3917\n",
      "Trying: Neurons=100, Epochs=50, Batch Size=32\n",
      "NaNs in X_val_ann_np BEFORE prediction: False\n",
      "12/12 [==============================] - 0s 434us/step\n"
     ]
    },
    {
     "name": "stderr",
     "output_type": "stream",
     "text": [
      "WARNING:absl:At this time, the v2.11+ optimizer `tf.keras.optimizers.Adam` runs slowly on M1/M2 Macs, please use the legacy Keras optimizer instead, located at `tf.keras.optimizers.legacy.Adam`.\n",
      "WARNING:absl:There is a known slowdown when using v2.11+ Keras optimizers on M1/M2 Macs. Falling back to the legacy Keras optimizer, i.e., `tf.keras.optimizers.legacy.Adam`.\n"
     ]
    },
    {
     "name": "stdout",
     "output_type": "stream",
     "text": [
      "  Validation RMSE: 0.3910\n",
      "Trying: Neurons=100, Epochs=50, Batch Size=64\n",
      "NaNs in X_val_ann_np BEFORE prediction: False\n",
      "12/12 [==============================] - 0s 399us/step\n"
     ]
    },
    {
     "name": "stderr",
     "output_type": "stream",
     "text": [
      "WARNING:absl:At this time, the v2.11+ optimizer `tf.keras.optimizers.Adam` runs slowly on M1/M2 Macs, please use the legacy Keras optimizer instead, located at `tf.keras.optimizers.legacy.Adam`.\n",
      "WARNING:absl:There is a known slowdown when using v2.11+ Keras optimizers on M1/M2 Macs. Falling back to the legacy Keras optimizer, i.e., `tf.keras.optimizers.legacy.Adam`.\n"
     ]
    },
    {
     "name": "stdout",
     "output_type": "stream",
     "text": [
      "  Validation RMSE: 0.4108\n",
      "Trying: Neurons=100, Epochs=70, Batch Size=16\n",
      "NaNs in X_val_ann_np BEFORE prediction: False\n",
      "12/12 [==============================] - 0s 439us/step\n"
     ]
    },
    {
     "name": "stderr",
     "output_type": "stream",
     "text": [
      "WARNING:absl:At this time, the v2.11+ optimizer `tf.keras.optimizers.Adam` runs slowly on M1/M2 Macs, please use the legacy Keras optimizer instead, located at `tf.keras.optimizers.legacy.Adam`.\n",
      "WARNING:absl:There is a known slowdown when using v2.11+ Keras optimizers on M1/M2 Macs. Falling back to the legacy Keras optimizer, i.e., `tf.keras.optimizers.legacy.Adam`.\n"
     ]
    },
    {
     "name": "stdout",
     "output_type": "stream",
     "text": [
      "  Validation RMSE: 0.3424\n",
      "Trying: Neurons=100, Epochs=70, Batch Size=32\n",
      "NaNs in X_val_ann_np BEFORE prediction: False\n",
      "12/12 [==============================] - 0s 384us/step\n"
     ]
    },
    {
     "name": "stderr",
     "output_type": "stream",
     "text": [
      "WARNING:absl:At this time, the v2.11+ optimizer `tf.keras.optimizers.Adam` runs slowly on M1/M2 Macs, please use the legacy Keras optimizer instead, located at `tf.keras.optimizers.legacy.Adam`.\n",
      "WARNING:absl:There is a known slowdown when using v2.11+ Keras optimizers on M1/M2 Macs. Falling back to the legacy Keras optimizer, i.e., `tf.keras.optimizers.legacy.Adam`.\n"
     ]
    },
    {
     "name": "stdout",
     "output_type": "stream",
     "text": [
      "  Validation RMSE: 0.4300\n",
      "Trying: Neurons=100, Epochs=70, Batch Size=64\n",
      "NaNs in X_val_ann_np BEFORE prediction: False\n",
      "12/12 [==============================] - 0s 476us/step\n",
      "  Validation RMSE: 0.4305\n",
      "\n",
      "Best Hyperparameters found (based on Validation RMSE):\n",
      "{'neurons': 25, 'epochs': 50, 'batch_size': 32}\n",
      "Best Validation RMSE: 0.2572\n"
     ]
    }
   ],
   "source": [
    "# --- Manual Tuning Loop Code Block ---\n",
    "\n",
    "neuron_options = [25, 50, 100]\n",
    "epochs_options = [30, 50, 70]\n",
    "batch_size_options = [16, 32, 64]\n",
    "\n",
    "best_rmse = float('inf') \n",
    "best_params = None\n",
    "\n",
    "for neurons in neuron_options:\n",
    "    for epochs in epochs_options:\n",
    "        for batch_size in batch_size_options:\n",
    "            print(f\"Trying: Neurons={neurons}, Epochs={epochs}, Batch Size={batch_size}\")\n",
    "            \n",
    "            # Build ANN model (same as before, but using current hyperparameter values)\n",
    "            ann_model = Sequential()\n",
    "            ann_model.add(Dense(neurons, activation='relu', input_shape=(X_train_ann_train_np.shape[1],))) # Use _train_np shape\n",
    "            ann_model.add(Dense(25, activation='relu'))\n",
    "            ann_model.add(Dense(1))\n",
    "            ann_model.compile(optimizer=Adam(learning_rate=0.001), loss='mse') # Use legacy Adam optimizer - NEW\n",
    "            \n",
    "            # Train model\n",
    "            ann_model.fit(X_train_ann_train_np, y_train_ann_train_np, epochs=epochs, batch_size=batch_size, verbose=0)\n",
    "            \n",
    "            print(f\"NaNs in X_val_ann_np BEFORE prediction: {np.isnan(X_val_ann_np).any()}\") \n",
    "\n",
    "            # Evaluating on VALIDATION set\n",
    "            validation_predictions = ann_model.predict(X_val_ann_np).flatten() \n",
    "            rmse = np.sqrt(mean_squared_error(y_val_ann_np, validation_predictions)) \n",
    "\n",
    "            print(f\"  Validation RMSE: {rmse:.4f}\")\n",
    "\n",
    "            if rmse < best_rmse: \n",
    "                best_rmse = rmse\n",
    "                best_params = {'neurons': neurons, 'epochs': epochs, 'batch_size': batch_size}\n",
    "\n",
    "print(\"\\nBest Hyperparameters found (based on Validation RMSE):\")\n",
    "print(best_params)\n",
    "print(f\"Best Validation RMSE: {best_rmse:.4f}\")"
   ]
  },
  {
   "cell_type": "code",
   "execution_count": 109,
   "metadata": {},
   "outputs": [
    {
     "name": "stderr",
     "output_type": "stream",
     "text": [
      "WARNING:absl:At this time, the v2.11+ optimizer `tf.keras.optimizers.Adam` runs slowly on M1/M2 Macs, please use the legacy Keras optimizer instead, located at `tf.keras.optimizers.legacy.Adam`.\n",
      "WARNING:absl:There is a known slowdown when using v2.11+ Keras optimizers on M1/M2 Macs. Falling back to the legacy Keras optimizer, i.e., `tf.keras.optimizers.legacy.Adam`.\n"
     ]
    },
    {
     "name": "stdout",
     "output_type": "stream",
     "text": [
      "Model: \"sequential_281\"\n",
      "_________________________________________________________________\n",
      " Layer (type)                Output Shape              Param #   \n",
      "=================================================================\n",
      " dense_843 (Dense)           (None, 25)                100       \n",
      "                                                                 \n",
      " dense_844 (Dense)           (None, 25)                650       \n",
      "                                                                 \n",
      " dense_845 (Dense)           (None, 1)                 26        \n",
      "                                                                 \n",
      "=================================================================\n",
      "Total params: 776\n",
      "Trainable params: 776\n",
      "Non-trainable params: 0\n",
      "_________________________________________________________________\n",
      "\n",
      "Final ANN Model Retraining Complete (with Best Hyperparameters)!\n"
     ]
    }
   ],
   "source": [
    "# Best Hyperparameters from Tuning (replace with your best values if different)\n",
    "best_neurons = 25\n",
    "best_epochs = 50\n",
    "best_batch_size = 32\n",
    "\n",
    "# 1. Building the Final ANN Model with Best Hyperparameters\n",
    "final_ann_model = Sequential()\n",
    "final_ann_model.add(Dense(best_neurons, activation='relu', input_shape=(X_train_ann_np.shape[1],))) # Best neurons for layer 1\n",
    "final_ann_model.add(Dense(25, activation='relu')) # You can keep layer 2 as before\n",
    "final_ann_model.add(Dense(1))\n",
    "\n",
    "# 2. Compile the Final ANN Model\n",
    "optimizer = Adam(learning_rate=0.001) # You can keep learning rate as before, or tune it too\n",
    "final_ann_model.compile(optimizer=optimizer, loss='mse')\n",
    "\n",
    "# 3. Train the Final ANN Model (on FULL training data: X_train_ann_np, y_train_ann_np)\n",
    "final_ann_model.fit(X_train_ann_np, y_train_ann_np, epochs=best_epochs, batch_size=best_batch_size, verbose=0) # Use best epochs, batch_size\n",
    "\n",
    "# 4. Print Model Summary of the Final Model\n",
    "final_ann_model.summary()\n",
    "\n",
    "print(\"\\nFinal ANN Model Retraining Complete (with Best Hyperparameters)!\")"
   ]
  },
  {
   "cell_type": "code",
   "execution_count": 110,
   "metadata": {},
   "outputs": [
    {
     "name": "stdout",
     "output_type": "stream",
     "text": [
      "\n",
      "First 10 De-normalized In-Sample ANN Residual Predictions:\n",
      "Date\n",
      "2020-01-31    1.765304\n",
      "2020-02-01    1.121129\n",
      "2020-02-02    0.957819\n",
      "2020-02-03    0.545399\n",
      "2020-02-04    0.621295\n",
      "2020-02-05    0.932971\n",
      "2020-02-06   -0.044765\n",
      "2020-02-07    1.062422\n",
      "2020-02-08    0.659069\n",
      "2020-02-09    1.291192\n",
      "Freq: D, dtype: float32\n"
     ]
    },
    {
     "data": {
      "image/png": "[encoded data removed]",
      "text/plain": [
       "<Figure size 1200x600 with 1 Axes>"
      ]
     },
     "metadata": {},
     "output_type": "display_data"
    }
   ],
   "source": [
    "# Step 10 (Continued): Obtain In-Sample ANN Residual Predictions\n",
    "\n",
    "# Use the trained final_ann_model to predict in-sample residuals\n",
    "\n",
    "# 1. Prepare Input Features (already have X_train_ann_np from Step 10a)\n",
    "#    X_train_ann_np (numpy array of lagged features for training data) is ready to use.\n",
    "\n",
    "# 2. Generate In-Sample ANN Residual Predictions (Normalized)\n",
    "ann_predictions_insample_normalized = final_ann_model.predict(X_train_ann_np, verbose=0).flatten()\n",
    "ann_predictions_insample_normalized = pd.Series(ann_predictions_insample_normalized, index=X_train_ann.index)\n",
    "\n",
    "# 3. De-normalize ANN Predictions (back to original residual scale)\n",
    "ann_predictions_insample_denormalized = scaler_residuals.inverse_transform(ann_predictions_insample_normalized.values.reshape(-1, 1)).flatten()\n",
    "ann_predictions_insample_denormalized = pd.Series(ann_predictions_insample_denormalized, index=ann_predictions_insample_normalized.index)\n",
    "\n",
    "# 4. Print a sample of de-normalized in-sample ANN predictions\n",
    "print(\"\\nFirst 10 De-normalized In-Sample ANN Residual Predictions:\")\n",
    "print(ann_predictions_insample_denormalized.head(10))\n",
    "\n",
    "# 5. Plotting In-Sample ANN Residual Predictions vs Actual Residuals (Optional)\n",
    "plt.figure(figsize=(12, 6))\n",
    "plt.plot(residuals.index.to_timestamp(), residuals, label='Actual Residuals (Training Data)', alpha=0.7) # Actual residuals\n",
    "plt.plot(ann_predictions_insample_denormalized.index.to_timestamp(), ann_predictions_insample_denormalized, label='In-Sample ANN Residual Predictions', linestyle='--', color='red') # ANN predictions\n",
    "plt.title('In-Sample ANN Residual Predictions vs Actual Residuals')\n",
    "plt.xlabel('Date')\n",
    "plt.ylabel('Residual Value')\n",
    "plt.legend()\n",
    "plt.show()"
   ]
  },
  {
   "cell_type": "code",
   "execution_count": 111,
   "metadata": {},
   "outputs": [
    {
     "name": "stdout",
     "output_type": "stream",
     "text": [
      "\n",
      "First 10 De-normalized Hold-out ANN Residual Predictions:\n",
      "Date\n",
      "2024-01-03   -26.182150\n",
      "2024-01-04   -25.519539\n",
      "2024-01-05   -24.657101\n",
      "2024-01-06   -23.498840\n",
      "2024-01-07   -21.961239\n",
      "2024-01-08   -20.001398\n",
      "2024-01-09   -17.829323\n",
      "2024-01-10   -14.074909\n",
      "2024-01-11   -11.092973\n",
      "2024-01-12    -8.118545\n",
      "Freq: D, dtype: float32\n"
     ]
    },
    {
     "data": {
      "text/html": [
       "<style type=\"text/css\">\n",
       "</style>\n",
       "<table id=\"T_ba5e9\">\n",
       "  <thead>\n",
       "    <tr>\n",
       "      <th class=\"blank level0\" >&nbsp;</th>\n",
       "      <th id=\"T_ba5e9_level0_col0\" class=\"col_heading level0 col0\" >Model</th>\n",
       "      <th id=\"T_ba5e9_level0_col1\" class=\"col_heading level0 col1\" >MASE</th>\n",
       "      <th id=\"T_ba5e9_level0_col2\" class=\"col_heading level0 col2\" >RMSSE</th>\n",
       "      <th id=\"T_ba5e9_level0_col3\" class=\"col_heading level0 col3\" >MAE</th>\n",
       "      <th id=\"T_ba5e9_level0_col4\" class=\"col_heading level0 col4\" >RMSE</th>\n",
       "      <th id=\"T_ba5e9_level0_col5\" class=\"col_heading level0 col5\" >MAPE</th>\n",
       "      <th id=\"T_ba5e9_level0_col6\" class=\"col_heading level0 col6\" >SMAPE</th>\n",
       "      <th id=\"T_ba5e9_level0_col7\" class=\"col_heading level0 col7\" >R2</th>\n",
       "    </tr>\n",
       "  </thead>\n",
       "  <tbody>\n",
       "    <tr>\n",
       "      <th id=\"T_ba5e9_level0_row0\" class=\"row_heading level0 row0\" >0</th>\n",
       "      <td id=\"T_ba5e9_row0_col0\" class=\"data row0 col0\" >Exponential Smoothing</td>\n",
       "      <td id=\"T_ba5e9_row0_col1\" class=\"data row0 col1\" >1.4970</td>\n",
       "      <td id=\"T_ba5e9_row0_col2\" class=\"data row0 col2\" >1.2155</td>\n",
       "      <td id=\"T_ba5e9_row0_col3\" class=\"data row0 col3\" >11.5556</td>\n",
       "      <td id=\"T_ba5e9_row0_col4\" class=\"data row0 col4\" >16.6881</td>\n",
       "      <td id=\"T_ba5e9_row0_col5\" class=\"data row0 col5\" >0.1313</td>\n",
       "      <td id=\"T_ba5e9_row0_col6\" class=\"data row0 col6\" >0.1414</td>\n",
       "      <td id=\"T_ba5e9_row0_col7\" class=\"data row0 col7\" >-0.1367</td>\n",
       "    </tr>\n",
       "  </tbody>\n",
       "</table>\n"
      ],
      "text/plain": [
       "<pandas.io.formats.style.Styler at 0x352dba370>"
      ]
     },
     "metadata": {},
     "output_type": "display_data"
    }
   ],
   "source": [
    "# Step 10 (Continued): Obtain Hold-out (Test Set) ANN Residual Predictions\n",
    "\n",
    "# 1. Prepare for Iterative Forecast - Get last training residuals as initial history\n",
    "last_train_residuals_normalized = normalized_residuals.tail(max(lags_to_use)).values # Last 'max_lag' residuals from training set (normalized)\n",
    "ann_predictions_holdout_normalized = [] # List to store forecasted normalized residuals for hold-out period\n",
    "current_residuals_history = list(last_train_residuals_normalized) # Initialize history with last training residuals\n",
    "\n",
    "# 2. Iterative (Recursive) Forecast Loop - for each step in forecast horizon (fh)\n",
    "forecast_horizon = len(exp_LTC.get_config('y_test')) # Length of forecast horizon (test set)\n",
    "\n",
    "for _ in range(forecast_horizon): # Iterate for each step in forecast horizon\n",
    "    \n",
    "    # a. Create feature vector from current residual history\n",
    "    feature_vector = np.array([current_residuals_history[-lag] for lag in lags_to_use]).reshape(1, -1) # Get lagged residuals from history\n",
    "    \n",
    "    # b. Predict next residual (normalized) using trained ANN model\n",
    "    next_residual_normalized = final_ann_model.predict(feature_vector, verbose=0).flatten()[0] # Predict 1 step ahead\n",
    "    ann_predictions_holdout_normalized.append(next_residual_normalized) # Append prediction to forecast list\n",
    "    \n",
    "    # c. Update residual history for next iteration - append predicted residual and remove oldest\n",
    "    current_residuals_history.append(next_residual_normalized) # Append PREDICTED residual to history\n",
    "    current_residuals_history.pop(0) # Remove the oldest residual from history (to keep history length constant)\n",
    "\n",
    "# 3. Convert ANN Hold-out Predictions to Pandas Series with Test Set Index\n",
    "ann_predictions_holdout_normalized = pd.Series(ann_predictions_holdout_normalized, index=exp_LTC.get_config('y_test').index)\n",
    "\n",
    "# 4. De-normalize ANN Hold-out Predictions (back to original residual scale)\n",
    "ann_predictions_holdout_denormalized = scaler_residuals.inverse_transform(np.array(ann_predictions_holdout_normalized).reshape(-1, 1)).flatten()\n",
    "ann_predictions_holdout_denormalized = pd.Series(ann_predictions_holdout_denormalized, index=ann_predictions_holdout_normalized.index)\n",
    "\n",
    "# 5. Print sample of de-normalized hold-out ANN residual predictions\n",
    "print(\"\\nFirst 10 De-normalized Hold-out ANN Residual Predictions:\")\n",
    "print(ann_predictions_holdout_denormalized.head(10))\n",
    "\n",
    "# --- Step: Obtain ETS Hold-out Predictions (for plotting) ---\n",
    "ets_predictions_holdout = exp_LTC.predict_model(ses_LTC)\n",
    "\n",
    "# Ensure the index of ETS hold-out predictions is a DatetimeIndex for plotting\n",
    "if isinstance(ets_predictions_holdout.index, pd.PeriodIndex):\n",
    "    ets_predictions_holdout.index = ets_predictions_holdout.index.to_timestamp()\n"
   ]
  },
  {
   "cell_type": "code",
   "execution_count": null,
   "metadata": {},
   "outputs": [
    {
     "name": "stdout",
     "output_type": "stream",
     "text": [
      "\n",
      "Summary Statistics - Actual Test Set Residuals (DatetimeIndex):\n",
      "count    365.000000\n",
      "mean       5.787365\n",
      "std       15.673975\n",
      "min      -17.112890\n",
      "25%       -5.660818\n",
      "50%        0.032923\n",
      "75%       12.011202\n",
      "max       63.141908\n",
      "dtype: float64\n",
      "\n",
      "Summary Statistics - De-normalized ANN Hold-out Predictions:\n",
      "count    365.000000\n",
      "mean       0.389306\n",
      "std        3.473990\n",
      "min      -26.182150\n",
      "25%        0.948395\n",
      "50%        0.948398\n",
      "75%        0.948400\n",
      "max        1.788275\n",
      "dtype: float64\n"
     ]
    }
   ],
   "source": [
    "# --- Insert this code block to replace the original summary statistics printing ---\n",
    "\n",
    "# Print summary statistics (min, max, mean, std) for actual test residuals\n",
    "y_test_LTC_datetime_index = y_test_LTC.copy() \n",
    "y_test_LTC_datetime_index.index = y_test_LTC_datetime_index.index.to_timestamp()\n",
    "\n",
    "actual_test_residuals_series = y_test_LTC_datetime_index - ets_predictions_holdout['y_pred'] \n",
    "\n",
    "print(\"\\nSummary Statistics - Actual Test Set Residuals (DatetimeIndex):\")\n",
    "print(actual_test_residuals_series.describe())\n",
    "\n",
    "# Print summary statistics for de-normalized ANN hold-out predictions \n",
    "print(\"\\nSummary Statistics - De-normalized ANN Hold-out Predictions:\")\n",
    "print(ann_predictions_holdout_denormalized.describe())"
   ]
  },
  {
   "cell_type": "code",
   "execution_count": 113,
   "metadata": {},
   "outputs": [
    {
     "name": "stdout",
     "output_type": "stream",
     "text": [
      "\n",
      "Head of ets_predictions_holdout DataFrame:\n",
      "             y_pred\n",
      "2024-01-03  73.0968\n",
      "2024-01-04  73.0968\n",
      "2024-01-05  73.0968\n",
      "2024-01-06  73.0968\n",
      "2024-01-07  73.0968\n",
      "\n",
      "Info of ets_predictions_holdout DataFrame:\n",
      "<class 'pandas.core.frame.DataFrame'>\n",
      "DatetimeIndex: 365 entries, 2024-01-03 to 2025-01-01\n",
      "Freq: D\n",
      "Data columns (total 1 columns):\n",
      " #   Column  Non-Null Count  Dtype  \n",
      "---  ------  --------------  -----  \n",
      " 0   y_pred  365 non-null    float64\n",
      "dtypes: float64(1)\n",
      "memory usage: 5.7 KB\n"
     ]
    }
   ],
   "source": [
    "print(\"\\nHead of ets_predictions_holdout DataFrame:\")\n",
    "print(ets_predictions_holdout.head())\n",
    "print(\"\\nInfo of ets_predictions_holdout DataFrame:\")\n",
    "ets_predictions_holdout.info()"
   ]
  },
  {
   "cell_type": "code",
   "execution_count": 114,
   "metadata": {},
   "outputs": [
    {
     "name": "stdout",
     "output_type": "stream",
     "text": [
      "\n",
      "Head of y_test_LTC DataFrame:\n",
      "Date\n",
      "2024-01-03    65.301643\n",
      "2024-01-04    66.491394\n",
      "2024-01-05    66.021149\n",
      "2024-01-06    65.676079\n",
      "2024-01-07    64.257469\n",
      "Freq: D, Name: Close, dtype: float64\n",
      "\n",
      "Info of y_test_LTC DataFrame:\n",
      "<class 'pandas.core.series.Series'>\n",
      "PeriodIndex: 365 entries, 2024-01-03 to 2025-01-01\n",
      "Freq: D\n",
      "Series name: Close\n",
      "Non-Null Count  Dtype  \n",
      "--------------  -----  \n",
      "365 non-null    float64\n",
      "dtypes: float64(1)\n",
      "memory usage: 5.7 KB\n"
     ]
    }
   ],
   "source": [
    "print(\"\\nHead of y_test_LTC DataFrame:\")\n",
    "print(y_test_LTC.head())\n",
    "print(\"\\nInfo of y_test_LTC DataFrame:\")\n",
    "y_test_LTC.info()\n"
   ]
  },
  {
   "cell_type": "code",
   "execution_count": 115,
   "metadata": {},
   "outputs": [
    {
     "data": {
      "text/html": [
       "<style type=\"text/css\">\n",
       "</style>\n",
       "<table id=\"T_c20c5\">\n",
       "  <thead>\n",
       "    <tr>\n",
       "      <th class=\"blank level0\" >&nbsp;</th>\n",
       "      <th id=\"T_c20c5_level0_col0\" class=\"col_heading level0 col0\" >Model</th>\n",
       "      <th id=\"T_c20c5_level0_col1\" class=\"col_heading level0 col1\" >MASE</th>\n",
       "      <th id=\"T_c20c5_level0_col2\" class=\"col_heading level0 col2\" >RMSSE</th>\n",
       "      <th id=\"T_c20c5_level0_col3\" class=\"col_heading level0 col3\" >MAE</th>\n",
       "      <th id=\"T_c20c5_level0_col4\" class=\"col_heading level0 col4\" >RMSE</th>\n",
       "      <th id=\"T_c20c5_level0_col5\" class=\"col_heading level0 col5\" >MAPE</th>\n",
       "      <th id=\"T_c20c5_level0_col6\" class=\"col_heading level0 col6\" >SMAPE</th>\n",
       "      <th id=\"T_c20c5_level0_col7\" class=\"col_heading level0 col7\" >R2</th>\n",
       "    </tr>\n",
       "  </thead>\n",
       "  <tbody>\n",
       "    <tr>\n",
       "      <th id=\"T_c20c5_level0_row0\" class=\"row_heading level0 row0\" >0</th>\n",
       "      <td id=\"T_c20c5_row0_col0\" class=\"data row0 col0\" >Exponential Smoothing</td>\n",
       "      <td id=\"T_c20c5_row0_col1\" class=\"data row0 col1\" >1.4970</td>\n",
       "      <td id=\"T_c20c5_row0_col2\" class=\"data row0 col2\" >1.2155</td>\n",
       "      <td id=\"T_c20c5_row0_col3\" class=\"data row0 col3\" >11.5556</td>\n",
       "      <td id=\"T_c20c5_row0_col4\" class=\"data row0 col4\" >16.6881</td>\n",
       "      <td id=\"T_c20c5_row0_col5\" class=\"data row0 col5\" >0.1313</td>\n",
       "      <td id=\"T_c20c5_row0_col6\" class=\"data row0 col6\" >0.1414</td>\n",
       "      <td id=\"T_c20c5_row0_col7\" class=\"data row0 col7\" >-0.1367</td>\n",
       "    </tr>\n",
       "  </tbody>\n",
       "</table>\n"
      ],
      "text/plain": [
       "<pandas.io.formats.style.Styler at 0x3546f7c70>"
      ]
     },
     "metadata": {},
     "output_type": "display_data"
    }
   ],
   "source": [
    "# Re-run Step 5b: Obtain Hold-out (Test Set) Predictions from Best ETS Model\n",
    "ets_predictions_holdout = exp_LTC.predict_model(ses_LTC) "
   ]
  },
  {
   "cell_type": "code",
   "execution_count": 116,
   "metadata": {},
   "outputs": [],
   "source": [
    "# Calculate residuals: actual - predictions\n",
    "residuals = train_data_LTC - in_sample_predictions_ses_LTC\n"
   ]
  },
  {
   "cell_type": "code",
   "execution_count": 117,
   "metadata": {},
   "outputs": [
    {
     "data": {
      "text/html": [
       "<style type=\"text/css\">\n",
       "</style>\n",
       "<table id=\"T_d6b6c\">\n",
       "  <thead>\n",
       "    <tr>\n",
       "      <th class=\"blank level0\" >&nbsp;</th>\n",
       "      <th id=\"T_d6b6c_level0_col0\" class=\"col_heading level0 col0\" >Model</th>\n",
       "      <th id=\"T_d6b6c_level0_col1\" class=\"col_heading level0 col1\" >MASE</th>\n",
       "      <th id=\"T_d6b6c_level0_col2\" class=\"col_heading level0 col2\" >RMSSE</th>\n",
       "      <th id=\"T_d6b6c_level0_col3\" class=\"col_heading level0 col3\" >MAE</th>\n",
       "      <th id=\"T_d6b6c_level0_col4\" class=\"col_heading level0 col4\" >RMSE</th>\n",
       "      <th id=\"T_d6b6c_level0_col5\" class=\"col_heading level0 col5\" >MAPE</th>\n",
       "      <th id=\"T_d6b6c_level0_col6\" class=\"col_heading level0 col6\" >SMAPE</th>\n",
       "      <th id=\"T_d6b6c_level0_col7\" class=\"col_heading level0 col7\" >R2</th>\n",
       "    </tr>\n",
       "  </thead>\n",
       "  <tbody>\n",
       "    <tr>\n",
       "      <th id=\"T_d6b6c_level0_row0\" class=\"row_heading level0 row0\" >0</th>\n",
       "      <td id=\"T_d6b6c_row0_col0\" class=\"data row0 col0\" >Exponential Smoothing</td>\n",
       "      <td id=\"T_d6b6c_row0_col1\" class=\"data row0 col1\" >1.4970</td>\n",
       "      <td id=\"T_d6b6c_row0_col2\" class=\"data row0 col2\" >1.2155</td>\n",
       "      <td id=\"T_d6b6c_row0_col3\" class=\"data row0 col3\" >11.5556</td>\n",
       "      <td id=\"T_d6b6c_row0_col4\" class=\"data row0 col4\" >16.6881</td>\n",
       "      <td id=\"T_d6b6c_row0_col5\" class=\"data row0 col5\" >0.1313</td>\n",
       "      <td id=\"T_d6b6c_row0_col6\" class=\"data row0 col6\" >0.1414</td>\n",
       "      <td id=\"T_d6b6c_row0_col7\" class=\"data row0 col7\" >-0.1367</td>\n",
       "    </tr>\n",
       "  </tbody>\n",
       "</table>\n"
      ],
      "text/plain": [
       "<pandas.io.formats.style.Styler at 0x31e766fd0>"
      ]
     },
     "metadata": {},
     "output_type": "display_data"
    },
    {
     "name": "stdout",
     "output_type": "stream",
     "text": [
      "\n",
      "First 10 Final Hybrid Hold-out Forecasts:\n",
      "2024-01-03    46.914650\n",
      "2024-01-04    47.577261\n",
      "2024-01-05    48.439699\n",
      "2024-01-06    49.597960\n",
      "2024-01-07    51.135561\n",
      "2024-01-08    53.095402\n",
      "2024-01-09    55.267477\n",
      "2024-01-10    59.021891\n",
      "2024-01-11    62.003827\n",
      "2024-01-12    64.978255\n",
      "Freq: D, dtype: float64\n"
     ]
    }
   ],
   "source": [
    "# --- Step 12: Combine ETS and ANN Predictions for Final Hybrid Forecasts ---\n",
    "\n",
    "# Get ETS hold-out predictions (if you haven't already calculated them)\n",
    "ets_predictions_holdout = exp_LTC.predict_model(ses_LTC)\n",
    "\n",
    "# Combine ETS predictions and ANN residual predictions for final hybrid hold-out forecasts\n",
    "final_predictions_holdout_hybrid = ets_predictions_holdout['y_pred'] + ann_predictions_holdout_denormalized\n",
    "\n",
    "# Print the first few final hybrid hold-out forecasts\n",
    "print(\"\\nFirst 10 Final Hybrid Hold-out Forecasts:\")\n",
    "print(final_predictions_holdout_hybrid.head(10))"
   ]
  },
  {
   "cell_type": "code",
   "execution_count": 118,
   "metadata": {},
   "outputs": [],
   "source": [
    "def ts_metrics(y, y_hat):\n",
    " \n",
    "    mae = mean_absolute_error(y, y_hat)\n",
    "    mape = mean_absolute_percentage_error(y, y_hat)\n",
    "    rmse = np.sqrt(mean_squared_error(y, y_hat))\n",
    "    r2 = r2_score(y, y_hat)\n",
    "    \n",
    "    metrics = {\n",
    "        'MAE': mae,\n",
    "        'MAPE': mape,\n",
    "        'RMSE': rmse,\n",
    "        'R2': r2,\n",
    "    }\n",
    "    \n",
    "    print(\"Time Series Model Evaluation Metrics:\")\n",
    "    print(\"-\" * 40)\n",
    "    print(f\"Mean Absolute Error (MAE): {mae:.4f}\")\n",
    "    print(f\"Mean Absolute Percentage Error (MAPE): {mape:.4%}\")\n",
    "    print(f\"Root Mean Squared Error (RMSE): {rmse:.4f}\")\n",
    "    print(f\"R-squared (R²): {r2:.4f}\")\n",
    "    \n",
    "    return "
   ]
  },
  {
   "cell_type": "code",
   "execution_count": 119,
   "metadata": {},
   "outputs": [
    {
     "name": "stdout",
     "output_type": "stream",
     "text": [
      "\n",
      "--- Hybrid Model Evaluation Metrics (Hold-out Set) ---\n",
      "Time Series Model Evaluation Metrics:\n",
      "----------------------------------------\n",
      "Mean Absolute Error (MAE): 11.7965\n",
      "Mean Absolute Percentage Error (MAPE): 13.6522%\n",
      "Root Mean Squared Error (RMSE): 16.5235\n",
      "R-squared (R²): -0.1144\n"
     ]
    }
   ],
   "source": [
    "# --- Step 13: Evaluate Hybrid Model Performance on Hold-out Set ---\n",
    "print(\"\\n--- Hybrid Model Evaluation Metrics (Hold-out Set) ---\")\n",
    "ts_metrics(exp_LTC.get_config('y_test'), final_predictions_holdout_hybrid)"
   ]
  },
  {
   "cell_type": "code",
   "execution_count": 120,
   "metadata": {},
   "outputs": [
    {
     "data": {
      "image/png": "[encoded data removed]",
      "text/plain": [
       "<Figure size 1200x600 with 1 Axes>"
      ]
     },
     "metadata": {},
     "output_type": "display_data"
    }
   ],
   "source": [
    "# Ensure correct index type for plotting\n",
    "if isinstance(df_LTC.index, pd.PeriodIndex):\n",
    "    df_LTC.index = df_LTC.index.to_timestamp()\n",
    "\n",
    "if isinstance(ets_predictions_holdout.index, pd.PeriodIndex):\n",
    "    ets_predictions_holdout.index = ets_predictions_holdout.index.to_timestamp()\n",
    "\n",
    "# Ensure df_LTC is a DataFrame and contains the 'Close' column\n",
    "if isinstance(df_LTC, pd.Series):\n",
    "    df_LTC = df_LTC.to_frame(name='Close')\n",
    "\n",
    "plt.figure(figsize=(12, 6))\n",
    "\n",
    "# Plot Actual Litecoin Prices (Full Data)\n",
    "if isinstance(df_LTC, pd.DataFrame) and 'Close' in df_LTC.columns:\n",
    "    plt.plot(df_LTC.index, df_LTC['Close'], label='Actual Litecoin Prices', color='blue')\n",
    "else:\n",
    "    print(\"Error: 'Close' column not found in df_LTC DataFrame\")\n",
    "\n",
    "# Plot ETS Hold-out Predictions\n",
    "if isinstance(ets_predictions_holdout, pd.DataFrame) and 'y_pred' in ets_predictions_holdout.columns:\n",
    "    plt.plot(ets_predictions_holdout.index, ets_predictions_holdout['y_pred'], label='ETS Hold-out Predictions', color='red', linestyle='--')\n",
    "else:\n",
    "    print(\"Error: 'y_pred' column not found in ets_predictions_holdout DataFrame\")\n",
    "\n",
    "# Plot ETS-ANN Hybrid Predictions\n",
    "if isinstance(final_predictions_holdout_hybrid, pd.Series):\n",
    "    plt.plot(final_predictions_holdout_hybrid.index, final_predictions_holdout_hybrid, label='ETS-ANN Hybrid Predictions', color='green', linestyle='-.')\n",
    "else:\n",
    "    print(\"Error: final_predictions_holdout_hybrid is not a Series\")\n",
    "\n",
    "plt.title('Litecoin Prices vs. ETS and ETS-ANN Hybrid Predictions')\n",
    "plt.xlabel('Date')\n",
    "plt.ylabel('Price')\n",
    "plt.legend()\n",
    "plt.grid(True)\n",
    "plt.show()"
   ]
  }
 ],
 "metadata": {
  "kernelspec": {
   "display_name": "ets_ann_env_new",
   "language": "python",
   "name": "python3"
  },
  "language_info": {
   "codemirror_mode": {
    "name": "ipython",
    "version": 3
   },
   "file_extension": ".py",
   "mimetype": "text/x-python",
   "name": "python",
   "nbconvert_exporter": "python",
   "pygments_lexer": "ipython3",
   "version": "3.9.18"
  }
 },
 "nbformat": 4,
 "nbformat_minor": 2
}
