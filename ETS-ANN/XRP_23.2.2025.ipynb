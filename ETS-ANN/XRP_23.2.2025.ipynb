{
 "cells": [
  {
   "cell_type": "markdown",
   "metadata": {},
   "source": [
    "ETS-ANN hybrid model for XRP"
   ]
  },
  {
   "cell_type": "code",
   "execution_count": 74,
   "metadata": {},
   "outputs": [],
   "source": [
    "# Import libraries\n",
    "import pandas as pd\n",
    "import numpy as np\n",
    "import matplotlib.pyplot as plt\n",
    "import warnings\n",
    "warnings.filterwarnings('ignore')\n",
    "from sklearn.preprocessing import MinMaxScaler\n",
    "from pycaret.utils import version\n",
    "version()\n",
    "from pycaret.time_series import TSForecastingExperiment\n",
    "import matplotlib.pyplot as plt\n",
    "from statsmodels.tsa.seasonal import seasonal_decompose\n",
    "from statsmodels.tsa.holtwinters import ExponentialSmoothing\n",
    "from pmdarima.arima.utils import nsdiffs, ndiffs\n",
    "from keras.models import Sequential\n",
    "from keras.layers import Dense\n",
    "from sklearn.metrics import mean_absolute_percentage_error, mean_absolute_error, mean_squared_error, r2_score\n",
    "from statsmodels.tsa.seasonal import STL\n",
    "from tensorflow.keras.optimizers import Adam\n",
    "from sklearn.metrics import mean_absolute_percentage_error, mean_absolute_error, mean_squared_error, r2_score\n",
    "import yfinance as yf\n",
    "from statsmodels.tsa.stattools import adfuller\n",
    "from statsmodels.tsa.seasonal import seasonal_decompose\n",
    "from statsmodels.tsa.holtwinters import ExponentialSmoothing\n",
    "from pycaret.time_series import *\n",
    "\n"
   ]
  },
  {
   "cell_type": "markdown",
   "metadata": {},
   "source": [
    "Data pre-processing"
   ]
  },
  {
   "cell_type": "code",
   "execution_count": 75,
   "metadata": {},
   "outputs": [
    {
     "name": "stderr",
     "output_type": "stream",
     "text": [
      "[*********************100%***********************]  1 of 1 completed"
     ]
    },
    {
     "name": "stdout",
     "output_type": "stream",
     "text": [
      "<class 'pandas.core.frame.DataFrame'>\n",
      "DatetimeIndex: 1828 entries, 2020-01-01 to 2025-01-01\n",
      "Data columns (total 5 columns):\n",
      " #   Column  Non-Null Count  Dtype  \n",
      "---  ------  --------------  -----  \n",
      " 0   Close   1828 non-null   float64\n",
      " 1   High    1828 non-null   float64\n",
      " 2   Low     1828 non-null   float64\n",
      " 3   Open    1828 non-null   float64\n",
      " 4   Volume  1828 non-null   int64  \n",
      "dtypes: float64(4), int64(1)\n",
      "memory usage: 85.7 KB\n",
      "Null Values: 0\n",
      "Index(['Close', 'High', 'Low', 'Open', 'Volume'], dtype='object')\n",
      "DatetimeIndex(['2020-01-01', '2020-01-02', '2020-01-03', '2020-01-04',\n",
      "               '2020-01-05', '2020-01-06', '2020-01-07', '2020-01-08',\n",
      "               '2020-01-09', '2020-01-10',\n",
      "               ...\n",
      "               '2024-12-23', '2024-12-24', '2024-12-25', '2024-12-26',\n",
      "               '2024-12-27', '2024-12-28', '2024-12-29', '2024-12-30',\n",
      "               '2024-12-31', '2025-01-01'],\n",
      "              dtype='datetime64[ns]', name='Date', length=1828, freq=None)\n",
      "Frequency of the index: <Day>\n"
     ]
    },
    {
     "name": "stderr",
     "output_type": "stream",
     "text": [
      "\n"
     ]
    }
   ],
   "source": [
    "df_XRP = yf.download(\n",
    "tickers = [\"XRP-USD\"],\n",
    "start = \"2020-01-01\",\n",
    "end = \"2025-01-02\"\n",
    ")\n",
    "df_XRP.columns = ['Close', 'High', 'Low', 'Open', 'Volume']\n",
    "df_XRP.shape\n",
    "df_XRP.info()\n",
    "print('Null Values:',df_XRP.isnull().values.sum())\n",
    "print(df_XRP.columns)\n",
    "df_XRP.reset_index(inplace=True)\n",
    "df_XRP['Date'] = pd.to_datetime(df_XRP['Date'], format='%Y-%m-%d')\n",
    "df_XRP = df_XRP[['Date', 'Close']]\n",
    "df_XRP.head()\n",
    "df_XRP.set_index('Date', inplace=True)\n",
    "print(df_XRP.index)\n",
    "df_XRP = df_XRP.asfreq('D')  \n",
    "print(f\"Frequency of the index: {df_XRP.index.freq}\")\n"
   ]
  },
  {
   "cell_type": "code",
   "execution_count": 76,
   "metadata": {},
   "outputs": [
    {
     "data": {
      "text/html": [
       "<style type=\"text/css\">\n",
       "#T_b47b1_row23_col1 {\n",
       "  background-color: lightgreen;\n",
       "}\n",
       "</style>\n",
       "<table id=\"T_b47b1\">\n",
       "  <thead>\n",
       "    <tr>\n",
       "      <th class=\"blank level0\" >&nbsp;</th>\n",
       "      <th id=\"T_b47b1_level0_col0\" class=\"col_heading level0 col0\" >Description</th>\n",
       "      <th id=\"T_b47b1_level0_col1\" class=\"col_heading level0 col1\" >Value</th>\n",
       "    </tr>\n",
       "  </thead>\n",
       "  <tbody>\n",
       "    <tr>\n",
       "      <th id=\"T_b47b1_level0_row0\" class=\"row_heading level0 row0\" >0</th>\n",
       "      <td id=\"T_b47b1_row0_col0\" class=\"data row0 col0\" >session_id</td>\n",
       "      <td id=\"T_b47b1_row0_col1\" class=\"data row0 col1\" >123</td>\n",
       "    </tr>\n",
       "    <tr>\n",
       "      <th id=\"T_b47b1_level0_row1\" class=\"row_heading level0 row1\" >1</th>\n",
       "      <td id=\"T_b47b1_row1_col0\" class=\"data row1 col0\" >Target</td>\n",
       "      <td id=\"T_b47b1_row1_col1\" class=\"data row1 col1\" >Close</td>\n",
       "    </tr>\n",
       "    <tr>\n",
       "      <th id=\"T_b47b1_level0_row2\" class=\"row_heading level0 row2\" >2</th>\n",
       "      <td id=\"T_b47b1_row2_col0\" class=\"data row2 col0\" >Approach</td>\n",
       "      <td id=\"T_b47b1_row2_col1\" class=\"data row2 col1\" >Univariate</td>\n",
       "    </tr>\n",
       "    <tr>\n",
       "      <th id=\"T_b47b1_level0_row3\" class=\"row_heading level0 row3\" >3</th>\n",
       "      <td id=\"T_b47b1_row3_col0\" class=\"data row3 col0\" >Exogenous Variables</td>\n",
       "      <td id=\"T_b47b1_row3_col1\" class=\"data row3 col1\" >Not Present</td>\n",
       "    </tr>\n",
       "    <tr>\n",
       "      <th id=\"T_b47b1_level0_row4\" class=\"row_heading level0 row4\" >4</th>\n",
       "      <td id=\"T_b47b1_row4_col0\" class=\"data row4 col0\" >Original data shape</td>\n",
       "      <td id=\"T_b47b1_row4_col1\" class=\"data row4 col1\" >(1828, 1)</td>\n",
       "    </tr>\n",
       "    <tr>\n",
       "      <th id=\"T_b47b1_level0_row5\" class=\"row_heading level0 row5\" >5</th>\n",
       "      <td id=\"T_b47b1_row5_col0\" class=\"data row5 col0\" >Transformed data shape</td>\n",
       "      <td id=\"T_b47b1_row5_col1\" class=\"data row5 col1\" >(1828, 1)</td>\n",
       "    </tr>\n",
       "    <tr>\n",
       "      <th id=\"T_b47b1_level0_row6\" class=\"row_heading level0 row6\" >6</th>\n",
       "      <td id=\"T_b47b1_row6_col0\" class=\"data row6 col0\" >Transformed train set shape</td>\n",
       "      <td id=\"T_b47b1_row6_col1\" class=\"data row6 col1\" >(1463, 1)</td>\n",
       "    </tr>\n",
       "    <tr>\n",
       "      <th id=\"T_b47b1_level0_row7\" class=\"row_heading level0 row7\" >7</th>\n",
       "      <td id=\"T_b47b1_row7_col0\" class=\"data row7 col0\" >Transformed test set shape</td>\n",
       "      <td id=\"T_b47b1_row7_col1\" class=\"data row7 col1\" >(365, 1)</td>\n",
       "    </tr>\n",
       "    <tr>\n",
       "      <th id=\"T_b47b1_level0_row8\" class=\"row_heading level0 row8\" >8</th>\n",
       "      <td id=\"T_b47b1_row8_col0\" class=\"data row8 col0\" >Rows with missing values</td>\n",
       "      <td id=\"T_b47b1_row8_col1\" class=\"data row8 col1\" >0.0%</td>\n",
       "    </tr>\n",
       "    <tr>\n",
       "      <th id=\"T_b47b1_level0_row9\" class=\"row_heading level0 row9\" >9</th>\n",
       "      <td id=\"T_b47b1_row9_col0\" class=\"data row9 col0\" >Fold Generator</td>\n",
       "      <td id=\"T_b47b1_row9_col1\" class=\"data row9 col1\" >ExpandingWindowSplitter</td>\n",
       "    </tr>\n",
       "    <tr>\n",
       "      <th id=\"T_b47b1_level0_row10\" class=\"row_heading level0 row10\" >10</th>\n",
       "      <td id=\"T_b47b1_row10_col0\" class=\"data row10 col0\" >Fold Number</td>\n",
       "      <td id=\"T_b47b1_row10_col1\" class=\"data row10 col1\" >3</td>\n",
       "    </tr>\n",
       "    <tr>\n",
       "      <th id=\"T_b47b1_level0_row11\" class=\"row_heading level0 row11\" >11</th>\n",
       "      <td id=\"T_b47b1_row11_col0\" class=\"data row11 col0\" >Enforce Prediction Interval</td>\n",
       "      <td id=\"T_b47b1_row11_col1\" class=\"data row11 col1\" >False</td>\n",
       "    </tr>\n",
       "    <tr>\n",
       "      <th id=\"T_b47b1_level0_row12\" class=\"row_heading level0 row12\" >12</th>\n",
       "      <td id=\"T_b47b1_row12_col0\" class=\"data row12 col0\" >Splits used for hyperparameters</td>\n",
       "      <td id=\"T_b47b1_row12_col1\" class=\"data row12 col1\" >all</td>\n",
       "    </tr>\n",
       "    <tr>\n",
       "      <th id=\"T_b47b1_level0_row13\" class=\"row_heading level0 row13\" >13</th>\n",
       "      <td id=\"T_b47b1_row13_col0\" class=\"data row13 col0\" >Seasonality Detection Algo</td>\n",
       "      <td id=\"T_b47b1_row13_col1\" class=\"data row13 col1\" >auto</td>\n",
       "    </tr>\n",
       "    <tr>\n",
       "      <th id=\"T_b47b1_level0_row14\" class=\"row_heading level0 row14\" >14</th>\n",
       "      <td id=\"T_b47b1_row14_col0\" class=\"data row14 col0\" >Max Period to Consider</td>\n",
       "      <td id=\"T_b47b1_row14_col1\" class=\"data row14 col1\" >60</td>\n",
       "    </tr>\n",
       "    <tr>\n",
       "      <th id=\"T_b47b1_level0_row15\" class=\"row_heading level0 row15\" >15</th>\n",
       "      <td id=\"T_b47b1_row15_col0\" class=\"data row15 col0\" >Seasonal Period(s) Tested</td>\n",
       "      <td id=\"T_b47b1_row15_col1\" class=\"data row15 col1\" >[9, 31, 15, 33, 25, 4, 13, 22]</td>\n",
       "    </tr>\n",
       "    <tr>\n",
       "      <th id=\"T_b47b1_level0_row16\" class=\"row_heading level0 row16\" >16</th>\n",
       "      <td id=\"T_b47b1_row16_col0\" class=\"data row16 col0\" >Significant Seasonal Period(s)</td>\n",
       "      <td id=\"T_b47b1_row16_col1\" class=\"data row16 col1\" >[9, 31, 15, 33, 25, 4, 13, 22]</td>\n",
       "    </tr>\n",
       "    <tr>\n",
       "      <th id=\"T_b47b1_level0_row17\" class=\"row_heading level0 row17\" >17</th>\n",
       "      <td id=\"T_b47b1_row17_col0\" class=\"data row17 col0\" >Significant Seasonal Period(s) without Harmonics</td>\n",
       "      <td id=\"T_b47b1_row17_col1\" class=\"data row17 col1\" >[9, 31, 15, 33, 25, 4, 13, 22]</td>\n",
       "    </tr>\n",
       "    <tr>\n",
       "      <th id=\"T_b47b1_level0_row18\" class=\"row_heading level0 row18\" >18</th>\n",
       "      <td id=\"T_b47b1_row18_col0\" class=\"data row18 col0\" >Remove Harmonics</td>\n",
       "      <td id=\"T_b47b1_row18_col1\" class=\"data row18 col1\" >False</td>\n",
       "    </tr>\n",
       "    <tr>\n",
       "      <th id=\"T_b47b1_level0_row19\" class=\"row_heading level0 row19\" >19</th>\n",
       "      <td id=\"T_b47b1_row19_col0\" class=\"data row19 col0\" >Harmonics Order Method</td>\n",
       "      <td id=\"T_b47b1_row19_col1\" class=\"data row19 col1\" >harmonic_max</td>\n",
       "    </tr>\n",
       "    <tr>\n",
       "      <th id=\"T_b47b1_level0_row20\" class=\"row_heading level0 row20\" >20</th>\n",
       "      <td id=\"T_b47b1_row20_col0\" class=\"data row20 col0\" >Num Seasonalities to Use</td>\n",
       "      <td id=\"T_b47b1_row20_col1\" class=\"data row20 col1\" >1</td>\n",
       "    </tr>\n",
       "    <tr>\n",
       "      <th id=\"T_b47b1_level0_row21\" class=\"row_heading level0 row21\" >21</th>\n",
       "      <td id=\"T_b47b1_row21_col0\" class=\"data row21 col0\" >All Seasonalities to Use</td>\n",
       "      <td id=\"T_b47b1_row21_col1\" class=\"data row21 col1\" >[9]</td>\n",
       "    </tr>\n",
       "    <tr>\n",
       "      <th id=\"T_b47b1_level0_row22\" class=\"row_heading level0 row22\" >22</th>\n",
       "      <td id=\"T_b47b1_row22_col0\" class=\"data row22 col0\" >Primary Seasonality</td>\n",
       "      <td id=\"T_b47b1_row22_col1\" class=\"data row22 col1\" >9</td>\n",
       "    </tr>\n",
       "    <tr>\n",
       "      <th id=\"T_b47b1_level0_row23\" class=\"row_heading level0 row23\" >23</th>\n",
       "      <td id=\"T_b47b1_row23_col0\" class=\"data row23 col0\" >Seasonality Present</td>\n",
       "      <td id=\"T_b47b1_row23_col1\" class=\"data row23 col1\" >True</td>\n",
       "    </tr>\n",
       "    <tr>\n",
       "      <th id=\"T_b47b1_level0_row24\" class=\"row_heading level0 row24\" >24</th>\n",
       "      <td id=\"T_b47b1_row24_col0\" class=\"data row24 col0\" >Target Strictly Positive</td>\n",
       "      <td id=\"T_b47b1_row24_col1\" class=\"data row24 col1\" >True</td>\n",
       "    </tr>\n",
       "    <tr>\n",
       "      <th id=\"T_b47b1_level0_row25\" class=\"row_heading level0 row25\" >25</th>\n",
       "      <td id=\"T_b47b1_row25_col0\" class=\"data row25 col0\" >Target White Noise</td>\n",
       "      <td id=\"T_b47b1_row25_col1\" class=\"data row25 col1\" >No</td>\n",
       "    </tr>\n",
       "    <tr>\n",
       "      <th id=\"T_b47b1_level0_row26\" class=\"row_heading level0 row26\" >26</th>\n",
       "      <td id=\"T_b47b1_row26_col0\" class=\"data row26 col0\" >Recommended d</td>\n",
       "      <td id=\"T_b47b1_row26_col1\" class=\"data row26 col1\" >1</td>\n",
       "    </tr>\n",
       "    <tr>\n",
       "      <th id=\"T_b47b1_level0_row27\" class=\"row_heading level0 row27\" >27</th>\n",
       "      <td id=\"T_b47b1_row27_col0\" class=\"data row27 col0\" >Recommended Seasonal D</td>\n",
       "      <td id=\"T_b47b1_row27_col1\" class=\"data row27 col1\" >0</td>\n",
       "    </tr>\n",
       "    <tr>\n",
       "      <th id=\"T_b47b1_level0_row28\" class=\"row_heading level0 row28\" >28</th>\n",
       "      <td id=\"T_b47b1_row28_col0\" class=\"data row28 col0\" >Preprocess</td>\n",
       "      <td id=\"T_b47b1_row28_col1\" class=\"data row28 col1\" >False</td>\n",
       "    </tr>\n",
       "    <tr>\n",
       "      <th id=\"T_b47b1_level0_row29\" class=\"row_heading level0 row29\" >29</th>\n",
       "      <td id=\"T_b47b1_row29_col0\" class=\"data row29 col0\" >CPU Jobs</td>\n",
       "      <td id=\"T_b47b1_row29_col1\" class=\"data row29 col1\" >-1</td>\n",
       "    </tr>\n",
       "    <tr>\n",
       "      <th id=\"T_b47b1_level0_row30\" class=\"row_heading level0 row30\" >30</th>\n",
       "      <td id=\"T_b47b1_row30_col0\" class=\"data row30 col0\" >Use GPU</td>\n",
       "      <td id=\"T_b47b1_row30_col1\" class=\"data row30 col1\" >False</td>\n",
       "    </tr>\n",
       "    <tr>\n",
       "      <th id=\"T_b47b1_level0_row31\" class=\"row_heading level0 row31\" >31</th>\n",
       "      <td id=\"T_b47b1_row31_col0\" class=\"data row31 col0\" >Log Experiment</td>\n",
       "      <td id=\"T_b47b1_row31_col1\" class=\"data row31 col1\" >False</td>\n",
       "    </tr>\n",
       "    <tr>\n",
       "      <th id=\"T_b47b1_level0_row32\" class=\"row_heading level0 row32\" >32</th>\n",
       "      <td id=\"T_b47b1_row32_col0\" class=\"data row32 col0\" >Experiment Name</td>\n",
       "      <td id=\"T_b47b1_row32_col1\" class=\"data row32 col1\" >ts-default-name</td>\n",
       "    </tr>\n",
       "    <tr>\n",
       "      <th id=\"T_b47b1_level0_row33\" class=\"row_heading level0 row33\" >33</th>\n",
       "      <td id=\"T_b47b1_row33_col0\" class=\"data row33 col0\" >USI</td>\n",
       "      <td id=\"T_b47b1_row33_col1\" class=\"data row33 col1\" >bfba</td>\n",
       "    </tr>\n",
       "  </tbody>\n",
       "</table>\n"
      ],
      "text/plain": [
       "<pandas.io.formats.style.Styler at 0x3681d86a0>"
      ]
     },
     "metadata": {},
     "output_type": "display_data"
    },
    {
     "data": {
      "text/html": [
       "<div>\n",
       "<style scoped>\n",
       "    .dataframe tbody tr th:only-of-type {\n",
       "        vertical-align: middle;\n",
       "    }\n",
       "\n",
       "    .dataframe tbody tr th {\n",
       "        vertical-align: top;\n",
       "    }\n",
       "\n",
       "    .dataframe thead th {\n",
       "        text-align: right;\n",
       "    }\n",
       "</style>\n",
       "<table border=\"1\" class=\"dataframe\">\n",
       "  <thead>\n",
       "    <tr style=\"text-align: right;\">\n",
       "      <th></th>\n",
       "      <th>Test</th>\n",
       "      <th>Test Name</th>\n",
       "      <th>Data</th>\n",
       "      <th>Property</th>\n",
       "      <th>Setting</th>\n",
       "      <th>Value</th>\n",
       "    </tr>\n",
       "  </thead>\n",
       "  <tbody>\n",
       "    <tr>\n",
       "      <th>0</th>\n",
       "      <td>Summary</td>\n",
       "      <td>Statistics</td>\n",
       "      <td>Transformed</td>\n",
       "      <td>Length</td>\n",
       "      <td></td>\n",
       "      <td>1828.0</td>\n",
       "    </tr>\n",
       "    <tr>\n",
       "      <th>1</th>\n",
       "      <td>Summary</td>\n",
       "      <td>Statistics</td>\n",
       "      <td>Transformed</td>\n",
       "      <td># Missing Values</td>\n",
       "      <td></td>\n",
       "      <td>0.0</td>\n",
       "    </tr>\n",
       "    <tr>\n",
       "      <th>2</th>\n",
       "      <td>Summary</td>\n",
       "      <td>Statistics</td>\n",
       "      <td>Transformed</td>\n",
       "      <td>Mean</td>\n",
       "      <td></td>\n",
       "      <td>0.578873</td>\n",
       "    </tr>\n",
       "    <tr>\n",
       "      <th>3</th>\n",
       "      <td>Summary</td>\n",
       "      <td>Statistics</td>\n",
       "      <td>Transformed</td>\n",
       "      <td>Median</td>\n",
       "      <td></td>\n",
       "      <td>0.51285</td>\n",
       "    </tr>\n",
       "    <tr>\n",
       "      <th>4</th>\n",
       "      <td>Summary</td>\n",
       "      <td>Statistics</td>\n",
       "      <td>Transformed</td>\n",
       "      <td>Standard Deviation</td>\n",
       "      <td></td>\n",
       "      <td>0.367232</td>\n",
       "    </tr>\n",
       "    <tr>\n",
       "      <th>5</th>\n",
       "      <td>Summary</td>\n",
       "      <td>Statistics</td>\n",
       "      <td>Transformed</td>\n",
       "      <td>Variance</td>\n",
       "      <td></td>\n",
       "      <td>0.134859</td>\n",
       "    </tr>\n",
       "    <tr>\n",
       "      <th>6</th>\n",
       "      <td>Summary</td>\n",
       "      <td>Statistics</td>\n",
       "      <td>Transformed</td>\n",
       "      <td>Kurtosis</td>\n",
       "      <td></td>\n",
       "      <td>8.339111</td>\n",
       "    </tr>\n",
       "    <tr>\n",
       "      <th>7</th>\n",
       "      <td>Summary</td>\n",
       "      <td>Statistics</td>\n",
       "      <td>Transformed</td>\n",
       "      <td>Skewness</td>\n",
       "      <td></td>\n",
       "      <td>2.434459</td>\n",
       "    </tr>\n",
       "    <tr>\n",
       "      <th>8</th>\n",
       "      <td>Summary</td>\n",
       "      <td>Statistics</td>\n",
       "      <td>Transformed</td>\n",
       "      <td># Distinct Values</td>\n",
       "      <td></td>\n",
       "      <td>1825.0</td>\n",
       "    </tr>\n",
       "    <tr>\n",
       "      <th>9</th>\n",
       "      <td>White Noise</td>\n",
       "      <td>Ljung-Box</td>\n",
       "      <td>Transformed</td>\n",
       "      <td>Test Statictic</td>\n",
       "      <td>{'alpha': 0.05, 'K': 24}</td>\n",
       "      <td>29992.280377</td>\n",
       "    </tr>\n",
       "    <tr>\n",
       "      <th>10</th>\n",
       "      <td>White Noise</td>\n",
       "      <td>Ljung-Box</td>\n",
       "      <td>Transformed</td>\n",
       "      <td>Test Statictic</td>\n",
       "      <td>{'alpha': 0.05, 'K': 48}</td>\n",
       "      <td>38696.061959</td>\n",
       "    </tr>\n",
       "    <tr>\n",
       "      <th>11</th>\n",
       "      <td>White Noise</td>\n",
       "      <td>Ljung-Box</td>\n",
       "      <td>Transformed</td>\n",
       "      <td>p-value</td>\n",
       "      <td>{'alpha': 0.05, 'K': 24}</td>\n",
       "      <td>0.0</td>\n",
       "    </tr>\n",
       "    <tr>\n",
       "      <th>12</th>\n",
       "      <td>White Noise</td>\n",
       "      <td>Ljung-Box</td>\n",
       "      <td>Transformed</td>\n",
       "      <td>p-value</td>\n",
       "      <td>{'alpha': 0.05, 'K': 48}</td>\n",
       "      <td>0.0</td>\n",
       "    </tr>\n",
       "    <tr>\n",
       "      <th>13</th>\n",
       "      <td>White Noise</td>\n",
       "      <td>Ljung-Box</td>\n",
       "      <td>Transformed</td>\n",
       "      <td>White Noise</td>\n",
       "      <td>{'alpha': 0.05, 'K': 24}</td>\n",
       "      <td>False</td>\n",
       "    </tr>\n",
       "    <tr>\n",
       "      <th>14</th>\n",
       "      <td>White Noise</td>\n",
       "      <td>Ljung-Box</td>\n",
       "      <td>Transformed</td>\n",
       "      <td>White Noise</td>\n",
       "      <td>{'alpha': 0.05, 'K': 48}</td>\n",
       "      <td>False</td>\n",
       "    </tr>\n",
       "    <tr>\n",
       "      <th>15</th>\n",
       "      <td>Stationarity</td>\n",
       "      <td>ADF</td>\n",
       "      <td>Transformed</td>\n",
       "      <td>Stationarity</td>\n",
       "      <td>{'alpha': 0.05}</td>\n",
       "      <td>False</td>\n",
       "    </tr>\n",
       "    <tr>\n",
       "      <th>16</th>\n",
       "      <td>Stationarity</td>\n",
       "      <td>ADF</td>\n",
       "      <td>Transformed</td>\n",
       "      <td>p-value</td>\n",
       "      <td>{'alpha': 0.05}</td>\n",
       "      <td>0.188187</td>\n",
       "    </tr>\n",
       "    <tr>\n",
       "      <th>17</th>\n",
       "      <td>Stationarity</td>\n",
       "      <td>ADF</td>\n",
       "      <td>Transformed</td>\n",
       "      <td>Test Statistic</td>\n",
       "      <td>{'alpha': 0.05}</td>\n",
       "      <td>-2.251208</td>\n",
       "    </tr>\n",
       "    <tr>\n",
       "      <th>18</th>\n",
       "      <td>Stationarity</td>\n",
       "      <td>ADF</td>\n",
       "      <td>Transformed</td>\n",
       "      <td>Critical Value 1%</td>\n",
       "      <td>{'alpha': 0.05}</td>\n",
       "      <td>-3.433984</td>\n",
       "    </tr>\n",
       "    <tr>\n",
       "      <th>19</th>\n",
       "      <td>Stationarity</td>\n",
       "      <td>ADF</td>\n",
       "      <td>Transformed</td>\n",
       "      <td>Critical Value 5%</td>\n",
       "      <td>{'alpha': 0.05}</td>\n",
       "      <td>-2.863145</td>\n",
       "    </tr>\n",
       "    <tr>\n",
       "      <th>20</th>\n",
       "      <td>Stationarity</td>\n",
       "      <td>ADF</td>\n",
       "      <td>Transformed</td>\n",
       "      <td>Critical Value 10%</td>\n",
       "      <td>{'alpha': 0.05}</td>\n",
       "      <td>-2.567625</td>\n",
       "    </tr>\n",
       "    <tr>\n",
       "      <th>21</th>\n",
       "      <td>Stationarity</td>\n",
       "      <td>KPSS</td>\n",
       "      <td>Transformed</td>\n",
       "      <td>Trend Stationarity</td>\n",
       "      <td>{'alpha': 0.05}</td>\n",
       "      <td>False</td>\n",
       "    </tr>\n",
       "    <tr>\n",
       "      <th>22</th>\n",
       "      <td>Stationarity</td>\n",
       "      <td>KPSS</td>\n",
       "      <td>Transformed</td>\n",
       "      <td>p-value</td>\n",
       "      <td>{'alpha': 0.05}</td>\n",
       "      <td>0.01</td>\n",
       "    </tr>\n",
       "    <tr>\n",
       "      <th>23</th>\n",
       "      <td>Stationarity</td>\n",
       "      <td>KPSS</td>\n",
       "      <td>Transformed</td>\n",
       "      <td>Test Statistic</td>\n",
       "      <td>{'alpha': 0.05}</td>\n",
       "      <td>0.397156</td>\n",
       "    </tr>\n",
       "    <tr>\n",
       "      <th>24</th>\n",
       "      <td>Stationarity</td>\n",
       "      <td>KPSS</td>\n",
       "      <td>Transformed</td>\n",
       "      <td>Critical Value 10%</td>\n",
       "      <td>{'alpha': 0.05}</td>\n",
       "      <td>0.119</td>\n",
       "    </tr>\n",
       "    <tr>\n",
       "      <th>25</th>\n",
       "      <td>Stationarity</td>\n",
       "      <td>KPSS</td>\n",
       "      <td>Transformed</td>\n",
       "      <td>Critical Value 5%</td>\n",
       "      <td>{'alpha': 0.05}</td>\n",
       "      <td>0.146</td>\n",
       "    </tr>\n",
       "    <tr>\n",
       "      <th>26</th>\n",
       "      <td>Stationarity</td>\n",
       "      <td>KPSS</td>\n",
       "      <td>Transformed</td>\n",
       "      <td>Critical Value 2.5%</td>\n",
       "      <td>{'alpha': 0.05}</td>\n",
       "      <td>0.176</td>\n",
       "    </tr>\n",
       "    <tr>\n",
       "      <th>27</th>\n",
       "      <td>Stationarity</td>\n",
       "      <td>KPSS</td>\n",
       "      <td>Transformed</td>\n",
       "      <td>Critical Value 1%</td>\n",
       "      <td>{'alpha': 0.05}</td>\n",
       "      <td>0.216</td>\n",
       "    </tr>\n",
       "    <tr>\n",
       "      <th>28</th>\n",
       "      <td>Normality</td>\n",
       "      <td>Shapiro</td>\n",
       "      <td>Transformed</td>\n",
       "      <td>Normality</td>\n",
       "      <td>{'alpha': 0.05}</td>\n",
       "      <td>False</td>\n",
       "    </tr>\n",
       "    <tr>\n",
       "      <th>29</th>\n",
       "      <td>Normality</td>\n",
       "      <td>Shapiro</td>\n",
       "      <td>Transformed</td>\n",
       "      <td>p-value</td>\n",
       "      <td>{'alpha': 0.05}</td>\n",
       "      <td>0.0</td>\n",
       "    </tr>\n",
       "  </tbody>\n",
       "</table>\n",
       "</div>"
      ],
      "text/plain": [
       "            Test   Test Name         Data             Property  \\\n",
       "0        Summary  Statistics  Transformed               Length   \n",
       "1        Summary  Statistics  Transformed     # Missing Values   \n",
       "2        Summary  Statistics  Transformed                 Mean   \n",
       "3        Summary  Statistics  Transformed               Median   \n",
       "4        Summary  Statistics  Transformed   Standard Deviation   \n",
       "5        Summary  Statistics  Transformed             Variance   \n",
       "6        Summary  Statistics  Transformed             Kurtosis   \n",
       "7        Summary  Statistics  Transformed             Skewness   \n",
       "8        Summary  Statistics  Transformed    # Distinct Values   \n",
       "9    White Noise   Ljung-Box  Transformed       Test Statictic   \n",
       "10   White Noise   Ljung-Box  Transformed       Test Statictic   \n",
       "11   White Noise   Ljung-Box  Transformed              p-value   \n",
       "12   White Noise   Ljung-Box  Transformed              p-value   \n",
       "13   White Noise   Ljung-Box  Transformed          White Noise   \n",
       "14   White Noise   Ljung-Box  Transformed          White Noise   \n",
       "15  Stationarity         ADF  Transformed         Stationarity   \n",
       "16  Stationarity         ADF  Transformed              p-value   \n",
       "17  Stationarity         ADF  Transformed       Test Statistic   \n",
       "18  Stationarity         ADF  Transformed    Critical Value 1%   \n",
       "19  Stationarity         ADF  Transformed    Critical Value 5%   \n",
       "20  Stationarity         ADF  Transformed   Critical Value 10%   \n",
       "21  Stationarity        KPSS  Transformed   Trend Stationarity   \n",
       "22  Stationarity        KPSS  Transformed              p-value   \n",
       "23  Stationarity        KPSS  Transformed       Test Statistic   \n",
       "24  Stationarity        KPSS  Transformed   Critical Value 10%   \n",
       "25  Stationarity        KPSS  Transformed    Critical Value 5%   \n",
       "26  Stationarity        KPSS  Transformed  Critical Value 2.5%   \n",
       "27  Stationarity        KPSS  Transformed    Critical Value 1%   \n",
       "28     Normality     Shapiro  Transformed            Normality   \n",
       "29     Normality     Shapiro  Transformed              p-value   \n",
       "\n",
       "                     Setting         Value  \n",
       "0                                   1828.0  \n",
       "1                                      0.0  \n",
       "2                                 0.578873  \n",
       "3                                  0.51285  \n",
       "4                                 0.367232  \n",
       "5                                 0.134859  \n",
       "6                                 8.339111  \n",
       "7                                 2.434459  \n",
       "8                                   1825.0  \n",
       "9   {'alpha': 0.05, 'K': 24}  29992.280377  \n",
       "10  {'alpha': 0.05, 'K': 48}  38696.061959  \n",
       "11  {'alpha': 0.05, 'K': 24}           0.0  \n",
       "12  {'alpha': 0.05, 'K': 48}           0.0  \n",
       "13  {'alpha': 0.05, 'K': 24}         False  \n",
       "14  {'alpha': 0.05, 'K': 48}         False  \n",
       "15           {'alpha': 0.05}         False  \n",
       "16           {'alpha': 0.05}      0.188187  \n",
       "17           {'alpha': 0.05}     -2.251208  \n",
       "18           {'alpha': 0.05}     -3.433984  \n",
       "19           {'alpha': 0.05}     -2.863145  \n",
       "20           {'alpha': 0.05}     -2.567625  \n",
       "21           {'alpha': 0.05}         False  \n",
       "22           {'alpha': 0.05}          0.01  \n",
       "23           {'alpha': 0.05}      0.397156  \n",
       "24           {'alpha': 0.05}         0.119  \n",
       "25           {'alpha': 0.05}         0.146  \n",
       "26           {'alpha': 0.05}         0.176  \n",
       "27           {'alpha': 0.05}         0.216  \n",
       "28           {'alpha': 0.05}         False  \n",
       "29           {'alpha': 0.05}           0.0  "
      ]
     },
     "execution_count": 76,
     "metadata": {},
     "output_type": "execute_result"
    }
   ],
   "source": [
    "exp_XRP = TSForecastingExperiment()\n",
    "exp_XRP.setup(data=df_XRP, target='Close', fh=365, session_id=123,coverage=0.90)\n",
    "exp_XRP.check_stats()"
   ]
  },
  {
   "cell_type": "markdown",
   "metadata": {},
   "source": [
    "Getting the complete data used in the experiment"
   ]
  },
  {
   "cell_type": "code",
   "execution_count": 77,
   "metadata": {},
   "outputs": [
    {
     "name": "stdout",
     "output_type": "stream",
     "text": [
      "Training Data:\n",
      "Date\n",
      "2020-01-01    0.192667\n",
      "2020-01-02    0.188043\n",
      "2020-01-03    0.193521\n",
      "2020-01-04    0.194355\n",
      "2020-01-05    0.195537\n",
      "                ...   \n",
      "2023-12-29    0.623402\n",
      "2023-12-30    0.621844\n",
      "2023-12-31    0.614941\n",
      "2024-01-01    0.630082\n",
      "2024-01-02    0.625363\n",
      "Freq: D, Name: Close, Length: 1463, dtype: float64\n",
      "\n",
      "Testing Data:\n",
      "Date\n",
      "2024-01-03    0.582580\n",
      "2024-01-04    0.588226\n",
      "2024-01-05    0.576486\n",
      "2024-01-06    0.568512\n",
      "2024-01-07    0.551741\n",
      "                ...   \n",
      "2024-12-28    2.180824\n",
      "2024-12-29    2.093180\n",
      "2024-12-30    2.057571\n",
      "2024-12-31    2.080128\n",
      "2025-01-01    2.322341\n",
      "Freq: D, Name: Close, Length: 365, dtype: float64\n"
     ]
    }
   ],
   "source": [
    "complete_data = exp_XRP.get_config('y') \n",
    "fh = exp_XRP.get_config('fh')  \n",
    "train_data_XRP = complete_data[:-fh[0]] \n",
    "test_data_XRP = complete_data[-fh[0]:] \n",
    "\n",
    "y_train_XRP = exp_XRP.get_config('y_train')\n",
    "y_test_XRP = exp_XRP.get_config('y_test')\n",
    "\n",
    "print(\"Training Data:\")\n",
    "print(y_train_XRP)\n",
    "print(\"\\nTesting Data:\")\n",
    "print(y_test_XRP)"
   ]
  },
  {
   "cell_type": "code",
   "execution_count": 78,
   "metadata": {},
   "outputs": [
    {
     "data": {
      "text/html": [
       "<div>\n",
       "<style scoped>\n",
       "    .dataframe tbody tr th:only-of-type {\n",
       "        vertical-align: middle;\n",
       "    }\n",
       "\n",
       "    .dataframe tbody tr th {\n",
       "        vertical-align: top;\n",
       "    }\n",
       "\n",
       "    .dataframe thead th {\n",
       "        text-align: right;\n",
       "    }\n",
       "</style>\n",
       "<table border=\"1\" class=\"dataframe\">\n",
       "  <thead>\n",
       "    <tr style=\"text-align: right;\">\n",
       "      <th></th>\n",
       "      <th>Name</th>\n",
       "      <th>Reference</th>\n",
       "      <th>Turbo</th>\n",
       "    </tr>\n",
       "    <tr>\n",
       "      <th>ID</th>\n",
       "      <th></th>\n",
       "      <th></th>\n",
       "      <th></th>\n",
       "    </tr>\n",
       "  </thead>\n",
       "  <tbody>\n",
       "    <tr>\n",
       "      <th>naive</th>\n",
       "      <td>Naive Forecaster</td>\n",
       "      <td>sktime.forecasting.naive.NaiveForecaster</td>\n",
       "      <td>True</td>\n",
       "    </tr>\n",
       "    <tr>\n",
       "      <th>grand_means</th>\n",
       "      <td>Grand Means Forecaster</td>\n",
       "      <td>sktime.forecasting.naive.NaiveForecaster</td>\n",
       "      <td>True</td>\n",
       "    </tr>\n",
       "    <tr>\n",
       "      <th>snaive</th>\n",
       "      <td>Seasonal Naive Forecaster</td>\n",
       "      <td>sktime.forecasting.naive.NaiveForecaster</td>\n",
       "      <td>True</td>\n",
       "    </tr>\n",
       "    <tr>\n",
       "      <th>polytrend</th>\n",
       "      <td>Polynomial Trend Forecaster</td>\n",
       "      <td>sktime.forecasting.trend._polynomial_trend_for...</td>\n",
       "      <td>True</td>\n",
       "    </tr>\n",
       "    <tr>\n",
       "      <th>arima</th>\n",
       "      <td>ARIMA</td>\n",
       "      <td>sktime.forecasting.arima.ARIMA</td>\n",
       "      <td>True</td>\n",
       "    </tr>\n",
       "    <tr>\n",
       "      <th>auto_arima</th>\n",
       "      <td>Auto ARIMA</td>\n",
       "      <td>sktime.forecasting.arima.AutoARIMA</td>\n",
       "      <td>True</td>\n",
       "    </tr>\n",
       "    <tr>\n",
       "      <th>exp_smooth</th>\n",
       "      <td>Exponential Smoothing</td>\n",
       "      <td>sktime.forecasting.exp_smoothing.ExponentialSm...</td>\n",
       "      <td>True</td>\n",
       "    </tr>\n",
       "    <tr>\n",
       "      <th>croston</th>\n",
       "      <td>Croston</td>\n",
       "      <td>sktime.forecasting.croston.Croston</td>\n",
       "      <td>True</td>\n",
       "    </tr>\n",
       "    <tr>\n",
       "      <th>ets</th>\n",
       "      <td>ETS</td>\n",
       "      <td>sktime.forecasting.ets.AutoETS</td>\n",
       "      <td>True</td>\n",
       "    </tr>\n",
       "    <tr>\n",
       "      <th>theta</th>\n",
       "      <td>Theta Forecaster</td>\n",
       "      <td>sktime.forecasting.theta.ThetaForecaster</td>\n",
       "      <td>True</td>\n",
       "    </tr>\n",
       "    <tr>\n",
       "      <th>tbats</th>\n",
       "      <td>TBATS</td>\n",
       "      <td>sktime.forecasting.tbats.TBATS</td>\n",
       "      <td>False</td>\n",
       "    </tr>\n",
       "    <tr>\n",
       "      <th>bats</th>\n",
       "      <td>BATS</td>\n",
       "      <td>sktime.forecasting.bats.BATS</td>\n",
       "      <td>False</td>\n",
       "    </tr>\n",
       "    <tr>\n",
       "      <th>lr_cds_dt</th>\n",
       "      <td>Linear w/ Cond. Deseasonalize &amp; Detrending</td>\n",
       "      <td>pycaret.containers.models.time_series.BaseCdsD...</td>\n",
       "      <td>True</td>\n",
       "    </tr>\n",
       "    <tr>\n",
       "      <th>en_cds_dt</th>\n",
       "      <td>Elastic Net w/ Cond. Deseasonalize &amp; Detrending</td>\n",
       "      <td>pycaret.containers.models.time_series.BaseCdsD...</td>\n",
       "      <td>True</td>\n",
       "    </tr>\n",
       "    <tr>\n",
       "      <th>ridge_cds_dt</th>\n",
       "      <td>Ridge w/ Cond. Deseasonalize &amp; Detrending</td>\n",
       "      <td>pycaret.containers.models.time_series.BaseCdsD...</td>\n",
       "      <td>True</td>\n",
       "    </tr>\n",
       "    <tr>\n",
       "      <th>lasso_cds_dt</th>\n",
       "      <td>Lasso w/ Cond. Deseasonalize &amp; Detrending</td>\n",
       "      <td>pycaret.containers.models.time_series.BaseCdsD...</td>\n",
       "      <td>True</td>\n",
       "    </tr>\n",
       "    <tr>\n",
       "      <th>lar_cds_dt</th>\n",
       "      <td>Least Angular Regressor w/ Cond. Deseasonalize...</td>\n",
       "      <td>pycaret.containers.models.time_series.BaseCdsD...</td>\n",
       "      <td>True</td>\n",
       "    </tr>\n",
       "    <tr>\n",
       "      <th>llar_cds_dt</th>\n",
       "      <td>Lasso Least Angular Regressor w/ Cond. Deseaso...</td>\n",
       "      <td>pycaret.containers.models.time_series.BaseCdsD...</td>\n",
       "      <td>True</td>\n",
       "    </tr>\n",
       "    <tr>\n",
       "      <th>br_cds_dt</th>\n",
       "      <td>Bayesian Ridge w/ Cond. Deseasonalize &amp; Detren...</td>\n",
       "      <td>pycaret.containers.models.time_series.BaseCdsD...</td>\n",
       "      <td>True</td>\n",
       "    </tr>\n",
       "    <tr>\n",
       "      <th>huber_cds_dt</th>\n",
       "      <td>Huber w/ Cond. Deseasonalize &amp; Detrending</td>\n",
       "      <td>pycaret.containers.models.time_series.BaseCdsD...</td>\n",
       "      <td>True</td>\n",
       "    </tr>\n",
       "    <tr>\n",
       "      <th>par_cds_dt</th>\n",
       "      <td>Passive Aggressive w/ Cond. Deseasonalize &amp; De...</td>\n",
       "      <td>pycaret.containers.models.time_series.BaseCdsD...</td>\n",
       "      <td>True</td>\n",
       "    </tr>\n",
       "    <tr>\n",
       "      <th>omp_cds_dt</th>\n",
       "      <td>Orthogonal Matching Pursuit w/ Cond. Deseasona...</td>\n",
       "      <td>pycaret.containers.models.time_series.BaseCdsD...</td>\n",
       "      <td>True</td>\n",
       "    </tr>\n",
       "    <tr>\n",
       "      <th>knn_cds_dt</th>\n",
       "      <td>K Neighbors w/ Cond. Deseasonalize &amp; Detrending</td>\n",
       "      <td>pycaret.containers.models.time_series.BaseCdsD...</td>\n",
       "      <td>True</td>\n",
       "    </tr>\n",
       "    <tr>\n",
       "      <th>dt_cds_dt</th>\n",
       "      <td>Decision Tree w/ Cond. Deseasonalize &amp; Detrending</td>\n",
       "      <td>pycaret.containers.models.time_series.BaseCdsD...</td>\n",
       "      <td>True</td>\n",
       "    </tr>\n",
       "    <tr>\n",
       "      <th>rf_cds_dt</th>\n",
       "      <td>Random Forest w/ Cond. Deseasonalize &amp; Detrending</td>\n",
       "      <td>pycaret.containers.models.time_series.BaseCdsD...</td>\n",
       "      <td>True</td>\n",
       "    </tr>\n",
       "    <tr>\n",
       "      <th>et_cds_dt</th>\n",
       "      <td>Extra Trees w/ Cond. Deseasonalize &amp; Detrending</td>\n",
       "      <td>pycaret.containers.models.time_series.BaseCdsD...</td>\n",
       "      <td>True</td>\n",
       "    </tr>\n",
       "    <tr>\n",
       "      <th>gbr_cds_dt</th>\n",
       "      <td>Gradient Boosting w/ Cond. Deseasonalize &amp; Det...</td>\n",
       "      <td>pycaret.containers.models.time_series.BaseCdsD...</td>\n",
       "      <td>True</td>\n",
       "    </tr>\n",
       "    <tr>\n",
       "      <th>ada_cds_dt</th>\n",
       "      <td>AdaBoost w/ Cond. Deseasonalize &amp; Detrending</td>\n",
       "      <td>pycaret.containers.models.time_series.BaseCdsD...</td>\n",
       "      <td>True</td>\n",
       "    </tr>\n",
       "    <tr>\n",
       "      <th>lightgbm_cds_dt</th>\n",
       "      <td>Light Gradient Boosting w/ Cond. Deseasonalize...</td>\n",
       "      <td>pycaret.containers.models.time_series.BaseCdsD...</td>\n",
       "      <td>True</td>\n",
       "    </tr>\n",
       "  </tbody>\n",
       "</table>\n",
       "</div>"
      ],
      "text/plain": [
       "                                                              Name  \\\n",
       "ID                                                                   \n",
       "naive                                             Naive Forecaster   \n",
       "grand_means                                 Grand Means Forecaster   \n",
       "snaive                                   Seasonal Naive Forecaster   \n",
       "polytrend                              Polynomial Trend Forecaster   \n",
       "arima                                                        ARIMA   \n",
       "auto_arima                                              Auto ARIMA   \n",
       "exp_smooth                                   Exponential Smoothing   \n",
       "croston                                                    Croston   \n",
       "ets                                                            ETS   \n",
       "theta                                             Theta Forecaster   \n",
       "tbats                                                        TBATS   \n",
       "bats                                                          BATS   \n",
       "lr_cds_dt               Linear w/ Cond. Deseasonalize & Detrending   \n",
       "en_cds_dt          Elastic Net w/ Cond. Deseasonalize & Detrending   \n",
       "ridge_cds_dt             Ridge w/ Cond. Deseasonalize & Detrending   \n",
       "lasso_cds_dt             Lasso w/ Cond. Deseasonalize & Detrending   \n",
       "lar_cds_dt       Least Angular Regressor w/ Cond. Deseasonalize...   \n",
       "llar_cds_dt      Lasso Least Angular Regressor w/ Cond. Deseaso...   \n",
       "br_cds_dt        Bayesian Ridge w/ Cond. Deseasonalize & Detren...   \n",
       "huber_cds_dt             Huber w/ Cond. Deseasonalize & Detrending   \n",
       "par_cds_dt       Passive Aggressive w/ Cond. Deseasonalize & De...   \n",
       "omp_cds_dt       Orthogonal Matching Pursuit w/ Cond. Deseasona...   \n",
       "knn_cds_dt         K Neighbors w/ Cond. Deseasonalize & Detrending   \n",
       "dt_cds_dt        Decision Tree w/ Cond. Deseasonalize & Detrending   \n",
       "rf_cds_dt        Random Forest w/ Cond. Deseasonalize & Detrending   \n",
       "et_cds_dt          Extra Trees w/ Cond. Deseasonalize & Detrending   \n",
       "gbr_cds_dt       Gradient Boosting w/ Cond. Deseasonalize & Det...   \n",
       "ada_cds_dt            AdaBoost w/ Cond. Deseasonalize & Detrending   \n",
       "lightgbm_cds_dt  Light Gradient Boosting w/ Cond. Deseasonalize...   \n",
       "\n",
       "                                                         Reference  Turbo  \n",
       "ID                                                                         \n",
       "naive                     sktime.forecasting.naive.NaiveForecaster   True  \n",
       "grand_means               sktime.forecasting.naive.NaiveForecaster   True  \n",
       "snaive                    sktime.forecasting.naive.NaiveForecaster   True  \n",
       "polytrend        sktime.forecasting.trend._polynomial_trend_for...   True  \n",
       "arima                               sktime.forecasting.arima.ARIMA   True  \n",
       "auto_arima                      sktime.forecasting.arima.AutoARIMA   True  \n",
       "exp_smooth       sktime.forecasting.exp_smoothing.ExponentialSm...   True  \n",
       "croston                         sktime.forecasting.croston.Croston   True  \n",
       "ets                                 sktime.forecasting.ets.AutoETS   True  \n",
       "theta                     sktime.forecasting.theta.ThetaForecaster   True  \n",
       "tbats                               sktime.forecasting.tbats.TBATS  False  \n",
       "bats                                  sktime.forecasting.bats.BATS  False  \n",
       "lr_cds_dt        pycaret.containers.models.time_series.BaseCdsD...   True  \n",
       "en_cds_dt        pycaret.containers.models.time_series.BaseCdsD...   True  \n",
       "ridge_cds_dt     pycaret.containers.models.time_series.BaseCdsD...   True  \n",
       "lasso_cds_dt     pycaret.containers.models.time_series.BaseCdsD...   True  \n",
       "lar_cds_dt       pycaret.containers.models.time_series.BaseCdsD...   True  \n",
       "llar_cds_dt      pycaret.containers.models.time_series.BaseCdsD...   True  \n",
       "br_cds_dt        pycaret.containers.models.time_series.BaseCdsD...   True  \n",
       "huber_cds_dt     pycaret.containers.models.time_series.BaseCdsD...   True  \n",
       "par_cds_dt       pycaret.containers.models.time_series.BaseCdsD...   True  \n",
       "omp_cds_dt       pycaret.containers.models.time_series.BaseCdsD...   True  \n",
       "knn_cds_dt       pycaret.containers.models.time_series.BaseCdsD...   True  \n",
       "dt_cds_dt        pycaret.containers.models.time_series.BaseCdsD...   True  \n",
       "rf_cds_dt        pycaret.containers.models.time_series.BaseCdsD...   True  \n",
       "et_cds_dt        pycaret.containers.models.time_series.BaseCdsD...   True  \n",
       "gbr_cds_dt       pycaret.containers.models.time_series.BaseCdsD...   True  \n",
       "ada_cds_dt       pycaret.containers.models.time_series.BaseCdsD...   True  \n",
       "lightgbm_cds_dt  pycaret.containers.models.time_series.BaseCdsD...   True  "
      ]
     },
     "execution_count": 78,
     "metadata": {},
     "output_type": "execute_result"
    }
   ],
   "source": [
    "exp_XRP.models()"
   ]
  },
  {
   "cell_type": "markdown",
   "metadata": {},
   "source": [
    "ETS model selection for XRP"
   ]
  },
  {
   "cell_type": "code",
   "execution_count": 82,
   "metadata": {},
   "outputs": [
    {
     "data": {
      "text/html": [],
      "text/plain": [
       "<IPython.core.display.HTML object>"
      ]
     },
     "metadata": {},
     "output_type": "display_data"
    },
    {
     "data": {
      "text/html": [
       "<style type=\"text/css\">\n",
       "</style>\n",
       "<table id=\"T_78f08\">\n",
       "  <thead>\n",
       "    <tr>\n",
       "      <th class=\"blank level0\" >&nbsp;</th>\n",
       "      <th id=\"T_78f08_level0_col0\" class=\"col_heading level0 col0\" >MASE</th>\n",
       "      <th id=\"T_78f08_level0_col1\" class=\"col_heading level0 col1\" >RMSSE</th>\n",
       "      <th id=\"T_78f08_level0_col2\" class=\"col_heading level0 col2\" >MAE</th>\n",
       "      <th id=\"T_78f08_level0_col3\" class=\"col_heading level0 col3\" >RMSE</th>\n",
       "      <th id=\"T_78f08_level0_col4\" class=\"col_heading level0 col4\" >MAPE</th>\n",
       "      <th id=\"T_78f08_level0_col5\" class=\"col_heading level0 col5\" >SMAPE</th>\n",
       "      <th id=\"T_78f08_level0_col6\" class=\"col_heading level0 col6\" >R2</th>\n",
       "    </tr>\n",
       "  </thead>\n",
       "  <tbody>\n",
       "    <tr>\n",
       "      <th id=\"T_78f08_level0_row0\" class=\"row_heading level0 row0\" >Test</th>\n",
       "      <td id=\"T_78f08_row0_col0\" class=\"data row0 col0\" >3.8434</td>\n",
       "      <td id=\"T_78f08_row0_col1\" class=\"data row0 col1\" >4.4471</td>\n",
       "      <td id=\"T_78f08_row0_col2\" class=\"data row0 col2\" >0.2496</td>\n",
       "      <td id=\"T_78f08_row0_col3\" class=\"data row0 col3\" >0.5397</td>\n",
       "      <td id=\"T_78f08_row0_col4\" class=\"data row0 col4\" >0.2174</td>\n",
       "      <td id=\"T_78f08_row0_col5\" class=\"data row0 col5\" >0.2507</td>\n",
       "      <td id=\"T_78f08_row0_col6\" class=\"data row0 col6\" >-0.0495</td>\n",
       "    </tr>\n",
       "  </tbody>\n",
       "</table>\n"
      ],
      "text/plain": [
       "<pandas.io.formats.style.Styler at 0x106403370>"
      ]
     },
     "metadata": {},
     "output_type": "display_data"
    },
    {
     "data": {
      "text/html": [],
      "text/plain": [
       "<IPython.core.display.HTML object>"
      ]
     },
     "metadata": {},
     "output_type": "display_data"
    },
    {
     "data": {
      "text/html": [],
      "text/plain": [
       "<IPython.core.display.HTML object>"
      ]
     },
     "metadata": {},
     "output_type": "display_data"
    },
    {
     "data": {
      "text/html": [
       "<style type=\"text/css\">\n",
       "</style>\n",
       "<table id=\"T_b3386\">\n",
       "  <thead>\n",
       "    <tr>\n",
       "      <th class=\"blank level0\" >&nbsp;</th>\n",
       "      <th id=\"T_b3386_level0_col0\" class=\"col_heading level0 col0\" >MASE</th>\n",
       "      <th id=\"T_b3386_level0_col1\" class=\"col_heading level0 col1\" >RMSSE</th>\n",
       "      <th id=\"T_b3386_level0_col2\" class=\"col_heading level0 col2\" >MAE</th>\n",
       "      <th id=\"T_b3386_level0_col3\" class=\"col_heading level0 col3\" >RMSE</th>\n",
       "      <th id=\"T_b3386_level0_col4\" class=\"col_heading level0 col4\" >MAPE</th>\n",
       "      <th id=\"T_b3386_level0_col5\" class=\"col_heading level0 col5\" >SMAPE</th>\n",
       "      <th id=\"T_b3386_level0_col6\" class=\"col_heading level0 col6\" >R2</th>\n",
       "    </tr>\n",
       "  </thead>\n",
       "  <tbody>\n",
       "    <tr>\n",
       "      <th id=\"T_b3386_level0_row0\" class=\"row_heading level0 row0\" >Test</th>\n",
       "      <td id=\"T_b3386_row0_col0\" class=\"data row0 col0\" >4.2273</td>\n",
       "      <td id=\"T_b3386_row0_col1\" class=\"data row0 col1\" >4.2366</td>\n",
       "      <td id=\"T_b3386_row0_col2\" class=\"data row0 col2\" >0.2746</td>\n",
       "      <td id=\"T_b3386_row0_col3\" class=\"data row0 col3\" >0.5142</td>\n",
       "      <td id=\"T_b3386_row0_col4\" class=\"data row0 col4\" >0.2813</td>\n",
       "      <td id=\"T_b3386_row0_col5\" class=\"data row0 col5\" >0.2933</td>\n",
       "      <td id=\"T_b3386_row0_col6\" class=\"data row0 col6\" >0.0475</td>\n",
       "    </tr>\n",
       "  </tbody>\n",
       "</table>\n"
      ],
      "text/plain": [
       "<pandas.io.formats.style.Styler at 0x31bd01cd0>"
      ]
     },
     "metadata": {},
     "output_type": "display_data"
    },
    {
     "data": {
      "text/html": [],
      "text/plain": [
       "<IPython.core.display.HTML object>"
      ]
     },
     "metadata": {},
     "output_type": "display_data"
    },
    {
     "data": {
      "text/html": [],
      "text/plain": [
       "<IPython.core.display.HTML object>"
      ]
     },
     "metadata": {},
     "output_type": "display_data"
    },
    {
     "data": {
      "text/html": [
       "<style type=\"text/css\">\n",
       "</style>\n",
       "<table id=\"T_0957c\">\n",
       "  <thead>\n",
       "    <tr>\n",
       "      <th class=\"blank level0\" >&nbsp;</th>\n",
       "      <th id=\"T_0957c_level0_col0\" class=\"col_heading level0 col0\" >MASE</th>\n",
       "      <th id=\"T_0957c_level0_col1\" class=\"col_heading level0 col1\" >RMSSE</th>\n",
       "      <th id=\"T_0957c_level0_col2\" class=\"col_heading level0 col2\" >MAE</th>\n",
       "      <th id=\"T_0957c_level0_col3\" class=\"col_heading level0 col3\" >RMSE</th>\n",
       "      <th id=\"T_0957c_level0_col4\" class=\"col_heading level0 col4\" >MAPE</th>\n",
       "      <th id=\"T_0957c_level0_col5\" class=\"col_heading level0 col5\" >SMAPE</th>\n",
       "      <th id=\"T_0957c_level0_col6\" class=\"col_heading level0 col6\" >R2</th>\n",
       "    </tr>\n",
       "  </thead>\n",
       "  <tbody>\n",
       "    <tr>\n",
       "      <th id=\"T_0957c_level0_row0\" class=\"row_heading level0 row0\" >Test</th>\n",
       "      <td id=\"T_0957c_row0_col0\" class=\"data row0 col0\" >5.1363</td>\n",
       "      <td id=\"T_0957c_row0_col1\" class=\"data row0 col1\" >4.2571</td>\n",
       "      <td id=\"T_0957c_row0_col2\" class=\"data row0 col2\" >0.3336</td>\n",
       "      <td id=\"T_0957c_row0_col3\" class=\"data row0 col3\" >0.5167</td>\n",
       "      <td id=\"T_0957c_row0_col4\" class=\"data row0 col4\" >0.4037</td>\n",
       "      <td id=\"T_0957c_row0_col5\" class=\"data row0 col5\" >0.3722</td>\n",
       "      <td id=\"T_0957c_row0_col6\" class=\"data row0 col6\" >0.0383</td>\n",
       "    </tr>\n",
       "  </tbody>\n",
       "</table>\n"
      ],
      "text/plain": [
       "<pandas.io.formats.style.Styler at 0x17338a1f0>"
      ]
     },
     "metadata": {},
     "output_type": "display_data"
    },
    {
     "data": {
      "text/html": [],
      "text/plain": [
       "<IPython.core.display.HTML object>"
      ]
     },
     "metadata": {},
     "output_type": "display_data"
    },
    {
     "data": {
      "text/html": [],
      "text/plain": [
       "<IPython.core.display.HTML object>"
      ]
     },
     "metadata": {},
     "output_type": "display_data"
    },
    {
     "data": {
      "text/html": [
       "<style type=\"text/css\">\n",
       "</style>\n",
       "<table id=\"T_0896b\">\n",
       "  <thead>\n",
       "    <tr>\n",
       "      <th class=\"blank level0\" >&nbsp;</th>\n",
       "      <th id=\"T_0896b_level0_col0\" class=\"col_heading level0 col0\" >MASE</th>\n",
       "      <th id=\"T_0896b_level0_col1\" class=\"col_heading level0 col1\" >RMSSE</th>\n",
       "      <th id=\"T_0896b_level0_col2\" class=\"col_heading level0 col2\" >MAE</th>\n",
       "      <th id=\"T_0896b_level0_col3\" class=\"col_heading level0 col3\" >RMSE</th>\n",
       "      <th id=\"T_0896b_level0_col4\" class=\"col_heading level0 col4\" >MAPE</th>\n",
       "      <th id=\"T_0896b_level0_col5\" class=\"col_heading level0 col5\" >SMAPE</th>\n",
       "      <th id=\"T_0896b_level0_col6\" class=\"col_heading level0 col6\" >R2</th>\n",
       "    </tr>\n",
       "  </thead>\n",
       "  <tbody>\n",
       "    <tr>\n",
       "      <th id=\"T_0896b_level0_row0\" class=\"row_heading level0 row0\" >Test</th>\n",
       "      <td id=\"T_0896b_row0_col0\" class=\"data row0 col0\" >6.8830</td>\n",
       "      <td id=\"T_0896b_row0_col1\" class=\"data row0 col1\" >4.6067</td>\n",
       "      <td id=\"T_0896b_row0_col2\" class=\"data row0 col2\" >0.4471</td>\n",
       "      <td id=\"T_0896b_row0_col3\" class=\"data row0 col3\" >0.5591</td>\n",
       "      <td id=\"T_0896b_row0_col4\" class=\"data row0 col4\" >0.6580</td>\n",
       "      <td id=\"T_0896b_row0_col5\" class=\"data row0 col5\" >0.4856</td>\n",
       "      <td id=\"T_0896b_row0_col6\" class=\"data row0 col6\" >-0.1261</td>\n",
       "    </tr>\n",
       "  </tbody>\n",
       "</table>\n"
      ],
      "text/plain": [
       "<pandas.io.formats.style.Styler at 0x35a4e1d90>"
      ]
     },
     "metadata": {},
     "output_type": "display_data"
    },
    {
     "data": {
      "text/html": [],
      "text/plain": [
       "<IPython.core.display.HTML object>"
      ]
     },
     "metadata": {},
     "output_type": "display_data"
    },
    {
     "data": {
      "text/html": [],
      "text/plain": [
       "<IPython.core.display.HTML object>"
      ]
     },
     "metadata": {},
     "output_type": "display_data"
    },
    {
     "data": {
      "text/html": [
       "<style type=\"text/css\">\n",
       "</style>\n",
       "<table id=\"T_7c8a6\">\n",
       "  <thead>\n",
       "    <tr>\n",
       "      <th class=\"blank level0\" >&nbsp;</th>\n",
       "      <th id=\"T_7c8a6_level0_col0\" class=\"col_heading level0 col0\" >MASE</th>\n",
       "      <th id=\"T_7c8a6_level0_col1\" class=\"col_heading level0 col1\" >RMSSE</th>\n",
       "      <th id=\"T_7c8a6_level0_col2\" class=\"col_heading level0 col2\" >MAE</th>\n",
       "      <th id=\"T_7c8a6_level0_col3\" class=\"col_heading level0 col3\" >RMSE</th>\n",
       "      <th id=\"T_7c8a6_level0_col4\" class=\"col_heading level0 col4\" >MAPE</th>\n",
       "      <th id=\"T_7c8a6_level0_col5\" class=\"col_heading level0 col5\" >SMAPE</th>\n",
       "      <th id=\"T_7c8a6_level0_col6\" class=\"col_heading level0 col6\" >R2</th>\n",
       "    </tr>\n",
       "  </thead>\n",
       "  <tbody>\n",
       "    <tr>\n",
       "      <th id=\"T_7c8a6_level0_row0\" class=\"row_heading level0 row0\" >Test</th>\n",
       "      <td id=\"T_7c8a6_row0_col0\" class=\"data row0 col0\" >4.8037</td>\n",
       "      <td id=\"T_7c8a6_row0_col1\" class=\"data row0 col1\" >4.5101</td>\n",
       "      <td id=\"T_7c8a6_row0_col2\" class=\"data row0 col2\" >0.3120</td>\n",
       "      <td id=\"T_7c8a6_row0_col3\" class=\"data row0 col3\" >0.5474</td>\n",
       "      <td id=\"T_7c8a6_row0_col4\" class=\"data row0 col4\" >0.3450</td>\n",
       "      <td id=\"T_7c8a6_row0_col5\" class=\"data row0 col5\" >0.3292</td>\n",
       "      <td id=\"T_7c8a6_row0_col6\" class=\"data row0 col6\" >-0.0794</td>\n",
       "    </tr>\n",
       "  </tbody>\n",
       "</table>\n"
      ],
      "text/plain": [
       "<pandas.io.formats.style.Styler at 0x3284c71f0>"
      ]
     },
     "metadata": {},
     "output_type": "display_data"
    },
    {
     "data": {
      "text/html": [],
      "text/plain": [
       "<IPython.core.display.HTML object>"
      ]
     },
     "metadata": {},
     "output_type": "display_data"
    },
    {
     "data": {
      "text/html": [],
      "text/plain": [
       "<IPython.core.display.HTML object>"
      ]
     },
     "metadata": {},
     "output_type": "display_data"
    },
    {
     "data": {
      "text/html": [
       "<style type=\"text/css\">\n",
       "</style>\n",
       "<table id=\"T_23166\">\n",
       "  <thead>\n",
       "    <tr>\n",
       "      <th class=\"blank level0\" >&nbsp;</th>\n",
       "      <th id=\"T_23166_level0_col0\" class=\"col_heading level0 col0\" >MASE</th>\n",
       "      <th id=\"T_23166_level0_col1\" class=\"col_heading level0 col1\" >RMSSE</th>\n",
       "      <th id=\"T_23166_level0_col2\" class=\"col_heading level0 col2\" >MAE</th>\n",
       "      <th id=\"T_23166_level0_col3\" class=\"col_heading level0 col3\" >RMSE</th>\n",
       "      <th id=\"T_23166_level0_col4\" class=\"col_heading level0 col4\" >MAPE</th>\n",
       "      <th id=\"T_23166_level0_col5\" class=\"col_heading level0 col5\" >SMAPE</th>\n",
       "      <th id=\"T_23166_level0_col6\" class=\"col_heading level0 col6\" >R2</th>\n",
       "    </tr>\n",
       "  </thead>\n",
       "  <tbody>\n",
       "    <tr>\n",
       "      <th id=\"T_23166_level0_row0\" class=\"row_heading level0 row0\" >Test</th>\n",
       "      <td id=\"T_23166_row0_col0\" class=\"data row0 col0\" >3.8434</td>\n",
       "      <td id=\"T_23166_row0_col1\" class=\"data row0 col1\" >4.4471</td>\n",
       "      <td id=\"T_23166_row0_col2\" class=\"data row0 col2\" >0.2496</td>\n",
       "      <td id=\"T_23166_row0_col3\" class=\"data row0 col3\" >0.5397</td>\n",
       "      <td id=\"T_23166_row0_col4\" class=\"data row0 col4\" >0.2174</td>\n",
       "      <td id=\"T_23166_row0_col5\" class=\"data row0 col5\" >0.2507</td>\n",
       "      <td id=\"T_23166_row0_col6\" class=\"data row0 col6\" >-0.0495</td>\n",
       "    </tr>\n",
       "  </tbody>\n",
       "</table>\n"
      ],
      "text/plain": [
       "<pandas.io.formats.style.Styler at 0x31bd018b0>"
      ]
     },
     "metadata": {},
     "output_type": "display_data"
    },
    {
     "data": {
      "text/html": [],
      "text/plain": [
       "<IPython.core.display.HTML object>"
      ]
     },
     "metadata": {},
     "output_type": "display_data"
    },
    {
     "data": {
      "text/html": [],
      "text/plain": [
       "<IPython.core.display.HTML object>"
      ]
     },
     "metadata": {},
     "output_type": "display_data"
    },
    {
     "data": {
      "text/html": [
       "<style type=\"text/css\">\n",
       "</style>\n",
       "<table id=\"T_92753\">\n",
       "  <thead>\n",
       "    <tr>\n",
       "      <th class=\"blank level0\" >&nbsp;</th>\n",
       "      <th id=\"T_92753_level0_col0\" class=\"col_heading level0 col0\" >MASE</th>\n",
       "      <th id=\"T_92753_level0_col1\" class=\"col_heading level0 col1\" >RMSSE</th>\n",
       "      <th id=\"T_92753_level0_col2\" class=\"col_heading level0 col2\" >MAE</th>\n",
       "      <th id=\"T_92753_level0_col3\" class=\"col_heading level0 col3\" >RMSE</th>\n",
       "      <th id=\"T_92753_level0_col4\" class=\"col_heading level0 col4\" >MAPE</th>\n",
       "      <th id=\"T_92753_level0_col5\" class=\"col_heading level0 col5\" >SMAPE</th>\n",
       "      <th id=\"T_92753_level0_col6\" class=\"col_heading level0 col6\" >R2</th>\n",
       "    </tr>\n",
       "  </thead>\n",
       "  <tbody>\n",
       "    <tr>\n",
       "      <th id=\"T_92753_level0_row0\" class=\"row_heading level0 row0\" >Test</th>\n",
       "      <td id=\"T_92753_row0_col0\" class=\"data row0 col0\" >4.2289</td>\n",
       "      <td id=\"T_92753_row0_col1\" class=\"data row0 col1\" >4.2359</td>\n",
       "      <td id=\"T_92753_row0_col2\" class=\"data row0 col2\" >0.2747</td>\n",
       "      <td id=\"T_92753_row0_col3\" class=\"data row0 col3\" >0.5141</td>\n",
       "      <td id=\"T_92753_row0_col4\" class=\"data row0 col4\" >0.2815</td>\n",
       "      <td id=\"T_92753_row0_col5\" class=\"data row0 col5\" >0.2935</td>\n",
       "      <td id=\"T_92753_row0_col6\" class=\"data row0 col6\" >0.0478</td>\n",
       "    </tr>\n",
       "  </tbody>\n",
       "</table>\n"
      ],
      "text/plain": [
       "<pandas.io.formats.style.Styler at 0x31bcfc0d0>"
      ]
     },
     "metadata": {},
     "output_type": "display_data"
    },
    {
     "data": {
      "text/html": [],
      "text/plain": [
       "<IPython.core.display.HTML object>"
      ]
     },
     "metadata": {},
     "output_type": "display_data"
    },
    {
     "data": {
      "text/html": [],
      "text/plain": [
       "<IPython.core.display.HTML object>"
      ]
     },
     "metadata": {},
     "output_type": "display_data"
    },
    {
     "data": {
      "text/html": [
       "<style type=\"text/css\">\n",
       "</style>\n",
       "<table id=\"T_f6948\">\n",
       "  <thead>\n",
       "    <tr>\n",
       "      <th class=\"blank level0\" >&nbsp;</th>\n",
       "      <th id=\"T_f6948_level0_col0\" class=\"col_heading level0 col0\" >MASE</th>\n",
       "      <th id=\"T_f6948_level0_col1\" class=\"col_heading level0 col1\" >RMSSE</th>\n",
       "      <th id=\"T_f6948_level0_col2\" class=\"col_heading level0 col2\" >MAE</th>\n",
       "      <th id=\"T_f6948_level0_col3\" class=\"col_heading level0 col3\" >RMSE</th>\n",
       "      <th id=\"T_f6948_level0_col4\" class=\"col_heading level0 col4\" >MAPE</th>\n",
       "      <th id=\"T_f6948_level0_col5\" class=\"col_heading level0 col5\" >SMAPE</th>\n",
       "      <th id=\"T_f6948_level0_col6\" class=\"col_heading level0 col6\" >R2</th>\n",
       "    </tr>\n",
       "  </thead>\n",
       "  <tbody>\n",
       "    <tr>\n",
       "      <th id=\"T_f6948_level0_row0\" class=\"row_heading level0 row0\" >Test</th>\n",
       "      <td id=\"T_f6948_row0_col0\" class=\"data row0 col0\" >4.2463</td>\n",
       "      <td id=\"T_f6948_row0_col1\" class=\"data row0 col1\" >4.2404</td>\n",
       "      <td id=\"T_f6948_row0_col2\" class=\"data row0 col2\" >0.2758</td>\n",
       "      <td id=\"T_f6948_row0_col3\" class=\"data row0 col3\" >0.5147</td>\n",
       "      <td id=\"T_f6948_row0_col4\" class=\"data row0 col4\" >0.2834</td>\n",
       "      <td id=\"T_f6948_row0_col5\" class=\"data row0 col5\" >0.2952</td>\n",
       "      <td id=\"T_f6948_row0_col6\" class=\"data row0 col6\" >0.0458</td>\n",
       "    </tr>\n",
       "  </tbody>\n",
       "</table>\n"
      ],
      "text/plain": [
       "<pandas.io.formats.style.Styler at 0x354faa730>"
      ]
     },
     "metadata": {},
     "output_type": "display_data"
    },
    {
     "data": {
      "text/html": [],
      "text/plain": [
       "<IPython.core.display.HTML object>"
      ]
     },
     "metadata": {},
     "output_type": "display_data"
    }
   ],
   "source": [
    "ses_XRP = exp_XRP.create_model('exp_smooth', trend=None, seasonal=None, sp= None, cross_validation=False )\n",
    "ht_XRP = exp_XRP.create_model('exp_smooth', trend='add', seasonal=None, cross_validation=False)\n",
    "hw_add_XRP = exp_XRP.create_model('exp_smooth', trend='add', seasonal='add', sp= 365, cross_validation=False)\n",
    "hw_mult_XRP = exp_XRP.create_model('exp_smooth', trend='add', seasonal='mul', sp=365, cross_validation=False)\n",
    "hw_damped_XRP = exp_XRP.create_model('exp_smooth', damped_trend='True' , trend='add', seasonal='mul', sp=365, cross_validation=False)\n",
    "ets_ANN_XRP = exp_XRP.create_model('ets', error=\"add\", trend=None, seasonal=None ,cross_validation=False )\n",
    "ets_AAN_XRP = exp_XRP.create_model('ets', error=\"add\", trend=\"add\", seasonal=None ,cross_validation=False ) \n",
    "ets_AAM_XRP = exp_XRP.create_model('ets', error=\"add\", trend=\"add\", seasonal=\"mul\" ,cross_validation=False )"
   ]
  },
  {
   "cell_type": "code",
   "execution_count": 83,
   "metadata": {},
   "outputs": [
    {
     "data": {
      "text/html": [],
      "text/plain": [
       "<IPython.core.display.HTML object>"
      ]
     },
     "metadata": {},
     "output_type": "display_data"
    },
    {
     "data": {
      "text/html": [
       "<style type=\"text/css\">\n",
       "#T_b64dd th {\n",
       "  text-align: left;\n",
       "}\n",
       "#T_b64dd_row0_col0, #T_b64dd_row0_col2, #T_b64dd_row0_col4, #T_b64dd_row0_col7, #T_b64dd_row1_col0, #T_b64dd_row1_col2, #T_b64dd_row1_col4, #T_b64dd_row1_col7, #T_b64dd_row2_col0, #T_b64dd_row2_col1, #T_b64dd_row2_col2, #T_b64dd_row2_col3, #T_b64dd_row2_col4, #T_b64dd_row2_col5, #T_b64dd_row2_col6, #T_b64dd_row2_col7, #T_b64dd_row3_col0, #T_b64dd_row3_col1, #T_b64dd_row3_col3, #T_b64dd_row3_col5, #T_b64dd_row3_col6, #T_b64dd_row4_col0, #T_b64dd_row4_col1, #T_b64dd_row4_col2, #T_b64dd_row4_col3, #T_b64dd_row4_col4, #T_b64dd_row4_col5, #T_b64dd_row4_col6, #T_b64dd_row4_col7, #T_b64dd_row5_col0, #T_b64dd_row5_col1, #T_b64dd_row5_col2, #T_b64dd_row5_col3, #T_b64dd_row5_col4, #T_b64dd_row5_col5, #T_b64dd_row5_col6, #T_b64dd_row5_col7, #T_b64dd_row6_col0, #T_b64dd_row6_col1, #T_b64dd_row6_col2, #T_b64dd_row6_col3, #T_b64dd_row6_col4, #T_b64dd_row6_col5, #T_b64dd_row6_col6, #T_b64dd_row6_col7, #T_b64dd_row7_col0, #T_b64dd_row7_col1, #T_b64dd_row7_col2, #T_b64dd_row7_col3, #T_b64dd_row7_col4, #T_b64dd_row7_col5, #T_b64dd_row7_col6, #T_b64dd_row7_col7, #T_b64dd_row8_col0, #T_b64dd_row8_col1, #T_b64dd_row8_col2, #T_b64dd_row8_col3, #T_b64dd_row8_col4, #T_b64dd_row8_col5, #T_b64dd_row8_col6, #T_b64dd_row8_col7 {\n",
       "  text-align: left;\n",
       "}\n",
       "#T_b64dd_row0_col1, #T_b64dd_row0_col3, #T_b64dd_row0_col5, #T_b64dd_row0_col6, #T_b64dd_row1_col1, #T_b64dd_row1_col3, #T_b64dd_row1_col5, #T_b64dd_row1_col6, #T_b64dd_row3_col2, #T_b64dd_row3_col4, #T_b64dd_row3_col7 {\n",
       "  text-align: left;\n",
       "  background-color: yellow;\n",
       "}\n",
       "#T_b64dd_row0_col8, #T_b64dd_row2_col8, #T_b64dd_row3_col8, #T_b64dd_row4_col8, #T_b64dd_row5_col8, #T_b64dd_row6_col8, #T_b64dd_row7_col8, #T_b64dd_row8_col8 {\n",
       "  text-align: left;\n",
       "  background-color: lightgrey;\n",
       "}\n",
       "#T_b64dd_row1_col8 {\n",
       "  text-align: left;\n",
       "  background-color: yellow;\n",
       "  background-color: lightgrey;\n",
       "}\n",
       "</style>\n",
       "<table id=\"T_b64dd\">\n",
       "  <thead>\n",
       "    <tr>\n",
       "      <th class=\"blank level0\" >&nbsp;</th>\n",
       "      <th id=\"T_b64dd_level0_col0\" class=\"col_heading level0 col0\" >Model</th>\n",
       "      <th id=\"T_b64dd_level0_col1\" class=\"col_heading level0 col1\" >MASE</th>\n",
       "      <th id=\"T_b64dd_level0_col2\" class=\"col_heading level0 col2\" >RMSSE</th>\n",
       "      <th id=\"T_b64dd_level0_col3\" class=\"col_heading level0 col3\" >MAE</th>\n",
       "      <th id=\"T_b64dd_level0_col4\" class=\"col_heading level0 col4\" >RMSE</th>\n",
       "      <th id=\"T_b64dd_level0_col5\" class=\"col_heading level0 col5\" >MAPE</th>\n",
       "      <th id=\"T_b64dd_level0_col6\" class=\"col_heading level0 col6\" >SMAPE</th>\n",
       "      <th id=\"T_b64dd_level0_col7\" class=\"col_heading level0 col7\" >R2</th>\n",
       "      <th id=\"T_b64dd_level0_col8\" class=\"col_heading level0 col8\" >TT (Sec)</th>\n",
       "    </tr>\n",
       "  </thead>\n",
       "  <tbody>\n",
       "    <tr>\n",
       "      <th id=\"T_b64dd_level0_row0\" class=\"row_heading level0 row0\" >0</th>\n",
       "      <td id=\"T_b64dd_row0_col0\" class=\"data row0 col0\" >Exponential Smoothing</td>\n",
       "      <td id=\"T_b64dd_row0_col1\" class=\"data row0 col1\" >3.8434</td>\n",
       "      <td id=\"T_b64dd_row0_col2\" class=\"data row0 col2\" >4.4471</td>\n",
       "      <td id=\"T_b64dd_row0_col3\" class=\"data row0 col3\" >0.2496</td>\n",
       "      <td id=\"T_b64dd_row0_col4\" class=\"data row0 col4\" >0.5397</td>\n",
       "      <td id=\"T_b64dd_row0_col5\" class=\"data row0 col5\" >0.2174</td>\n",
       "      <td id=\"T_b64dd_row0_col6\" class=\"data row0 col6\" >0.2507</td>\n",
       "      <td id=\"T_b64dd_row0_col7\" class=\"data row0 col7\" >-0.0495</td>\n",
       "      <td id=\"T_b64dd_row0_col8\" class=\"data row0 col8\" >0.0200</td>\n",
       "    </tr>\n",
       "    <tr>\n",
       "      <th id=\"T_b64dd_level0_row1\" class=\"row_heading level0 row1\" >5</th>\n",
       "      <td id=\"T_b64dd_row1_col0\" class=\"data row1 col0\" >ETS</td>\n",
       "      <td id=\"T_b64dd_row1_col1\" class=\"data row1 col1\" >3.8434</td>\n",
       "      <td id=\"T_b64dd_row1_col2\" class=\"data row1 col2\" >4.4471</td>\n",
       "      <td id=\"T_b64dd_row1_col3\" class=\"data row1 col3\" >0.2496</td>\n",
       "      <td id=\"T_b64dd_row1_col4\" class=\"data row1 col4\" >0.5397</td>\n",
       "      <td id=\"T_b64dd_row1_col5\" class=\"data row1 col5\" >0.2174</td>\n",
       "      <td id=\"T_b64dd_row1_col6\" class=\"data row1 col6\" >0.2507</td>\n",
       "      <td id=\"T_b64dd_row1_col7\" class=\"data row1 col7\" >-0.0495</td>\n",
       "      <td id=\"T_b64dd_row1_col8\" class=\"data row1 col8\" >0.0100</td>\n",
       "    </tr>\n",
       "    <tr>\n",
       "      <th id=\"T_b64dd_level0_row2\" class=\"row_heading level0 row2\" >1</th>\n",
       "      <td id=\"T_b64dd_row2_col0\" class=\"data row2 col0\" >Exponential Smoothing</td>\n",
       "      <td id=\"T_b64dd_row2_col1\" class=\"data row2 col1\" >4.2273</td>\n",
       "      <td id=\"T_b64dd_row2_col2\" class=\"data row2 col2\" >4.2366</td>\n",
       "      <td id=\"T_b64dd_row2_col3\" class=\"data row2 col3\" >0.2746</td>\n",
       "      <td id=\"T_b64dd_row2_col4\" class=\"data row2 col4\" >0.5142</td>\n",
       "      <td id=\"T_b64dd_row2_col5\" class=\"data row2 col5\" >0.2813</td>\n",
       "      <td id=\"T_b64dd_row2_col6\" class=\"data row2 col6\" >0.2933</td>\n",
       "      <td id=\"T_b64dd_row2_col7\" class=\"data row2 col7\" >0.0475</td>\n",
       "      <td id=\"T_b64dd_row2_col8\" class=\"data row2 col8\" >0.0300</td>\n",
       "    </tr>\n",
       "    <tr>\n",
       "      <th id=\"T_b64dd_level0_row3\" class=\"row_heading level0 row3\" >6</th>\n",
       "      <td id=\"T_b64dd_row3_col0\" class=\"data row3 col0\" >ETS</td>\n",
       "      <td id=\"T_b64dd_row3_col1\" class=\"data row3 col1\" >4.2289</td>\n",
       "      <td id=\"T_b64dd_row3_col2\" class=\"data row3 col2\" >4.2359</td>\n",
       "      <td id=\"T_b64dd_row3_col3\" class=\"data row3 col3\" >0.2747</td>\n",
       "      <td id=\"T_b64dd_row3_col4\" class=\"data row3 col4\" >0.5141</td>\n",
       "      <td id=\"T_b64dd_row3_col5\" class=\"data row3 col5\" >0.2815</td>\n",
       "      <td id=\"T_b64dd_row3_col6\" class=\"data row3 col6\" >0.2935</td>\n",
       "      <td id=\"T_b64dd_row3_col7\" class=\"data row3 col7\" >0.0478</td>\n",
       "      <td id=\"T_b64dd_row3_col8\" class=\"data row3 col8\" >0.0200</td>\n",
       "    </tr>\n",
       "    <tr>\n",
       "      <th id=\"T_b64dd_level0_row4\" class=\"row_heading level0 row4\" >7</th>\n",
       "      <td id=\"T_b64dd_row4_col0\" class=\"data row4 col0\" >ETS</td>\n",
       "      <td id=\"T_b64dd_row4_col1\" class=\"data row4 col1\" >4.2463</td>\n",
       "      <td id=\"T_b64dd_row4_col2\" class=\"data row4 col2\" >4.2404</td>\n",
       "      <td id=\"T_b64dd_row4_col3\" class=\"data row4 col3\" >0.2758</td>\n",
       "      <td id=\"T_b64dd_row4_col4\" class=\"data row4 col4\" >0.5147</td>\n",
       "      <td id=\"T_b64dd_row4_col5\" class=\"data row4 col5\" >0.2834</td>\n",
       "      <td id=\"T_b64dd_row4_col6\" class=\"data row4 col6\" >0.2952</td>\n",
       "      <td id=\"T_b64dd_row4_col7\" class=\"data row4 col7\" >0.0458</td>\n",
       "      <td id=\"T_b64dd_row4_col8\" class=\"data row4 col8\" >0.1300</td>\n",
       "    </tr>\n",
       "    <tr>\n",
       "      <th id=\"T_b64dd_level0_row5\" class=\"row_heading level0 row5\" >8</th>\n",
       "      <td id=\"T_b64dd_row5_col0\" class=\"data row5 col0\" >ETS</td>\n",
       "      <td id=\"T_b64dd_row5_col1\" class=\"data row5 col1\" >4.2463</td>\n",
       "      <td id=\"T_b64dd_row5_col2\" class=\"data row5 col2\" >4.2404</td>\n",
       "      <td id=\"T_b64dd_row5_col3\" class=\"data row5 col3\" >0.2758</td>\n",
       "      <td id=\"T_b64dd_row5_col4\" class=\"data row5 col4\" >0.5147</td>\n",
       "      <td id=\"T_b64dd_row5_col5\" class=\"data row5 col5\" >0.2834</td>\n",
       "      <td id=\"T_b64dd_row5_col6\" class=\"data row5 col6\" >0.2952</td>\n",
       "      <td id=\"T_b64dd_row5_col7\" class=\"data row5 col7\" >0.0458</td>\n",
       "      <td id=\"T_b64dd_row5_col8\" class=\"data row5 col8\" >0.2200</td>\n",
       "    </tr>\n",
       "    <tr>\n",
       "      <th id=\"T_b64dd_level0_row6\" class=\"row_heading level0 row6\" >4</th>\n",
       "      <td id=\"T_b64dd_row6_col0\" class=\"data row6 col0\" >Exponential Smoothing</td>\n",
       "      <td id=\"T_b64dd_row6_col1\" class=\"data row6 col1\" >4.8037</td>\n",
       "      <td id=\"T_b64dd_row6_col2\" class=\"data row6 col2\" >4.5101</td>\n",
       "      <td id=\"T_b64dd_row6_col3\" class=\"data row6 col3\" >0.3120</td>\n",
       "      <td id=\"T_b64dd_row6_col4\" class=\"data row6 col4\" >0.5474</td>\n",
       "      <td id=\"T_b64dd_row6_col5\" class=\"data row6 col5\" >0.3450</td>\n",
       "      <td id=\"T_b64dd_row6_col6\" class=\"data row6 col6\" >0.3292</td>\n",
       "      <td id=\"T_b64dd_row6_col7\" class=\"data row6 col7\" >-0.0794</td>\n",
       "      <td id=\"T_b64dd_row6_col8\" class=\"data row6 col8\" >5.6200</td>\n",
       "    </tr>\n",
       "    <tr>\n",
       "      <th id=\"T_b64dd_level0_row7\" class=\"row_heading level0 row7\" >2</th>\n",
       "      <td id=\"T_b64dd_row7_col0\" class=\"data row7 col0\" >Exponential Smoothing</td>\n",
       "      <td id=\"T_b64dd_row7_col1\" class=\"data row7 col1\" >5.1363</td>\n",
       "      <td id=\"T_b64dd_row7_col2\" class=\"data row7 col2\" >4.2571</td>\n",
       "      <td id=\"T_b64dd_row7_col3\" class=\"data row7 col3\" >0.3336</td>\n",
       "      <td id=\"T_b64dd_row7_col4\" class=\"data row7 col4\" >0.5167</td>\n",
       "      <td id=\"T_b64dd_row7_col5\" class=\"data row7 col5\" >0.4037</td>\n",
       "      <td id=\"T_b64dd_row7_col6\" class=\"data row7 col6\" >0.3722</td>\n",
       "      <td id=\"T_b64dd_row7_col7\" class=\"data row7 col7\" >0.0383</td>\n",
       "      <td id=\"T_b64dd_row7_col8\" class=\"data row7 col8\" >4.0700</td>\n",
       "    </tr>\n",
       "    <tr>\n",
       "      <th id=\"T_b64dd_level0_row8\" class=\"row_heading level0 row8\" >3</th>\n",
       "      <td id=\"T_b64dd_row8_col0\" class=\"data row8 col0\" >Exponential Smoothing</td>\n",
       "      <td id=\"T_b64dd_row8_col1\" class=\"data row8 col1\" >6.8830</td>\n",
       "      <td id=\"T_b64dd_row8_col2\" class=\"data row8 col2\" >4.6067</td>\n",
       "      <td id=\"T_b64dd_row8_col3\" class=\"data row8 col3\" >0.4471</td>\n",
       "      <td id=\"T_b64dd_row8_col4\" class=\"data row8 col4\" >0.5591</td>\n",
       "      <td id=\"T_b64dd_row8_col5\" class=\"data row8 col5\" >0.6580</td>\n",
       "      <td id=\"T_b64dd_row8_col6\" class=\"data row8 col6\" >0.4856</td>\n",
       "      <td id=\"T_b64dd_row8_col7\" class=\"data row8 col7\" >-0.1261</td>\n",
       "      <td id=\"T_b64dd_row8_col8\" class=\"data row8 col8\" >6.1900</td>\n",
       "    </tr>\n",
       "  </tbody>\n",
       "</table>\n"
      ],
      "text/plain": [
       "<pandas.io.formats.style.Styler at 0x31bd01f10>"
      ]
     },
     "metadata": {},
     "output_type": "display_data"
    },
    {
     "data": {
      "text/html": [],
      "text/plain": [
       "<IPython.core.display.HTML object>"
      ]
     },
     "metadata": {},
     "output_type": "display_data"
    },
    {
     "data": {
      "text/html": [
       "<style>#sk-c11d29ce-75d0-4f35-bf9f-54fd4fae0d0b {color: black;background-color: white;}#sk-c11d29ce-75d0-4f35-bf9f-54fd4fae0d0b pre{padding: 0;}#sk-c11d29ce-75d0-4f35-bf9f-54fd4fae0d0b div.sk-toggleable {background-color: white;}#sk-c11d29ce-75d0-4f35-bf9f-54fd4fae0d0b label.sk-toggleable__label {cursor: pointer;display: block;width: 100%;margin-bottom: 0;padding: 0.3em;box-sizing: border-box;text-align: center;}#sk-c11d29ce-75d0-4f35-bf9f-54fd4fae0d0b label.sk-toggleable__label-arrow:before {content: \"▸\";float: left;margin-right: 0.25em;color: #696969;}#sk-c11d29ce-75d0-4f35-bf9f-54fd4fae0d0b label.sk-toggleable__label-arrow:hover:before {color: black;}#sk-c11d29ce-75d0-4f35-bf9f-54fd4fae0d0b div.sk-estimator:hover label.sk-toggleable__label-arrow:before {color: black;}#sk-c11d29ce-75d0-4f35-bf9f-54fd4fae0d0b div.sk-toggleable__content {max-height: 0;max-width: 0;overflow: hidden;text-align: left;background-color: #f0f8ff;}#sk-c11d29ce-75d0-4f35-bf9f-54fd4fae0d0b div.sk-toggleable__content pre {margin: 0.2em;color: black;border-radius: 0.25em;background-color: #f0f8ff;}#sk-c11d29ce-75d0-4f35-bf9f-54fd4fae0d0b input.sk-toggleable__control:checked~div.sk-toggleable__content {max-height: 200px;max-width: 100%;overflow: auto;}#sk-c11d29ce-75d0-4f35-bf9f-54fd4fae0d0b input.sk-toggleable__control:checked~label.sk-toggleable__label-arrow:before {content: \"▾\";}#sk-c11d29ce-75d0-4f35-bf9f-54fd4fae0d0b div.sk-estimator input.sk-toggleable__control:checked~label.sk-toggleable__label {background-color: #d4ebff;}#sk-c11d29ce-75d0-4f35-bf9f-54fd4fae0d0b div.sk-label input.sk-toggleable__control:checked~label.sk-toggleable__label {background-color: #d4ebff;}#sk-c11d29ce-75d0-4f35-bf9f-54fd4fae0d0b input.sk-hidden--visually {border: 0;clip: rect(1px 1px 1px 1px);clip: rect(1px, 1px, 1px, 1px);height: 1px;margin: -1px;overflow: hidden;padding: 0;position: absolute;width: 1px;}#sk-c11d29ce-75d0-4f35-bf9f-54fd4fae0d0b div.sk-estimator {font-family: monospace;background-color: #f0f8ff;border: 1px dotted black;border-radius: 0.25em;box-sizing: border-box;margin-bottom: 0.5em;}#sk-c11d29ce-75d0-4f35-bf9f-54fd4fae0d0b div.sk-estimator:hover {background-color: #d4ebff;}#sk-c11d29ce-75d0-4f35-bf9f-54fd4fae0d0b div.sk-parallel-item::after {content: \"\";width: 100%;border-bottom: 1px solid gray;flex-grow: 1;}#sk-c11d29ce-75d0-4f35-bf9f-54fd4fae0d0b div.sk-label:hover label.sk-toggleable__label {background-color: #d4ebff;}#sk-c11d29ce-75d0-4f35-bf9f-54fd4fae0d0b div.sk-serial::before {content: \"\";position: absolute;border-left: 1px solid gray;box-sizing: border-box;top: 2em;bottom: 0;left: 50%;}#sk-c11d29ce-75d0-4f35-bf9f-54fd4fae0d0b div.sk-serial {display: flex;flex-direction: column;align-items: center;background-color: white;padding-right: 0.2em;padding-left: 0.2em;}#sk-c11d29ce-75d0-4f35-bf9f-54fd4fae0d0b div.sk-item {z-index: 1;}#sk-c11d29ce-75d0-4f35-bf9f-54fd4fae0d0b div.sk-parallel {display: flex;align-items: stretch;justify-content: center;background-color: white;}#sk-c11d29ce-75d0-4f35-bf9f-54fd4fae0d0b div.sk-parallel::before {content: \"\";position: absolute;border-left: 1px solid gray;box-sizing: border-box;top: 2em;bottom: 0;left: 50%;}#sk-c11d29ce-75d0-4f35-bf9f-54fd4fae0d0b div.sk-parallel-item {display: flex;flex-direction: column;position: relative;background-color: white;}#sk-c11d29ce-75d0-4f35-bf9f-54fd4fae0d0b div.sk-parallel-item:first-child::after {align-self: flex-end;width: 50%;}#sk-c11d29ce-75d0-4f35-bf9f-54fd4fae0d0b div.sk-parallel-item:last-child::after {align-self: flex-start;width: 50%;}#sk-c11d29ce-75d0-4f35-bf9f-54fd4fae0d0b div.sk-parallel-item:only-child::after {width: 0;}#sk-c11d29ce-75d0-4f35-bf9f-54fd4fae0d0b div.sk-dashed-wrapped {border: 1px dashed gray;margin: 0 0.4em 0.5em 0.4em;box-sizing: border-box;padding-bottom: 0.4em;background-color: white;position: relative;}#sk-c11d29ce-75d0-4f35-bf9f-54fd4fae0d0b div.sk-label label {font-family: monospace;font-weight: bold;background-color: white;display: inline-block;line-height: 1.2em;}#sk-c11d29ce-75d0-4f35-bf9f-54fd4fae0d0b div.sk-label-container {position: relative;z-index: 2;text-align: center;}#sk-c11d29ce-75d0-4f35-bf9f-54fd4fae0d0b div.sk-container {/* jupyter's `normalize.less` sets `[hidden] { display: none; }` but bootstrap.min.css set `[hidden] { display: none !important; }` so we also need the `!important` here to be able to override the default hidden behavior on the sphinx rendered scikit-learn.org. See: https://github.com/scikit-learn/scikit-learn/issues/21755 */display: inline-block !important;position: relative;}#sk-c11d29ce-75d0-4f35-bf9f-54fd4fae0d0b div.sk-text-repr-fallback {display: none;}</style><div id='sk-c11d29ce-75d0-4f35-bf9f-54fd4fae0d0b' class=\"sk-top-container\"><div class=\"sk-text-repr-fallback\"><pre>ExponentialSmoothing()</pre><b>Please rerun this cell to show the HTML repr or trust the notebook.</b></div><div class=\"sk-container\" hidden><div class='sk-item'><div class=\"sk-estimator sk-toggleable\"><input class=\"sk-toggleable__control sk-hidden--visually\" id=UUID('a0a460d9-6690-4483-97c2-ecbafd9811b7') type=\"checkbox\" checked><label for=UUID('a0a460d9-6690-4483-97c2-ecbafd9811b7') class='sk-toggleable__label sk-toggleable__label-arrow'>ExponentialSmoothing</label><div class=\"sk-toggleable__content\"><pre>ExponentialSmoothing()</pre></div></div></div></div></div>"
      ],
      "text/plain": [
       "ExponentialSmoothing()"
      ]
     },
     "execution_count": 83,
     "metadata": {},
     "output_type": "execute_result"
    }
   ],
   "source": [
    "exp_XRP.compare_models(include=[ ses_XRP, ht_XRP, hw_add_XRP, hw_mult_XRP, hw_damped_XRP, ets_ANN_XRP, ets_AAN_XRP, ets_AAM_XRP, 'ets'], cross_validation=False)"
   ]
  },
  {
   "cell_type": "code",
   "execution_count": 84,
   "metadata": {},
   "outputs": [
    {
     "data": {
      "text/html": [],
      "text/plain": [
       "<IPython.core.display.HTML object>"
      ]
     },
     "metadata": {},
     "output_type": "display_data"
    },
    {
     "data": {
      "text/html": [
       "<style type=\"text/css\">\n",
       "</style>\n",
       "<table id=\"T_8f187\">\n",
       "  <thead>\n",
       "    <tr>\n",
       "      <th class=\"blank level0\" >&nbsp;</th>\n",
       "      <th id=\"T_8f187_level0_col0\" class=\"col_heading level0 col0\" >MASE</th>\n",
       "      <th id=\"T_8f187_level0_col1\" class=\"col_heading level0 col1\" >RMSSE</th>\n",
       "      <th id=\"T_8f187_level0_col2\" class=\"col_heading level0 col2\" >MAE</th>\n",
       "      <th id=\"T_8f187_level0_col3\" class=\"col_heading level0 col3\" >RMSE</th>\n",
       "      <th id=\"T_8f187_level0_col4\" class=\"col_heading level0 col4\" >MAPE</th>\n",
       "      <th id=\"T_8f187_level0_col5\" class=\"col_heading level0 col5\" >SMAPE</th>\n",
       "      <th id=\"T_8f187_level0_col6\" class=\"col_heading level0 col6\" >R2</th>\n",
       "    </tr>\n",
       "  </thead>\n",
       "  <tbody>\n",
       "    <tr>\n",
       "      <th id=\"T_8f187_level0_row0\" class=\"row_heading level0 row0\" >Test</th>\n",
       "      <td id=\"T_8f187_row0_col0\" class=\"data row0 col0\" >4.2463</td>\n",
       "      <td id=\"T_8f187_row0_col1\" class=\"data row0 col1\" >4.2404</td>\n",
       "      <td id=\"T_8f187_row0_col2\" class=\"data row0 col2\" >0.2758</td>\n",
       "      <td id=\"T_8f187_row0_col3\" class=\"data row0 col3\" >0.5147</td>\n",
       "      <td id=\"T_8f187_row0_col4\" class=\"data row0 col4\" >0.2834</td>\n",
       "      <td id=\"T_8f187_row0_col5\" class=\"data row0 col5\" >0.2952</td>\n",
       "      <td id=\"T_8f187_row0_col6\" class=\"data row0 col6\" >0.0458</td>\n",
       "    </tr>\n",
       "  </tbody>\n",
       "</table>\n"
      ],
      "text/plain": [
       "<pandas.io.formats.style.Styler at 0x31be34970>"
      ]
     },
     "metadata": {},
     "output_type": "display_data"
    },
    {
     "data": {
      "text/html": [],
      "text/plain": [
       "<IPython.core.display.HTML object>"
      ]
     },
     "metadata": {},
     "output_type": "display_data"
    },
    {
     "data": {
      "text/html": [],
      "text/plain": [
       "<IPython.core.display.HTML object>"
      ]
     },
     "metadata": {},
     "output_type": "display_data"
    },
    {
     "data": {
      "text/html": [
       "<style type=\"text/css\">\n",
       "#T_ec657_row3_col0, #T_ec657_row3_col1, #T_ec657_row3_col2, #T_ec657_row3_col3, #T_ec657_row3_col4, #T_ec657_row3_col5, #T_ec657_row3_col6, #T_ec657_row3_col7 {\n",
       "  background: yellow;\n",
       "}\n",
       "</style>\n",
       "<table id=\"T_ec657\">\n",
       "  <thead>\n",
       "    <tr>\n",
       "      <th class=\"blank level0\" >&nbsp;</th>\n",
       "      <th id=\"T_ec657_level0_col0\" class=\"col_heading level0 col0\" >cutoff</th>\n",
       "      <th id=\"T_ec657_level0_col1\" class=\"col_heading level0 col1\" >MASE</th>\n",
       "      <th id=\"T_ec657_level0_col2\" class=\"col_heading level0 col2\" >RMSSE</th>\n",
       "      <th id=\"T_ec657_level0_col3\" class=\"col_heading level0 col3\" >MAE</th>\n",
       "      <th id=\"T_ec657_level0_col4\" class=\"col_heading level0 col4\" >RMSE</th>\n",
       "      <th id=\"T_ec657_level0_col5\" class=\"col_heading level0 col5\" >MAPE</th>\n",
       "      <th id=\"T_ec657_level0_col6\" class=\"col_heading level0 col6\" >SMAPE</th>\n",
       "      <th id=\"T_ec657_level0_col7\" class=\"col_heading level0 col7\" >R2</th>\n",
       "    </tr>\n",
       "  </thead>\n",
       "  <tbody>\n",
       "    <tr>\n",
       "      <th id=\"T_ec657_level0_row0\" class=\"row_heading level0 row0\" >0</th>\n",
       "      <td id=\"T_ec657_row0_col0\" class=\"data row0 col0\" >PeriodIndex(['2021-01-02'], dtype='period[D]', name='Date')</td>\n",
       "      <td id=\"T_ec657_row0_col1\" class=\"data row0 col1\" >18.0506</td>\n",
       "      <td id=\"T_ec657_row0_col2\" class=\"data row0 col2\" >10.1336</td>\n",
       "      <td id=\"T_ec657_row0_col3\" class=\"data row0 col3\" >0.6489</td>\n",
       "      <td id=\"T_ec657_row0_col4\" class=\"data row0 col4\" >0.7350</td>\n",
       "      <td id=\"T_ec657_row0_col5\" class=\"data row0 col5\" >0.6847</td>\n",
       "      <td id=\"T_ec657_row0_col6\" class=\"data row0 col6\" >1.0858</td>\n",
       "      <td id=\"T_ec657_row0_col7\" class=\"data row0 col7\" >-3.5324</td>\n",
       "    </tr>\n",
       "    <tr>\n",
       "      <th id=\"T_ec657_level0_row1\" class=\"row_heading level0 row1\" >1</th>\n",
       "      <td id=\"T_ec657_row1_col0\" class=\"data row1 col0\" >PeriodIndex(['2022-01-02'], dtype='period[D]', name='Date')</td>\n",
       "      <td id=\"T_ec657_row1_col1\" class=\"data row1 col1\" >3.9735</td>\n",
       "      <td id=\"T_ec657_row1_col2\" class=\"data row1 col2\" >2.4676</td>\n",
       "      <td id=\"T_ec657_row1_col3\" class=\"data row1 col3\" >0.3485</td>\n",
       "      <td id=\"T_ec657_row1_col4\" class=\"data row1 col4\" >0.3917</td>\n",
       "      <td id=\"T_ec657_row1_col5\" class=\"data row1 col5\" >0.8775</td>\n",
       "      <td id=\"T_ec657_row1_col6\" class=\"data row1 col6\" >0.5496</td>\n",
       "      <td id=\"T_ec657_row1_col7\" class=\"data row1 col7\" >-3.7780</td>\n",
       "    </tr>\n",
       "    <tr>\n",
       "      <th id=\"T_ec657_level0_row2\" class=\"row_heading level0 row2\" >2</th>\n",
       "      <td id=\"T_ec657_row2_col0\" class=\"data row2 col0\" >PeriodIndex(['2023-01-02'], dtype='period[D]', name='Date')</td>\n",
       "      <td id=\"T_ec657_row2_col1\" class=\"data row2 col1\" >2.2562</td>\n",
       "      <td id=\"T_ec657_row2_col2\" class=\"data row2 col2\" >1.4393</td>\n",
       "      <td id=\"T_ec657_row2_col3\" class=\"data row2 col3\" >0.1669</td>\n",
       "      <td id=\"T_ec657_row2_col4\" class=\"data row2 col4\" >0.1949</td>\n",
       "      <td id=\"T_ec657_row2_col5\" class=\"data row2 col5\" >0.2988</td>\n",
       "      <td id=\"T_ec657_row2_col6\" class=\"data row2 col6\" >0.3659</td>\n",
       "      <td id=\"T_ec657_row2_col7\" class=\"data row2 col7\" >-2.7392</td>\n",
       "    </tr>\n",
       "    <tr>\n",
       "      <th id=\"T_ec657_level0_row3\" class=\"row_heading level0 row3\" >Mean</th>\n",
       "      <td id=\"T_ec657_row3_col0\" class=\"data row3 col0\" >nan</td>\n",
       "      <td id=\"T_ec657_row3_col1\" class=\"data row3 col1\" >8.0934</td>\n",
       "      <td id=\"T_ec657_row3_col2\" class=\"data row3 col2\" >4.6802</td>\n",
       "      <td id=\"T_ec657_row3_col3\" class=\"data row3 col3\" >0.3881</td>\n",
       "      <td id=\"T_ec657_row3_col4\" class=\"data row3 col4\" >0.4405</td>\n",
       "      <td id=\"T_ec657_row3_col5\" class=\"data row3 col5\" >0.6203</td>\n",
       "      <td id=\"T_ec657_row3_col6\" class=\"data row3 col6\" >0.6671</td>\n",
       "      <td id=\"T_ec657_row3_col7\" class=\"data row3 col7\" >-3.3499</td>\n",
       "    </tr>\n",
       "    <tr>\n",
       "      <th id=\"T_ec657_level0_row4\" class=\"row_heading level0 row4\" >SD</th>\n",
       "      <td id=\"T_ec657_row4_col0\" class=\"data row4 col0\" >nan</td>\n",
       "      <td id=\"T_ec657_row4_col1\" class=\"data row4 col1\" >7.0756</td>\n",
       "      <td id=\"T_ec657_row4_col2\" class=\"data row4 col2\" >3.8789</td>\n",
       "      <td id=\"T_ec657_row4_col3\" class=\"data row4 col3\" >0.1987</td>\n",
       "      <td id=\"T_ec657_row4_col4\" class=\"data row4 col4\" >0.2232</td>\n",
       "      <td id=\"T_ec657_row4_col5\" class=\"data row4 col5\" >0.2406</td>\n",
       "      <td id=\"T_ec657_row4_col6\" class=\"data row4 col6\" >0.3054</td>\n",
       "      <td id=\"T_ec657_row4_col7\" class=\"data row4 col7\" >0.4433</td>\n",
       "    </tr>\n",
       "  </tbody>\n",
       "</table>\n"
      ],
      "text/plain": [
       "<pandas.io.formats.style.Styler at 0x3548ba070>"
      ]
     },
     "metadata": {},
     "output_type": "display_data"
    },
    {
     "data": {
      "text/html": [],
      "text/plain": [
       "<IPython.core.display.HTML object>"
      ]
     },
     "metadata": {},
     "output_type": "display_data"
    },
    {
     "name": "stdout",
     "output_type": "stream",
     "text": [
      "Fitting 3 folds for each of 10 candidates, totalling 30 fits\n"
     ]
    },
    {
     "name": "stderr",
     "output_type": "stream",
     "text": [
      "[Parallel(n_jobs=-1)]: Using backend LokyBackend with 8 concurrent workers.\n",
      "[Parallel(n_jobs=-1)]: Done  30 out of  30 | elapsed:    5.5s finished\n"
     ]
    }
   ],
   "source": [
    "ets_auto_XRP = exp_XRP.create_model('ets', cross_validation=False)  # Auto ETS selection\n",
    "tuned_ets_auto_XRP = exp_XRP.tune_model(ets_auto_XRP)"
   ]
  },
  {
   "cell_type": "code",
   "execution_count": 85,
   "metadata": {},
   "outputs": [
    {
     "data": {
      "text/html": [],
      "text/plain": [
       "<IPython.core.display.HTML object>"
      ]
     },
     "metadata": {},
     "output_type": "display_data"
    },
    {
     "data": {
      "text/html": [],
      "text/plain": [
       "<IPython.core.display.HTML object>"
      ]
     },
     "metadata": {},
     "output_type": "display_data"
    },
    {
     "data": {
      "text/html": [],
      "text/plain": [
       "<IPython.core.display.HTML object>"
      ]
     },
     "metadata": {},
     "output_type": "display_data"
    },
    {
     "data": {
      "text/html": [
       "<style>#sk-396a80ae-181f-4426-b096-59ffec12b8d4 {color: black;background-color: white;}#sk-396a80ae-181f-4426-b096-59ffec12b8d4 pre{padding: 0;}#sk-396a80ae-181f-4426-b096-59ffec12b8d4 div.sk-toggleable {background-color: white;}#sk-396a80ae-181f-4426-b096-59ffec12b8d4 label.sk-toggleable__label {cursor: pointer;display: block;width: 100%;margin-bottom: 0;padding: 0.3em;box-sizing: border-box;text-align: center;}#sk-396a80ae-181f-4426-b096-59ffec12b8d4 label.sk-toggleable__label-arrow:before {content: \"▸\";float: left;margin-right: 0.25em;color: #696969;}#sk-396a80ae-181f-4426-b096-59ffec12b8d4 label.sk-toggleable__label-arrow:hover:before {color: black;}#sk-396a80ae-181f-4426-b096-59ffec12b8d4 div.sk-estimator:hover label.sk-toggleable__label-arrow:before {color: black;}#sk-396a80ae-181f-4426-b096-59ffec12b8d4 div.sk-toggleable__content {max-height: 0;max-width: 0;overflow: hidden;text-align: left;background-color: #f0f8ff;}#sk-396a80ae-181f-4426-b096-59ffec12b8d4 div.sk-toggleable__content pre {margin: 0.2em;color: black;border-radius: 0.25em;background-color: #f0f8ff;}#sk-396a80ae-181f-4426-b096-59ffec12b8d4 input.sk-toggleable__control:checked~div.sk-toggleable__content {max-height: 200px;max-width: 100%;overflow: auto;}#sk-396a80ae-181f-4426-b096-59ffec12b8d4 input.sk-toggleable__control:checked~label.sk-toggleable__label-arrow:before {content: \"▾\";}#sk-396a80ae-181f-4426-b096-59ffec12b8d4 div.sk-estimator input.sk-toggleable__control:checked~label.sk-toggleable__label {background-color: #d4ebff;}#sk-396a80ae-181f-4426-b096-59ffec12b8d4 div.sk-label input.sk-toggleable__control:checked~label.sk-toggleable__label {background-color: #d4ebff;}#sk-396a80ae-181f-4426-b096-59ffec12b8d4 input.sk-hidden--visually {border: 0;clip: rect(1px 1px 1px 1px);clip: rect(1px, 1px, 1px, 1px);height: 1px;margin: -1px;overflow: hidden;padding: 0;position: absolute;width: 1px;}#sk-396a80ae-181f-4426-b096-59ffec12b8d4 div.sk-estimator {font-family: monospace;background-color: #f0f8ff;border: 1px dotted black;border-radius: 0.25em;box-sizing: border-box;margin-bottom: 0.5em;}#sk-396a80ae-181f-4426-b096-59ffec12b8d4 div.sk-estimator:hover {background-color: #d4ebff;}#sk-396a80ae-181f-4426-b096-59ffec12b8d4 div.sk-parallel-item::after {content: \"\";width: 100%;border-bottom: 1px solid gray;flex-grow: 1;}#sk-396a80ae-181f-4426-b096-59ffec12b8d4 div.sk-label:hover label.sk-toggleable__label {background-color: #d4ebff;}#sk-396a80ae-181f-4426-b096-59ffec12b8d4 div.sk-serial::before {content: \"\";position: absolute;border-left: 1px solid gray;box-sizing: border-box;top: 2em;bottom: 0;left: 50%;}#sk-396a80ae-181f-4426-b096-59ffec12b8d4 div.sk-serial {display: flex;flex-direction: column;align-items: center;background-color: white;padding-right: 0.2em;padding-left: 0.2em;}#sk-396a80ae-181f-4426-b096-59ffec12b8d4 div.sk-item {z-index: 1;}#sk-396a80ae-181f-4426-b096-59ffec12b8d4 div.sk-parallel {display: flex;align-items: stretch;justify-content: center;background-color: white;}#sk-396a80ae-181f-4426-b096-59ffec12b8d4 div.sk-parallel::before {content: \"\";position: absolute;border-left: 1px solid gray;box-sizing: border-box;top: 2em;bottom: 0;left: 50%;}#sk-396a80ae-181f-4426-b096-59ffec12b8d4 div.sk-parallel-item {display: flex;flex-direction: column;position: relative;background-color: white;}#sk-396a80ae-181f-4426-b096-59ffec12b8d4 div.sk-parallel-item:first-child::after {align-self: flex-end;width: 50%;}#sk-396a80ae-181f-4426-b096-59ffec12b8d4 div.sk-parallel-item:last-child::after {align-self: flex-start;width: 50%;}#sk-396a80ae-181f-4426-b096-59ffec12b8d4 div.sk-parallel-item:only-child::after {width: 0;}#sk-396a80ae-181f-4426-b096-59ffec12b8d4 div.sk-dashed-wrapped {border: 1px dashed gray;margin: 0 0.4em 0.5em 0.4em;box-sizing: border-box;padding-bottom: 0.4em;background-color: white;position: relative;}#sk-396a80ae-181f-4426-b096-59ffec12b8d4 div.sk-label label {font-family: monospace;font-weight: bold;background-color: white;display: inline-block;line-height: 1.2em;}#sk-396a80ae-181f-4426-b096-59ffec12b8d4 div.sk-label-container {position: relative;z-index: 2;text-align: center;}#sk-396a80ae-181f-4426-b096-59ffec12b8d4 div.sk-container {/* jupyter's `normalize.less` sets `[hidden] { display: none; }` but bootstrap.min.css set `[hidden] { display: none !important; }` so we also need the `!important` here to be able to override the default hidden behavior on the sphinx rendered scikit-learn.org. See: https://github.com/scikit-learn/scikit-learn/issues/21755 */display: inline-block !important;position: relative;}#sk-396a80ae-181f-4426-b096-59ffec12b8d4 div.sk-text-repr-fallback {display: none;}</style><div id='sk-396a80ae-181f-4426-b096-59ffec12b8d4' class=\"sk-top-container\"><div class=\"sk-text-repr-fallback\"><pre>ExponentialSmoothing()</pre><b>Please rerun this cell to show the HTML repr or trust the notebook.</b></div><div class=\"sk-container\" hidden><div class='sk-item'><div class=\"sk-estimator sk-toggleable\"><input class=\"sk-toggleable__control sk-hidden--visually\" id=UUID('56a5a790-ce56-4090-8e34-5dd02aca4d31') type=\"checkbox\" checked><label for=UUID('56a5a790-ce56-4090-8e34-5dd02aca4d31') class='sk-toggleable__label sk-toggleable__label-arrow'>ExponentialSmoothing</label><div class=\"sk-toggleable__content\"><pre>ExponentialSmoothing()</pre></div></div></div></div></div>"
      ],
      "text/plain": [
       "ExponentialSmoothing()"
      ]
     },
     "execution_count": 85,
     "metadata": {},
     "output_type": "execute_result"
    }
   ],
   "source": [
    "exp_XRP.compare_models(include=[ses_XRP, tuned_ets_auto_XRP], cross_validation=False) # Compare tuned Auto-ETS "
   ]
  },
  {
   "cell_type": "markdown",
   "metadata": {},
   "source": [
    "the best ETS model for XRP is ses_XRP"
   ]
  },
  {
   "cell_type": "code",
   "execution_count": 86,
   "metadata": {},
   "outputs": [
    {
     "name": "stdout",
     "output_type": "stream",
     "text": [
      "Type of ses_XRP: <class 'sktime.forecasting.exp_smoothing.ExponentialSmoothing'>\n",
      "Attributes and methods of ses_XRP: ['_X', '__class__', '__delattr__', '__dict__', '__dir__', '__doc__', '__eq__', '__format__', '__ge__', '__getattribute__', '__getitem__', '__gt__', '__hash__', '__init__', '__init_subclass__', '__le__', '__lt__', '__module__', '__mul__', '__ne__', '__new__', '__or__', '__reduce__', '__reduce_ex__', '__repr__', '__rmul__', '__rpow__', '__setattr__', '__sizeof__', '__slotnames__', '__str__', '__subclasshook__', '__weakref__', '_alias_params', '_check_X', '_check_X_y', '_check_fh', '_clone_flags', '_components', '_config', '_config_doc', '_config_dynamic', '_converter_store_y', '_cutoff', '_extract_conf_int', '_fh', '_fit', '_fit_forecaster', '_fitted_forecaster', '_fitted_param_names', '_forecaster', '_get_class_flag', '_get_class_flags', '_get_columns', '_get_fitted_param_names', '_get_fitted_params', '_get_fitted_params_default', '_get_flag', '_get_flags', '_get_init_signature', '_get_set_config_doc', '_get_varnames', '_has_implementation_of', '_init_dynamic_doc', '_init_flags', '_is_fitted', '_is_vectorized', '_predict', '_predict_interval', '_predict_moving_cutoff', '_predict_proba', '_predict_quantiles', '_predict_var', '_repr_html_', '_repr_html_inner', '_repr_mimebundle_', '_safe_init_test_params', '_set_cutoff', '_set_cutoff_from_y', '_set_flags', '_tags', '_tags_dynamic', '_update', '_update_X', '_update_predict_single', '_update_y_X', '_vectorize', '_y', '_y_metadata', '_y_mtype_last_seen', 'check_is_fitted', 'clone', 'clone_tags', 'create_test_instance', 'create_test_instances_and_names', 'cutoff', 'damped_trend', 'damping_trend', 'fh', 'fit', 'fit_predict', 'get_class_tag', 'get_class_tags', 'get_config', 'get_fitted_params', 'get_param_defaults', 'get_param_names', 'get_params', 'get_tag', 'get_tags', 'get_test_params', 'initial_level', 'initial_seasonal', 'initial_trend', 'initialization_method', 'is_composite', 'is_fitted', 'load_from_path', 'load_from_serial', 'method', 'minimize_kwargs', 'optimized', 'predict', 'predict_interval', 'predict_proba', 'predict_quantiles', 'predict_residuals', 'predict_var', 'random_state', 'remove_bias', 'reset', 'save', 'score', 'seasonal', 'set_config', 'set_params', 'set_random_state', 'set_tags', 'smoothing_level', 'smoothing_seasonal', 'smoothing_trend', 'sp', 'start_params', 'trend', 'update', 'update_predict', 'update_predict_single', 'use_boxcox', 'use_brute']\n"
     ]
    }
   ],
   "source": [
    "# Debugging: Check the type and attributes of ses_XRP\n",
    "print(f\"Type of ses_XRP: {type(ses_XRP)}\")\n",
    "print(f\"Attributes and methods of ses_XRP: {dir(ses_XRP)}\")"
   ]
  },
  {
   "cell_type": "code",
   "execution_count": 87,
   "metadata": {},
   "outputs": [
    {
     "name": "stdout",
     "output_type": "stream",
     "text": [
      "\n",
      "In-sample predictions from ses_XRP (ses_XRP):\n",
      "Date\n",
      "2020-01-01    0.192367\n",
      "2020-01-02    0.192646\n",
      "2020-01-03    0.188372\n",
      "2020-01-04    0.193153\n",
      "2020-01-05    0.194269\n",
      "                ...   \n",
      "2023-12-29    0.634932\n",
      "2023-12-30    0.624226\n",
      "2023-12-31    0.622014\n",
      "2024-01-01    0.615447\n",
      "2024-01-02    0.629036\n",
      "Freq: D, Length: 1463, dtype: float64\n"
     ]
    }
   ],
   "source": [
    "# Get in-sample predictions (TRYING _fitted_forecaster.fittedvalues for sktime)\n",
    "in_sample_predictions_ses_XRP = ses_XRP._fitted_forecaster.fittedvalues\n",
    "\n",
    "# Ensure the index of in-sample predictions matches the training data index\n",
    "in_sample_predictions_ses_XRP.index = exp_XRP.get_config('y_train').index\n",
    "\n",
    "# Print in-sample predictions\n",
    "print(\"\\nIn-sample predictions from ses_XRP (ses_XRP):\")\n",
    "print(in_sample_predictions_ses_XRP)"
   ]
  },
  {
   "cell_type": "code",
   "execution_count": 88,
   "metadata": {},
   "outputs": [
    {
     "data": {
      "image/png": "[encoded data removed]",
      "text/plain": [
       "<Figure size 1200x600 with 1 Axes>"
      ]
     },
     "metadata": {},
     "output_type": "display_data"
    }
   ],
   "source": [
    "# Plotting in-sample predictions vs actual training data\n",
    "plt.figure(figsize=(12, 6))\n",
    "actual_train_index_dt = exp_XRP.get_config('y_train').index.to_timestamp()\n",
    "prediction_index_dt = in_sample_predictions_ses_XRP.index.to_timestamp()\n",
    "plt.plot(actual_train_index_dt, exp_XRP.get_config('y_train'), label='Actual Training Data')\n",
    "plt.plot(prediction_index_dt, in_sample_predictions_ses_XRP, label='In-Sample Predictions (ses_XRP)', linestyle='--')\n",
    "plt.title('In-Sample Predictions vs Actual Training Data (ses_XRP)')\n",
    "plt.legend()\n",
    "plt.show()"
   ]
  },
  {
   "cell_type": "code",
   "execution_count": 89,
   "metadata": {},
   "outputs": [
    {
     "name": "stdout",
     "output_type": "stream",
     "text": [
      "\n",
      "First 10 residuals:\n",
      "Date\n",
      "2020-01-01    0.000300\n",
      "2020-01-02   -0.004603\n",
      "2020-01-03    0.005149\n",
      "2020-01-04    0.001202\n",
      "2020-01-05    0.001268\n",
      "2020-01-06    0.026064\n",
      "2020-01-07   -0.005730\n",
      "2020-01-08   -0.005301\n",
      "2020-01-09   -0.004506\n",
      "2020-01-10    0.007085\n",
      "Freq: D, dtype: float64\n"
     ]
    }
   ],
   "source": [
    "# Calculate residuals: actual - predictions\n",
    "residuals = train_data_XRP - in_sample_predictions_ses_XRP\n",
    "\n",
    "print(\"\\nFirst 10 residuals:\")\n",
    "print(residuals.head(10))\n"
   ]
  },
  {
   "cell_type": "code",
   "execution_count": 90,
   "metadata": {},
   "outputs": [
    {
     "data": {
      "image/png": "[encoded data removed]",
      "text/plain": [
       "<Figure size 800x550 with 1 Axes>"
      ]
     },
     "metadata": {},
     "output_type": "display_data"
    }
   ],
   "source": [
    "# Convert PeriodIndex to DatetimeIndex for plotting - RESIDUALS INDEX\n",
    "residuals_index_dt = residuals.index.to_timestamp()\n",
    "\n",
    "plt.plot(residuals_index_dt, residuals, label='Residual Series')\n",
    "plt.title('Residual Series from ses_XRP Model')\n",
    "plt.xlabel('Date')\n",
    "plt.ylabel('Residual Value')\n",
    "plt.legend()\n",
    "plt.show()"
   ]
  },
  {
   "cell_type": "code",
   "execution_count": 91,
   "metadata": {},
   "outputs": [
    {
     "data": {
      "application/vnd.plotly.v1+json": {
       "config": {
        "plotlyServerURL": "https://plot.ly"
       },
       "data": [
        {
         "line": {
          "color": "#3f3f3f"
         },
         "marker": {
          "size": 10
         },
         "mode": "lines",
         "name": "ACF",
         "showlegend": false,
         "type": "scattergl",
         "x": [
          0,
          0
         ],
         "xaxis": "x",
         "y": [
          0,
          1
         ],
         "yaxis": "y"
        },
        {
         "line": {
          "color": "#3f3f3f"
         },
         "marker": {
          "size": 10
         },
         "mode": "lines",
         "name": "ACF",
         "showlegend": false,
         "type": "scattergl",
         "x": [
          1,
          1
         ],
         "xaxis": "x",
         "y": [
          0,
          0.9859644138561121
         ],
         "yaxis": "y"
        },
        {
         "line": {
          "color": "#3f3f3f"
         },
         "marker": {
          "size": 10
         },
         "mode": "lines",
         "name": "ACF",
         "showlegend": false,
         "type": "scattergl",
         "x": [
          2,
          2
         ],
         "xaxis": "x",
         "y": [
          0,
          0.9734190309793831
         ],
         "yaxis": "y"
        },
        {
         "line": {
          "color": "#3f3f3f"
         },
         "marker": {
          "size": 10
         },
         "mode": "lines",
         "name": "ACF",
         "showlegend": false,
         "type": "scattergl",
         "x": [
          3,
          3
         ],
         "xaxis": "x",
         "y": [
          0,
          0.9613711002284985
         ],
         "yaxis": "y"
        },
        {
         "line": {
          "color": "#3f3f3f"
         },
         "marker": {
          "size": 10
         },
         "mode": "lines",
         "name": "ACF",
         "showlegend": false,
         "type": "scattergl",
         "x": [
          4,
          4
         ],
         "xaxis": "x",
         "y": [
          0,
          0.9490708226395004
         ],
         "yaxis": "y"
        },
        {
         "line": {
          "color": "#3f3f3f"
         },
         "marker": {
          "size": 10
         },
         "mode": "lines",
         "name": "ACF",
         "showlegend": false,
         "type": "scattergl",
         "x": [
          5,
          5
         ],
         "xaxis": "x",
         "y": [
          0,
          0.935412331823535
         ],
         "yaxis": "y"
        },
        {
         "line": {
          "color": "#3f3f3f"
         },
         "marker": {
          "size": 10
         },
         "mode": "lines",
         "name": "ACF",
         "showlegend": false,
         "type": "scattergl",
         "x": [
          6,
          6
         ],
         "xaxis": "x",
         "y": [
          0,
          0.9220048443615224
         ],
         "yaxis": "y"
        },
        {
         "line": {
          "color": "#3f3f3f"
         },
         "marker": {
          "size": 10
         },
         "mode": "lines",
         "name": "ACF",
         "showlegend": false,
         "type": "scattergl",
         "x": [
          7,
          7
         ],
         "xaxis": "x",
         "y": [
          0,
          0.9080586670500973
         ],
         "yaxis": "y"
        },
        {
         "line": {
          "color": "#3f3f3f"
         },
         "marker": {
          "size": 10
         },
         "mode": "lines",
         "name": "ACF",
         "showlegend": false,
         "type": "scattergl",
         "x": [
          8,
          8
         ],
         "xaxis": "x",
         "y": [
          0,
          0.8929873489310612
         ],
         "yaxis": "y"
        },
        {
         "line": {
          "color": "#3f3f3f"
         },
         "marker": {
          "size": 10
         },
         "mode": "lines",
         "name": "ACF",
         "showlegend": false,
         "type": "scattergl",
         "x": [
          9,
          9
         ],
         "xaxis": "x",
         "y": [
          0,
          0.878205046957426
         ],
         "yaxis": "y"
        },
        {
         "line": {
          "color": "#3f3f3f"
         },
         "marker": {
          "size": 10
         },
         "mode": "lines",
         "name": "ACF",
         "showlegend": false,
         "type": "scattergl",
         "x": [
          10,
          10
         ],
         "xaxis": "x",
         "y": [
          0,
          0.8619958050924592
         ],
         "yaxis": "y"
        },
        {
         "line": {
          "color": "#3f3f3f"
         },
         "marker": {
          "size": 10
         },
         "mode": "lines",
         "name": "ACF",
         "showlegend": false,
         "type": "scattergl",
         "x": [
          11,
          11
         ],
         "xaxis": "x",
         "y": [
          0,
          0.8460674324117557
         ],
         "yaxis": "y"
        },
        {
         "line": {
          "color": "#3f3f3f"
         },
         "marker": {
          "size": 10
         },
         "mode": "lines",
         "name": "ACF",
         "showlegend": false,
         "type": "scattergl",
         "x": [
          12,
          12
         ],
         "xaxis": "x",
         "y": [
          0,
          0.8306248873323157
         ],
         "yaxis": "y"
        },
        {
         "line": {
          "color": "#3f3f3f"
         },
         "marker": {
          "size": 10
         },
         "mode": "lines",
         "name": "ACF",
         "showlegend": false,
         "type": "scattergl",
         "x": [
          13,
          13
         ],
         "xaxis": "x",
         "y": [
          0,
          0.8161191874452804
         ],
         "yaxis": "y"
        },
        {
         "line": {
          "color": "#3f3f3f"
         },
         "marker": {
          "size": 10
         },
         "mode": "lines",
         "name": "ACF",
         "showlegend": false,
         "type": "scattergl",
         "x": [
          14,
          14
         ],
         "xaxis": "x",
         "y": [
          0,
          0.801095492414909
         ],
         "yaxis": "y"
        },
        {
         "line": {
          "color": "#3f3f3f"
         },
         "marker": {
          "size": 10
         },
         "mode": "lines",
         "name": "ACF",
         "showlegend": false,
         "type": "scattergl",
         "x": [
          15,
          15
         ],
         "xaxis": "x",
         "y": [
          0,
          0.7859832960290958
         ],
         "yaxis": "y"
        },
        {
         "line": {
          "color": "#3f3f3f"
         },
         "marker": {
          "size": 10
         },
         "mode": "lines",
         "name": "ACF",
         "showlegend": false,
         "type": "scattergl",
         "x": [
          16,
          16
         ],
         "xaxis": "x",
         "y": [
          0,
          0.7675987998657543
         ],
         "yaxis": "y"
        },
        {
         "line": {
          "color": "#3f3f3f"
         },
         "marker": {
          "size": 10
         },
         "mode": "lines",
         "name": "ACF",
         "showlegend": false,
         "type": "scattergl",
         "x": [
          17,
          17
         ],
         "xaxis": "x",
         "y": [
          0,
          0.7490660078738862
         ],
         "yaxis": "y"
        },
        {
         "line": {
          "color": "#3f3f3f"
         },
         "marker": {
          "size": 10
         },
         "mode": "lines",
         "name": "ACF",
         "showlegend": false,
         "type": "scattergl",
         "x": [
          18,
          18
         ],
         "xaxis": "x",
         "y": [
          0,
          0.7302263334973439
         ],
         "yaxis": "y"
        },
        {
         "line": {
          "color": "#3f3f3f"
         },
         "marker": {
          "size": 10
         },
         "mode": "lines",
         "name": "ACF",
         "showlegend": false,
         "type": "scattergl",
         "x": [
          19,
          19
         ],
         "xaxis": "x",
         "y": [
          0,
          0.7114746117807055
         ],
         "yaxis": "y"
        },
        {
         "line": {
          "color": "#3f3f3f"
         },
         "marker": {
          "size": 10
         },
         "mode": "lines",
         "name": "ACF",
         "showlegend": false,
         "type": "scattergl",
         "x": [
          20,
          20
         ],
         "xaxis": "x",
         "y": [
          0,
          0.6934996989179387
         ],
         "yaxis": "y"
        },
        {
         "line": {
          "color": "#3f3f3f"
         },
         "marker": {
          "size": 10
         },
         "mode": "lines",
         "name": "ACF",
         "showlegend": false,
         "type": "scattergl",
         "x": [
          21,
          21
         ],
         "xaxis": "x",
         "y": [
          0,
          0.6761825619506812
         ],
         "yaxis": "y"
        },
        {
         "line": {
          "color": "#3f3f3f"
         },
         "marker": {
          "size": 10
         },
         "mode": "lines",
         "name": "ACF",
         "showlegend": false,
         "type": "scattergl",
         "x": [
          22,
          22
         ],
         "xaxis": "x",
         "y": [
          0,
          0.6577840635047251
         ],
         "yaxis": "y"
        },
        {
         "line": {
          "color": "#3f3f3f"
         },
         "marker": {
          "size": 10
         },
         "mode": "lines",
         "name": "ACF",
         "showlegend": false,
         "type": "scattergl",
         "x": [
          23,
          23
         ],
         "xaxis": "x",
         "y": [
          0,
          0.6388366396605901
         ],
         "yaxis": "y"
        },
        {
         "line": {
          "color": "#3f3f3f"
         },
         "marker": {
          "size": 10
         },
         "mode": "lines",
         "name": "ACF",
         "showlegend": false,
         "type": "scattergl",
         "x": [
          24,
          24
         ],
         "xaxis": "x",
         "y": [
          0,
          0.6223089769514863
         ],
         "yaxis": "y"
        },
        {
         "line": {
          "color": "#3f3f3f"
         },
         "marker": {
          "size": 10
         },
         "mode": "lines",
         "name": "ACF",
         "showlegend": false,
         "type": "scattergl",
         "x": [
          25,
          25
         ],
         "xaxis": "x",
         "y": [
          0,
          0.6027008584802697
         ],
         "yaxis": "y"
        },
        {
         "line": {
          "color": "#3f3f3f"
         },
         "marker": {
          "size": 10
         },
         "mode": "lines",
         "name": "ACF",
         "showlegend": false,
         "type": "scattergl",
         "x": [
          26,
          26
         ],
         "xaxis": "x",
         "y": [
          0,
          0.5822093919411853
         ],
         "yaxis": "y"
        },
        {
         "line": {
          "color": "#3f3f3f"
         },
         "marker": {
          "size": 10
         },
         "mode": "lines",
         "name": "ACF",
         "showlegend": false,
         "type": "scattergl",
         "x": [
          27,
          27
         ],
         "xaxis": "x",
         "y": [
          0,
          0.5632564650005419
         ],
         "yaxis": "y"
        },
        {
         "line": {
          "color": "#3f3f3f"
         },
         "marker": {
          "size": 10
         },
         "mode": "lines",
         "name": "ACF",
         "showlegend": false,
         "type": "scattergl",
         "x": [
          28,
          28
         ],
         "xaxis": "x",
         "y": [
          0,
          0.5459945895437354
         ],
         "yaxis": "y"
        },
        {
         "line": {
          "color": "#3f3f3f"
         },
         "marker": {
          "size": 10
         },
         "mode": "lines",
         "name": "ACF",
         "showlegend": false,
         "type": "scattergl",
         "x": [
          29,
          29
         ],
         "xaxis": "x",
         "y": [
          0,
          0.5286426287023727
         ],
         "yaxis": "y"
        },
        {
         "line": {
          "color": "#3f3f3f"
         },
         "marker": {
          "size": 10
         },
         "mode": "lines",
         "name": "ACF",
         "showlegend": false,
         "type": "scattergl",
         "x": [
          30,
          30
         ],
         "xaxis": "x",
         "y": [
          0,
          0.5111291416429086
         ],
         "yaxis": "y"
        },
        {
         "line": {
          "color": "#3f3f3f"
         },
         "marker": {
          "size": 10
         },
         "mode": "lines",
         "name": "ACF",
         "showlegend": false,
         "type": "scattergl",
         "x": [
          31,
          31
         ],
         "xaxis": "x",
         "y": [
          0,
          0.4916328029650746
         ],
         "yaxis": "y"
        },
        {
         "line": {
          "color": "#3f3f3f"
         },
         "marker": {
          "size": 10
         },
         "mode": "lines",
         "name": "ACF",
         "showlegend": false,
         "type": "scattergl",
         "x": [
          32,
          32
         ],
         "xaxis": "x",
         "y": [
          0,
          0.4734361461810896
         ],
         "yaxis": "y"
        },
        {
         "line": {
          "color": "#3f3f3f"
         },
         "marker": {
          "size": 10
         },
         "mode": "lines",
         "name": "ACF",
         "showlegend": false,
         "type": "scattergl",
         "x": [
          33,
          33
         ],
         "xaxis": "x",
         "y": [
          0,
          0.45898993980573105
         ],
         "yaxis": "y"
        },
        {
         "line": {
          "color": "#3f3f3f"
         },
         "marker": {
          "size": 10
         },
         "mode": "lines",
         "name": "ACF",
         "showlegend": false,
         "type": "scattergl",
         "x": [
          34,
          34
         ],
         "xaxis": "x",
         "y": [
          0,
          0.44462754792660913
         ],
         "yaxis": "y"
        },
        {
         "line": {
          "color": "#3f3f3f"
         },
         "marker": {
          "size": 10
         },
         "mode": "lines",
         "name": "ACF",
         "showlegend": false,
         "type": "scattergl",
         "x": [
          35,
          35
         ],
         "xaxis": "x",
         "y": [
          0,
          0.43204680410202534
         ],
         "yaxis": "y"
        },
        {
         "line": {
          "color": "#3f3f3f"
         },
         "marker": {
          "size": 10
         },
         "mode": "lines",
         "name": "ACF",
         "showlegend": false,
         "type": "scattergl",
         "x": [
          36,
          36
         ],
         "xaxis": "x",
         "y": [
          0,
          0.4193242904582121
         ],
         "yaxis": "y"
        },
        {
         "line": {
          "color": "#3f3f3f"
         },
         "marker": {
          "size": 10
         },
         "mode": "lines",
         "name": "ACF",
         "showlegend": false,
         "type": "scattergl",
         "x": [
          37,
          37
         ],
         "xaxis": "x",
         "y": [
          0,
          0.40855900529616723
         ],
         "yaxis": "y"
        },
        {
         "line": {
          "color": "#3f3f3f"
         },
         "marker": {
          "size": 10
         },
         "mode": "lines",
         "name": "ACF",
         "showlegend": false,
         "type": "scattergl",
         "x": [
          38,
          38
         ],
         "xaxis": "x",
         "y": [
          0,
          0.3978300970956194
         ],
         "yaxis": "y"
        },
        {
         "line": {
          "color": "#3f3f3f"
         },
         "marker": {
          "size": 10
         },
         "mode": "lines",
         "name": "ACF",
         "showlegend": false,
         "type": "scattergl",
         "x": [
          39,
          39
         ],
         "xaxis": "x",
         "y": [
          0,
          0.3875928130145778
         ],
         "yaxis": "y"
        },
        {
         "line": {
          "color": "#3f3f3f"
         },
         "marker": {
          "size": 10
         },
         "mode": "lines",
         "name": "ACF",
         "showlegend": false,
         "type": "scattergl",
         "x": [
          40,
          40
         ],
         "xaxis": "x",
         "y": [
          0,
          0.37816193558094
         ],
         "yaxis": "y"
        },
        {
         "line": {
          "color": "#3f3f3f"
         },
         "marker": {
          "size": 10
         },
         "mode": "lines",
         "name": "ACF",
         "showlegend": false,
         "type": "scattergl",
         "x": [
          41,
          41
         ],
         "xaxis": "x",
         "y": [
          0,
          0.3683252601669148
         ],
         "yaxis": "y"
        },
        {
         "line": {
          "color": "#3f3f3f"
         },
         "marker": {
          "size": 10
         },
         "mode": "lines",
         "name": "ACF",
         "showlegend": false,
         "type": "scattergl",
         "x": [
          42,
          42
         ],
         "xaxis": "x",
         "y": [
          0,
          0.36050461608189405
         ],
         "yaxis": "y"
        },
        {
         "line": {
          "color": "#3f3f3f"
         },
         "marker": {
          "size": 10
         },
         "mode": "lines",
         "name": "ACF",
         "showlegend": false,
         "type": "scattergl",
         "x": [
          43,
          43
         ],
         "xaxis": "x",
         "y": [
          0,
          0.3535557649503104
         ],
         "yaxis": "y"
        },
        {
         "line": {
          "color": "#3f3f3f"
         },
         "marker": {
          "size": 10
         },
         "mode": "lines",
         "name": "ACF",
         "showlegend": false,
         "type": "scattergl",
         "x": [
          44,
          44
         ],
         "xaxis": "x",
         "y": [
          0,
          0.34703557842128857
         ],
         "yaxis": "y"
        },
        {
         "line": {
          "color": "#3f3f3f"
         },
         "marker": {
          "size": 10
         },
         "mode": "lines",
         "name": "ACF",
         "showlegend": false,
         "type": "scattergl",
         "x": [
          45,
          45
         ],
         "xaxis": "x",
         "y": [
          0,
          0.34065111724839786
         ],
         "yaxis": "y"
        },
        {
         "line": {
          "color": "#3f3f3f"
         },
         "marker": {
          "size": 10
         },
         "mode": "lines",
         "name": "ACF",
         "showlegend": false,
         "type": "scattergl",
         "x": [
          46,
          46
         ],
         "xaxis": "x",
         "y": [
          0,
          0.3354010829164932
         ],
         "yaxis": "y"
        },
        {
         "line": {
          "color": "#3f3f3f"
         },
         "marker": {
          "size": 10
         },
         "mode": "lines",
         "name": "ACF",
         "showlegend": false,
         "type": "scattergl",
         "x": [
          47,
          47
         ],
         "xaxis": "x",
         "y": [
          0,
          0.32973580363315225
         ],
         "yaxis": "y"
        },
        {
         "line": {
          "color": "#3f3f3f"
         },
         "marker": {
          "size": 10
         },
         "mode": "lines",
         "name": "ACF",
         "showlegend": false,
         "type": "scattergl",
         "x": [
          48,
          48
         ],
         "xaxis": "x",
         "y": [
          0,
          0.3259813970554417
         ],
         "yaxis": "y"
        },
        {
         "line": {
          "color": "#3f3f3f"
         },
         "marker": {
          "size": 10
         },
         "mode": "lines",
         "name": "ACF",
         "showlegend": false,
         "type": "scattergl",
         "x": [
          49,
          49
         ],
         "xaxis": "x",
         "y": [
          0,
          0.3228070359793588
         ],
         "yaxis": "y"
        },
        {
         "line": {
          "color": "#3f3f3f"
         },
         "marker": {
          "size": 10
         },
         "mode": "lines",
         "name": "ACF",
         "showlegend": false,
         "type": "scattergl",
         "x": [
          50,
          50
         ],
         "xaxis": "x",
         "y": [
          0,
          0.32011315911533156
         ],
         "yaxis": "y"
        },
        {
         "marker": {
          "color": "#1f77b4",
          "size": 10
         },
         "mode": "markers",
         "name": "ACF",
         "showlegend": false,
         "type": "scattergl",
         "x": [
          0,
          1,
          2,
          3,
          4,
          5,
          6,
          7,
          8,
          9,
          10,
          11,
          12,
          13,
          14,
          15,
          16,
          17,
          18,
          19,
          20,
          21,
          22,
          23,
          24,
          25,
          26,
          27,
          28,
          29,
          30,
          31,
          32,
          33,
          34,
          35,
          36,
          37,
          38,
          39,
          40,
          41,
          42,
          43,
          44,
          45,
          46,
          47,
          48,
          49,
          50
         ],
         "xaxis": "x",
         "y": [
          1,
          0.9859644138561121,
          0.9734190309793831,
          0.9613711002284985,
          0.9490708226395004,
          0.935412331823535,
          0.9220048443615224,
          0.9080586670500973,
          0.8929873489310612,
          0.878205046957426,
          0.8619958050924592,
          0.8460674324117557,
          0.8306248873323157,
          0.8161191874452804,
          0.801095492414909,
          0.7859832960290958,
          0.7675987998657543,
          0.7490660078738862,
          0.7302263334973439,
          0.7114746117807055,
          0.6934996989179387,
          0.6761825619506812,
          0.6577840635047251,
          0.6388366396605901,
          0.6223089769514863,
          0.6027008584802697,
          0.5822093919411853,
          0.5632564650005419,
          0.5459945895437354,
          0.5286426287023727,
          0.5111291416429086,
          0.4916328029650746,
          0.4734361461810896,
          0.45898993980573105,
          0.44462754792660913,
          0.43204680410202534,
          0.4193242904582121,
          0.40855900529616723,
          0.3978300970956194,
          0.3875928130145778,
          0.37816193558094,
          0.3683252601669148,
          0.36050461608189405,
          0.3535557649503104,
          0.34703557842128857,
          0.34065111724839786,
          0.3354010829164932,
          0.32973580363315225,
          0.3259813970554417,
          0.3228070359793588,
          0.32011315911533156
         ],
         "yaxis": "y"
        },
        {
         "line": {
          "color": "rgba(255,255,255,0)"
         },
         "marker": {
          "size": 10
         },
         "mode": "lines",
         "name": "UC",
         "showlegend": false,
         "type": "scatter",
         "x": [
          0,
          1,
          2,
          3,
          4,
          5,
          6,
          7,
          8,
          9,
          10,
          11,
          12,
          13,
          14,
          15,
          16,
          17,
          18,
          19,
          20,
          21,
          22,
          23,
          24,
          25,
          26,
          27,
          28,
          29,
          30,
          31,
          32,
          33,
          34,
          35,
          36,
          37,
          38,
          39,
          40,
          41,
          42,
          43,
          44,
          45,
          46,
          47,
          48,
          49,
          50
         ],
         "xaxis": "x",
         "y": [
          0,
          0.04584162406697034,
          0.07865882577384964,
          0.10084470553953884,
          0.11855010618184814,
          0.13356585155148593,
          0.14668798937828675,
          0.1583989566315428,
          0.16898468691767243,
          0.17862624393946624,
          0.18748014243500788,
          0.1956315918318995,
          0.2031755115388607,
          0.21019047045088968,
          0.21674728054481984,
          0.22288251890102062,
          0.22863299682051663,
          0.23398597071464478,
          0.2389721453245529,
          0.24361610270587886,
          0.24794415043848272,
          0.25198741335577934,
          0.25577201283200524,
          0.2593025967533319,
          0.2625892140555651,
          0.2656703774299385,
          0.26852830222389623,
          0.2711680287386623,
          0.273615616626272,
          0.27589569632001854,
          0.2780161738560156,
          0.27998395580216895,
          0.28179224693576305,
          0.2834588470222819,
          0.2850164069145536,
          0.28647031374464804,
          0.28783636725517897,
          0.28911724927063015,
          0.29032797889949097,
          0.2914713101433739,
          0.2925524227248273,
          0.29357786554011744,
          0.2945473552215006,
          0.2954731283209763,
          0.2963608277766257,
          0.29721357992302194,
          0.2980329361514815,
          0.29882508696243393,
          0.2995887127736403,
          0.30033317199653686,
          0.30106141522594987
         ],
         "yaxis": "y"
        },
        {
         "fill": "tonexty",
         "fillcolor": "rgba(32, 146, 230,0.3)",
         "line": {
          "color": "rgba(255,255,255,0)"
         },
         "marker": {
          "size": 10
         },
         "mode": "lines",
         "name": "LC",
         "showlegend": false,
         "type": "scatter",
         "x": [
          0,
          1,
          2,
          3,
          4,
          5,
          6,
          7,
          8,
          9,
          10,
          11,
          12,
          13,
          14,
          15,
          16,
          17,
          18,
          19,
          20,
          21,
          22,
          23,
          24,
          25,
          26,
          27,
          28,
          29,
          30,
          31,
          32,
          33,
          34,
          35,
          36,
          37,
          38,
          39,
          40,
          41,
          42,
          43,
          44,
          45,
          46,
          47,
          48,
          49,
          50
         ],
         "xaxis": "x",
         "y": [
          0,
          -0.045841624066970454,
          -0.07865882577384964,
          -0.10084470553953884,
          -0.11855010618184814,
          -0.13356585155148593,
          -0.14668798937828686,
          -0.1583989566315428,
          -0.16898468691767254,
          -0.17862624393946624,
          -0.18748014243500788,
          -0.1956315918318995,
          -0.2031755115388607,
          -0.21019047045088968,
          -0.21674728054481973,
          -0.2228825189010205,
          -0.22863299682051663,
          -0.23398597071464478,
          -0.2389721453245529,
          -0.24361610270587886,
          -0.24794415043848272,
          -0.25198741335577934,
          -0.2557720128320052,
          -0.2593025967533319,
          -0.26258921405556507,
          -0.2656703774299385,
          -0.26852830222389623,
          -0.27116802873866236,
          -0.273615616626272,
          -0.2758956963200186,
          -0.2780161738560156,
          -0.2799839558021689,
          -0.28179224693576305,
          -0.2834588470222819,
          -0.2850164069145536,
          -0.2864703137446481,
          -0.2878363672551789,
          -0.28911724927063015,
          -0.29032797889949097,
          -0.29147131014337396,
          -0.29255242272482734,
          -0.2935778655401175,
          -0.29454735522150055,
          -0.2954731283209762,
          -0.29636082777662565,
          -0.29721357992302194,
          -0.2980329361514815,
          -0.2988250869624339,
          -0.29958871277364035,
          -0.3003331719965369,
          -0.30106141522594987
         ],
         "yaxis": "y"
        }
       ],
       "layout": {
        "annotations": [
         {
          "font": {
           "size": 16
          },
          "showarrow": false,
          "text": "Close (transformed)",
          "x": 0.5,
          "xanchor": "center",
          "xref": "paper",
          "y": 1,
          "yanchor": "bottom",
          "yref": "paper"
         }
        ],
        "showlegend": false,
        "template": {
         "data": {
          "bar": [
           {
            "error_x": {
             "color": "rgb(51,51,51)"
            },
            "error_y": {
             "color": "rgb(51,51,51)"
            },
            "marker": {
             "line": {
              "color": "rgb(237,237,237)",
              "width": 0.5
             },
             "pattern": {
              "fillmode": "overlay",
              "size": 10,
              "solidity": 0.2
             }
            },
            "type": "bar"
           }
          ],
          "barpolar": [
           {
            "marker": {
             "line": {
              "color": "rgb(237,237,237)",
              "width": 0.5
             },
             "pattern": {
              "fillmode": "overlay",
              "size": 10,
              "solidity": 0.2
             }
            },
            "type": "barpolar"
           }
          ],
          "carpet": [
           {
            "aaxis": {
             "endlinecolor": "rgb(51,51,51)",
             "gridcolor": "white",
             "linecolor": "white",
             "minorgridcolor": "white",
             "startlinecolor": "rgb(51,51,51)"
            },
            "baxis": {
             "endlinecolor": "rgb(51,51,51)",
             "gridcolor": "white",
             "linecolor": "white",
             "minorgridcolor": "white",
             "startlinecolor": "rgb(51,51,51)"
            },
            "type": "carpet"
           }
          ],
          "choropleth": [
           {
            "colorbar": {
             "outlinewidth": 0,
             "tickcolor": "rgb(237,237,237)",
             "ticklen": 6,
             "ticks": "inside"
            },
            "type": "choropleth"
           }
          ],
          "contour": [
           {
            "colorbar": {
             "outlinewidth": 0,
             "tickcolor": "rgb(237,237,237)",
             "ticklen": 6,
             "ticks": "inside"
            },
            "colorscale": [
             [
              0,
              "rgb(20,44,66)"
             ],
             [
              1,
              "rgb(90,179,244)"
             ]
            ],
            "type": "contour"
           }
          ],
          "contourcarpet": [
           {
            "colorbar": {
             "outlinewidth": 0,
             "tickcolor": "rgb(237,237,237)",
             "ticklen": 6,
             "ticks": "inside"
            },
            "type": "contourcarpet"
           }
          ],
          "heatmap": [
           {
            "colorbar": {
             "outlinewidth": 0,
             "tickcolor": "rgb(237,237,237)",
             "ticklen": 6,
             "ticks": "inside"
            },
            "colorscale": [
             [
              0,
              "rgb(20,44,66)"
             ],
             [
              1,
              "rgb(90,179,244)"
             ]
            ],
            "type": "heatmap"
           }
          ],
          "heatmapgl": [
           {
            "colorbar": {
             "outlinewidth": 0,
             "tickcolor": "rgb(237,237,237)",
             "ticklen": 6,
             "ticks": "inside"
            },
            "colorscale": [
             [
              0,
              "rgb(20,44,66)"
             ],
             [
              1,
              "rgb(90,179,244)"
             ]
            ],
            "type": "heatmapgl"
           }
          ],
          "histogram": [
           {
            "marker": {
             "pattern": {
              "fillmode": "overlay",
              "size": 10,
              "solidity": 0.2
             }
            },
            "type": "histogram"
           }
          ],
          "histogram2d": [
           {
            "colorbar": {
             "outlinewidth": 0,
             "tickcolor": "rgb(237,237,237)",
             "ticklen": 6,
             "ticks": "inside"
            },
            "colorscale": [
             [
              0,
              "rgb(20,44,66)"
             ],
             [
              1,
              "rgb(90,179,244)"
             ]
            ],
            "type": "histogram2d"
           }
          ],
          "histogram2dcontour": [
           {
            "colorbar": {
             "outlinewidth": 0,
             "tickcolor": "rgb(237,237,237)",
             "ticklen": 6,
             "ticks": "inside"
            },
            "colorscale": [
             [
              0,
              "rgb(20,44,66)"
             ],
             [
              1,
              "rgb(90,179,244)"
             ]
            ],
            "type": "histogram2dcontour"
           }
          ],
          "mesh3d": [
           {
            "colorbar": {
             "outlinewidth": 0,
             "tickcolor": "rgb(237,237,237)",
             "ticklen": 6,
             "ticks": "inside"
            },
            "type": "mesh3d"
           }
          ],
          "parcoords": [
           {
            "line": {
             "colorbar": {
              "outlinewidth": 0,
              "tickcolor": "rgb(237,237,237)",
              "ticklen": 6,
              "ticks": "inside"
             }
            },
            "type": "parcoords"
           }
          ],
          "pie": [
           {
            "automargin": true,
            "type": "pie"
           }
          ],
          "scatter": [
           {
            "fillpattern": {
             "fillmode": "overlay",
             "size": 10,
             "solidity": 0.2
            },
            "type": "scatter"
           }
          ],
          "scatter3d": [
           {
            "line": {
             "colorbar": {
              "outlinewidth": 0,
              "tickcolor": "rgb(237,237,237)",
              "ticklen": 6,
              "ticks": "inside"
             }
            },
            "marker": {
             "colorbar": {
              "outlinewidth": 0,
              "tickcolor": "rgb(237,237,237)",
              "ticklen": 6,
              "ticks": "inside"
             }
            },
            "type": "scatter3d"
           }
          ],
          "scattercarpet": [
           {
            "marker": {
             "colorbar": {
              "outlinewidth": 0,
              "tickcolor": "rgb(237,237,237)",
              "ticklen": 6,
              "ticks": "inside"
             }
            },
            "type": "scattercarpet"
           }
          ],
          "scattergeo": [
           {
            "marker": {
             "colorbar": {
              "outlinewidth": 0,
              "tickcolor": "rgb(237,237,237)",
              "ticklen": 6,
              "ticks": "inside"
             }
            },
            "type": "scattergeo"
           }
          ],
          "scattergl": [
           {
            "marker": {
             "colorbar": {
              "outlinewidth": 0,
              "tickcolor": "rgb(237,237,237)",
              "ticklen": 6,
              "ticks": "inside"
             }
            },
            "type": "scattergl"
           }
          ],
          "scattermapbox": [
           {
            "marker": {
             "colorbar": {
              "outlinewidth": 0,
              "tickcolor": "rgb(237,237,237)",
              "ticklen": 6,
              "ticks": "inside"
             }
            },
            "type": "scattermapbox"
           }
          ],
          "scatterpolar": [
           {
            "marker": {
             "colorbar": {
              "outlinewidth": 0,
              "tickcolor": "rgb(237,237,237)",
              "ticklen": 6,
              "ticks": "inside"
             }
            },
            "type": "scatterpolar"
           }
          ],
          "scatterpolargl": [
           {
            "marker": {
             "colorbar": {
              "outlinewidth": 0,
              "tickcolor": "rgb(237,237,237)",
              "ticklen": 6,
              "ticks": "inside"
             }
            },
            "type": "scatterpolargl"
           }
          ],
          "scatterternary": [
           {
            "marker": {
             "colorbar": {
              "outlinewidth": 0,
              "tickcolor": "rgb(237,237,237)",
              "ticklen": 6,
              "ticks": "inside"
             }
            },
            "type": "scatterternary"
           }
          ],
          "surface": [
           {
            "colorbar": {
             "outlinewidth": 0,
             "tickcolor": "rgb(237,237,237)",
             "ticklen": 6,
             "ticks": "inside"
            },
            "colorscale": [
             [
              0,
              "rgb(20,44,66)"
             ],
             [
              1,
              "rgb(90,179,244)"
             ]
            ],
            "type": "surface"
           }
          ],
          "table": [
           {
            "cells": {
             "fill": {
              "color": "rgb(237,237,237)"
             },
             "line": {
              "color": "white"
             }
            },
            "header": {
             "fill": {
              "color": "rgb(217,217,217)"
             },
             "line": {
              "color": "white"
             }
            },
            "type": "table"
           }
          ]
         },
         "layout": {
          "annotationdefaults": {
           "arrowhead": 0,
           "arrowwidth": 1
          },
          "autotypenumbers": "strict",
          "coloraxis": {
           "colorbar": {
            "outlinewidth": 0,
            "tickcolor": "rgb(237,237,237)",
            "ticklen": 6,
            "ticks": "inside"
           }
          },
          "colorscale": {
           "sequential": [
            [
             0,
             "rgb(20,44,66)"
            ],
            [
             1,
             "rgb(90,179,244)"
            ]
           ],
           "sequentialminus": [
            [
             0,
             "rgb(20,44,66)"
            ],
            [
             1,
             "rgb(90,179,244)"
            ]
           ]
          },
          "colorway": [
           "#F8766D",
           "#A3A500",
           "#00BF7D",
           "#00B0F6",
           "#E76BF3"
          ],
          "font": {
           "color": "rgb(51,51,51)"
          },
          "geo": {
           "bgcolor": "white",
           "lakecolor": "white",
           "landcolor": "rgb(237,237,237)",
           "showlakes": true,
           "showland": true,
           "subunitcolor": "white"
          },
          "hoverlabel": {
           "align": "left"
          },
          "hovermode": "closest",
          "paper_bgcolor": "white",
          "plot_bgcolor": "rgb(237,237,237)",
          "polar": {
           "angularaxis": {
            "gridcolor": "white",
            "linecolor": "white",
            "showgrid": true,
            "tickcolor": "rgb(51,51,51)",
            "ticks": "outside"
           },
           "bgcolor": "rgb(237,237,237)",
           "radialaxis": {
            "gridcolor": "white",
            "linecolor": "white",
            "showgrid": true,
            "tickcolor": "rgb(51,51,51)",
            "ticks": "outside"
           }
          },
          "scene": {
           "xaxis": {
            "backgroundcolor": "rgb(237,237,237)",
            "gridcolor": "white",
            "gridwidth": 2,
            "linecolor": "white",
            "showbackground": true,
            "showgrid": true,
            "tickcolor": "rgb(51,51,51)",
            "ticks": "outside",
            "zerolinecolor": "white"
           },
           "yaxis": {
            "backgroundcolor": "rgb(237,237,237)",
            "gridcolor": "white",
            "gridwidth": 2,
            "linecolor": "white",
            "showbackground": true,
            "showgrid": true,
            "tickcolor": "rgb(51,51,51)",
            "ticks": "outside",
            "zerolinecolor": "white"
           },
           "zaxis": {
            "backgroundcolor": "rgb(237,237,237)",
            "gridcolor": "white",
            "gridwidth": 2,
            "linecolor": "white",
            "showbackground": true,
            "showgrid": true,
            "tickcolor": "rgb(51,51,51)",
            "ticks": "outside",
            "zerolinecolor": "white"
           }
          },
          "shapedefaults": {
           "fillcolor": "black",
           "line": {
            "width": 0
           },
           "opacity": 0.3
          },
          "ternary": {
           "aaxis": {
            "gridcolor": "white",
            "linecolor": "white",
            "showgrid": true,
            "tickcolor": "rgb(51,51,51)",
            "ticks": "outside"
           },
           "baxis": {
            "gridcolor": "white",
            "linecolor": "white",
            "showgrid": true,
            "tickcolor": "rgb(51,51,51)",
            "ticks": "outside"
           },
           "bgcolor": "rgb(237,237,237)",
           "caxis": {
            "gridcolor": "white",
            "linecolor": "white",
            "showgrid": true,
            "tickcolor": "rgb(51,51,51)",
            "ticks": "outside"
           }
          },
          "xaxis": {
           "automargin": true,
           "gridcolor": "white",
           "linecolor": "white",
           "showgrid": true,
           "tickcolor": "rgb(51,51,51)",
           "ticks": "outside",
           "title": {
            "standoff": 15
           },
           "zerolinecolor": "white"
          },
          "yaxis": {
           "automargin": true,
           "gridcolor": "white",
           "linecolor": "white",
           "showgrid": true,
           "tickcolor": "rgb(51,51,51)",
           "ticks": "outside",
           "title": {
            "standoff": 15
           },
           "zerolinecolor": "white"
          }
         }
        },
        "title": {
         "text": "Autocorrelation (ACF) | Close"
        },
        "xaxis": {
         "anchor": "y",
         "domain": [
          0,
          1
         ],
         "range": [
          -1,
          52
         ],
         "title": {
          "text": "Lags"
         }
        },
        "yaxis": {
         "anchor": "x",
         "domain": [
          0,
          1
         ],
         "range": [
          -1.1,
          1.1
         ],
         "title": {
          "text": "ACF"
         },
         "zerolinecolor": "#000000"
        }
       }
      }
     },
     "metadata": {},
     "output_type": "display_data"
    }
   ],
   "source": [
    "# Step 8: Perform Lag Selection using ACF on Residual Series\n",
    "exp_XRP.plot_model(plot='acf',  data_kwargs={'nlags': 50}) # Analyze ACF plot to choose lags\n"
   ]
  },
  {
   "cell_type": "code",
   "execution_count": 92,
   "metadata": {},
   "outputs": [
    {
     "name": "stdout",
     "output_type": "stream",
     "text": [
      "\n",
      "First 10 Normalized Residuals:\n",
      "Date\n",
      "2020-01-01    0.187349\n",
      "2020-01-02    0.176019\n",
      "2020-01-03    0.198556\n",
      "2020-01-04    0.189434\n",
      "2020-01-05    0.189586\n",
      "2020-01-06    0.246892\n",
      "2020-01-07    0.173414\n",
      "2020-01-08    0.174406\n",
      "2020-01-09    0.176243\n",
      "2020-01-10    0.203030\n",
      "Freq: D, dtype: float64\n"
     ]
    }
   ],
   "source": [
    "# Step 9: Normalize Residual Series (Min-Max Normalization)\n",
    "scaler_residuals = MinMaxScaler(feature_range=(-1, 1))\n",
    "normalized_residuals = scaler_residuals.fit_transform(residuals.values.reshape(-1, 1))\n",
    "normalized_residuals = pd.Series(normalized_residuals.flatten(), index=residuals.index)\n",
    "print(\"\\nFirst 10 Normalized Residuals:\")\n",
    "print(normalized_residuals.head(10))"
   ]
  },
  {
   "cell_type": "code",
   "execution_count": 93,
   "metadata": {},
   "outputs": [
    {
     "data": {
      "image/png": "[encoded data removed]",
      "text/plain": [
       "<Figure size 800x550 with 1 Axes>"
      ]
     },
     "metadata": {},
     "output_type": "display_data"
    }
   ],
   "source": [
    "# --- Convert PeriodIndex to DatetimeIndex for plotting - NORMALIZED RESIDUALS INDEX ---\n",
    "normalized_residuals_index_dt = normalized_residuals.index.to_timestamp()\n",
    "\n",
    "plt.plot(normalized_residuals_index_dt, normalized_residuals, label='Normalized Residual Series')\n",
    "plt.title('Normalized Residual Series (Min-Max Scaled)')\n",
    "plt.xlabel('Date')\n",
    "plt.ylabel('Normalized Residual Value')\n",
    "plt.legend()\n",
    "plt.show()\n"
   ]
  },
  {
   "cell_type": "code",
   "execution_count": 94,
   "metadata": {},
   "outputs": [],
   "source": [
    "# Filling any remaining NaNs with 0\n",
    "normalized_residuals.fillna(0, inplace=True) \n"
   ]
  },
  {
   "cell_type": "code",
   "execution_count": 95,
   "metadata": {},
   "outputs": [],
   "source": [
    "# Step 10a: Prepare Data for ANN - Create Lagged Features and Target\n",
    "\n",
    "def create_lagged_features(series, lags):\n",
    "    lagged_features = {}\n",
    "    for lag in lags:\n",
    "        lagged_features[f'lag_{lag}'] = series.shift(lag)\n",
    "    lagged_df = pd.DataFrame(lagged_features)\n",
    "    return lagged_df \n",
    "\n",
    "lags_to_use = [1, 7, 30]  \n",
    "\n",
    "lagged_residual_features = create_lagged_features(normalized_residuals, lags_to_use)\n",
    "lagged_residual_features.dropna(inplace=True) \n",
    "\n",
    "residual_target = normalized_residuals.reindex(lagged_residual_features.index)\n",
    "\n",
    "X_train_ann = lagged_residual_features\n",
    "y_train_ann = residual_target\n",
    "\n",
    "X_train_ann_np = X_train_ann.values\n",
    "y_train_ann_np = y_train_ann.values"
   ]
  },
  {
   "cell_type": "code",
   "execution_count": 97,
   "metadata": {},
   "outputs": [],
   "source": [
    "# Data Splitting for Validation\n",
    "from sklearn.model_selection import train_test_split\n",
    "X_train_ann_train, X_val_ann, y_train_ann_train, y_val_ann = train_test_split(\n",
    "    X_train_ann, y_train_ann, test_size=0.2, shuffle=False\n",
    ")\n",
    "X_val_ann_np = X_val_ann.values  \n",
    "y_val_ann_np = y_val_ann.values  \n",
    "X_train_ann_train_np = X_train_ann_train.values  \n",
    "y_train_ann_train_np = y_train_ann_train.values  \n",
    "\n",
    "# Ensuring Data Types are float32 \n",
    "X_train_ann_train_np = X_train_ann_train_np.astype(np.float32)  \n",
    "X_val_ann_np = X_val_ann_np.astype(np.float32)  \n",
    "y_train_ann_train_np = y_train_ann_train_np.astype(np.float32) \n",
    "y_val_ann_np = y_val_ann_np.astype(np.float32)"
   ]
  },
  {
   "cell_type": "code",
   "execution_count": 98,
   "metadata": {},
   "outputs": [
    {
     "name": "stdout",
     "output_type": "stream",
     "text": [
      "Trying: Neurons=25, Epochs=30, Batch Size=16\n"
     ]
    },
    {
     "name": "stderr",
     "output_type": "stream",
     "text": [
      "WARNING:absl:At this time, the v2.11+ optimizer `tf.keras.optimizers.Adam` runs slowly on M1/M2 Macs, please use the legacy Keras optimizer instead, located at `tf.keras.optimizers.legacy.Adam`.\n",
      "WARNING:absl:There is a known slowdown when using v2.11+ Keras optimizers on M1/M2 Macs. Falling back to the legacy Keras optimizer, i.e., `tf.keras.optimizers.legacy.Adam`.\n"
     ]
    },
    {
     "name": "stdout",
     "output_type": "stream",
     "text": [
      "NaNs in X_val_ann_np BEFORE prediction: False\n",
      "12/12 [==============================] - 0s 385us/step\n"
     ]
    },
    {
     "name": "stderr",
     "output_type": "stream",
     "text": [
      "WARNING:absl:At this time, the v2.11+ optimizer `tf.keras.optimizers.Adam` runs slowly on M1/M2 Macs, please use the legacy Keras optimizer instead, located at `tf.keras.optimizers.legacy.Adam`.\n",
      "WARNING:absl:There is a known slowdown when using v2.11+ Keras optimizers on M1/M2 Macs. Falling back to the legacy Keras optimizer, i.e., `tf.keras.optimizers.legacy.Adam`.\n"
     ]
    },
    {
     "name": "stdout",
     "output_type": "stream",
     "text": [
      "  Validation RMSE: 0.1386\n",
      "Trying: Neurons=25, Epochs=30, Batch Size=32\n",
      "NaNs in X_val_ann_np BEFORE prediction: False\n",
      "12/12 [==============================] - 0s 336us/step\n"
     ]
    },
    {
     "name": "stderr",
     "output_type": "stream",
     "text": [
      "WARNING:absl:At this time, the v2.11+ optimizer `tf.keras.optimizers.Adam` runs slowly on M1/M2 Macs, please use the legacy Keras optimizer instead, located at `tf.keras.optimizers.legacy.Adam`.\n",
      "WARNING:absl:There is a known slowdown when using v2.11+ Keras optimizers on M1/M2 Macs. Falling back to the legacy Keras optimizer, i.e., `tf.keras.optimizers.legacy.Adam`.\n"
     ]
    },
    {
     "name": "stdout",
     "output_type": "stream",
     "text": [
      "  Validation RMSE: 0.1540\n",
      "Trying: Neurons=25, Epochs=30, Batch Size=64\n",
      "NaNs in X_val_ann_np BEFORE prediction: False\n",
      "12/12 [==============================] - 0s 349us/step\n"
     ]
    },
    {
     "name": "stderr",
     "output_type": "stream",
     "text": [
      "WARNING:absl:At this time, the v2.11+ optimizer `tf.keras.optimizers.Adam` runs slowly on M1/M2 Macs, please use the legacy Keras optimizer instead, located at `tf.keras.optimizers.legacy.Adam`.\n",
      "WARNING:absl:There is a known slowdown when using v2.11+ Keras optimizers on M1/M2 Macs. Falling back to the legacy Keras optimizer, i.e., `tf.keras.optimizers.legacy.Adam`.\n"
     ]
    },
    {
     "name": "stdout",
     "output_type": "stream",
     "text": [
      "  Validation RMSE: 0.1944\n",
      "Trying: Neurons=25, Epochs=50, Batch Size=16\n",
      "NaNs in X_val_ann_np BEFORE prediction: False\n",
      "12/12 [==============================] - 0s 336us/step\n"
     ]
    },
    {
     "name": "stderr",
     "output_type": "stream",
     "text": [
      "WARNING:absl:At this time, the v2.11+ optimizer `tf.keras.optimizers.Adam` runs slowly on M1/M2 Macs, please use the legacy Keras optimizer instead, located at `tf.keras.optimizers.legacy.Adam`.\n",
      "WARNING:absl:There is a known slowdown when using v2.11+ Keras optimizers on M1/M2 Macs. Falling back to the legacy Keras optimizer, i.e., `tf.keras.optimizers.legacy.Adam`.\n"
     ]
    },
    {
     "name": "stdout",
     "output_type": "stream",
     "text": [
      "  Validation RMSE: 0.1761\n",
      "Trying: Neurons=25, Epochs=50, Batch Size=32\n",
      "NaNs in X_val_ann_np BEFORE prediction: False\n",
      "12/12 [==============================] - 0s 453us/step\n"
     ]
    },
    {
     "name": "stderr",
     "output_type": "stream",
     "text": [
      "WARNING:absl:At this time, the v2.11+ optimizer `tf.keras.optimizers.Adam` runs slowly on M1/M2 Macs, please use the legacy Keras optimizer instead, located at `tf.keras.optimizers.legacy.Adam`.\n",
      "WARNING:absl:There is a known slowdown when using v2.11+ Keras optimizers on M1/M2 Macs. Falling back to the legacy Keras optimizer, i.e., `tf.keras.optimizers.legacy.Adam`.\n"
     ]
    },
    {
     "name": "stdout",
     "output_type": "stream",
     "text": [
      "  Validation RMSE: 0.1573\n",
      "Trying: Neurons=25, Epochs=50, Batch Size=64\n",
      "NaNs in X_val_ann_np BEFORE prediction: False\n",
      "12/12 [==============================] - 0s 436us/step\n"
     ]
    },
    {
     "name": "stderr",
     "output_type": "stream",
     "text": [
      "WARNING:absl:At this time, the v2.11+ optimizer `tf.keras.optimizers.Adam` runs slowly on M1/M2 Macs, please use the legacy Keras optimizer instead, located at `tf.keras.optimizers.legacy.Adam`.\n",
      "WARNING:absl:There is a known slowdown when using v2.11+ Keras optimizers on M1/M2 Macs. Falling back to the legacy Keras optimizer, i.e., `tf.keras.optimizers.legacy.Adam`.\n"
     ]
    },
    {
     "name": "stdout",
     "output_type": "stream",
     "text": [
      "  Validation RMSE: 0.1787\n",
      "Trying: Neurons=25, Epochs=70, Batch Size=16\n",
      "NaNs in X_val_ann_np BEFORE prediction: False\n",
      "12/12 [==============================] - 0s 379us/step\n"
     ]
    },
    {
     "name": "stderr",
     "output_type": "stream",
     "text": [
      "WARNING:absl:At this time, the v2.11+ optimizer `tf.keras.optimizers.Adam` runs slowly on M1/M2 Macs, please use the legacy Keras optimizer instead, located at `tf.keras.optimizers.legacy.Adam`.\n",
      "WARNING:absl:There is a known slowdown when using v2.11+ Keras optimizers on M1/M2 Macs. Falling back to the legacy Keras optimizer, i.e., `tf.keras.optimizers.legacy.Adam`.\n"
     ]
    },
    {
     "name": "stdout",
     "output_type": "stream",
     "text": [
      "  Validation RMSE: 0.1687\n",
      "Trying: Neurons=25, Epochs=70, Batch Size=32\n",
      "NaNs in X_val_ann_np BEFORE prediction: False\n",
      "12/12 [==============================] - 0s 375us/step\n"
     ]
    },
    {
     "name": "stderr",
     "output_type": "stream",
     "text": [
      "WARNING:absl:At this time, the v2.11+ optimizer `tf.keras.optimizers.Adam` runs slowly on M1/M2 Macs, please use the legacy Keras optimizer instead, located at `tf.keras.optimizers.legacy.Adam`.\n",
      "WARNING:absl:There is a known slowdown when using v2.11+ Keras optimizers on M1/M2 Macs. Falling back to the legacy Keras optimizer, i.e., `tf.keras.optimizers.legacy.Adam`.\n"
     ]
    },
    {
     "name": "stdout",
     "output_type": "stream",
     "text": [
      "  Validation RMSE: 0.2390\n",
      "Trying: Neurons=25, Epochs=70, Batch Size=64\n",
      "NaNs in X_val_ann_np BEFORE prediction: False\n",
      "12/12 [==============================] - 0s 349us/step\n"
     ]
    },
    {
     "name": "stderr",
     "output_type": "stream",
     "text": [
      "WARNING:absl:At this time, the v2.11+ optimizer `tf.keras.optimizers.Adam` runs slowly on M1/M2 Macs, please use the legacy Keras optimizer instead, located at `tf.keras.optimizers.legacy.Adam`.\n",
      "WARNING:absl:There is a known slowdown when using v2.11+ Keras optimizers on M1/M2 Macs. Falling back to the legacy Keras optimizer, i.e., `tf.keras.optimizers.legacy.Adam`.\n"
     ]
    },
    {
     "name": "stdout",
     "output_type": "stream",
     "text": [
      "  Validation RMSE: 0.1501\n",
      "Trying: Neurons=50, Epochs=30, Batch Size=16\n",
      "NaNs in X_val_ann_np BEFORE prediction: False\n",
      "12/12 [==============================] - 0s 500us/step\n"
     ]
    },
    {
     "name": "stderr",
     "output_type": "stream",
     "text": [
      "WARNING:absl:At this time, the v2.11+ optimizer `tf.keras.optimizers.Adam` runs slowly on M1/M2 Macs, please use the legacy Keras optimizer instead, located at `tf.keras.optimizers.legacy.Adam`.\n",
      "WARNING:absl:There is a known slowdown when using v2.11+ Keras optimizers on M1/M2 Macs. Falling back to the legacy Keras optimizer, i.e., `tf.keras.optimizers.legacy.Adam`.\n"
     ]
    },
    {
     "name": "stdout",
     "output_type": "stream",
     "text": [
      "  Validation RMSE: 0.1518\n",
      "Trying: Neurons=50, Epochs=30, Batch Size=32\n",
      "NaNs in X_val_ann_np BEFORE prediction: False\n",
      "12/12 [==============================] - 0s 378us/step\n"
     ]
    },
    {
     "name": "stderr",
     "output_type": "stream",
     "text": [
      "WARNING:absl:At this time, the v2.11+ optimizer `tf.keras.optimizers.Adam` runs slowly on M1/M2 Macs, please use the legacy Keras optimizer instead, located at `tf.keras.optimizers.legacy.Adam`.\n",
      "WARNING:absl:There is a known slowdown when using v2.11+ Keras optimizers on M1/M2 Macs. Falling back to the legacy Keras optimizer, i.e., `tf.keras.optimizers.legacy.Adam`.\n"
     ]
    },
    {
     "name": "stdout",
     "output_type": "stream",
     "text": [
      "  Validation RMSE: 0.1508\n",
      "Trying: Neurons=50, Epochs=30, Batch Size=64\n",
      "NaNs in X_val_ann_np BEFORE prediction: False\n",
      "12/12 [==============================] - 0s 398us/step\n"
     ]
    },
    {
     "name": "stderr",
     "output_type": "stream",
     "text": [
      "WARNING:absl:At this time, the v2.11+ optimizer `tf.keras.optimizers.Adam` runs slowly on M1/M2 Macs, please use the legacy Keras optimizer instead, located at `tf.keras.optimizers.legacy.Adam`.\n",
      "WARNING:absl:There is a known slowdown when using v2.11+ Keras optimizers on M1/M2 Macs. Falling back to the legacy Keras optimizer, i.e., `tf.keras.optimizers.legacy.Adam`.\n"
     ]
    },
    {
     "name": "stdout",
     "output_type": "stream",
     "text": [
      "  Validation RMSE: 0.1455\n",
      "Trying: Neurons=50, Epochs=50, Batch Size=16\n",
      "NaNs in X_val_ann_np BEFORE prediction: False\n",
      "12/12 [==============================] - 0s 2ms/step\n"
     ]
    },
    {
     "name": "stderr",
     "output_type": "stream",
     "text": [
      "WARNING:absl:At this time, the v2.11+ optimizer `tf.keras.optimizers.Adam` runs slowly on M1/M2 Macs, please use the legacy Keras optimizer instead, located at `tf.keras.optimizers.legacy.Adam`.\n",
      "WARNING:absl:There is a known slowdown when using v2.11+ Keras optimizers on M1/M2 Macs. Falling back to the legacy Keras optimizer, i.e., `tf.keras.optimizers.legacy.Adam`.\n"
     ]
    },
    {
     "name": "stdout",
     "output_type": "stream",
     "text": [
      "  Validation RMSE: 0.1968\n",
      "Trying: Neurons=50, Epochs=50, Batch Size=32\n",
      "NaNs in X_val_ann_np BEFORE prediction: False\n",
      "12/12 [==============================] - 0s 401us/step\n"
     ]
    },
    {
     "name": "stderr",
     "output_type": "stream",
     "text": [
      "WARNING:absl:At this time, the v2.11+ optimizer `tf.keras.optimizers.Adam` runs slowly on M1/M2 Macs, please use the legacy Keras optimizer instead, located at `tf.keras.optimizers.legacy.Adam`.\n",
      "WARNING:absl:There is a known slowdown when using v2.11+ Keras optimizers on M1/M2 Macs. Falling back to the legacy Keras optimizer, i.e., `tf.keras.optimizers.legacy.Adam`.\n"
     ]
    },
    {
     "name": "stdout",
     "output_type": "stream",
     "text": [
      "  Validation RMSE: 0.1684\n",
      "Trying: Neurons=50, Epochs=50, Batch Size=64\n",
      "NaNs in X_val_ann_np BEFORE prediction: False\n",
      "12/12 [==============================] - 0s 383us/step\n"
     ]
    },
    {
     "name": "stderr",
     "output_type": "stream",
     "text": [
      "WARNING:absl:At this time, the v2.11+ optimizer `tf.keras.optimizers.Adam` runs slowly on M1/M2 Macs, please use the legacy Keras optimizer instead, located at `tf.keras.optimizers.legacy.Adam`.\n",
      "WARNING:absl:There is a known slowdown when using v2.11+ Keras optimizers on M1/M2 Macs. Falling back to the legacy Keras optimizer, i.e., `tf.keras.optimizers.legacy.Adam`.\n"
     ]
    },
    {
     "name": "stdout",
     "output_type": "stream",
     "text": [
      "  Validation RMSE: 0.1726\n",
      "Trying: Neurons=50, Epochs=70, Batch Size=16\n",
      "NaNs in X_val_ann_np BEFORE prediction: False\n",
      "12/12 [==============================] - 0s 343us/step\n"
     ]
    },
    {
     "name": "stderr",
     "output_type": "stream",
     "text": [
      "WARNING:absl:At this time, the v2.11+ optimizer `tf.keras.optimizers.Adam` runs slowly on M1/M2 Macs, please use the legacy Keras optimizer instead, located at `tf.keras.optimizers.legacy.Adam`.\n",
      "WARNING:absl:There is a known slowdown when using v2.11+ Keras optimizers on M1/M2 Macs. Falling back to the legacy Keras optimizer, i.e., `tf.keras.optimizers.legacy.Adam`.\n"
     ]
    },
    {
     "name": "stdout",
     "output_type": "stream",
     "text": [
      "  Validation RMSE: 0.1542\n",
      "Trying: Neurons=50, Epochs=70, Batch Size=32\n",
      "NaNs in X_val_ann_np BEFORE prediction: False\n",
      "12/12 [==============================] - 0s 347us/step\n"
     ]
    },
    {
     "name": "stderr",
     "output_type": "stream",
     "text": [
      "WARNING:absl:At this time, the v2.11+ optimizer `tf.keras.optimizers.Adam` runs slowly on M1/M2 Macs, please use the legacy Keras optimizer instead, located at `tf.keras.optimizers.legacy.Adam`.\n",
      "WARNING:absl:There is a known slowdown when using v2.11+ Keras optimizers on M1/M2 Macs. Falling back to the legacy Keras optimizer, i.e., `tf.keras.optimizers.legacy.Adam`.\n"
     ]
    },
    {
     "name": "stdout",
     "output_type": "stream",
     "text": [
      "  Validation RMSE: 0.1939\n",
      "Trying: Neurons=50, Epochs=70, Batch Size=64\n",
      "NaNs in X_val_ann_np BEFORE prediction: False\n",
      "12/12 [==============================] - 0s 383us/step\n"
     ]
    },
    {
     "name": "stderr",
     "output_type": "stream",
     "text": [
      "WARNING:absl:At this time, the v2.11+ optimizer `tf.keras.optimizers.Adam` runs slowly on M1/M2 Macs, please use the legacy Keras optimizer instead, located at `tf.keras.optimizers.legacy.Adam`.\n",
      "WARNING:absl:There is a known slowdown when using v2.11+ Keras optimizers on M1/M2 Macs. Falling back to the legacy Keras optimizer, i.e., `tf.keras.optimizers.legacy.Adam`.\n"
     ]
    },
    {
     "name": "stdout",
     "output_type": "stream",
     "text": [
      "  Validation RMSE: 0.2174\n",
      "Trying: Neurons=100, Epochs=30, Batch Size=16\n",
      "NaNs in X_val_ann_np BEFORE prediction: False\n",
      "12/12 [==============================] - 0s 376us/step\n"
     ]
    },
    {
     "name": "stderr",
     "output_type": "stream",
     "text": [
      "WARNING:absl:At this time, the v2.11+ optimizer `tf.keras.optimizers.Adam` runs slowly on M1/M2 Macs, please use the legacy Keras optimizer instead, located at `tf.keras.optimizers.legacy.Adam`.\n",
      "WARNING:absl:There is a known slowdown when using v2.11+ Keras optimizers on M1/M2 Macs. Falling back to the legacy Keras optimizer, i.e., `tf.keras.optimizers.legacy.Adam`.\n"
     ]
    },
    {
     "name": "stdout",
     "output_type": "stream",
     "text": [
      "  Validation RMSE: 0.1698\n",
      "Trying: Neurons=100, Epochs=30, Batch Size=32\n",
      "NaNs in X_val_ann_np BEFORE prediction: False\n",
      "12/12 [==============================] - 0s 416us/step\n"
     ]
    },
    {
     "name": "stderr",
     "output_type": "stream",
     "text": [
      "WARNING:absl:At this time, the v2.11+ optimizer `tf.keras.optimizers.Adam` runs slowly on M1/M2 Macs, please use the legacy Keras optimizer instead, located at `tf.keras.optimizers.legacy.Adam`.\n",
      "WARNING:absl:There is a known slowdown when using v2.11+ Keras optimizers on M1/M2 Macs. Falling back to the legacy Keras optimizer, i.e., `tf.keras.optimizers.legacy.Adam`.\n"
     ]
    },
    {
     "name": "stdout",
     "output_type": "stream",
     "text": [
      "  Validation RMSE: 0.2257\n",
      "Trying: Neurons=100, Epochs=30, Batch Size=64\n",
      "NaNs in X_val_ann_np BEFORE prediction: False\n",
      "12/12 [==============================] - 0s 344us/step\n"
     ]
    },
    {
     "name": "stderr",
     "output_type": "stream",
     "text": [
      "WARNING:absl:At this time, the v2.11+ optimizer `tf.keras.optimizers.Adam` runs slowly on M1/M2 Macs, please use the legacy Keras optimizer instead, located at `tf.keras.optimizers.legacy.Adam`.\n",
      "WARNING:absl:There is a known slowdown when using v2.11+ Keras optimizers on M1/M2 Macs. Falling back to the legacy Keras optimizer, i.e., `tf.keras.optimizers.legacy.Adam`.\n"
     ]
    },
    {
     "name": "stdout",
     "output_type": "stream",
     "text": [
      "  Validation RMSE: 0.1510\n",
      "Trying: Neurons=100, Epochs=50, Batch Size=16\n",
      "NaNs in X_val_ann_np BEFORE prediction: False\n",
      "12/12 [==============================] - 0s 413us/step\n"
     ]
    },
    {
     "name": "stderr",
     "output_type": "stream",
     "text": [
      "WARNING:absl:At this time, the v2.11+ optimizer `tf.keras.optimizers.Adam` runs slowly on M1/M2 Macs, please use the legacy Keras optimizer instead, located at `tf.keras.optimizers.legacy.Adam`.\n",
      "WARNING:absl:There is a known slowdown when using v2.11+ Keras optimizers on M1/M2 Macs. Falling back to the legacy Keras optimizer, i.e., `tf.keras.optimizers.legacy.Adam`.\n"
     ]
    },
    {
     "name": "stdout",
     "output_type": "stream",
     "text": [
      "  Validation RMSE: 0.2087\n",
      "Trying: Neurons=100, Epochs=50, Batch Size=32\n",
      "NaNs in X_val_ann_np BEFORE prediction: False\n",
      "12/12 [==============================] - 0s 517us/step\n"
     ]
    },
    {
     "name": "stderr",
     "output_type": "stream",
     "text": [
      "WARNING:absl:At this time, the v2.11+ optimizer `tf.keras.optimizers.Adam` runs slowly on M1/M2 Macs, please use the legacy Keras optimizer instead, located at `tf.keras.optimizers.legacy.Adam`.\n",
      "WARNING:absl:There is a known slowdown when using v2.11+ Keras optimizers on M1/M2 Macs. Falling back to the legacy Keras optimizer, i.e., `tf.keras.optimizers.legacy.Adam`.\n"
     ]
    },
    {
     "name": "stdout",
     "output_type": "stream",
     "text": [
      "  Validation RMSE: 0.2334\n",
      "Trying: Neurons=100, Epochs=50, Batch Size=64\n",
      "NaNs in X_val_ann_np BEFORE prediction: False\n",
      "12/12 [==============================] - 0s 514us/step\n"
     ]
    },
    {
     "name": "stderr",
     "output_type": "stream",
     "text": [
      "WARNING:absl:At this time, the v2.11+ optimizer `tf.keras.optimizers.Adam` runs slowly on M1/M2 Macs, please use the legacy Keras optimizer instead, located at `tf.keras.optimizers.legacy.Adam`.\n",
      "WARNING:absl:There is a known slowdown when using v2.11+ Keras optimizers on M1/M2 Macs. Falling back to the legacy Keras optimizer, i.e., `tf.keras.optimizers.legacy.Adam`.\n"
     ]
    },
    {
     "name": "stdout",
     "output_type": "stream",
     "text": [
      "  Validation RMSE: 0.1850\n",
      "Trying: Neurons=100, Epochs=70, Batch Size=16\n",
      "NaNs in X_val_ann_np BEFORE prediction: False\n",
      "12/12 [==============================] - 0s 1ms/step\n"
     ]
    },
    {
     "name": "stderr",
     "output_type": "stream",
     "text": [
      "WARNING:absl:At this time, the v2.11+ optimizer `tf.keras.optimizers.Adam` runs slowly on M1/M2 Macs, please use the legacy Keras optimizer instead, located at `tf.keras.optimizers.legacy.Adam`.\n",
      "WARNING:absl:There is a known slowdown when using v2.11+ Keras optimizers on M1/M2 Macs. Falling back to the legacy Keras optimizer, i.e., `tf.keras.optimizers.legacy.Adam`.\n"
     ]
    },
    {
     "name": "stdout",
     "output_type": "stream",
     "text": [
      "  Validation RMSE: 0.2439\n",
      "Trying: Neurons=100, Epochs=70, Batch Size=32\n",
      "NaNs in X_val_ann_np BEFORE prediction: False\n",
      "12/12 [==============================] - 0s 401us/step\n"
     ]
    },
    {
     "name": "stderr",
     "output_type": "stream",
     "text": [
      "WARNING:absl:At this time, the v2.11+ optimizer `tf.keras.optimizers.Adam` runs slowly on M1/M2 Macs, please use the legacy Keras optimizer instead, located at `tf.keras.optimizers.legacy.Adam`.\n",
      "WARNING:absl:There is a known slowdown when using v2.11+ Keras optimizers on M1/M2 Macs. Falling back to the legacy Keras optimizer, i.e., `tf.keras.optimizers.legacy.Adam`.\n"
     ]
    },
    {
     "name": "stdout",
     "output_type": "stream",
     "text": [
      "  Validation RMSE: 0.1980\n",
      "Trying: Neurons=100, Epochs=70, Batch Size=64\n",
      "NaNs in X_val_ann_np BEFORE prediction: False\n",
      "12/12 [==============================] - 0s 443us/step\n",
      "  Validation RMSE: 0.1948\n",
      "\n",
      "Best Hyperparameters found (based on Validation RMSE):\n",
      "{'neurons': 25, 'epochs': 30, 'batch_size': 16}\n",
      "Best Validation RMSE: 0.1386\n"
     ]
    }
   ],
   "source": [
    "# --- Manual Tuning Loop Code Block ---\n",
    "\n",
    "neuron_options = [25, 50, 100]\n",
    "epochs_options = [30, 50, 70]\n",
    "batch_size_options = [16, 32, 64]\n",
    "\n",
    "best_rmse = float('inf') \n",
    "best_params = None\n",
    "\n",
    "for neurons in neuron_options:\n",
    "    for epochs in epochs_options:\n",
    "        for batch_size in batch_size_options:\n",
    "            print(f\"Trying: Neurons={neurons}, Epochs={epochs}, Batch Size={batch_size}\")\n",
    "            \n",
    "            # Building ANN model \n",
    "            ann_model = Sequential()\n",
    "            ann_model.add(Dense(neurons, activation='relu', input_shape=(X_train_ann_train_np.shape[1],))) \n",
    "            ann_model.add(Dense(25, activation='relu'))\n",
    "            ann_model.add(Dense(1))\n",
    "            ann_model.compile(optimizer=Adam(learning_rate=0.001), loss='mse') \n",
    "            \n",
    "            # Training model \n",
    "            ann_model.fit(X_train_ann_train_np, y_train_ann_train_np, epochs=epochs, batch_size=batch_size, verbose=0)\n",
    "            \n",
    "            print(f\"NaNs in X_val_ann_np BEFORE prediction: {np.isnan(X_val_ann_np).any()}\") \n",
    "\n",
    "            # Evaluating on VALIDATION set \n",
    "            validation_predictions = ann_model.predict(X_val_ann_np).flatten() \n",
    "            rmse = np.sqrt(mean_squared_error(y_val_ann_np, validation_predictions)) \n",
    "\n",
    "            print(f\"  Validation RMSE: {rmse:.4f}\")\n",
    "\n",
    "            if rmse < best_rmse: \n",
    "                best_rmse = rmse\n",
    "                best_params = {'neurons': neurons, 'epochs': epochs, 'batch_size': batch_size}\n",
    "\n",
    "print(\"\\nBest Hyperparameters found (based on Validation RMSE):\")\n",
    "print(best_params)\n",
    "print(f\"Best Validation RMSE: {best_rmse:.4f}\")"
   ]
  },
  {
   "cell_type": "code",
   "execution_count": 99,
   "metadata": {},
   "outputs": [
    {
     "name": "stderr",
     "output_type": "stream",
     "text": [
      "WARNING:absl:At this time, the v2.11+ optimizer `tf.keras.optimizers.Adam` runs slowly on M1/M2 Macs, please use the legacy Keras optimizer instead, located at `tf.keras.optimizers.legacy.Adam`.\n",
      "WARNING:absl:There is a known slowdown when using v2.11+ Keras optimizers on M1/M2 Macs. Falling back to the legacy Keras optimizer, i.e., `tf.keras.optimizers.legacy.Adam`.\n"
     ]
    },
    {
     "name": "stdout",
     "output_type": "stream",
     "text": [
      "Model: \"sequential_279\"\n",
      "_________________________________________________________________\n",
      " Layer (type)                Output Shape              Param #   \n",
      "=================================================================\n",
      " dense_837 (Dense)           (None, 25)                100       \n",
      "                                                                 \n",
      " dense_838 (Dense)           (None, 25)                650       \n",
      "                                                                 \n",
      " dense_839 (Dense)           (None, 1)                 26        \n",
      "                                                                 \n",
      "=================================================================\n",
      "Total params: 776\n",
      "Trainable params: 776\n",
      "Non-trainable params: 0\n",
      "_________________________________________________________________\n",
      "\n",
      "Final ANN Model Retraining Complete (with Best Hyperparameters)!\n"
     ]
    }
   ],
   "source": [
    "# Best Hyperparameters from Tuning (replace with your best values if different)\n",
    "best_neurons = 25\n",
    "best_epochs = 30\n",
    "best_batch_size = 16\n",
    "\n",
    "# 1. Build the Final ANN Model with Best Hyperparameters\n",
    "final_ann_model = Sequential()\n",
    "final_ann_model.add(Dense(best_neurons, activation='relu', input_shape=(X_train_ann_np.shape[1],))) # Best neurons for layer 1\n",
    "final_ann_model.add(Dense(25, activation='relu')) # You can keep layer 2 as before\n",
    "final_ann_model.add(Dense(1))\n",
    "\n",
    "# 2. Compile the Final ANN Model\n",
    "optimizer = Adam(learning_rate=0.001) # You can keep learning rate as before, or tune it too\n",
    "final_ann_model.compile(optimizer=optimizer, loss='mse')\n",
    "\n",
    "# 3. Train the Final ANN Model (on FULL training data: X_train_ann_np, y_train_ann_np)\n",
    "final_ann_model.fit(X_train_ann_np, y_train_ann_np, epochs=best_epochs, batch_size=best_batch_size, verbose=0) # Use best epochs, batch_size\n",
    "\n",
    "# 4. Print Model Summary of the Final Model\n",
    "final_ann_model.summary()\n",
    "\n",
    "print(\"\\nFinal ANN Model Retraining Complete (with Best Hyperparameters)!\")"
   ]
  },
  {
   "cell_type": "code",
   "execution_count": 100,
   "metadata": {},
   "outputs": [
    {
     "name": "stdout",
     "output_type": "stream",
     "text": [
      "\n",
      "First 10 De-normalized In-Sample ANN Residual Predictions:\n",
      "Date\n",
      "2020-01-31    0.004252\n",
      "2020-02-01    0.002254\n",
      "2020-02-02    0.003203\n",
      "2020-02-03    0.004516\n",
      "2020-02-04    0.003652\n",
      "2020-02-05    0.005125\n",
      "2020-02-06    0.004825\n",
      "2020-02-07    0.003856\n",
      "2020-02-08    0.002457\n",
      "2020-02-09    0.002498\n",
      "Freq: D, dtype: float32\n"
     ]
    },
    {
     "data": {
      "image/png": "[encoded data removed]",
      "text/plain": [
       "<Figure size 1200x600 with 1 Axes>"
      ]
     },
     "metadata": {},
     "output_type": "display_data"
    }
   ],
   "source": [
    "# Step 10 (Continued): Obtain In-Sample ANN Residual Predictions\n",
    "\n",
    "# Use the trained final_ann_model to predict in-sample residuals\n",
    "\n",
    "# 1. Prepare Input Features (already have X_train_ann_np from Step 10a)\n",
    "#    X_train_ann_np (numpy array of lagged features for training data) is ready to use.\n",
    "\n",
    "# 2. Generate In-Sample ANN Residual Predictions (Normalized)\n",
    "ann_predictions_insample_normalized = final_ann_model.predict(X_train_ann_np, verbose=0).flatten()\n",
    "ann_predictions_insample_normalized = pd.Series(ann_predictions_insample_normalized, index=X_train_ann.index)\n",
    "\n",
    "# 3. De-normalize ANN Predictions (back to original residual scale)\n",
    "ann_predictions_insample_denormalized = scaler_residuals.inverse_transform(ann_predictions_insample_normalized.values.reshape(-1, 1)).flatten()\n",
    "ann_predictions_insample_denormalized = pd.Series(ann_predictions_insample_denormalized, index=ann_predictions_insample_normalized.index)\n",
    "\n",
    "# 4. Print a sample of de-normalized in-sample ANN predictions\n",
    "print(\"\\nFirst 10 De-normalized In-Sample ANN Residual Predictions:\")\n",
    "print(ann_predictions_insample_denormalized.head(10))\n",
    "\n",
    "# 5. Plotting In-Sample ANN Residual Predictions vs Actual Residuals (Optional)\n",
    "plt.figure(figsize=(12, 6))\n",
    "plt.plot(residuals.index.to_timestamp(), residuals, label='Actual Residuals (Training Data)', alpha=0.7) # Actual residuals\n",
    "plt.plot(ann_predictions_insample_denormalized.index.to_timestamp(), ann_predictions_insample_denormalized, label='In-Sample ANN Residual Predictions', linestyle='--', color='red') # ANN predictions\n",
    "plt.title('In-Sample ANN Residual Predictions vs Actual Residuals')\n",
    "plt.xlabel('Date')\n",
    "plt.ylabel('Residual Value')\n",
    "plt.legend()\n",
    "plt.show()"
   ]
  },
  {
   "cell_type": "code",
   "execution_count": 101,
   "metadata": {},
   "outputs": [
    {
     "name": "stdout",
     "output_type": "stream",
     "text": [
      "\n",
      "First 10 De-normalized Hold-out ANN Residual Predictions:\n",
      "Date\n",
      "2024-01-03   -0.084287\n",
      "2024-01-04   -0.085847\n",
      "2024-01-05   -0.086538\n",
      "2024-01-06   -0.086844\n",
      "2024-01-07   -0.086980\n",
      "2024-01-08   -0.087040\n",
      "2024-01-09   -0.087067\n",
      "2024-01-10   -0.089698\n",
      "2024-01-11   -0.091753\n",
      "2024-01-12   -0.092994\n",
      "Freq: D, dtype: float32\n"
     ]
    },
    {
     "data": {
      "text/html": [
       "<style type=\"text/css\">\n",
       "</style>\n",
       "<table id=\"T_e9e05\">\n",
       "  <thead>\n",
       "    <tr>\n",
       "      <th class=\"blank level0\" >&nbsp;</th>\n",
       "      <th id=\"T_e9e05_level0_col0\" class=\"col_heading level0 col0\" >Model</th>\n",
       "      <th id=\"T_e9e05_level0_col1\" class=\"col_heading level0 col1\" >MASE</th>\n",
       "      <th id=\"T_e9e05_level0_col2\" class=\"col_heading level0 col2\" >RMSSE</th>\n",
       "      <th id=\"T_e9e05_level0_col3\" class=\"col_heading level0 col3\" >MAE</th>\n",
       "      <th id=\"T_e9e05_level0_col4\" class=\"col_heading level0 col4\" >RMSE</th>\n",
       "      <th id=\"T_e9e05_level0_col5\" class=\"col_heading level0 col5\" >MAPE</th>\n",
       "      <th id=\"T_e9e05_level0_col6\" class=\"col_heading level0 col6\" >SMAPE</th>\n",
       "      <th id=\"T_e9e05_level0_col7\" class=\"col_heading level0 col7\" >R2</th>\n",
       "    </tr>\n",
       "  </thead>\n",
       "  <tbody>\n",
       "    <tr>\n",
       "      <th id=\"T_e9e05_level0_row0\" class=\"row_heading level0 row0\" >0</th>\n",
       "      <td id=\"T_e9e05_row0_col0\" class=\"data row0 col0\" >Exponential Smoothing</td>\n",
       "      <td id=\"T_e9e05_row0_col1\" class=\"data row0 col1\" >3.8434</td>\n",
       "      <td id=\"T_e9e05_row0_col2\" class=\"data row0 col2\" >4.4471</td>\n",
       "      <td id=\"T_e9e05_row0_col3\" class=\"data row0 col3\" >0.2496</td>\n",
       "      <td id=\"T_e9e05_row0_col4\" class=\"data row0 col4\" >0.5397</td>\n",
       "      <td id=\"T_e9e05_row0_col5\" class=\"data row0 col5\" >0.2174</td>\n",
       "      <td id=\"T_e9e05_row0_col6\" class=\"data row0 col6\" >0.2507</td>\n",
       "      <td id=\"T_e9e05_row0_col7\" class=\"data row0 col7\" >-0.0495</td>\n",
       "    </tr>\n",
       "  </tbody>\n",
       "</table>\n"
      ],
      "text/plain": [
       "<pandas.io.formats.style.Styler at 0x360548cd0>"
      ]
     },
     "metadata": {},
     "output_type": "display_data"
    }
   ],
   "source": [
    "# Step 10 (Continued): Obtain Hold-out (Test Set) ANN Residual Predictions\n",
    "\n",
    "# 1. Prepare for Iterative Forecast - Get last training residuals as initial history\n",
    "last_train_residuals_normalized = normalized_residuals.tail(max(lags_to_use)).values # Last 'max_lag' residuals from training set (normalized)\n",
    "ann_predictions_holdout_normalized = [] # List to store forecasted normalized residuals for hold-out period\n",
    "current_residuals_history = list(last_train_residuals_normalized) # Initialize history with last training residuals\n",
    "\n",
    "# 2. Iterative (Recursive) Forecast Loop - for each step in forecast horizon (fh)\n",
    "forecast_horizon = len(exp_XRP.get_config('y_test')) # Length of forecast horizon (test set)\n",
    "\n",
    "for _ in range(forecast_horizon): # Iterate for each step in forecast horizon\n",
    "    \n",
    "    # a. Create feature vector from current residual history\n",
    "    feature_vector = np.array([current_residuals_history[-lag] for lag in lags_to_use]).reshape(1, -1) # Get lagged residuals from history\n",
    "    \n",
    "    # b. Predict next residual (normalized) using trained ANN model\n",
    "    next_residual_normalized = final_ann_model.predict(feature_vector, verbose=0).flatten()[0] # Predict 1 step ahead\n",
    "    ann_predictions_holdout_normalized.append(next_residual_normalized) # Append prediction to forecast list\n",
    "    \n",
    "    # c. Update residual history for next iteration - append predicted residual and remove oldest\n",
    "    current_residuals_history.append(next_residual_normalized) # Append PREDICTED residual to history\n",
    "    current_residuals_history.pop(0) # Remove the oldest residual from history (to keep history length constant)\n",
    "\n",
    "# 3. Convert ANN Hold-out Predictions to Pandas Series with Test Set Index\n",
    "ann_predictions_holdout_normalized = pd.Series(ann_predictions_holdout_normalized, index=exp_XRP.get_config('y_test').index)\n",
    "\n",
    "# 4. De-normalize ANN Hold-out Predictions (back to original residual scale)\n",
    "ann_predictions_holdout_denormalized = scaler_residuals.inverse_transform(np.array(ann_predictions_holdout_normalized).reshape(-1, 1)).flatten()\n",
    "ann_predictions_holdout_denormalized = pd.Series(ann_predictions_holdout_denormalized, index=ann_predictions_holdout_normalized.index)\n",
    "\n",
    "# 5. Print sample of de-normalized hold-out ANN residual predictions\n",
    "print(\"\\nFirst 10 De-normalized Hold-out ANN Residual Predictions:\")\n",
    "print(ann_predictions_holdout_denormalized.head(10))\n",
    "\n",
    "# --- Step: Obtain ETS Hold-out Predictions (for plotting) ---\n",
    "ets_predictions_holdout = exp_XRP.predict_model(ses_XRP)\n",
    "\n",
    "# Ensure the index of ETS hold-out predictions is a DatetimeIndex for plotting\n",
    "if isinstance(ets_predictions_holdout.index, pd.PeriodIndex):\n",
    "    ets_predictions_holdout.index = ets_predictions_holdout.index.to_timestamp()\n"
   ]
  },
  {
   "cell_type": "code",
   "execution_count": 102,
   "metadata": {},
   "outputs": [
    {
     "name": "stdout",
     "output_type": "stream",
     "text": [
      "\n",
      "Summary Statistics - Actual Test Set Residuals (DatetimeIndex):\n",
      "count    365.000000\n",
      "mean       0.117191\n",
      "std        0.527587\n",
      "min       -0.205777\n",
      "25%       -0.104022\n",
      "50%       -0.068697\n",
      "75%       -0.014651\n",
      "max        2.088205\n",
      "dtype: float64\n",
      "\n",
      "Summary Statistics - De-normalized ANN Hold-out Predictions:\n",
      "count    365.000000\n",
      "mean      -0.094549\n",
      "std        0.001206\n",
      "min       -0.095316\n",
      "25%       -0.094721\n",
      "50%       -0.094721\n",
      "75%       -0.094721\n",
      "max       -0.084287\n",
      "dtype: float64\n"
     ]
    }
   ],
   "source": [
    "# Print summary statistics (min, max, mean, std) for actual test residuals\n",
    "y_test_XRP_datetime_index = y_test_XRP.copy() \n",
    "y_test_XRP_datetime_index.index = y_test_XRP_datetime_index.index.to_timestamp() \n",
    "actual_test_residuals_series = y_test_XRP_datetime_index - ets_predictions_holdout['y_pred']\n",
    "\n",
    "print(\"\\nSummary Statistics - Actual Test Set Residuals (DatetimeIndex):\")\n",
    "print(actual_test_residuals_series.describe())\n",
    "\n",
    "# Print summary statistics for de-normalized ANN hold-out predictions (no change needed here)\n",
    "print(\"\\nSummary Statistics - De-normalized ANN Hold-out Predictions:\")\n",
    "print(ann_predictions_holdout_denormalized.describe())"
   ]
  },
  {
   "cell_type": "code",
   "execution_count": 103,
   "metadata": {},
   "outputs": [
    {
     "name": "stdout",
     "output_type": "stream",
     "text": [
      "\n",
      "Head of ets_predictions_holdout DataFrame:\n",
      "            y_pred\n",
      "2024-01-03  0.6256\n",
      "2024-01-04  0.6256\n",
      "2024-01-05  0.6256\n",
      "2024-01-06  0.6256\n",
      "2024-01-07  0.6256\n",
      "\n",
      "Info of ets_predictions_holdout DataFrame:\n",
      "<class 'pandas.core.frame.DataFrame'>\n",
      "DatetimeIndex: 365 entries, 2024-01-03 to 2025-01-01\n",
      "Freq: D\n",
      "Data columns (total 1 columns):\n",
      " #   Column  Non-Null Count  Dtype  \n",
      "---  ------  --------------  -----  \n",
      " 0   y_pred  365 non-null    float64\n",
      "dtypes: float64(1)\n",
      "memory usage: 5.7 KB\n"
     ]
    }
   ],
   "source": [
    "print(\"\\nHead of ets_predictions_holdout DataFrame:\")\n",
    "print(ets_predictions_holdout.head())\n",
    "print(\"\\nInfo of ets_predictions_holdout DataFrame:\")\n",
    "ets_predictions_holdout.info()"
   ]
  },
  {
   "cell_type": "code",
   "execution_count": 104,
   "metadata": {},
   "outputs": [
    {
     "name": "stdout",
     "output_type": "stream",
     "text": [
      "\n",
      "Head of y_test_XRP DataFrame:\n",
      "Date\n",
      "2024-01-03    0.582580\n",
      "2024-01-04    0.588226\n",
      "2024-01-05    0.576486\n",
      "2024-01-06    0.568512\n",
      "2024-01-07    0.551741\n",
      "Freq: D, Name: Close, dtype: float64\n",
      "\n",
      "Info of y_test_XRP DataFrame:\n",
      "<class 'pandas.core.series.Series'>\n",
      "PeriodIndex: 365 entries, 2024-01-03 to 2025-01-01\n",
      "Freq: D\n",
      "Series name: Close\n",
      "Non-Null Count  Dtype  \n",
      "--------------  -----  \n",
      "365 non-null    float64\n",
      "dtypes: float64(1)\n",
      "memory usage: 5.7 KB\n"
     ]
    }
   ],
   "source": [
    "print(\"\\nHead of y_test_XRP DataFrame:\")\n",
    "print(y_test_XRP.head())\n",
    "print(\"\\nInfo of y_test_XRP DataFrame:\")\n",
    "y_test_XRP.info()\n"
   ]
  },
  {
   "cell_type": "code",
   "execution_count": 105,
   "metadata": {},
   "outputs": [
    {
     "data": {
      "text/html": [
       "<style type=\"text/css\">\n",
       "</style>\n",
       "<table id=\"T_d5706\">\n",
       "  <thead>\n",
       "    <tr>\n",
       "      <th class=\"blank level0\" >&nbsp;</th>\n",
       "      <th id=\"T_d5706_level0_col0\" class=\"col_heading level0 col0\" >Model</th>\n",
       "      <th id=\"T_d5706_level0_col1\" class=\"col_heading level0 col1\" >MASE</th>\n",
       "      <th id=\"T_d5706_level0_col2\" class=\"col_heading level0 col2\" >RMSSE</th>\n",
       "      <th id=\"T_d5706_level0_col3\" class=\"col_heading level0 col3\" >MAE</th>\n",
       "      <th id=\"T_d5706_level0_col4\" class=\"col_heading level0 col4\" >RMSE</th>\n",
       "      <th id=\"T_d5706_level0_col5\" class=\"col_heading level0 col5\" >MAPE</th>\n",
       "      <th id=\"T_d5706_level0_col6\" class=\"col_heading level0 col6\" >SMAPE</th>\n",
       "      <th id=\"T_d5706_level0_col7\" class=\"col_heading level0 col7\" >R2</th>\n",
       "    </tr>\n",
       "  </thead>\n",
       "  <tbody>\n",
       "    <tr>\n",
       "      <th id=\"T_d5706_level0_row0\" class=\"row_heading level0 row0\" >0</th>\n",
       "      <td id=\"T_d5706_row0_col0\" class=\"data row0 col0\" >Exponential Smoothing</td>\n",
       "      <td id=\"T_d5706_row0_col1\" class=\"data row0 col1\" >3.8434</td>\n",
       "      <td id=\"T_d5706_row0_col2\" class=\"data row0 col2\" >4.4471</td>\n",
       "      <td id=\"T_d5706_row0_col3\" class=\"data row0 col3\" >0.2496</td>\n",
       "      <td id=\"T_d5706_row0_col4\" class=\"data row0 col4\" >0.5397</td>\n",
       "      <td id=\"T_d5706_row0_col5\" class=\"data row0 col5\" >0.2174</td>\n",
       "      <td id=\"T_d5706_row0_col6\" class=\"data row0 col6\" >0.2507</td>\n",
       "      <td id=\"T_d5706_row0_col7\" class=\"data row0 col7\" >-0.0495</td>\n",
       "    </tr>\n",
       "  </tbody>\n",
       "</table>\n"
      ],
      "text/plain": [
       "<pandas.io.formats.style.Styler at 0x359dbe2b0>"
      ]
     },
     "metadata": {},
     "output_type": "display_data"
    }
   ],
   "source": [
    "# Re-run Step 5b: Obtain Hold-out (Test Set) Predictions from Best ETS Model\n",
    "ets_predictions_holdout = exp_XRP.predict_model(ses_XRP) "
   ]
  },
  {
   "cell_type": "code",
   "execution_count": 106,
   "metadata": {},
   "outputs": [],
   "source": [
    "# Calculate residuals: actual - predictions\n",
    "residuals = train_data_XRP - in_sample_predictions_ses_XRP\n"
   ]
  },
  {
   "cell_type": "code",
   "execution_count": 108,
   "metadata": {},
   "outputs": [
    {
     "data": {
      "text/html": [
       "<style type=\"text/css\">\n",
       "</style>\n",
       "<table id=\"T_25bdf\">\n",
       "  <thead>\n",
       "    <tr>\n",
       "      <th class=\"blank level0\" >&nbsp;</th>\n",
       "      <th id=\"T_25bdf_level0_col0\" class=\"col_heading level0 col0\" >Model</th>\n",
       "      <th id=\"T_25bdf_level0_col1\" class=\"col_heading level0 col1\" >MASE</th>\n",
       "      <th id=\"T_25bdf_level0_col2\" class=\"col_heading level0 col2\" >RMSSE</th>\n",
       "      <th id=\"T_25bdf_level0_col3\" class=\"col_heading level0 col3\" >MAE</th>\n",
       "      <th id=\"T_25bdf_level0_col4\" class=\"col_heading level0 col4\" >RMSE</th>\n",
       "      <th id=\"T_25bdf_level0_col5\" class=\"col_heading level0 col5\" >MAPE</th>\n",
       "      <th id=\"T_25bdf_level0_col6\" class=\"col_heading level0 col6\" >SMAPE</th>\n",
       "      <th id=\"T_25bdf_level0_col7\" class=\"col_heading level0 col7\" >R2</th>\n",
       "    </tr>\n",
       "  </thead>\n",
       "  <tbody>\n",
       "    <tr>\n",
       "      <th id=\"T_25bdf_level0_row0\" class=\"row_heading level0 row0\" >0</th>\n",
       "      <td id=\"T_25bdf_row0_col0\" class=\"data row0 col0\" >Exponential Smoothing</td>\n",
       "      <td id=\"T_25bdf_row0_col1\" class=\"data row0 col1\" >3.8434</td>\n",
       "      <td id=\"T_25bdf_row0_col2\" class=\"data row0 col2\" >4.4471</td>\n",
       "      <td id=\"T_25bdf_row0_col3\" class=\"data row0 col3\" >0.2496</td>\n",
       "      <td id=\"T_25bdf_row0_col4\" class=\"data row0 col4\" >0.5397</td>\n",
       "      <td id=\"T_25bdf_row0_col5\" class=\"data row0 col5\" >0.2174</td>\n",
       "      <td id=\"T_25bdf_row0_col6\" class=\"data row0 col6\" >0.2507</td>\n",
       "      <td id=\"T_25bdf_row0_col7\" class=\"data row0 col7\" >-0.0495</td>\n",
       "    </tr>\n",
       "  </tbody>\n",
       "</table>\n"
      ],
      "text/plain": [
       "<pandas.io.formats.style.Styler at 0x35a800100>"
      ]
     },
     "metadata": {},
     "output_type": "display_data"
    },
    {
     "name": "stdout",
     "output_type": "stream",
     "text": [
      "\n",
      "First 10 Final Hybrid Hold-out Forecasts:\n",
      "2024-01-03    0.541313\n",
      "2024-01-04    0.539753\n",
      "2024-01-05    0.539062\n",
      "2024-01-06    0.538756\n",
      "2024-01-07    0.538620\n",
      "2024-01-08    0.538560\n",
      "2024-01-09    0.538533\n",
      "2024-01-10    0.535902\n",
      "2024-01-11    0.533847\n",
      "2024-01-12    0.532606\n",
      "Freq: D, dtype: float64\n"
     ]
    }
   ],
   "source": [
    "# --- Step 12: Combine ETS and ANN Predictions for Final Hybrid Forecasts ---\n",
    "\n",
    "# Get ETS hold-out predictions\n",
    "ets_predictions_holdout = exp_XRP.predict_model(ses_XRP)\n",
    "\n",
    "# Combine ETS predictions and ANN residual predictions for final hybrid hold-out forecasts\n",
    "final_predictions_holdout_hybrid = ets_predictions_holdout['y_pred'] + ann_predictions_holdout_denormalized\n",
    "\n",
    "# Print the first few final hybrid hold-out forecasts\n",
    "print(\"\\nFirst 10 Final Hybrid Hold-out Forecasts:\")\n",
    "print(final_predictions_holdout_hybrid.head(10))"
   ]
  },
  {
   "cell_type": "code",
   "execution_count": 109,
   "metadata": {},
   "outputs": [],
   "source": [
    "def ts_metrics(y, y_hat):\n",
    "\n",
    "    mae = mean_absolute_error(y, y_hat)\n",
    "    mape = mean_absolute_percentage_error(y, y_hat)\n",
    "    rmse = np.sqrt(mean_squared_error(y, y_hat))\n",
    "    r2 = r2_score(y, y_hat)\n",
    "    \n",
    "    metrics = {\n",
    "        'MAE': mae,\n",
    "        'MAPE': mape,\n",
    "        'RMSE': rmse,\n",
    "        'R2': r2,\n",
    "    }\n",
    "    \n",
    "    print(\"Time Series Model Evaluation Metrics:\")\n",
    "    print(\"-\" * 40)\n",
    "    print(f\"Mean Absolute Error (MAE): {mae:.4f}\")\n",
    "    print(f\"Mean Absolute Percentage Error (MAPE): {mape:.4%}\")\n",
    "    print(f\"Root Mean Squared Error (RMSE): {rmse:.4f}\")\n",
    "    print(f\"R-squared (R²): {r2:.4f}\")\n",
    "    \n",
    "    return "
   ]
  },
  {
   "cell_type": "code",
   "execution_count": 110,
   "metadata": {},
   "outputs": [
    {
     "name": "stdout",
     "output_type": "stream",
     "text": [
      "\n",
      "--- Hybrid Model Evaluation Metrics (Hold-out Set) ---\n",
      "Time Series Model Evaluation Metrics:\n",
      "----------------------------------------\n",
      "Mean Absolute Error (MAE): 0.2305\n",
      "Mean Absolute Percentage Error (MAPE): 15.7719%\n",
      "Root Mean Squared Error (RMSE): 0.5679\n",
      "R-squared (R²): -0.1617\n"
     ]
    }
   ],
   "source": [
    "# Step 13: Evaluate Hybrid Model Performance on Hold-out Set\n",
    "print(\"\\n--- Hybrid Model Evaluation Metrics (Hold-out Set) ---\")\n",
    "ts_metrics(exp_XRP.get_config('y_test'), final_predictions_holdout_hybrid) "
   ]
  },
  {
   "cell_type": "code",
   "execution_count": 111,
   "metadata": {},
   "outputs": [
    {
     "data": {
      "image/png": "[encoded data removed]",
      "text/plain": [
       "<Figure size 1200x600 with 1 Axes>"
      ]
     },
     "metadata": {},
     "output_type": "display_data"
    }
   ],
   "source": [
    "# Ensure correct index type for plotting\n",
    "if isinstance(df_XRP.index, pd.PeriodIndex):\n",
    "    df_XRP.index = df_XRP.index.to_timestamp()\n",
    "\n",
    "if isinstance(ets_predictions_holdout.index, pd.PeriodIndex):\n",
    "    ets_predictions_holdout.index = ets_predictions_holdout.index.to_timestamp()\n",
    "\n",
    "# Ensure df_XRP is a DataFrame and contains the 'Close' column\n",
    "if isinstance(df_XRP, pd.Series):\n",
    "    df_XRP = df_XRP.to_frame(name='Close')\n",
    "\n",
    "plt.figure(figsize=(12, 6))\n",
    "\n",
    "# Plot Actual XRP Prices (Full Data)\n",
    "if isinstance(df_XRP, pd.DataFrame) and 'Close' in df_XRP.columns:\n",
    "    plt.plot(df_XRP.index, df_XRP['Close'], label='Actual XRP Prices', color='blue')\n",
    "else:\n",
    "    print(\"Error: 'Close' column not found in df_XRP DataFrame\")\n",
    "\n",
    "# Plot ETS Hold-out Predictions\n",
    "if isinstance(ets_predictions_holdout, pd.DataFrame) and 'y_pred' in ets_predictions_holdout.columns:\n",
    "    plt.plot(ets_predictions_holdout.index, ets_predictions_holdout['y_pred'], label='ETS Hold-out Predictions', color='red', linestyle='--')\n",
    "else:\n",
    "    print(\"Error: 'y_pred' column not found in ets_predictions_holdout DataFrame\")\n",
    "\n",
    "# Plot ETS-ANN Hybrid Predictions\n",
    "if isinstance(final_predictions_holdout_hybrid, pd.Series):\n",
    "    plt.plot(final_predictions_holdout_hybrid.index, final_predictions_holdout_hybrid, label='ETS-ANN Hybrid Predictions', color='green', linestyle='-.')\n",
    "else:\n",
    "    print(\"Error: final_predictions_holdout_hybrid is not a Series\")\n",
    "\n",
    "plt.title('XRP Prices vs. ETS and ETS-ANN Hybrid Predictions')\n",
    "plt.xlabel('Date')\n",
    "plt.ylabel('Price')\n",
    "plt.legend()\n",
    "plt.grid(True)\n",
    "plt.show()"
   ]
  },
  {
   "cell_type": "code",
   "execution_count": 124,
   "metadata": {},
   "outputs": [
    {
     "name": "stdout",
     "output_type": "stream",
     "text": [
      "\n",
      "First 10 Values of y_test after alignment:\n",
      "Date\n",
      "2024-01-03    0.582580\n",
      "2024-01-04    0.588226\n",
      "2024-01-05    0.576486\n",
      "2024-01-06    0.568512\n",
      "2024-01-07    0.551741\n",
      "2024-01-08    0.577923\n",
      "2024-01-09    0.566633\n",
      "2024-01-10    0.599989\n",
      "2024-01-11    0.602095\n",
      "2024-01-12    0.570299\n",
      "Freq: D, Name: Close, dtype: float64\n",
      "\n",
      "First 10 Values of ets_predictions_holdout after alignment:\n",
      "            y_pred\n",
      "Date              \n",
      "2024-01-03  0.6256\n",
      "2024-01-04  0.6256\n",
      "2024-01-05  0.6256\n",
      "2024-01-06  0.6256\n",
      "2024-01-07  0.6256\n",
      "2024-01-08  0.6256\n",
      "2024-01-09  0.6256\n",
      "2024-01-10  0.6256\n",
      "2024-01-11  0.6256\n",
      "2024-01-12  0.6256\n",
      "\n",
      "First 10 Actual Residuals (Test Data):\n",
      "Date\n",
      "2024-01-03   -0.043020\n",
      "2024-01-04   -0.037374\n",
      "2024-01-05   -0.049114\n",
      "2024-01-06   -0.057088\n",
      "2024-01-07   -0.073859\n",
      "2024-01-08   -0.047677\n",
      "2024-01-09   -0.058967\n",
      "2024-01-10   -0.025611\n",
      "2024-01-11   -0.023505\n",
      "2024-01-12   -0.055301\n",
      "Freq: D, dtype: float64\n",
      "\n",
      "Indices of actual_residuals after alignment:\n",
      "DatetimeIndex(['2024-01-03', '2024-01-04', '2024-01-05', '2024-01-06',\n",
      "               '2024-01-07', '2024-01-08', '2024-01-09', '2024-01-10',\n",
      "               '2024-01-11', '2024-01-12',\n",
      "               ...\n",
      "               '2024-12-23', '2024-12-24', '2024-12-25', '2024-12-26',\n",
      "               '2024-12-27', '2024-12-28', '2024-12-29', '2024-12-30',\n",
      "               '2024-12-31', '2025-01-01'],\n",
      "              dtype='datetime64[ns]', name='Date', length=365, freq='D')\n",
      "\n",
      "Indices of ann_predictions_holdout_denormalized after alignment:\n",
      "DatetimeIndex(['2024-01-03', '2024-01-04', '2024-01-05', '2024-01-06',\n",
      "               '2024-01-07', '2024-01-08', '2024-01-09', '2024-01-10',\n",
      "               '2024-01-11', '2024-01-12',\n",
      "               ...\n",
      "               '2024-12-23', '2024-12-24', '2024-12-25', '2024-12-26',\n",
      "               '2024-12-27', '2024-12-28', '2024-12-29', '2024-12-30',\n",
      "               '2024-12-31', '2025-01-01'],\n",
      "              dtype='datetime64[ns]', name='Date', length=365, freq='D')\n"
     ]
    },
    {
     "data": {
      "image/png": "[encoded data removed]",
      "text/plain": [
       "<Figure size 800x550 with 1 Axes>"
      ]
     },
     "metadata": {},
     "output_type": "display_data"
    }
   ],
   "source": [
    "# Ensure indices of y_test and ets_predictions_holdout are DatetimeIndex for alignment\n",
    "y_test = exp_XRP.get_config('y_test')\n",
    "\n",
    "# Assuming ets_predictions_holdout is provided directly, if not, ensure it is computed or loaded properly\n",
    "# For this example, let's assume ets_predictions_holdout is directly available as a DataFrame\n",
    "# Replace this part with the correct method to obtain ets_predictions_holdout if necessary\n",
    "ets_predictions_holdout = pd.DataFrame({\n",
    "    'y_pred': [0.6256] * len(y_test)\n",
    "}, index=y_test.index)\n",
    "\n",
    "# Check if y_test index is PeriodIndex and convert if necessary\n",
    "if isinstance(y_test.index, pd.PeriodIndex):\n",
    "    y_test.index = y_test.index.to_timestamp()\n",
    "\n",
    "# Check if ets_predictions_holdout index is PeriodIndex and convert if necessary\n",
    "if isinstance(ets_predictions_holdout.index, pd.PeriodIndex):\n",
    "    ets_predictions_holdout.index = ets_predictions_holdout.index.to_timestamp()\n",
    "\n",
    "# Align the indices of y_test and ets_predictions_holdout\n",
    "ets_predictions_holdout = ets_predictions_holdout.reindex(y_test.index)\n",
    "\n",
    "# Calculate actual residuals: actual test values - ETS predictions\n",
    "actual_residuals = y_test - ets_predictions_holdout['y_pred']\n",
    "\n",
    "# Debug: Print the first few values of y_test and ets_predictions_holdout after alignment\n",
    "print(\"\\nFirst 10 Values of y_test after alignment:\")\n",
    "print(y_test.head(10))\n",
    "print(\"\\nFirst 10 Values of ets_predictions_holdout after alignment:\")\n",
    "print(ets_predictions_holdout.head(10))\n",
    "\n",
    "# Debug: Print the first few values of actual residuals\n",
    "print(\"\\nFirst 10 Actual Residuals (Test Data):\")\n",
    "print(actual_residuals.head(10))\n",
    "\n",
    "# Ensure indices are aligned and convert to DatetimeIndex if necessary\n",
    "if isinstance(actual_residuals.index, pd.PeriodIndex):\n",
    "    actual_residuals.index = actual_residuals.index.to_timestamp()\n",
    "\n",
    "if isinstance(ann_predictions_holdout_denormalized.index, pd.PeriodIndex):\n",
    "    ann_predictions_holdout_denormalized.index = ann_predictions_holdout_denormalized.index.to_timestamp()\n",
    "\n",
    "# Debug: Print the indices of actual_residuals and ann_predictions_holdout_denormalized after alignment\n",
    "print(\"\\nIndices of actual_residuals after alignment:\")\n",
    "print(actual_residuals.index)\n",
    "print(\"\\nIndices of ann_predictions_holdout_denormalized after alignment:\")\n",
    "print(ann_predictions_holdout_denormalized.index)\n",
    "\n",
    "# Plot actual residuals if they are not NaN\n",
    "if not actual_residuals.isna().all():\n",
    "    plt.plot(actual_residuals.index, actual_residuals, label='Actual Residuals (Test Data)', alpha=0.7)\n",
    "else:\n",
    "    print(\"All actual residuals are NaN, cannot plot actual residuals.\")\n",
    "\n",
    "# Plot ANN holdout predictions\n",
    "plt.plot(ann_predictions_holdout_denormalized.index, ann_predictions_holdout_denormalized, label='Hold-out ANN Residual Predictions', linestyle='--', color='red')\n",
    "\n",
    "plt.title('Hold-out ANN Residual Predictions vs Actual Residuals (Test Set)')\n",
    "plt.xlabel('Date')\n",
    "plt.ylabel('Residual Value')\n",
    "plt.legend()\n",
    "plt.show()"
   ]
  },
  {
   "cell_type": "code",
   "execution_count": 125,
   "metadata": {},
   "outputs": [
    {
     "data": {
      "image/png": "[encoded data removed]",
      "text/plain": [
       "<Figure size 1200x600 with 1 Axes>"
      ]
     },
     "metadata": {},
     "output_type": "display_data"
    }
   ],
   "source": [
    "# 6. Plotting Hold-out ANN Residual Predictions vs Actual Residuals (Test Set) - Optional\n",
    "import matplotlib.pyplot as plt\n",
    "\n",
    "plt.figure(figsize=(12, 6))\n",
    "\n",
    "# Plot actual residuals\n",
    "plt.plot(actual_residuals.index, actual_residuals, label='Actual Residuals (Test Data)', alpha=0.7)\n",
    "\n",
    "# Plot ANN holdout predictions\n",
    "plt.plot(ann_predictions_holdout_denormalized.index, ann_predictions_holdout_denormalized, label='Hold-out ANN Residual Predictions', linestyle='--', color='red')\n",
    "\n",
    "plt.title('Hold-out ANN Residual Predictions vs Actual Residuals (Test Set)')\n",
    "plt.xlabel('Date')\n",
    "plt.ylabel('Residual Value')\n",
    "plt.legend()\n",
    "plt.show()"
   ]
  },
  {
   "cell_type": "code",
   "execution_count": 126,
   "metadata": {},
   "outputs": [
    {
     "name": "stdout",
     "output_type": "stream",
     "text": [
      "\n",
      "First 10 Values of ann_predictions_holdout_denormalized:\n",
      "Date\n",
      "2024-01-03   -0.084287\n",
      "2024-01-04   -0.085847\n",
      "2024-01-05   -0.086538\n",
      "2024-01-06   -0.086844\n",
      "2024-01-07   -0.086980\n",
      "2024-01-08   -0.087040\n",
      "2024-01-09   -0.087067\n",
      "2024-01-10   -0.089698\n",
      "2024-01-11   -0.091753\n",
      "2024-01-12   -0.092994\n",
      "Freq: D, dtype: float32\n"
     ]
    },
    {
     "data": {
      "image/png": "[encoded data removed]",
      "text/plain": [
       "<Figure size 1200x600 with 1 Axes>"
      ]
     },
     "metadata": {},
     "output_type": "display_data"
    }
   ],
   "source": [
    "# Debug: Print the first few values of ann_predictions_holdout_denormalized\n",
    "print(\"\\nFirst 10 Values of ann_predictions_holdout_denormalized:\")\n",
    "print(ann_predictions_holdout_denormalized.head(10))\n",
    "\n",
    "# Plot actual residuals\n",
    "plt.figure(figsize=(12, 6))\n",
    "plt.plot(actual_residuals.index, actual_residuals, label='Actual Residuals (Test Data)', alpha=0.7)\n",
    "\n",
    "# Plot ANN holdout predictions\n",
    "plt.plot(ann_predictions_holdout_denormalized.index, ann_predictions_holdout_denormalized, label='Hold-out ANN Residual Predictions', linestyle='--', color='red')\n",
    "\n",
    "plt.title('Hold-out ANN Residual Predictions vs Actual Residuals (Test Set)')\n",
    "plt.xlabel('Date')\n",
    "plt.ylabel('Residual Value')\n",
    "plt.legend()\n",
    "plt.show()"
   ]
  }
 ],
 "metadata": {
  "kernelspec": {
   "display_name": "ets_ann_env_new",
   "language": "python",
   "name": "python3"
  },
  "language_info": {
   "codemirror_mode": {
    "name": "ipython",
    "version": 3
   },
   "file_extension": ".py",
   "mimetype": "text/x-python",
   "name": "python",
   "nbconvert_exporter": "python",
   "pygments_lexer": "ipython3",
   "version": "3.9.18"
  }
 },
 "nbformat": 4,
 "nbformat_minor": 2
}
